{
 "cells": [
  {
   "metadata": {},
   "cell_type": "markdown",
   "source": [
    "# SQLite to CSV\n",
    "Script that allows you to export individual tables into csv files."
   ],
   "id": "cda2166eeecbb044"
  },
  {
   "cell_type": "code",
   "id": "initial_id",
   "metadata": {
    "collapsed": true,
    "ExecuteTime": {
     "end_time": "2025-05-13T15:19:24.277066Z",
     "start_time": "2025-05-13T15:19:24.000500Z"
    }
   },
   "source": [
    "import sqlite3\n",
    "import pandas as pd\n",
    "import os\n",
    "\n",
    "# Path\n",
    "db_path = '../PJM-sign-language.db'\n",
    "\n",
    "output_dir = output_dir = os.getcwd()\n",
    "\n",
    "# Check if exists\n",
    "os.makedirs(output_dir, exist_ok=True)\n",
    "\n",
    "# Connect to db\n",
    "conn = sqlite3.connect(db_path)\n",
    "cursor = conn.cursor()\n",
    "\n",
    "# Select tables\n",
    "cursor.execute(\"SELECT name FROM sqlite_master WHERE type='table';\")\n",
    "tables = cursor.fetchall()\n",
    "\n",
    "# Export for each table\n",
    "for table_name_tuple in tables:\n",
    "    table_name = table_name_tuple[0]\n",
    "    df = pd.read_sql_query(f\"SELECT * FROM {table_name}\", conn)\n",
    "    output_file = os.path.join(output_dir, f\"{table_name}.csv\")\n",
    "    df.to_csv(output_file, index=False)\n",
    "    print(f\"Zapisano: {output_file}\")\n",
    "\n",
    "# Close conn\n",
    "conn.close()\n"
   ],
   "outputs": [
    {
     "name": "stdout",
     "output_type": "stream",
     "text": [
      "Zapisano: /home/magda/PycharmProjects/PJM/dataset/Z.csv\n",
      "Zapisano: /home/magda/PycharmProjects/PJM/dataset/Z_Z.csv\n",
      "Zapisano: /home/magda/PycharmProjects/PJM/dataset/Z_X.csv\n",
      "Zapisano: /home/magda/PycharmProjects/PJM/dataset/A.csv\n",
      "Zapisano: /home/magda/PycharmProjects/PJM/dataset/B.csv\n",
      "Zapisano: /home/magda/PycharmProjects/PJM/dataset/C.csv\n",
      "Zapisano: /home/magda/PycharmProjects/PJM/dataset/E.csv\n",
      "Zapisano: /home/magda/PycharmProjects/PJM/dataset/D.csv\n"
     ]
    }
   ],
   "execution_count": 3
  }
 ],
 "metadata": {
  "kernelspec": {
   "display_name": "Python 3",
   "language": "python",
   "name": "python3"
  },
  "language_info": {
   "codemirror_mode": {
    "name": "ipython",
    "version": 2
   },
   "file_extension": ".py",
   "mimetype": "text/x-python",
   "name": "python",
   "nbconvert_exporter": "python",
   "pygments_lexer": "ipython2",
   "version": "2.7.6"
  }
 },
 "nbformat": 4,
 "nbformat_minor": 5
}
