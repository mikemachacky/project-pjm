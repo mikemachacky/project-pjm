{
 "cells": [
  {
   "cell_type": "code",
   "id": "initial_id",
   "metadata": {
    "collapsed": true,
    "ExecuteTime": {
     "end_time": "2025-09-16T14:37:50.985200Z",
     "start_time": "2025-09-16T14:37:50.295582Z"
    }
   },
   "source": [
    "import pandas as pd\n",
    "import matplotlib.pyplot as plt\n"
   ],
   "outputs": [],
   "execution_count": 1
  },
  {
   "metadata": {
    "ExecuteTime": {
     "end_time": "2025-09-16T14:37:56.737845Z",
     "start_time": "2025-09-16T14:37:55.127172Z"
    }
   },
   "cell_type": "code",
   "source": [
    "df = pd.read_csv(\"larger_full_datasets.csv\")\n",
    "df.head()"
   ],
   "id": "a15bb8cc9666bf80",
   "outputs": [
    {
     "data": {
      "text/plain": [
       "   sample_id  frame label  landmark_1_x  landmark_1_y  landmark_1_z  \\\n",
       "0          1      0     A      0.345417      0.648431 -1.125724e-07   \n",
       "1          1      1     A      0.366266      0.597102 -9.622672e-08   \n",
       "2          1      2     A      0.400966      0.572690 -1.089629e-07   \n",
       "3          1      3     A      0.418257      0.573744 -1.190043e-07   \n",
       "4          1      4     A      0.431913      0.582072 -1.241054e-07   \n",
       "\n",
       "   landmark_2_x  landmark_2_y  landmark_2_z  landmark_3_x  ...  landmark_18_z  \\\n",
       "0      0.363545      0.620765     -0.010274      0.367171  ...      -0.003865   \n",
       "1      0.391580      0.578109     -0.012907      0.406190  ...       0.000685   \n",
       "2      0.424555      0.552354     -0.004017      0.439723  ...      -0.004296   \n",
       "3      0.441344      0.563031     -0.007786      0.460869  ...      -0.002903   \n",
       "4      0.453692      0.577044     -0.009167      0.474907  ...      -0.004793   \n",
       "\n",
       "   landmark_19_x  landmark_19_y  landmark_19_z  landmark_20_x  landmark_20_y  \\\n",
       "0       0.321722       0.551512      -0.008457       0.326903       0.565844   \n",
       "1       0.356418       0.497935      -0.004451       0.361665       0.515749   \n",
       "2       0.383425       0.481909      -0.009304       0.389207       0.502081   \n",
       "3       0.402536       0.489501      -0.009669       0.406139       0.510639   \n",
       "4       0.417201       0.501486      -0.012369       0.419653       0.524298   \n",
       "\n",
       "   landmark_20_z  landmark_21_x  landmark_21_y  landmark_21_z  \n",
       "0      -0.005724       0.329682       0.577548      -0.001789  \n",
       "1      -0.001988       0.363353       0.523833       0.002337  \n",
       "2      -0.005430       0.391897       0.513775      -0.000924  \n",
       "3      -0.006567       0.409394       0.523706      -0.001918  \n",
       "4      -0.008715       0.422120       0.535854      -0.003439  \n",
       "\n",
       "[5 rows x 66 columns]"
      ],
      "text/html": [
       "<div>\n",
       "<style scoped>\n",
       "    .dataframe tbody tr th:only-of-type {\n",
       "        vertical-align: middle;\n",
       "    }\n",
       "\n",
       "    .dataframe tbody tr th {\n",
       "        vertical-align: top;\n",
       "    }\n",
       "\n",
       "    .dataframe thead th {\n",
       "        text-align: right;\n",
       "    }\n",
       "</style>\n",
       "<table border=\"1\" class=\"dataframe\">\n",
       "  <thead>\n",
       "    <tr style=\"text-align: right;\">\n",
       "      <th></th>\n",
       "      <th>sample_id</th>\n",
       "      <th>frame</th>\n",
       "      <th>label</th>\n",
       "      <th>landmark_1_x</th>\n",
       "      <th>landmark_1_y</th>\n",
       "      <th>landmark_1_z</th>\n",
       "      <th>landmark_2_x</th>\n",
       "      <th>landmark_2_y</th>\n",
       "      <th>landmark_2_z</th>\n",
       "      <th>landmark_3_x</th>\n",
       "      <th>...</th>\n",
       "      <th>landmark_18_z</th>\n",
       "      <th>landmark_19_x</th>\n",
       "      <th>landmark_19_y</th>\n",
       "      <th>landmark_19_z</th>\n",
       "      <th>landmark_20_x</th>\n",
       "      <th>landmark_20_y</th>\n",
       "      <th>landmark_20_z</th>\n",
       "      <th>landmark_21_x</th>\n",
       "      <th>landmark_21_y</th>\n",
       "      <th>landmark_21_z</th>\n",
       "    </tr>\n",
       "  </thead>\n",
       "  <tbody>\n",
       "    <tr>\n",
       "      <th>0</th>\n",
       "      <td>1</td>\n",
       "      <td>0</td>\n",
       "      <td>A</td>\n",
       "      <td>0.345417</td>\n",
       "      <td>0.648431</td>\n",
       "      <td>-1.125724e-07</td>\n",
       "      <td>0.363545</td>\n",
       "      <td>0.620765</td>\n",
       "      <td>-0.010274</td>\n",
       "      <td>0.367171</td>\n",
       "      <td>...</td>\n",
       "      <td>-0.003865</td>\n",
       "      <td>0.321722</td>\n",
       "      <td>0.551512</td>\n",
       "      <td>-0.008457</td>\n",
       "      <td>0.326903</td>\n",
       "      <td>0.565844</td>\n",
       "      <td>-0.005724</td>\n",
       "      <td>0.329682</td>\n",
       "      <td>0.577548</td>\n",
       "      <td>-0.001789</td>\n",
       "    </tr>\n",
       "    <tr>\n",
       "      <th>1</th>\n",
       "      <td>1</td>\n",
       "      <td>1</td>\n",
       "      <td>A</td>\n",
       "      <td>0.366266</td>\n",
       "      <td>0.597102</td>\n",
       "      <td>-9.622672e-08</td>\n",
       "      <td>0.391580</td>\n",
       "      <td>0.578109</td>\n",
       "      <td>-0.012907</td>\n",
       "      <td>0.406190</td>\n",
       "      <td>...</td>\n",
       "      <td>0.000685</td>\n",
       "      <td>0.356418</td>\n",
       "      <td>0.497935</td>\n",
       "      <td>-0.004451</td>\n",
       "      <td>0.361665</td>\n",
       "      <td>0.515749</td>\n",
       "      <td>-0.001988</td>\n",
       "      <td>0.363353</td>\n",
       "      <td>0.523833</td>\n",
       "      <td>0.002337</td>\n",
       "    </tr>\n",
       "    <tr>\n",
       "      <th>2</th>\n",
       "      <td>1</td>\n",
       "      <td>2</td>\n",
       "      <td>A</td>\n",
       "      <td>0.400966</td>\n",
       "      <td>0.572690</td>\n",
       "      <td>-1.089629e-07</td>\n",
       "      <td>0.424555</td>\n",
       "      <td>0.552354</td>\n",
       "      <td>-0.004017</td>\n",
       "      <td>0.439723</td>\n",
       "      <td>...</td>\n",
       "      <td>-0.004296</td>\n",
       "      <td>0.383425</td>\n",
       "      <td>0.481909</td>\n",
       "      <td>-0.009304</td>\n",
       "      <td>0.389207</td>\n",
       "      <td>0.502081</td>\n",
       "      <td>-0.005430</td>\n",
       "      <td>0.391897</td>\n",
       "      <td>0.513775</td>\n",
       "      <td>-0.000924</td>\n",
       "    </tr>\n",
       "    <tr>\n",
       "      <th>3</th>\n",
       "      <td>1</td>\n",
       "      <td>3</td>\n",
       "      <td>A</td>\n",
       "      <td>0.418257</td>\n",
       "      <td>0.573744</td>\n",
       "      <td>-1.190043e-07</td>\n",
       "      <td>0.441344</td>\n",
       "      <td>0.563031</td>\n",
       "      <td>-0.007786</td>\n",
       "      <td>0.460869</td>\n",
       "      <td>...</td>\n",
       "      <td>-0.002903</td>\n",
       "      <td>0.402536</td>\n",
       "      <td>0.489501</td>\n",
       "      <td>-0.009669</td>\n",
       "      <td>0.406139</td>\n",
       "      <td>0.510639</td>\n",
       "      <td>-0.006567</td>\n",
       "      <td>0.409394</td>\n",
       "      <td>0.523706</td>\n",
       "      <td>-0.001918</td>\n",
       "    </tr>\n",
       "    <tr>\n",
       "      <th>4</th>\n",
       "      <td>1</td>\n",
       "      <td>4</td>\n",
       "      <td>A</td>\n",
       "      <td>0.431913</td>\n",
       "      <td>0.582072</td>\n",
       "      <td>-1.241054e-07</td>\n",
       "      <td>0.453692</td>\n",
       "      <td>0.577044</td>\n",
       "      <td>-0.009167</td>\n",
       "      <td>0.474907</td>\n",
       "      <td>...</td>\n",
       "      <td>-0.004793</td>\n",
       "      <td>0.417201</td>\n",
       "      <td>0.501486</td>\n",
       "      <td>-0.012369</td>\n",
       "      <td>0.419653</td>\n",
       "      <td>0.524298</td>\n",
       "      <td>-0.008715</td>\n",
       "      <td>0.422120</td>\n",
       "      <td>0.535854</td>\n",
       "      <td>-0.003439</td>\n",
       "    </tr>\n",
       "  </tbody>\n",
       "</table>\n",
       "<p>5 rows × 66 columns</p>\n",
       "</div>"
      ]
     },
     "execution_count": 2,
     "metadata": {},
     "output_type": "execute_result"
    }
   ],
   "execution_count": 2
  },
  {
   "metadata": {
    "ExecuteTime": {
     "end_time": "2025-09-16T14:37:59.219263Z",
     "start_time": "2025-09-16T14:37:59.212439Z"
    }
   },
   "cell_type": "code",
   "source": "df.dtypes",
   "id": "b376f2d6f23ae146",
   "outputs": [
    {
     "data": {
      "text/plain": [
       "sample_id          int64\n",
       "frame              int64\n",
       "label             object\n",
       "landmark_1_x     float64\n",
       "landmark_1_y     float64\n",
       "                  ...   \n",
       "landmark_20_y    float64\n",
       "landmark_20_z    float64\n",
       "landmark_21_x    float64\n",
       "landmark_21_y    float64\n",
       "landmark_21_z    float64\n",
       "Length: 66, dtype: object"
      ]
     },
     "execution_count": 4,
     "metadata": {},
     "output_type": "execute_result"
    }
   ],
   "execution_count": 4
  },
  {
   "metadata": {
    "ExecuteTime": {
     "end_time": "2025-09-16T14:38:01.304297Z",
     "start_time": "2025-09-16T14:38:01.300126Z"
    }
   },
   "cell_type": "code",
   "source": "df.shape",
   "id": "c012b626afb93911",
   "outputs": [
    {
     "data": {
      "text/plain": [
       "(110043, 66)"
      ]
     },
     "execution_count": 5,
     "metadata": {},
     "output_type": "execute_result"
    }
   ],
   "execution_count": 5
  },
  {
   "metadata": {
    "ExecuteTime": {
     "end_time": "2025-09-16T14:38:03.040806Z",
     "start_time": "2025-09-16T14:38:03.028353Z"
    }
   },
   "cell_type": "code",
   "source": "df['label'].unique()",
   "id": "3a2e50e066fd3d26",
   "outputs": [
    {
     "data": {
      "text/plain": [
       "array(['A', 'A_A', 'B', 'C', 'C_C', 'CZ', 'CH', 'D', 'E', 'E_E', 'F', 'G',\n",
       "       'H', 'I', 'J', 'K', 'L', 'L_L', 'M', 'N', 'O', 'O_O', 'P', 'R',\n",
       "       'RZ', 'S', 'S_S', 'SZ', 'T', 'U', 'W', 'Z', 'Z_Z', 'Z_X', 'N_N',\n",
       "       'Y'], dtype=object)"
      ]
     },
     "execution_count": 6,
     "metadata": {},
     "output_type": "execute_result"
    }
   ],
   "execution_count": 6
  },
  {
   "metadata": {
    "ExecuteTime": {
     "end_time": "2025-09-16T14:38:05.326366Z",
     "start_time": "2025-09-16T14:38:05.316902Z"
    }
   },
   "cell_type": "code",
   "source": "df['label'].count()",
   "id": "335bafe23d0f5942",
   "outputs": [
    {
     "data": {
      "text/plain": [
       "110043"
      ]
     },
     "execution_count": 7,
     "metadata": {},
     "output_type": "execute_result"
    }
   ],
   "execution_count": 7
  },
  {
   "metadata": {
    "ExecuteTime": {
     "end_time": "2025-09-16T14:38:07.003552Z",
     "start_time": "2025-09-16T14:38:06.981260Z"
    }
   },
   "cell_type": "code",
   "source": "df.isnull().sum()",
   "id": "ba9755cc73a9dead",
   "outputs": [
    {
     "data": {
      "text/plain": [
       "sample_id        0\n",
       "frame            0\n",
       "label            0\n",
       "landmark_1_x     0\n",
       "landmark_1_y     0\n",
       "                ..\n",
       "landmark_20_y    0\n",
       "landmark_20_z    0\n",
       "landmark_21_x    0\n",
       "landmark_21_y    0\n",
       "landmark_21_z    0\n",
       "Length: 66, dtype: int64"
      ]
     },
     "execution_count": 8,
     "metadata": {},
     "output_type": "execute_result"
    }
   ],
   "execution_count": 8
  },
  {
   "metadata": {
    "ExecuteTime": {
     "end_time": "2025-09-16T14:38:10.714257Z",
     "start_time": "2025-09-16T14:38:10.349362Z"
    }
   },
   "cell_type": "code",
   "source": [
    "frame_counts = df['label'].value_counts().sort_index()\n",
    "# Przeliczenie na gesty (zakładając 30 klatek = 1 gest)\n",
    "gesture_counts = (frame_counts / 30).astype(int)\n",
    "\n",
    "plt.figure(figsize=(10,6))\n",
    "gesture_counts.plot(kind='bar', color='black')\n",
    "plt.title(\"Histogram klas gestów\", color='black')\n",
    "plt.xlabel(\"Klasa gestu\")\n",
    "plt.ylabel(\"Liczba gestów (sekwencji)\")\n",
    "plt.xticks(rotation=90, color='black')\n",
    "plt.yticks(color='black')\n",
    "plt.tight_layout()\n",
    "plt.show()\n"
   ],
   "id": "e2f15685e16cf8d2",
   "outputs": [
    {
     "data": {
      "text/plain": [
       "<Figure size 1000x600 with 1 Axes>"
      ],
      "image/png": "[encoded data removed]"
     },
     "metadata": {},
     "output_type": "display_data",
     "jetTransient": {
      "display_id": null
     }
    }
   ],
   "execution_count": 9
  }
 ],
 "metadata": {
  "kernelspec": {
   "display_name": "Python 3",
   "language": "python",
   "name": "python3"
  },
  "language_info": {
   "codemirror_mode": {
    "name": "ipython",
    "version": 2
   },
   "file_extension": ".py",
   "mimetype": "text/x-python",
   "name": "python",
   "nbconvert_exporter": "python",
   "pygments_lexer": "ipython2",
   "version": "2.7.6"
  }
 },
 "nbformat": 4,
 "nbformat_minor": 5
}
