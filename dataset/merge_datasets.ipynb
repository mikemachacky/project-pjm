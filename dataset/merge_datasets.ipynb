{
 "nbformat": 4,
 "nbformat_minor": 0,
 "metadata": {
  "colab": {
   "provenance": []
  },
  "kernelspec": {
   "name": "python3",
   "display_name": "Python 3 (ipykernel)",
   "language": "python"
  },
  "language_info": {
   "name": "python"
  }
 },
 "cells": [
  {
   "cell_type": "markdown",
   "source": [
    "# Wstępna obróbka datasetu"
   ],
   "metadata": {
    "id": "opylynkT2c7N"
   }
  },
  {
   "cell_type": "code",
   "source": [
    "import pandas as pd\n",
    "import numpy as np\n",
    "\n",
    "import tensorflow as tf\n",
    "from tensorflow.keras.models import Sequential, Model\n",
    "from tensorflow.keras.layers import Input, Bidirectional, LSTM, Dense, Conv1D, MaxPooling1D, Flatten, Dropout, Attention, Permute, Multiply, Lambda\n",
    "from tensorflow.keras.utils import to_categorical\n",
    "from sklearn.preprocessing import LabelEncoder\n",
    "from tensorflow.keras.callbacks import EarlyStopping\n",
    "import tensorflow.keras.backend as K\n",
    "from sklearn.metrics import classification_report, confusion_matrix, ConfusionMatrixDisplay\n",
    "import matplotlib.pyplot as plt\n"
   ],
   "metadata": {
    "id": "_cw2cLsa3w7a",
    "ExecuteTime": {
     "end_time": "2025-10-12T16:21:01.851751Z",
     "start_time": "2025-10-12T16:20:52.169778Z"
    }
   },
   "outputs": [
    {
     "name": "stderr",
     "output_type": "stream",
     "text": [
      "2025-10-12 18:20:53.751838: E external/local_xla/xla/stream_executor/cuda/cuda_fft.cc:467] Unable to register cuFFT factory: Attempting to register factory for plugin cuFFT when one has already been registered\n",
      "WARNING: All log messages before absl::InitializeLog() is called are written to STDERR\n",
      "E0000 00:00:1760286053.973528   16709 cuda_dnn.cc:8579] Unable to register cuDNN factory: Attempting to register factory for plugin cuDNN when one has already been registered\n",
      "E0000 00:00:1760286054.032438   16709 cuda_blas.cc:1407] Unable to register cuBLAS factory: Attempting to register factory for plugin cuBLAS when one has already been registered\n",
      "W0000 00:00:1760286054.340237   16709 computation_placer.cc:177] computation placer already registered. Please check linkage and avoid linking the same target more than once.\n",
      "W0000 00:00:1760286054.340319   16709 computation_placer.cc:177] computation placer already registered. Please check linkage and avoid linking the same target more than once.\n",
      "W0000 00:00:1760286054.340328   16709 computation_placer.cc:177] computation placer already registered. Please check linkage and avoid linking the same target more than once.\n",
      "W0000 00:00:1760286054.340335   16709 computation_placer.cc:177] computation placer already registered. Please check linkage and avoid linking the same target more than once.\n",
      "2025-10-12 18:20:54.364433: I tensorflow/core/platform/cpu_feature_guard.cc:210] This TensorFlow binary is optimized to use available CPU instructions in performance-critical operations.\n",
      "To enable the following instructions: AVX2 FMA, in other operations, rebuild TensorFlow with the appropriate compiler flags.\n"
     ]
    }
   ],
   "execution_count": 1
  },
  {
   "cell_type": "markdown",
   "source": [
    "## 1a. Wczytaj dataset z filmików lekotrów"
   ],
   "metadata": {
    "id": "F0-_X4Mf2BDW"
   }
  },
  {
   "cell_type": "markdown",
   "source": [
    "### Wczytanie datasetu"
   ],
   "metadata": {
    "id": "iUAhmztPiZ71"
   }
  },
  {
   "cell_type": "code",
   "metadata": {
    "id": "YNMnoujb1sWc",
    "ExecuteTime": {
     "end_time": "2025-10-12T16:21:12.457400Z",
     "start_time": "2025-10-12T16:21:12.082212Z"
    }
   },
   "source": "df = pd.read_csv('videos/videos_dataset.csv')",
   "outputs": [],
   "execution_count": 2
  },
  {
   "cell_type": "code",
   "source": [
    "df.head()"
   ],
   "metadata": {
    "colab": {
     "base_uri": "https://localhost:8080/",
     "height": 256
    },
    "id": "pj6ZA6fY34Hb",
    "outputId": "2d9fa023-5353-4a3e-abb0-754a16723beb",
    "ExecuteTime": {
     "end_time": "2025-10-12T16:21:13.612771Z",
     "start_time": "2025-10-12T16:21:13.574238Z"
    }
   },
   "outputs": [
    {
     "data": {
      "text/plain": [
       "   sample_id  frame user_id label  landmark_1_x  landmark_1_y  landmark_1_z  \\\n",
       "0          1      0      a2     A      0.345417      0.648431 -1.125724e-07   \n",
       "1          1      1      a2     A      0.366266      0.597102 -9.622672e-08   \n",
       "2          1      2      a2     A      0.400966      0.572690 -1.089629e-07   \n",
       "3          1      3      a2     A      0.418257      0.573744 -1.190043e-07   \n",
       "4          1      4      a2     A      0.431913      0.582072 -1.241054e-07   \n",
       "\n",
       "   landmark_2_x  landmark_2_y  landmark_2_z  ...  landmark_18_z  \\\n",
       "0      0.363545      0.620765     -0.010274  ...      -0.003865   \n",
       "1      0.391580      0.578109     -0.012907  ...       0.000685   \n",
       "2      0.424555      0.552354     -0.004017  ...      -0.004296   \n",
       "3      0.441344      0.563031     -0.007786  ...      -0.002903   \n",
       "4      0.453692      0.577044     -0.009167  ...      -0.004793   \n",
       "\n",
       "   landmark_19_x  landmark_19_y  landmark_19_z  landmark_20_x  landmark_20_y  \\\n",
       "0       0.321722       0.551512      -0.008457       0.326903       0.565844   \n",
       "1       0.356418       0.497935      -0.004451       0.361665       0.515749   \n",
       "2       0.383425       0.481909      -0.009304       0.389207       0.502081   \n",
       "3       0.402536       0.489501      -0.009669       0.406139       0.510639   \n",
       "4       0.417201       0.501486      -0.012369       0.419653       0.524298   \n",
       "\n",
       "   landmark_20_z  landmark_21_x  landmark_21_y  landmark_21_z  \n",
       "0      -0.005724       0.329682       0.577548      -0.001789  \n",
       "1      -0.001988       0.363353       0.523833       0.002337  \n",
       "2      -0.005430       0.391897       0.513775      -0.000924  \n",
       "3      -0.006567       0.409394       0.523706      -0.001918  \n",
       "4      -0.008715       0.422120       0.535854      -0.003439  \n",
       "\n",
       "[5 rows x 67 columns]"
      ],
      "text/html": [
       "<div>\n",
       "<style scoped>\n",
       "    .dataframe tbody tr th:only-of-type {\n",
       "        vertical-align: middle;\n",
       "    }\n",
       "\n",
       "    .dataframe tbody tr th {\n",
       "        vertical-align: top;\n",
       "    }\n",
       "\n",
       "    .dataframe thead th {\n",
       "        text-align: right;\n",
       "    }\n",
       "</style>\n",
       "<table border=\"1\" class=\"dataframe\">\n",
       "  <thead>\n",
       "    <tr style=\"text-align: right;\">\n",
       "      <th></th>\n",
       "      <th>sample_id</th>\n",
       "      <th>frame</th>\n",
       "      <th>user_id</th>\n",
       "      <th>label</th>\n",
       "      <th>landmark_1_x</th>\n",
       "      <th>landmark_1_y</th>\n",
       "      <th>landmark_1_z</th>\n",
       "      <th>landmark_2_x</th>\n",
       "      <th>landmark_2_y</th>\n",
       "      <th>landmark_2_z</th>\n",
       "      <th>...</th>\n",
       "      <th>landmark_18_z</th>\n",
       "      <th>landmark_19_x</th>\n",
       "      <th>landmark_19_y</th>\n",
       "      <th>landmark_19_z</th>\n",
       "      <th>landmark_20_x</th>\n",
       "      <th>landmark_20_y</th>\n",
       "      <th>landmark_20_z</th>\n",
       "      <th>landmark_21_x</th>\n",
       "      <th>landmark_21_y</th>\n",
       "      <th>landmark_21_z</th>\n",
       "    </tr>\n",
       "  </thead>\n",
       "  <tbody>\n",
       "    <tr>\n",
       "      <th>0</th>\n",
       "      <td>1</td>\n",
       "      <td>0</td>\n",
       "      <td>a2</td>\n",
       "      <td>A</td>\n",
       "      <td>0.345417</td>\n",
       "      <td>0.648431</td>\n",
       "      <td>-1.125724e-07</td>\n",
       "      <td>0.363545</td>\n",
       "      <td>0.620765</td>\n",
       "      <td>-0.010274</td>\n",
       "      <td>...</td>\n",
       "      <td>-0.003865</td>\n",
       "      <td>0.321722</td>\n",
       "      <td>0.551512</td>\n",
       "      <td>-0.008457</td>\n",
       "      <td>0.326903</td>\n",
       "      <td>0.565844</td>\n",
       "      <td>-0.005724</td>\n",
       "      <td>0.329682</td>\n",
       "      <td>0.577548</td>\n",
       "      <td>-0.001789</td>\n",
       "    </tr>\n",
       "    <tr>\n",
       "      <th>1</th>\n",
       "      <td>1</td>\n",
       "      <td>1</td>\n",
       "      <td>a2</td>\n",
       "      <td>A</td>\n",
       "      <td>0.366266</td>\n",
       "      <td>0.597102</td>\n",
       "      <td>-9.622672e-08</td>\n",
       "      <td>0.391580</td>\n",
       "      <td>0.578109</td>\n",
       "      <td>-0.012907</td>\n",
       "      <td>...</td>\n",
       "      <td>0.000685</td>\n",
       "      <td>0.356418</td>\n",
       "      <td>0.497935</td>\n",
       "      <td>-0.004451</td>\n",
       "      <td>0.361665</td>\n",
       "      <td>0.515749</td>\n",
       "      <td>-0.001988</td>\n",
       "      <td>0.363353</td>\n",
       "      <td>0.523833</td>\n",
       "      <td>0.002337</td>\n",
       "    </tr>\n",
       "    <tr>\n",
       "      <th>2</th>\n",
       "      <td>1</td>\n",
       "      <td>2</td>\n",
       "      <td>a2</td>\n",
       "      <td>A</td>\n",
       "      <td>0.400966</td>\n",
       "      <td>0.572690</td>\n",
       "      <td>-1.089629e-07</td>\n",
       "      <td>0.424555</td>\n",
       "      <td>0.552354</td>\n",
       "      <td>-0.004017</td>\n",
       "      <td>...</td>\n",
       "      <td>-0.004296</td>\n",
       "      <td>0.383425</td>\n",
       "      <td>0.481909</td>\n",
       "      <td>-0.009304</td>\n",
       "      <td>0.389207</td>\n",
       "      <td>0.502081</td>\n",
       "      <td>-0.005430</td>\n",
       "      <td>0.391897</td>\n",
       "      <td>0.513775</td>\n",
       "      <td>-0.000924</td>\n",
       "    </tr>\n",
       "    <tr>\n",
       "      <th>3</th>\n",
       "      <td>1</td>\n",
       "      <td>3</td>\n",
       "      <td>a2</td>\n",
       "      <td>A</td>\n",
       "      <td>0.418257</td>\n",
       "      <td>0.573744</td>\n",
       "      <td>-1.190043e-07</td>\n",
       "      <td>0.441344</td>\n",
       "      <td>0.563031</td>\n",
       "      <td>-0.007786</td>\n",
       "      <td>...</td>\n",
       "      <td>-0.002903</td>\n",
       "      <td>0.402536</td>\n",
       "      <td>0.489501</td>\n",
       "      <td>-0.009669</td>\n",
       "      <td>0.406139</td>\n",
       "      <td>0.510639</td>\n",
       "      <td>-0.006567</td>\n",
       "      <td>0.409394</td>\n",
       "      <td>0.523706</td>\n",
       "      <td>-0.001918</td>\n",
       "    </tr>\n",
       "    <tr>\n",
       "      <th>4</th>\n",
       "      <td>1</td>\n",
       "      <td>4</td>\n",
       "      <td>a2</td>\n",
       "      <td>A</td>\n",
       "      <td>0.431913</td>\n",
       "      <td>0.582072</td>\n",
       "      <td>-1.241054e-07</td>\n",
       "      <td>0.453692</td>\n",
       "      <td>0.577044</td>\n",
       "      <td>-0.009167</td>\n",
       "      <td>...</td>\n",
       "      <td>-0.004793</td>\n",
       "      <td>0.417201</td>\n",
       "      <td>0.501486</td>\n",
       "      <td>-0.012369</td>\n",
       "      <td>0.419653</td>\n",
       "      <td>0.524298</td>\n",
       "      <td>-0.008715</td>\n",
       "      <td>0.422120</td>\n",
       "      <td>0.535854</td>\n",
       "      <td>-0.003439</td>\n",
       "    </tr>\n",
       "  </tbody>\n",
       "</table>\n",
       "<p>5 rows × 67 columns</p>\n",
       "</div>"
      ]
     },
     "execution_count": 3,
     "metadata": {},
     "output_type": "execute_result"
    }
   ],
   "execution_count": 3
  },
  {
   "cell_type": "code",
   "source": [
    "df.drop('user_id', axis=1, inplace=True)"
   ],
   "metadata": {
    "id": "nrONLyvK4ZjT",
    "ExecuteTime": {
     "end_time": "2025-10-12T16:21:17.153192Z",
     "start_time": "2025-10-12T16:21:17.144266Z"
    }
   },
   "outputs": [],
   "execution_count": 4
  },
  {
   "cell_type": "code",
   "source": [
    "df.info()"
   ],
   "metadata": {
    "colab": {
     "base_uri": "https://localhost:8080/"
    },
    "id": "tk44cLc64n3t",
    "outputId": "c6e83db0-2ee1-4f79-c577-bf97ec77a146",
    "ExecuteTime": {
     "end_time": "2025-10-12T16:21:20.203605Z",
     "start_time": "2025-10-12T16:21:20.155710Z"
    }
   },
   "outputs": [
    {
     "name": "stdout",
     "output_type": "stream",
     "text": [
      "<class 'pandas.core.frame.DataFrame'>\n",
      "RangeIndex: 13080 entries, 0 to 13079\n",
      "Data columns (total 66 columns):\n",
      " #   Column         Non-Null Count  Dtype  \n",
      "---  ------         --------------  -----  \n",
      " 0   sample_id      13080 non-null  int64  \n",
      " 1   frame          13080 non-null  int64  \n",
      " 2   label          13080 non-null  object \n",
      " 3   landmark_1_x   13080 non-null  float64\n",
      " 4   landmark_1_y   13080 non-null  float64\n",
      " 5   landmark_1_z   13080 non-null  float64\n",
      " 6   landmark_2_x   13080 non-null  float64\n",
      " 7   landmark_2_y   13080 non-null  float64\n",
      " 8   landmark_2_z   13080 non-null  float64\n",
      " 9   landmark_3_x   13080 non-null  float64\n",
      " 10  landmark_3_y   13080 non-null  float64\n",
      " 11  landmark_3_z   13080 non-null  float64\n",
      " 12  landmark_4_x   13080 non-null  float64\n",
      " 13  landmark_4_y   13080 non-null  float64\n",
      " 14  landmark_4_z   13080 non-null  float64\n",
      " 15  landmark_5_x   13080 non-null  float64\n",
      " 16  landmark_5_y   13080 non-null  float64\n",
      " 17  landmark_5_z   13080 non-null  float64\n",
      " 18  landmark_6_x   13080 non-null  float64\n",
      " 19  landmark_6_y   13080 non-null  float64\n",
      " 20  landmark_6_z   13080 non-null  float64\n",
      " 21  landmark_7_x   13080 non-null  float64\n",
      " 22  landmark_7_y   13080 non-null  float64\n",
      " 23  landmark_7_z   13080 non-null  float64\n",
      " 24  landmark_8_x   13080 non-null  float64\n",
      " 25  landmark_8_y   13080 non-null  float64\n",
      " 26  landmark_8_z   13080 non-null  float64\n",
      " 27  landmark_9_x   13080 non-null  float64\n",
      " 28  landmark_9_y   13080 non-null  float64\n",
      " 29  landmark_9_z   13080 non-null  float64\n",
      " 30  landmark_10_x  13080 non-null  float64\n",
      " 31  landmark_10_y  13080 non-null  float64\n",
      " 32  landmark_10_z  13080 non-null  float64\n",
      " 33  landmark_11_x  13080 non-null  float64\n",
      " 34  landmark_11_y  13080 non-null  float64\n",
      " 35  landmark_11_z  13080 non-null  float64\n",
      " 36  landmark_12_x  13080 non-null  float64\n",
      " 37  landmark_12_y  13080 non-null  float64\n",
      " 38  landmark_12_z  13080 non-null  float64\n",
      " 39  landmark_13_x  13080 non-null  float64\n",
      " 40  landmark_13_y  13080 non-null  float64\n",
      " 41  landmark_13_z  13080 non-null  float64\n",
      " 42  landmark_14_x  13080 non-null  float64\n",
      " 43  landmark_14_y  13080 non-null  float64\n",
      " 44  landmark_14_z  13080 non-null  float64\n",
      " 45  landmark_15_x  13080 non-null  float64\n",
      " 46  landmark_15_y  13080 non-null  float64\n",
      " 47  landmark_15_z  13080 non-null  float64\n",
      " 48  landmark_16_x  13080 non-null  float64\n",
      " 49  landmark_16_y  13080 non-null  float64\n",
      " 50  landmark_16_z  13080 non-null  float64\n",
      " 51  landmark_17_x  13080 non-null  float64\n",
      " 52  landmark_17_y  13080 non-null  float64\n",
      " 53  landmark_17_z  13080 non-null  float64\n",
      " 54  landmark_18_x  13080 non-null  float64\n",
      " 55  landmark_18_y  13080 non-null  float64\n",
      " 56  landmark_18_z  13080 non-null  float64\n",
      " 57  landmark_19_x  13080 non-null  float64\n",
      " 58  landmark_19_y  13080 non-null  float64\n",
      " 59  landmark_19_z  13080 non-null  float64\n",
      " 60  landmark_20_x  13080 non-null  float64\n",
      " 61  landmark_20_y  13080 non-null  float64\n",
      " 62  landmark_20_z  13080 non-null  float64\n",
      " 63  landmark_21_x  13080 non-null  float64\n",
      " 64  landmark_21_y  13080 non-null  float64\n",
      " 65  landmark_21_z  13080 non-null  float64\n",
      "dtypes: float64(63), int64(2), object(1)\n",
      "memory usage: 6.6+ MB\n"
     ]
    }
   ],
   "execution_count": 5
  },
  {
   "cell_type": "code",
   "source": [
    "# set label as category type\n",
    "df['label'] = df['label'].astype('category')"
   ],
   "metadata": {
    "id": "_CkFp1jq4xiR",
    "ExecuteTime": {
     "end_time": "2025-10-12T16:21:22.479039Z",
     "start_time": "2025-10-12T16:21:22.460442Z"
    }
   },
   "outputs": [],
   "execution_count": 6
  },
  {
   "cell_type": "markdown",
   "source": [
    "## 1b. Wczytaj dataset moj dataset"
   ],
   "metadata": {
    "id": "7qfl8ngzrjhz"
   }
  },
  {
   "cell_type": "code",
   "source": "df2 = pd.read_csv('own/larger_own_dataset.csv')",
   "metadata": {
    "id": "09ZnoQjBrr66",
    "ExecuteTime": {
     "end_time": "2025-10-12T16:21:27.764453Z",
     "start_time": "2025-10-12T16:21:25.566026Z"
    }
   },
   "outputs": [],
   "execution_count": 7
  },
  {
   "cell_type": "code",
   "source": [
    "df2.head()"
   ],
   "metadata": {
    "colab": {
     "base_uri": "https://localhost:8080/",
     "height": 256
    },
    "id": "GmXHB8qZrut-",
    "outputId": "0c0d04f7-5c1c-4f8a-a225-a974510665fa",
    "ExecuteTime": {
     "end_time": "2025-10-12T16:21:28.642867Z",
     "start_time": "2025-10-12T16:21:28.609431Z"
    }
   },
   "outputs": [
    {
     "data": {
      "text/plain": [
       "   user_id label  sample_id  frame  landmark_1_x  landmark_1_y  landmark_1_z  \\\n",
       "0        1     Z          1      0      0.435695      0.576969  4.036861e-08   \n",
       "1        3     Z          1      0      0.578351      0.609560  5.265319e-08   \n",
       "2        4     Z          1      0      0.507152      0.550208  6.161761e-08   \n",
       "3        1     Z          1      1      0.437542      0.579177  4.156175e-08   \n",
       "4        3     Z          1      1      0.578379      0.609218  5.853659e-08   \n",
       "\n",
       "   landmark_2_x  landmark_2_y  landmark_2_z  ...  landmark_18_z  \\\n",
       "0      0.480515      0.548350     -0.026277  ...      -0.048237   \n",
       "1      0.624348      0.585140     -0.014683  ...      -0.061790   \n",
       "2      0.538633      0.521261     -0.014309  ...      -0.027720   \n",
       "3      0.482692      0.549850     -0.026735  ...      -0.047561   \n",
       "4      0.624059      0.584968     -0.014740  ...      -0.061531   \n",
       "\n",
       "   landmark_19_x  landmark_19_y  landmark_19_z  landmark_20_x  landmark_20_y  \\\n",
       "0       0.413569       0.455929      -0.074037       0.423309       0.496448   \n",
       "1       0.585376       0.526921      -0.080099       0.590219       0.553543   \n",
       "2       0.487526       0.448841      -0.044816       0.503914       0.473505   \n",
       "3       0.414696       0.457763      -0.073083       0.424467       0.497505   \n",
       "4       0.585250       0.526183      -0.079531       0.589327       0.552980   \n",
       "\n",
       "   landmark_20_z  landmark_21_x  landmark_21_y  landmark_21_z  \n",
       "0      -0.069420       0.417086       0.505802      -0.059601  \n",
       "1      -0.076534       0.579452       0.550328      -0.069926  \n",
       "2      -0.041604       0.512892       0.491349      -0.033786  \n",
       "3      -0.068846       0.418851       0.507512      -0.059264  \n",
       "4      -0.075569       0.577682       0.549286      -0.068727  \n",
       "\n",
       "[5 rows x 67 columns]"
      ],
      "text/html": [
       "<div>\n",
       "<style scoped>\n",
       "    .dataframe tbody tr th:only-of-type {\n",
       "        vertical-align: middle;\n",
       "    }\n",
       "\n",
       "    .dataframe tbody tr th {\n",
       "        vertical-align: top;\n",
       "    }\n",
       "\n",
       "    .dataframe thead th {\n",
       "        text-align: right;\n",
       "    }\n",
       "</style>\n",
       "<table border=\"1\" class=\"dataframe\">\n",
       "  <thead>\n",
       "    <tr style=\"text-align: right;\">\n",
       "      <th></th>\n",
       "      <th>user_id</th>\n",
       "      <th>label</th>\n",
       "      <th>sample_id</th>\n",
       "      <th>frame</th>\n",
       "      <th>landmark_1_x</th>\n",
       "      <th>landmark_1_y</th>\n",
       "      <th>landmark_1_z</th>\n",
       "      <th>landmark_2_x</th>\n",
       "      <th>landmark_2_y</th>\n",
       "      <th>landmark_2_z</th>\n",
       "      <th>...</th>\n",
       "      <th>landmark_18_z</th>\n",
       "      <th>landmark_19_x</th>\n",
       "      <th>landmark_19_y</th>\n",
       "      <th>landmark_19_z</th>\n",
       "      <th>landmark_20_x</th>\n",
       "      <th>landmark_20_y</th>\n",
       "      <th>landmark_20_z</th>\n",
       "      <th>landmark_21_x</th>\n",
       "      <th>landmark_21_y</th>\n",
       "      <th>landmark_21_z</th>\n",
       "    </tr>\n",
       "  </thead>\n",
       "  <tbody>\n",
       "    <tr>\n",
       "      <th>0</th>\n",
       "      <td>1</td>\n",
       "      <td>Z</td>\n",
       "      <td>1</td>\n",
       "      <td>0</td>\n",
       "      <td>0.435695</td>\n",
       "      <td>0.576969</td>\n",
       "      <td>4.036861e-08</td>\n",
       "      <td>0.480515</td>\n",
       "      <td>0.548350</td>\n",
       "      <td>-0.026277</td>\n",
       "      <td>...</td>\n",
       "      <td>-0.048237</td>\n",
       "      <td>0.413569</td>\n",
       "      <td>0.455929</td>\n",
       "      <td>-0.074037</td>\n",
       "      <td>0.423309</td>\n",
       "      <td>0.496448</td>\n",
       "      <td>-0.069420</td>\n",
       "      <td>0.417086</td>\n",
       "      <td>0.505802</td>\n",
       "      <td>-0.059601</td>\n",
       "    </tr>\n",
       "    <tr>\n",
       "      <th>1</th>\n",
       "      <td>3</td>\n",
       "      <td>Z</td>\n",
       "      <td>1</td>\n",
       "      <td>0</td>\n",
       "      <td>0.578351</td>\n",
       "      <td>0.609560</td>\n",
       "      <td>5.265319e-08</td>\n",
       "      <td>0.624348</td>\n",
       "      <td>0.585140</td>\n",
       "      <td>-0.014683</td>\n",
       "      <td>...</td>\n",
       "      <td>-0.061790</td>\n",
       "      <td>0.585376</td>\n",
       "      <td>0.526921</td>\n",
       "      <td>-0.080099</td>\n",
       "      <td>0.590219</td>\n",
       "      <td>0.553543</td>\n",
       "      <td>-0.076534</td>\n",
       "      <td>0.579452</td>\n",
       "      <td>0.550328</td>\n",
       "      <td>-0.069926</td>\n",
       "    </tr>\n",
       "    <tr>\n",
       "      <th>2</th>\n",
       "      <td>4</td>\n",
       "      <td>Z</td>\n",
       "      <td>1</td>\n",
       "      <td>0</td>\n",
       "      <td>0.507152</td>\n",
       "      <td>0.550208</td>\n",
       "      <td>6.161761e-08</td>\n",
       "      <td>0.538633</td>\n",
       "      <td>0.521261</td>\n",
       "      <td>-0.014309</td>\n",
       "      <td>...</td>\n",
       "      <td>-0.027720</td>\n",
       "      <td>0.487526</td>\n",
       "      <td>0.448841</td>\n",
       "      <td>-0.044816</td>\n",
       "      <td>0.503914</td>\n",
       "      <td>0.473505</td>\n",
       "      <td>-0.041604</td>\n",
       "      <td>0.512892</td>\n",
       "      <td>0.491349</td>\n",
       "      <td>-0.033786</td>\n",
       "    </tr>\n",
       "    <tr>\n",
       "      <th>3</th>\n",
       "      <td>1</td>\n",
       "      <td>Z</td>\n",
       "      <td>1</td>\n",
       "      <td>1</td>\n",
       "      <td>0.437542</td>\n",
       "      <td>0.579177</td>\n",
       "      <td>4.156175e-08</td>\n",
       "      <td>0.482692</td>\n",
       "      <td>0.549850</td>\n",
       "      <td>-0.026735</td>\n",
       "      <td>...</td>\n",
       "      <td>-0.047561</td>\n",
       "      <td>0.414696</td>\n",
       "      <td>0.457763</td>\n",
       "      <td>-0.073083</td>\n",
       "      <td>0.424467</td>\n",
       "      <td>0.497505</td>\n",
       "      <td>-0.068846</td>\n",
       "      <td>0.418851</td>\n",
       "      <td>0.507512</td>\n",
       "      <td>-0.059264</td>\n",
       "    </tr>\n",
       "    <tr>\n",
       "      <th>4</th>\n",
       "      <td>3</td>\n",
       "      <td>Z</td>\n",
       "      <td>1</td>\n",
       "      <td>1</td>\n",
       "      <td>0.578379</td>\n",
       "      <td>0.609218</td>\n",
       "      <td>5.853659e-08</td>\n",
       "      <td>0.624059</td>\n",
       "      <td>0.584968</td>\n",
       "      <td>-0.014740</td>\n",
       "      <td>...</td>\n",
       "      <td>-0.061531</td>\n",
       "      <td>0.585250</td>\n",
       "      <td>0.526183</td>\n",
       "      <td>-0.079531</td>\n",
       "      <td>0.589327</td>\n",
       "      <td>0.552980</td>\n",
       "      <td>-0.075569</td>\n",
       "      <td>0.577682</td>\n",
       "      <td>0.549286</td>\n",
       "      <td>-0.068727</td>\n",
       "    </tr>\n",
       "  </tbody>\n",
       "</table>\n",
       "<p>5 rows × 67 columns</p>\n",
       "</div>"
      ]
     },
     "execution_count": 8,
     "metadata": {},
     "output_type": "execute_result"
    }
   ],
   "execution_count": 8
  },
  {
   "cell_type": "code",
   "source": [
    "df2 = df2.drop('user_id', axis=1)"
   ],
   "metadata": {
    "id": "k7fAlnIzsqD3",
    "ExecuteTime": {
     "end_time": "2025-10-12T16:21:31.261395Z",
     "start_time": "2025-10-12T16:21:31.236143Z"
    }
   },
   "outputs": [],
   "execution_count": 9
  },
  {
   "cell_type": "code",
   "source": [
    "df2.info()"
   ],
   "metadata": {
    "colab": {
     "base_uri": "https://localhost:8080/"
    },
    "id": "9ILRJ1u7sj2g",
    "outputId": "9a687a0f-bdc9-4b2a-b660-cc6ae1fd5179",
    "ExecuteTime": {
     "end_time": "2025-10-12T16:21:34.456024Z",
     "start_time": "2025-10-12T16:21:34.400842Z"
    }
   },
   "outputs": [
    {
     "name": "stdout",
     "output_type": "stream",
     "text": [
      "<class 'pandas.core.frame.DataFrame'>\n",
      "RangeIndex: 96963 entries, 0 to 96962\n",
      "Data columns (total 66 columns):\n",
      " #   Column         Non-Null Count  Dtype  \n",
      "---  ------         --------------  -----  \n",
      " 0   label          96963 non-null  object \n",
      " 1   sample_id      96963 non-null  int64  \n",
      " 2   frame          96963 non-null  int64  \n",
      " 3   landmark_1_x   96963 non-null  float64\n",
      " 4   landmark_1_y   96963 non-null  float64\n",
      " 5   landmark_1_z   96963 non-null  float64\n",
      " 6   landmark_2_x   96963 non-null  float64\n",
      " 7   landmark_2_y   96963 non-null  float64\n",
      " 8   landmark_2_z   96963 non-null  float64\n",
      " 9   landmark_3_x   96963 non-null  float64\n",
      " 10  landmark_3_y   96963 non-null  float64\n",
      " 11  landmark_3_z   96963 non-null  float64\n",
      " 12  landmark_4_x   96963 non-null  float64\n",
      " 13  landmark_4_y   96963 non-null  float64\n",
      " 14  landmark_4_z   96963 non-null  float64\n",
      " 15  landmark_5_x   96963 non-null  float64\n",
      " 16  landmark_5_y   96963 non-null  float64\n",
      " 17  landmark_5_z   96963 non-null  float64\n",
      " 18  landmark_6_x   96963 non-null  float64\n",
      " 19  landmark_6_y   96963 non-null  float64\n",
      " 20  landmark_6_z   96963 non-null  float64\n",
      " 21  landmark_7_x   96963 non-null  float64\n",
      " 22  landmark_7_y   96963 non-null  float64\n",
      " 23  landmark_7_z   96963 non-null  float64\n",
      " 24  landmark_8_x   96963 non-null  float64\n",
      " 25  landmark_8_y   96963 non-null  float64\n",
      " 26  landmark_8_z   96963 non-null  float64\n",
      " 27  landmark_9_x   96963 non-null  float64\n",
      " 28  landmark_9_y   96963 non-null  float64\n",
      " 29  landmark_9_z   96963 non-null  float64\n",
      " 30  landmark_10_x  96963 non-null  float64\n",
      " 31  landmark_10_y  96963 non-null  float64\n",
      " 32  landmark_10_z  96963 non-null  float64\n",
      " 33  landmark_11_x  96963 non-null  float64\n",
      " 34  landmark_11_y  96963 non-null  float64\n",
      " 35  landmark_11_z  96963 non-null  float64\n",
      " 36  landmark_12_x  96963 non-null  float64\n",
      " 37  landmark_12_y  96963 non-null  float64\n",
      " 38  landmark_12_z  96963 non-null  float64\n",
      " 39  landmark_13_x  96963 non-null  float64\n",
      " 40  landmark_13_y  96963 non-null  float64\n",
      " 41  landmark_13_z  96963 non-null  float64\n",
      " 42  landmark_14_x  96963 non-null  float64\n",
      " 43  landmark_14_y  96963 non-null  float64\n",
      " 44  landmark_14_z  96963 non-null  float64\n",
      " 45  landmark_15_x  96963 non-null  float64\n",
      " 46  landmark_15_y  96963 non-null  float64\n",
      " 47  landmark_15_z  96963 non-null  float64\n",
      " 48  landmark_16_x  96963 non-null  float64\n",
      " 49  landmark_16_y  96963 non-null  float64\n",
      " 50  landmark_16_z  96963 non-null  float64\n",
      " 51  landmark_17_x  96963 non-null  float64\n",
      " 52  landmark_17_y  96963 non-null  float64\n",
      " 53  landmark_17_z  96963 non-null  float64\n",
      " 54  landmark_18_x  96963 non-null  float64\n",
      " 55  landmark_18_y  96963 non-null  float64\n",
      " 56  landmark_18_z  96963 non-null  float64\n",
      " 57  landmark_19_x  96963 non-null  float64\n",
      " 58  landmark_19_y  96963 non-null  float64\n",
      " 59  landmark_19_z  96963 non-null  float64\n",
      " 60  landmark_20_x  96963 non-null  float64\n",
      " 61  landmark_20_y  96963 non-null  float64\n",
      " 62  landmark_20_z  96963 non-null  float64\n",
      " 63  landmark_21_x  96963 non-null  float64\n",
      " 64  landmark_21_y  96963 non-null  float64\n",
      " 65  landmark_21_z  96963 non-null  float64\n",
      "dtypes: float64(63), int64(2), object(1)\n",
      "memory usage: 48.8+ MB\n"
     ]
    }
   ],
   "execution_count": 10
  },
  {
   "cell_type": "code",
   "source": [
    "df2['label'] = df2['label'].astype('category')"
   ],
   "metadata": {
    "id": "SwAkzopvszGI",
    "ExecuteTime": {
     "end_time": "2025-10-12T16:21:39.892572Z",
     "start_time": "2025-10-12T16:21:39.882178Z"
    }
   },
   "outputs": [],
   "execution_count": 12
  },
  {
   "metadata": {
    "ExecuteTime": {
     "end_time": "2025-10-12T16:39:39.897159Z",
     "start_time": "2025-10-12T16:39:39.867929Z"
    }
   },
   "cell_type": "code",
   "source": [
    "print(\"Liczba unikalnych sample_id:\", df['sample_id'].nunique())\n",
    "print(df.groupby('sample_id').size().describe())"
   ],
   "outputs": [
    {
     "name": "stdout",
     "output_type": "stream",
     "text": [
      "Liczba unikalnych sample_id: 436\n",
      "count    436.0\n",
      "mean      30.0\n",
      "std        0.0\n",
      "min       30.0\n",
      "25%       30.0\n",
      "50%       30.0\n",
      "75%       30.0\n",
      "max       30.0\n",
      "dtype: float64\n"
     ]
    }
   ],
   "execution_count": 16
  },
  {
   "metadata": {
    "ExecuteTime": {
     "end_time": "2025-10-12T16:40:00.838779Z",
     "start_time": "2025-10-12T16:40:00.819278Z"
    }
   },
   "cell_type": "code",
   "source": [
    "print(\"Liczba unikalnych sample_id:\", df2['sample_id'].nunique())\n",
    "print(df2.groupby('sample_id').size().describe())"
   ],
   "outputs": [
    {
     "name": "stdout",
     "output_type": "stream",
     "text": [
      "Liczba unikalnych sample_id: 2510\n",
      "count    2510.000000\n",
      "mean       38.630677\n",
      "std        21.026115\n",
      "min        30.000000\n",
      "25%        30.000000\n",
      "50%        30.000000\n",
      "75%        30.000000\n",
      "max        90.000000\n",
      "dtype: float64\n"
     ]
    }
   ],
   "execution_count": 17
  },
  {
   "cell_type": "markdown",
   "source": [
    "## 1c. Połączenie datasetów"
   ],
   "metadata": {
    "id": "peLXXgf4tA0Q"
   }
  },
  {
   "cell_type": "code",
   "source": [
    "# 1. Liczba unikalnych próbek w df\n",
    "max_sample_id_df = df['sample_id'].max()\n",
    "\n",
    "# 2. Dodaj przesunięcie do df2\n",
    "df2['sample_id'] += (max_sample_id_df + 1)\n",
    "\n",
    "# 3. Połączenie obu zbiorów\n",
    "merged_df = pd.concat([df, df2], ignore_index=True)\n",
    "\n",
    "# Sortuj po sample_id i frame\n",
    "merged_df.sort_values(by=['sample_id', 'frame'], inplace=True)\n",
    "\n",
    "# Zapis do pliku\n",
    "merged_df.to_csv('larger_full_datasets.csv', index=False)"
   ],
   "metadata": {
    "id": "dzvJhZ1otEXq",
    "ExecuteTime": {
     "end_time": "2025-10-12T16:42:27.001752Z",
     "start_time": "2025-10-12T16:42:12.519419Z"
    }
   },
   "outputs": [],
   "execution_count": 18
  },
  {
   "metadata": {
    "ExecuteTime": {
     "end_time": "2025-10-12T16:42:34.241900Z",
     "start_time": "2025-10-12T16:42:34.203393Z"
    }
   },
   "cell_type": "code",
   "source": [
    "print(\"Liczba unikalnych sample_id:\", merged_df['sample_id'].nunique())\n",
    "print(merged_df.groupby('sample_id').size().describe())"
   ],
   "outputs": [
    {
     "name": "stdout",
     "output_type": "stream",
     "text": [
      "Liczba unikalnych sample_id: 2946\n",
      "count    2946.000000\n",
      "mean       37.353360\n",
      "std        19.647947\n",
      "min        30.000000\n",
      "25%        30.000000\n",
      "50%        30.000000\n",
      "75%        30.000000\n",
      "max        90.000000\n",
      "dtype: float64\n"
     ]
    }
   ],
   "execution_count": 19
  },
  {
   "metadata": {},
   "cell_type": "markdown",
   "source": "Sprawdzenie czy liczba próbek się zgadza"
  },
  {
   "cell_type": "code",
   "source": [
    "len(df) + len(df2)"
   ],
   "metadata": {
    "colab": {
     "base_uri": "https://localhost:8080/"
    },
    "id": "PVkc-H0SuI_8",
    "outputId": "4c97f156-6e4b-4078-d68b-43c77750062d",
    "ExecuteTime": {
     "end_time": "2025-10-12T16:46:08.216038Z",
     "start_time": "2025-10-12T16:46:08.206810Z"
    }
   },
   "outputs": [
    {
     "data": {
      "text/plain": [
       "110043"
      ]
     },
     "execution_count": 22,
     "metadata": {},
     "output_type": "execute_result"
    }
   ],
   "execution_count": 22
  },
  {
   "metadata": {
    "colab": {
     "base_uri": "https://localhost:8080/"
    },
    "id": "GZj_sFbkuC0G",
    "outputId": "8fea370f-322b-43c0-cd1c-566f8e9d445e",
    "ExecuteTime": {
     "end_time": "2025-10-12T16:46:09.205715Z",
     "start_time": "2025-10-12T16:46:09.188396Z"
    }
   },
   "cell_type": "code",
   "source": "len(merged_df)",
   "outputs": [
    {
     "data": {
      "text/plain": [
       "110043"
      ]
     },
     "execution_count": 23,
     "metadata": {},
     "output_type": "execute_result"
    }
   ],
   "execution_count": 23
  }
 ]
}
