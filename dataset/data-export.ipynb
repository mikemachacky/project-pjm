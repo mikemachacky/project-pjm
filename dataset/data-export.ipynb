{
 "cells": [
  {
   "metadata": {},
   "cell_type": "markdown",
   "source": [
    "# SQLite to CSV\n",
    "Script that allows you to export individual tables into csv files."
   ],
   "id": "cda2166eeecbb044"
  },
  {
   "cell_type": "code",
   "id": "initial_id",
   "metadata": {
    "collapsed": true,
    "ExecuteTime": {
     "end_time": "2025-05-26T09:24:33.322150Z",
     "start_time": "2025-05-26T09:24:31.073481Z"
    }
   },
   "source": [
    "import sqlite3\n",
    "import pandas as pd\n",
    "import os\n",
    "\n",
    "# Path\n",
    "db_path = '../PJM-sign-language.db'\n",
    "\n",
    "output_dir = output_dir = os.getcwd() + '/export'\n",
    "\n",
    "# Check if exists\n",
    "os.makedirs(output_dir, exist_ok=True)\n",
    "\n",
    "# Connect to db\n",
    "conn = sqlite3.connect(db_path)\n",
    "cursor = conn.cursor()\n",
    "\n",
    "# Select tables\n",
    "cursor.execute(\"SELECT name FROM sqlite_master WHERE type='table';\")\n",
    "tables = cursor.fetchall()\n",
    "\n",
    "# Export for each table\n",
    "for table_name_tuple in tables:\n",
    "    table_name = table_name_tuple[0]\n",
    "    df = pd.read_sql_query(f\"SELECT * FROM {table_name}\", conn)\n",
    "    output_file = os.path.join(output_dir, f\"{table_name}.csv\")\n",
    "    df.to_csv(output_file, index=False)\n",
    "    print(f\"Zapisano: {output_file}\")\n",
    "\n",
    "# Close conn\n",
    "conn.close()\n"
   ],
   "outputs": [
    {
     "name": "stdout",
     "output_type": "stream",
     "text": [
      "Zapisano: /home/magda/Documents/Github/project-pjm/dataset/export/Z.csv\n",
      "Zapisano: /home/magda/Documents/Github/project-pjm/dataset/export/Z_Z.csv\n",
      "Zapisano: /home/magda/Documents/Github/project-pjm/dataset/export/Z_X.csv\n",
      "Zapisano: /home/magda/Documents/Github/project-pjm/dataset/export/A.csv\n",
      "Zapisano: /home/magda/Documents/Github/project-pjm/dataset/export/B.csv\n",
      "Zapisano: /home/magda/Documents/Github/project-pjm/dataset/export/C.csv\n",
      "Zapisano: /home/magda/Documents/Github/project-pjm/dataset/export/E.csv\n",
      "Zapisano: /home/magda/Documents/Github/project-pjm/dataset/export/A_A.csv\n",
      "Zapisano: /home/magda/Documents/Github/project-pjm/dataset/export/C_C.csv\n",
      "Zapisano: /home/magda/Documents/Github/project-pjm/dataset/export/D.csv\n",
      "Zapisano: /home/magda/Documents/Github/project-pjm/dataset/export/E_E.csv\n",
      "Zapisano: /home/magda/Documents/Github/project-pjm/dataset/export/F.csv\n",
      "Zapisano: /home/magda/Documents/Github/project-pjm/dataset/export/G.csv\n",
      "Zapisano: /home/magda/Documents/Github/project-pjm/dataset/export/H.csv\n",
      "Zapisano: /home/magda/Documents/Github/project-pjm/dataset/export/I.csv\n",
      "Zapisano: /home/magda/Documents/Github/project-pjm/dataset/export/J.csv\n",
      "Zapisano: /home/magda/Documents/Github/project-pjm/dataset/export/K.csv\n",
      "Zapisano: /home/magda/Documents/Github/project-pjm/dataset/export/L.csv\n",
      "Zapisano: /home/magda/Documents/Github/project-pjm/dataset/export/L_L.csv\n",
      "Zapisano: /home/magda/Documents/Github/project-pjm/dataset/export/M.csv\n",
      "Zapisano: /home/magda/Documents/Github/project-pjm/dataset/export/N.csv\n",
      "Zapisano: /home/magda/Documents/Github/project-pjm/dataset/export/N_N.csv\n",
      "Zapisano: /home/magda/Documents/Github/project-pjm/dataset/export/O.csv\n",
      "Zapisano: /home/magda/Documents/Github/project-pjm/dataset/export/O_O.csv\n",
      "Zapisano: /home/magda/Documents/Github/project-pjm/dataset/export/P.csv\n",
      "Zapisano: /home/magda/Documents/Github/project-pjm/dataset/export/R.csv\n",
      "Zapisano: /home/magda/Documents/Github/project-pjm/dataset/export/S.csv\n",
      "Zapisano: /home/magda/Documents/Github/project-pjm/dataset/export/S_S.csv\n",
      "Zapisano: /home/magda/Documents/Github/project-pjm/dataset/export/T.csv\n",
      "Zapisano: /home/magda/Documents/Github/project-pjm/dataset/export/U.csv\n",
      "Zapisano: /home/magda/Documents/Github/project-pjm/dataset/export/W.csv\n",
      "Zapisano: /home/magda/Documents/Github/project-pjm/dataset/export/Y.csv\n",
      "Zapisano: /home/magda/Documents/Github/project-pjm/dataset/export/RZ.csv\n",
      "Zapisano: /home/magda/Documents/Github/project-pjm/dataset/export/SZ.csv\n",
      "Zapisano: /home/magda/Documents/Github/project-pjm/dataset/export/CH.csv\n",
      "Zapisano: /home/magda/Documents/Github/project-pjm/dataset/export/CZ.csv\n"
     ]
    }
   ],
   "execution_count": 2
  }
 ],
 "metadata": {
  "kernelspec": {
   "display_name": "Python 3",
   "language": "python",
   "name": "python3"
  },
  "language_info": {
   "codemirror_mode": {
    "name": "ipython",
    "version": 2
   },
   "file_extension": ".py",
   "mimetype": "text/x-python",
   "name": "python",
   "nbconvert_exporter": "python",
   "pygments_lexer": "ipython2",
   "version": "2.7.6"
  }
 },
 "nbformat": 4,
 "nbformat_minor": 5
}
