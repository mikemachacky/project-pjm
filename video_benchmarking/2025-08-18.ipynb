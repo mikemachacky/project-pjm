{
 "cells": [
  {
   "metadata": {
    "ExecuteTime": {
     "end_time": "2025-08-18T16:52:50.865113Z",
     "start_time": "2025-08-18T16:52:45.944384Z"
    }
   },
   "cell_type": "code",
   "source": [
    "import tensorflow as tf\n",
    "print(tf.config.list_physical_devices('GPU'))\n"
   ],
   "id": "8e09ef527b9ac147",
   "outputs": [
    {
     "name": "stderr",
     "output_type": "stream",
     "text": [
      "2025-08-18 18:52:46.267244: E external/local_xla/xla/stream_executor/cuda/cuda_fft.cc:467] Unable to register cuFFT factory: Attempting to register factory for plugin cuFFT when one has already been registered\n",
      "WARNING: All log messages before absl::InitializeLog() is called are written to STDERR\n",
      "E0000 00:00:1755535966.291668   59792 cuda_dnn.cc:8579] Unable to register cuDNN factory: Attempting to register factory for plugin cuDNN when one has already been registered\n",
      "E0000 00:00:1755535966.301310   59792 cuda_blas.cc:1407] Unable to register cuBLAS factory: Attempting to register factory for plugin cuBLAS when one has already been registered\n",
      "W0000 00:00:1755535966.320820   59792 computation_placer.cc:177] computation placer already registered. Please check linkage and avoid linking the same target more than once.\n",
      "W0000 00:00:1755535966.320845   59792 computation_placer.cc:177] computation placer already registered. Please check linkage and avoid linking the same target more than once.\n",
      "W0000 00:00:1755535966.320849   59792 computation_placer.cc:177] computation placer already registered. Please check linkage and avoid linking the same target more than once.\n",
      "W0000 00:00:1755535966.320853   59792 computation_placer.cc:177] computation placer already registered. Please check linkage and avoid linking the same target more than once.\n",
      "2025-08-18 18:52:46.326913: I tensorflow/core/platform/cpu_feature_guard.cc:210] This TensorFlow binary is optimized to use available CPU instructions in performance-critical operations.\n",
      "To enable the following instructions: AVX2 FMA, in other operations, rebuild TensorFlow with the appropriate compiler flags.\n"
     ]
    },
    {
     "name": "stdout",
     "output_type": "stream",
     "text": [
      "[PhysicalDevice(name='/physical_device:GPU:0', device_type='GPU')]\n"
     ]
    }
   ],
   "execution_count": 1
  },
  {
   "metadata": {},
   "cell_type": "markdown",
   "source": "## Importy",
   "id": "6598252d06de21d0"
  },
  {
   "metadata": {
    "ExecuteTime": {
     "end_time": "2025-08-18T16:52:51.021302Z",
     "start_time": "2025-08-18T16:52:50.879927Z"
    }
   },
   "cell_type": "code",
   "source": [
    "import cv2\n",
    "import mediapipe as mp\n",
    "import numpy as np\n",
    "from tensorflow.keras.models import load_model\n"
   ],
   "id": "72b7700fc3691d5c",
   "outputs": [],
   "execution_count": 2
  },
  {
   "metadata": {},
   "cell_type": "markdown",
   "source": "## Wczytanie modelu",
   "id": "17a9e11086f145fd"
  },
  {
   "metadata": {
    "ExecuteTime": {
     "end_time": "2025-08-18T17:21:05.867924Z",
     "start_time": "2025-08-18T17:21:05.749241Z"
    }
   },
   "cell_type": "code",
   "source": [
    "models = {\n",
    "    \"lstm_2025_08_18\": load_model('../model/2025-08-18/lstm.keras'),\n",
    "    # \"cnn_1d_2025_07_14\": load_model('../model/2025-07-14/cnn_1d_model.keras'),\n",
    "}\n"
   ],
   "id": "fec19ea690af8724",
   "outputs": [],
   "execution_count": 19
  },
  {
   "metadata": {},
   "cell_type": "markdown",
   "source": "## Wczytanie etykiet z pliku tekstowego\n",
   "id": "86a8855a841c80f0"
  },
  {
   "metadata": {
    "ExecuteTime": {
     "end_time": "2025-08-18T16:52:55.867879Z",
     "start_time": "2025-08-18T16:52:55.863802Z"
    }
   },
   "cell_type": "code",
   "source": [
    "with open('../model/2025-07-14//labels.txt', 'r') as f:\n",
    "    label_names = [line.strip() for line in f.readlines()]"
   ],
   "id": "d13bbfa5056a8d0a",
   "outputs": [],
   "execution_count": 4
  },
  {
   "metadata": {},
   "cell_type": "markdown",
   "source": "## MediaPipe inicjalizacja",
   "id": "33e09777cc32ae98"
  },
  {
   "metadata": {
    "ExecuteTime": {
     "end_time": "2025-08-18T16:52:57.717520Z",
     "start_time": "2025-08-18T16:52:57.647536Z"
    }
   },
   "cell_type": "code",
   "source": [
    "mp_holistic = mp.solutions.holistic\n",
    "holistic = mp_holistic.Holistic(static_image_mode=False, model_complexity=1)\n",
    "mp_drawing = mp.solutions.drawing_utils"
   ],
   "id": "e540bfea0d7eabb1",
   "outputs": [
    {
     "name": "stderr",
     "output_type": "stream",
     "text": [
      "INFO: Created TensorFlow Lite XNNPACK delegate for CPU.\n"
     ]
    }
   ],
   "execution_count": 5
  },
  {
   "metadata": {},
   "cell_type": "markdown",
   "source": "# Bufor sekwencji",
   "id": "a5232eed645cd7a1"
  },
  {
   "metadata": {
    "ExecuteTime": {
     "end_time": "2025-08-18T16:52:59.306963Z",
     "start_time": "2025-08-18T16:52:59.303490Z"
    }
   },
   "cell_type": "code",
   "source": [
    "def normalize_sequence(sequence_array):\n",
    "    sequence_array = np.array(sequence_array)\n",
    "    origin = sequence_array[0][0]  # Nadgarstek 1. klatki\n",
    "    return sequence_array - origin"
   ],
   "id": "65d4aa3c61f58339",
   "outputs": [],
   "execution_count": 6
  },
  {
   "metadata": {},
   "cell_type": "markdown",
   "source": "## Ekstrakcja 21 punktów prawej dłoni",
   "id": "26392e667fa1889b"
  },
  {
   "metadata": {
    "ExecuteTime": {
     "end_time": "2025-08-18T16:53:00.624466Z",
     "start_time": "2025-08-18T16:53:00.620279Z"
    }
   },
   "cell_type": "code",
   "source": [
    "def extract_hand_landmarks(results):\n",
    "    if results.right_hand_landmarks:\n",
    "        return np.array([[lm.x, lm.y, lm.z] for lm in results.right_hand_landmarks.landmark])\n",
    "    return None"
   ],
   "id": "be21d9fcd966a495",
   "outputs": [],
   "execution_count": 7
  },
  {
   "metadata": {
    "ExecuteTime": {
     "end_time": "2025-08-18T17:25:27.568604Z",
     "start_time": "2025-08-18T17:21:09.370996Z"
    }
   },
   "cell_type": "code",
   "source": [
    "import time\n",
    "from pathlib import Path\n",
    "\n",
    "# --- Parametry ---\n",
    "SEQ_LENGTH = 30\n",
    "THRESHOLD = 0.8\n",
    "COOLDOWN_SECONDS = 1.0\n",
    "VIDEO_PATH = \"video.mp4\"\n",
    "OUTPUT_FOLDER = Path(\"results\")\n",
    "OUTPUT_FOLDER.mkdir(exist_ok=True)\n",
    "\n",
    "# Pętla po modelach\n",
    "\n",
    "# --- Główna pętla testu ---\n",
    "cap = cv2.VideoCapture(VIDEO_PATH)\n",
    "frame_count = 0\n",
    "all_results = {}\n",
    "for model_name, model in models.items():\n",
    "    cap.set(cv2.CAP_PROP_POS_FRAMES, 0)  # restart video\n",
    "    sequence = []\n",
    "    recognized_text = \"\"\n",
    "    last_prediction_time = 0\n",
    "\n",
    "    while cap.isOpened():\n",
    "        ret, frame = cap.read()\n",
    "        if not ret:\n",
    "            break\n",
    "\n",
    "        # Ekstrakcja landmarków\n",
    "        hand_landmarks = extract_hand_landmarks(holistic.process(cv2.cvtColor(frame, cv2.COLOR_BGR2RGB)))\n",
    "\n",
    "        if hand_landmarks is not None:\n",
    "            sequence.append(hand_landmarks)\n",
    "\n",
    "            if len(sequence) == SEQ_LENGTH:\n",
    "                # Normalizacja i predykcja\n",
    "                norm_seq = normalize_sequence(sequence)\n",
    "                input_seq = norm_seq.reshape(1, SEQ_LENGTH, 63)\n",
    "                pred = model.predict(input_seq, verbose=0)[0]\n",
    "\n",
    "                max_prob = np.max(pred)\n",
    "                label = label_names[np.argmax(pred)]\n",
    "\n",
    "                # Sprawdzenie progu i cooldownu\n",
    "                current_time = time.time()\n",
    "                cooldown_remaining = max(0, COOLDOWN_SECONDS - (current_time - last_prediction_time))\n",
    "                if max_prob > THRESHOLD and cooldown_remaining == 0:\n",
    "                    recognized_text += label\n",
    "                    last_prediction_time = current_time\n",
    "\n",
    "                sequence.pop(0)  # przesuwamy okno\n",
    "\n",
    "        else:\n",
    "            sequence = []  # brak ręki → restart sekwencji\n",
    "\n",
    "        # Zapis wyników do pliku tekstowego\n",
    "    with open(f\"results_{model_name}.txt\", \"w\") as f:\n",
    "        f.write(recognized_text)\n",
    "\n",
    "    all_results[model_name] = recognized_text\n",
    "    del model  # zwolnienie pamięci\n",
    "\n",
    "    print(f\"Model {model_name} zakończył. Tekst: {recognized_text}\")\n",
    "    cap.set(cv2.CAP_PROP_POS_FRAMES, 0)  # reset dla kolejnego modelu\n",
    "\n",
    "cap.release()"
   ],
   "id": "2aa17c84d68c7886",
   "outputs": [
    {
     "name": "stdout",
     "output_type": "stream",
     "text": [
      "Model lstm_2025_08_18 zakończył. Tekst: AAAA_AA_AA_AABBBBSZC_CZ_ZCC_CC_CC_CCZCHCHCHCHCHCHDDPE_EE_EPE_EE_EE_EE_EE_EFFFFFTBGGGSZRHHHAJJAJJJRKKDL_LL_LL_LL_LL_LN_NN_NNNNNNNN_NN_NN_NOO_OOO_OO_OO_OPPPPRRRRRRRZSSSSS_SS_SO_OBBSZSZSZUUUUWWWWWYYYYYZ_ZC_CZ_XZ_ZZ_Z\n"
     ]
    }
   ],
   "execution_count": 20
  },
  {
   "metadata": {
    "ExecuteTime": {
     "end_time": "2025-08-18T17:25:35.801717Z",
     "start_time": "2025-08-18T17:25:35.794776Z"
    }
   },
   "cell_type": "code",
   "source": [
    "import glob\n",
    "\n",
    "# Wczytanie wyników z plików\n",
    "all_results = {}\n",
    "for filepath in glob.glob(\"results_*.txt\"):\n",
    "    model_name = filepath.split(\"_\")[1].split(\".\")[0]  # np. \"lstm\" z \"results_lstm.txt\"\n",
    "    with open(filepath, \"r\") as f:\n",
    "        all_results[model_name] = f.read().strip()\n",
    "\n",
    "# Porównanie zgodności modeli\n",
    "model_names = list(all_results.keys())\n",
    "for i in range(len(model_names)):\n",
    "    for j in range(i+1, len(model_names)):\n",
    "        m1, m2 = model_names[i], model_names[j]\n",
    "        seq1, seq2 = all_results[m1], all_results[m2]\n",
    "        min_len = min(len(seq1), len(seq2))\n",
    "        agreement = sum([1 for k in range(min_len) if seq1[k]==seq2[k]]) / min_len\n",
    "        print(f\"Zgodność {m1} vs {m2}: {agreement*100:.2f}%\")\n"
   ],
   "id": "e9f26ef71ff67e56",
   "outputs": [
    {
     "name": "stdout",
     "output_type": "stream",
     "text": [
      "Zgodność cnn vs lstm: 32.86%\n"
     ]
    }
   ],
   "execution_count": 21
  }
 ],
 "metadata": {
  "kernelspec": {
   "display_name": "Python 3",
   "language": "python",
   "name": "python3"
  },
  "language_info": {
   "codemirror_mode": {
    "name": "ipython",
    "version": 2
   },
   "file_extension": ".py",
   "mimetype": "text/x-python",
   "name": "python",
   "nbconvert_exporter": "python",
   "pygments_lexer": "ipython2",
   "version": "2.7.6"
  }
 },
 "nbformat": 4,
 "nbformat_minor": 5
}
