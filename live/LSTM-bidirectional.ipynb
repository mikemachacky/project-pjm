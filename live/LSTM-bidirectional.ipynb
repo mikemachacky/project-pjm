{
 "cells": [
  {
   "metadata": {
    "ExecuteTime": {
     "end_time": "2025-05-20T13:50:02.711010Z",
     "start_time": "2025-05-20T13:48:48.807190Z"
    }
   },
   "cell_type": "code",
   "source": [
    "import cv2\n",
    "import numpy as np\n",
    "import mediapipe as mp\n",
    "import tensorflow as tf\n",
    "from collections import deque\n",
    "\n",
    "# Załaduj model\n",
    "model = tf.keras.models.load_model(\"../model/LSTM-30-frames-small-dataset/model_bilstm.keras\")\n",
    "\n",
    "# Załaduj LabelEncoder (zakładam pickle)\n",
    "import pickle\n",
    "with open(\"../model/LSTM-30-frames-small-dataset/label_encoder.pkl\", \"rb\") as f:\n",
    "    le = pickle.load(f)\n",
    "\n",
    "mp_hands = mp.solutions.hands\n",
    "hands = mp_hands.Hands(static_image_mode=False,\n",
    "                       max_num_hands=1,\n",
    "                       min_detection_confidence=0.5,\n",
    "                       min_tracking_confidence=0.5)\n",
    "mp_drawing = mp.solutions.drawing_utils\n",
    "\n",
    "# Bufor na 30 klatek (kolekcja punktów)\n",
    "sequence_length = 30\n",
    "frame_buffer = deque(maxlen=sequence_length)\n",
    "\n",
    "cap = cv2.VideoCapture(0)\n",
    "\n",
    "def extract_landmarks(results):\n",
    "    if results.multi_hand_landmarks:\n",
    "        landmarks = results.multi_hand_landmarks[0].landmark\n",
    "        return np.array([[lm.x, lm.y, lm.z] for lm in landmarks]).flatten()\n",
    "    else:\n",
    "        return None\n",
    "\n",
    "while True:\n",
    "    ret, frame = cap.read()\n",
    "    if not ret:\n",
    "        break\n",
    "\n",
    "    image = cv2.cvtColor(frame, cv2.COLOR_BGR2RGB)\n",
    "    image.flags.writeable = False\n",
    "    results = hands.process(image)\n",
    "    image.flags.writeable = True\n",
    "    image = cv2.cvtColor(image, cv2.COLOR_RGB2BGR)\n",
    "\n",
    "    landmarks = extract_landmarks(results)\n",
    "    if landmarks is not None:\n",
    "        frame_buffer.append(landmarks)\n",
    "        mp_drawing.draw_landmarks(image, results.multi_hand_landmarks[0], mp_hands.HAND_CONNECTIONS)\n",
    "\n",
    "        # Kiedy jest 30 klatek, robimy predykcję\n",
    "        if len(frame_buffer) == sequence_length:\n",
    "            # Normalizacja względem pierwszej klatki w buforze\n",
    "            first_frame = frame_buffer[0]\n",
    "            normalized_sequence = np.array(frame_buffer) - first_frame\n",
    "\n",
    "            normalized_sequence = normalized_sequence[np.newaxis, ...]  # shape (1,30,63)\n",
    "            pred_probs = model.predict(normalized_sequence)\n",
    "            pred_label = le.inverse_transform([np.argmax(pred_probs)])[0]\n",
    "            confidence = np.max(pred_probs)\n",
    "\n",
    "            text = f\"{pred_label} ({confidence:.2f})\"\n",
    "            cv2.putText(image, text, (10, 30),\n",
    "                        cv2.FONT_HERSHEY_SIMPLEX, 1, (0, 255, 0), 2, cv2.LINE_AA)\n",
    "\n",
    "            cv2.imshow('Hand Gesture Recognition', image)\n",
    "\n",
    "    if cv2.waitKey(1) & 0xFF == ord('x'):\n",
    "        break\n",
    "\n",
    "cap.release()\n",
    "cv2.destroyAllWindows()\n"
   ],
   "id": "30549da4acaaf297",
   "outputs": [
    {
     "name": "stderr",
     "output_type": "stream",
     "text": [
      "I0000 00:00:1747748928.903115  141888 gl_context_egl.cc:85] Successfully initialized EGL. Major : 1 Minor: 5\n",
      "I0000 00:00:1747748928.904864  142005 gl_context.cc:369] GL version: 3.2 (OpenGL ES 3.2 Mesa 25.0.4), renderer: Mesa Intel(R) UHD Graphics 620 (KBL GT2)\n",
      "W0000 00:00:1747748928.931501  141997 inference_feedback_manager.cc:114] Feedback manager requires a model with a single signature inference. Disabling support for feedback tensors.\n",
      "W0000 00:00:1747748928.950853  142002 inference_feedback_manager.cc:114] Feedback manager requires a model with a single signature inference. Disabling support for feedback tensors.\n"
     ]
    },
    {
     "ename": "KeyboardInterrupt",
     "evalue": "",
     "output_type": "error",
     "traceback": [
      "\u001B[31m---------------------------------------------------------------------------\u001B[39m",
      "\u001B[31mKeyboardInterrupt\u001B[39m                         Traceback (most recent call last)",
      "\u001B[36mCell\u001B[39m\u001B[36m \u001B[39m\u001B[32mIn[3]\u001B[39m\u001B[32m, line 42\u001B[39m\n\u001B[32m     40\u001B[39m image = cv2.cvtColor(frame, cv2.COLOR_BGR2RGB)\n\u001B[32m     41\u001B[39m image.flags.writeable = \u001B[38;5;28;01mFalse\u001B[39;00m\n\u001B[32m---> \u001B[39m\u001B[32m42\u001B[39m results = \u001B[43mhands\u001B[49m\u001B[43m.\u001B[49m\u001B[43mprocess\u001B[49m\u001B[43m(\u001B[49m\u001B[43mimage\u001B[49m\u001B[43m)\u001B[49m\n\u001B[32m     43\u001B[39m image.flags.writeable = \u001B[38;5;28;01mTrue\u001B[39;00m\n\u001B[32m     44\u001B[39m image = cv2.cvtColor(image, cv2.COLOR_RGB2BGR)\n",
      "\u001B[36mFile \u001B[39m\u001B[32m~/Documents/Github/project-pjm-tests/.venv/lib64/python3.12/site-packages/mediapipe/python/solutions/hands.py:153\u001B[39m, in \u001B[36mHands.process\u001B[39m\u001B[34m(self, image)\u001B[39m\n\u001B[32m    132\u001B[39m \u001B[38;5;28;01mdef\u001B[39;00m\u001B[38;5;250m \u001B[39m\u001B[34mprocess\u001B[39m(\u001B[38;5;28mself\u001B[39m, image: np.ndarray) -> NamedTuple:\n\u001B[32m    133\u001B[39m \u001B[38;5;250m  \u001B[39m\u001B[33;03m\"\"\"Processes an RGB image and returns the hand landmarks and handedness of each detected hand.\u001B[39;00m\n\u001B[32m    134\u001B[39m \n\u001B[32m    135\u001B[39m \u001B[33;03m  Args:\u001B[39;00m\n\u001B[32m   (...)\u001B[39m\u001B[32m    150\u001B[39m \u001B[33;03m         right hand) of the detected hand.\u001B[39;00m\n\u001B[32m    151\u001B[39m \u001B[33;03m  \"\"\"\u001B[39;00m\n\u001B[32m--> \u001B[39m\u001B[32m153\u001B[39m   \u001B[38;5;28;01mreturn\u001B[39;00m \u001B[38;5;28;43msuper\u001B[39;49m\u001B[43m(\u001B[49m\u001B[43m)\u001B[49m\u001B[43m.\u001B[49m\u001B[43mprocess\u001B[49m\u001B[43m(\u001B[49m\u001B[43minput_data\u001B[49m\u001B[43m=\u001B[49m\u001B[43m{\u001B[49m\u001B[33;43m'\u001B[39;49m\u001B[33;43mimage\u001B[39;49m\u001B[33;43m'\u001B[39;49m\u001B[43m:\u001B[49m\u001B[43m \u001B[49m\u001B[43mimage\u001B[49m\u001B[43m}\u001B[49m\u001B[43m)\u001B[49m\n",
      "\u001B[36mFile \u001B[39m\u001B[32m~/Documents/Github/project-pjm-tests/.venv/lib64/python3.12/site-packages/mediapipe/python/solution_base.py:340\u001B[39m, in \u001B[36mSolutionBase.process\u001B[39m\u001B[34m(self, input_data)\u001B[39m\n\u001B[32m    334\u001B[39m   \u001B[38;5;28;01melse\u001B[39;00m:\n\u001B[32m    335\u001B[39m     \u001B[38;5;28mself\u001B[39m._graph.add_packet_to_input_stream(\n\u001B[32m    336\u001B[39m         stream=stream_name,\n\u001B[32m    337\u001B[39m         packet=\u001B[38;5;28mself\u001B[39m._make_packet(input_stream_type,\n\u001B[32m    338\u001B[39m                                  data).at(\u001B[38;5;28mself\u001B[39m._simulated_timestamp))\n\u001B[32m--> \u001B[39m\u001B[32m340\u001B[39m \u001B[38;5;28;43mself\u001B[39;49m\u001B[43m.\u001B[49m\u001B[43m_graph\u001B[49m\u001B[43m.\u001B[49m\u001B[43mwait_until_idle\u001B[49m\u001B[43m(\u001B[49m\u001B[43m)\u001B[49m\n\u001B[32m    341\u001B[39m \u001B[38;5;66;03m# Create a NamedTuple object where the field names are mapping to the graph\u001B[39;00m\n\u001B[32m    342\u001B[39m \u001B[38;5;66;03m# output stream names.\u001B[39;00m\n\u001B[32m    343\u001B[39m \u001B[38;5;28;01mif\u001B[39;00m \u001B[38;5;28mself\u001B[39m._output_stream_type_info \u001B[38;5;129;01mis\u001B[39;00m \u001B[38;5;28;01mNone\u001B[39;00m:\n",
      "\u001B[31mKeyboardInterrupt\u001B[39m: "
     ]
    }
   ],
   "execution_count": 3
  }
 ],
 "metadata": {
  "kernelspec": {
   "display_name": "Python 3",
   "language": "python",
   "name": "python3"
  },
  "language_info": {
   "codemirror_mode": {
    "name": "ipython",
    "version": 2
   },
   "file_extension": ".py",
   "mimetype": "text/x-python",
   "name": "python",
   "nbconvert_exporter": "python",
   "pygments_lexer": "ipython2",
   "version": "2.7.6"
  }
 },
 "nbformat": 4,
 "nbformat_minor": 5
}
