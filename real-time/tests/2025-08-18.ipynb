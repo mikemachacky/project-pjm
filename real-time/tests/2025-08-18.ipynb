{
 "cells": [
  {
   "metadata": {
    "ExecuteTime": {
     "end_time": "2025-08-19T13:01:07.127748Z",
     "start_time": "2025-08-19T13:01:03.528307Z"
    }
   },
   "cell_type": "code",
   "source": [
    "import tensorflow as tf\n",
    "print(tf.config.list_physical_devices('GPU'))\n"
   ],
   "id": "8e09ef527b9ac147",
   "outputs": [
    {
     "name": "stderr",
     "output_type": "stream",
     "text": [
      "2025-08-19 15:01:03.821319: E external/local_xla/xla/stream_executor/cuda/cuda_fft.cc:467] Unable to register cuFFT factory: Attempting to register factory for plugin cuFFT when one has already been registered\n",
      "WARNING: All log messages before absl::InitializeLog() is called are written to STDERR\n",
      "E0000 00:00:1755608463.843521   14425 cuda_dnn.cc:8579] Unable to register cuDNN factory: Attempting to register factory for plugin cuDNN when one has already been registered\n",
      "E0000 00:00:1755608463.850853   14425 cuda_blas.cc:1407] Unable to register cuBLAS factory: Attempting to register factory for plugin cuBLAS when one has already been registered\n",
      "W0000 00:00:1755608463.865919   14425 computation_placer.cc:177] computation placer already registered. Please check linkage and avoid linking the same target more than once.\n",
      "W0000 00:00:1755608463.865939   14425 computation_placer.cc:177] computation placer already registered. Please check linkage and avoid linking the same target more than once.\n",
      "W0000 00:00:1755608463.865941   14425 computation_placer.cc:177] computation placer already registered. Please check linkage and avoid linking the same target more than once.\n",
      "W0000 00:00:1755608463.865942   14425 computation_placer.cc:177] computation placer already registered. Please check linkage and avoid linking the same target more than once.\n",
      "2025-08-19 15:01:03.870435: I tensorflow/core/platform/cpu_feature_guard.cc:210] This TensorFlow binary is optimized to use available CPU instructions in performance-critical operations.\n",
      "To enable the following instructions: AVX2 FMA, in other operations, rebuild TensorFlow with the appropriate compiler flags.\n"
     ]
    },
    {
     "name": "stdout",
     "output_type": "stream",
     "text": [
      "[PhysicalDevice(name='/physical_device:GPU:0', device_type='GPU')]\n"
     ]
    }
   ],
   "execution_count": 2
  },
  {
   "metadata": {},
   "cell_type": "markdown",
   "source": "## Importy",
   "id": "6598252d06de21d0"
  },
  {
   "metadata": {
    "ExecuteTime": {
     "end_time": "2025-08-19T13:01:07.401027Z",
     "start_time": "2025-08-19T13:01:07.224401Z"
    }
   },
   "cell_type": "code",
   "source": [
    "import cv2\n",
    "import mediapipe as mp\n",
    "import numpy as np\n",
    "from tensorflow.keras.models import load_model\n"
   ],
   "id": "72b7700fc3691d5c",
   "outputs": [],
   "execution_count": 3
  },
  {
   "metadata": {},
   "cell_type": "markdown",
   "source": "## Wczytanie modelu",
   "id": "17a9e11086f145fd"
  },
  {
   "metadata": {
    "ExecuteTime": {
     "end_time": "2025-08-19T13:01:09.497891Z",
     "start_time": "2025-08-19T13:01:08.332636Z"
    }
   },
   "cell_type": "code",
   "source": "model = load_model('../../model/2025-08-18/lstm.keras')",
   "id": "fec19ea690af8724",
   "outputs": [
    {
     "name": "stderr",
     "output_type": "stream",
     "text": [
      "I0000 00:00:1755608468.424181   14425 gpu_device.cc:2019] Created device /job:localhost/replica:0/task:0/device:GPU:0 with 1733 MB memory:  -> device: 0, name: NVIDIA GeForce MX150, pci bus id: 0000:01:00.0, compute capability: 6.1\n"
     ]
    }
   ],
   "execution_count": 4
  },
  {
   "metadata": {},
   "cell_type": "markdown",
   "source": "## Wczytanie etykiet z pliku tekstowego\n",
   "id": "86a8855a841c80f0"
  },
  {
   "metadata": {
    "ExecuteTime": {
     "end_time": "2025-08-19T13:01:10.218506Z",
     "start_time": "2025-08-19T13:01:10.215315Z"
    }
   },
   "cell_type": "code",
   "source": [
    "with open('../../model/2025-07-14/labels.txt', 'r') as f:\n",
    "    label_names = [line.strip() for line in f.readlines()]"
   ],
   "id": "d13bbfa5056a8d0a",
   "outputs": [],
   "execution_count": 5
  },
  {
   "metadata": {},
   "cell_type": "markdown",
   "source": "## MediaPipe inicjalizacja",
   "id": "33e09777cc32ae98"
  },
  {
   "metadata": {
    "ExecuteTime": {
     "end_time": "2025-08-19T13:01:11.936638Z",
     "start_time": "2025-08-19T13:01:11.888782Z"
    }
   },
   "cell_type": "code",
   "source": [
    "mp_hands = mp.solutions.hands\n",
    "mp_drawing = mp.solutions.drawing_utils\n",
    "hands = mp_hands.Hands(static_image_mode=False, max_num_hands=1, min_detection_confidence=0.7)"
   ],
   "id": "e540bfea0d7eabb1",
   "outputs": [
    {
     "name": "stderr",
     "output_type": "stream",
     "text": [
      "INFO: Created TensorFlow Lite XNNPACK delegate for CPU.\n",
      "WARNING: All log messages before absl::InitializeLog() is called are written to STDERR\n",
      "W0000 00:00:1755608471.974249   14544 inference_feedback_manager.cc:114] Feedback manager requires a model with a single signature inference. Disabling support for feedback tensors.\n",
      "W0000 00:00:1755608471.997067   14544 inference_feedback_manager.cc:114] Feedback manager requires a model with a single signature inference. Disabling support for feedback tensors.\n"
     ]
    }
   ],
   "execution_count": 6
  },
  {
   "metadata": {},
   "cell_type": "markdown",
   "source": "# Bufor sekwencji",
   "id": "a5232eed645cd7a1"
  },
  {
   "metadata": {
    "ExecuteTime": {
     "end_time": "2025-08-19T13:01:13.997167Z",
     "start_time": "2025-08-19T13:01:13.993872Z"
    }
   },
   "cell_type": "code",
   "source": [
    "sequence = []\n",
    "SEQ_LENGTH = 30\n",
    "THRESHOLD = 0.8"
   ],
   "id": "6baf20ed1c10eb37",
   "outputs": [],
   "execution_count": 7
  },
  {
   "metadata": {},
   "cell_type": "markdown",
   "source": "## Normalizacja względem nadgarstka pierwszej klatki",
   "id": "b2ca091c9626a0f1"
  },
  {
   "metadata": {
    "ExecuteTime": {
     "end_time": "2025-08-19T13:01:15.907618Z",
     "start_time": "2025-08-19T13:01:15.903749Z"
    }
   },
   "cell_type": "code",
   "source": [
    "def normalize_sequence(sequence_array):\n",
    "    sequence_array = np.array(sequence_array)\n",
    "    origin = sequence_array[0][0]  # Nadgarstek 1. klatki\n",
    "    return sequence_array - origin"
   ],
   "id": "65d4aa3c61f58339",
   "outputs": [],
   "execution_count": 8
  },
  {
   "metadata": {},
   "cell_type": "markdown",
   "source": "## Ekstrakcja 21 punktów prawej dłoni",
   "id": "26392e667fa1889b"
  },
  {
   "metadata": {
    "ExecuteTime": {
     "end_time": "2025-08-19T13:02:33.229684Z",
     "start_time": "2025-08-19T13:02:33.225187Z"
    }
   },
   "cell_type": "code",
   "source": [
    "def extract_hand_landmarks(hand_landmarks):\n",
    "    if hand_landmarks:\n",
    "        return np.array([[lm.x, lm.y, lm.z] for lm in hand_landmarks.landmark])\n",
    "    return None\n"
   ],
   "id": "be21d9fcd966a495",
   "outputs": [],
   "execution_count": 1
  },
  {
   "metadata": {},
   "cell_type": "markdown",
   "source": "# Kamera na żywo",
   "id": "a6d295b3f922f63d"
  },
  {
   "metadata": {
    "ExecuteTime": {
     "end_time": "2025-08-19T14:26:36.395665Z",
     "start_time": "2025-08-19T14:26:36.352025Z"
    }
   },
   "cell_type": "code",
   "source": [
    "# Kamera\n",
    "cap = cv2.VideoCapture(0)\n",
    "\n",
    "while cap.isOpened():\n",
    "    ret, frame = cap.read()\n",
    "    if not ret:\n",
    "        break\n",
    "\n",
    "    image_rgb = cv2.cvtColor(frame, cv2.COLOR_BGR2RGB)\n",
    "    results = hands.process(image_rgb)\n",
    "\n",
    "    if results.multi_hand_landmarks:\n",
    "        for hand_landmarks in results.multi_hand_landmarks:\n",
    "            # Rysowanie dłoni\n",
    "            mp_drawing.draw_landmarks(frame,\n",
    "                                      hand_landmarks,\n",
    "                                      mp_hands.HAND_CONNECTIONS)\n",
    "\n",
    "            # Ekstrakcja landmarków (musisz mieć własną funkcję extract_hand_landmarks dostosowaną do mp_hands)\n",
    "            landmarks = extract_hand_landmarks(hand_landmarks)\n",
    "\n",
    "            if landmarks is not None:\n",
    "                sequence.append(landmarks)\n",
    "\n",
    "                if len(sequence) == SEQ_LENGTH:\n",
    "                    norm_seq = normalize_sequence(sequence)\n",
    "                    input_seq = norm_seq.reshape(1, SEQ_LENGTH, 63)\n",
    "\n",
    "                    pred = model.predict(input_seq)[0]\n",
    "                    max_prob = np.max(pred)\n",
    "                    label = label_names[np.argmax(pred)]\n",
    "\n",
    "                    if max_prob > THRESHOLD:\n",
    "                        cv2.putText(frame, f'{label} ({max_prob:.2f})', (10, 40),\n",
    "                                    cv2.FONT_HERSHEY_SIMPLEX, 1, (0, 255, 0), 2)\n",
    "\n",
    "                    sequence.pop(0)\n",
    "    else:\n",
    "        sequence = []\n",
    "\n",
    "    cv2.imshow('Real-Time Sign Recognition', frame)\n",
    "    if cv2.waitKey(1) & 0xFF == ord('q'):\n",
    "        break\n",
    "\n",
    "cap.release()\n",
    "cv2.destroyAllWindows()"
   ],
   "id": "2441278a1146d187",
   "outputs": [
    {
     "ename": "NameError",
     "evalue": "name 'cv2' is not defined",
     "output_type": "error",
     "traceback": [
      "\u001B[31m---------------------------------------------------------------------------\u001B[39m",
      "\u001B[31mNameError\u001B[39m                                 Traceback (most recent call last)",
      "\u001B[36mCell\u001B[39m\u001B[36m \u001B[39m\u001B[32mIn[2]\u001B[39m\u001B[32m, line 2\u001B[39m\n\u001B[32m      1\u001B[39m \u001B[38;5;66;03m# Kamera\u001B[39;00m\n\u001B[32m----> \u001B[39m\u001B[32m2\u001B[39m cap = \u001B[43mcv2\u001B[49m.VideoCapture(\u001B[32m0\u001B[39m)\n\u001B[32m      4\u001B[39m \u001B[38;5;28;01mwhile\u001B[39;00m cap.isOpened():\n\u001B[32m      5\u001B[39m     ret, frame = cap.read()\n",
      "\u001B[31mNameError\u001B[39m: name 'cv2' is not defined"
     ]
    }
   ],
   "execution_count": 2
  },
  {
   "metadata": {},
   "cell_type": "markdown",
   "source": "# Kamera na żywo z cooldown'em",
   "id": "fbda4ea720ecb1ca"
  },
  {
   "metadata": {},
   "cell_type": "markdown",
   "source": "## Parametry",
   "id": "73579d17a960e44c"
  },
  {
   "metadata": {
    "ExecuteTime": {
     "end_time": "2025-08-19T13:03:36.636131Z",
     "start_time": "2025-08-19T13:03:36.631652Z"
    }
   },
   "cell_type": "code",
   "source": [
    "sequence = []\n",
    "recognized_text = \"\"\n",
    "last_prediction_time = 0\n",
    "cooldown_seconds = 3\n",
    "SEQ_LENGTH = 30\n",
    "THRESHOLD = 0.9"
   ],
   "id": "1b69525e9db7704d",
   "outputs": [],
   "execution_count": 1
  },
  {
   "cell_type": "code",
   "id": "initial_id",
   "metadata": {
    "collapsed": true,
    "ExecuteTime": {
     "end_time": "2025-08-19T13:03:45.333075Z",
     "start_time": "2025-08-19T13:03:39.855738Z"
    }
   },
   "source": [
    "import cv2\n",
    "import mediapipe as mp\n",
    "import numpy as np\n",
    "\n",
    "# Inicjalizacja MediaPipe Hands\n",
    "mp_hands = mp.solutions.hands\n",
    "mp_drawing = mp.solutions.drawing_utils\n",
    "hands = mp_hands.Hands(static_image_mode=False,\n",
    "                       max_num_hands=1,\n",
    "                       min_detection_confidence=0.7)\n",
    "\n",
    "# Kamera\n",
    "cap = cv2.VideoCapture(0)\n",
    "\n",
    "while cap.isOpened():\n",
    "    ret, frame = cap.read()\n",
    "    if not ret:\n",
    "        break\n",
    "\n",
    "    image_rgb = cv2.cvtColor(frame, cv2.COLOR_BGR2RGB)\n",
    "    results = hands.process(image_rgb)\n",
    "\n",
    "    if results.multi_hand_landmarks:\n",
    "        for hand_landmarks in results.multi_hand_landmarks:\n",
    "            # Rysowanie dłoni\n",
    "            mp_drawing.draw_landmarks(frame,\n",
    "                                      hand_landmarks,\n",
    "                                      mp_hands.HAND_CONNECTIONS)\n",
    "\n",
    "            # Ekstrakcja landmarków (musisz mieć własną funkcję extract_hand_landmarks dostosowaną do mp_hands)\n",
    "            landmarks = extract_hand_landmarks(hand_landmarks)\n",
    "\n",
    "            if landmarks is not None:\n",
    "                sequence.append(landmarks)\n",
    "\n",
    "                if len(sequence) == SEQ_LENGTH:\n",
    "                    norm_seq = normalize_sequence(sequence)\n",
    "                    input_seq = norm_seq.reshape(1, SEQ_LENGTH, 63)\n",
    "\n",
    "                    pred = model.predict(input_seq)[0]\n",
    "                    max_prob = np.max(pred)\n",
    "                    label = label_names[np.argmax(pred)]\n",
    "\n",
    "                    if max_prob > THRESHOLD:\n",
    "                        cv2.putText(frame, f'{label} ({max_prob:.2f})', (10, 40),\n",
    "                                    cv2.FONT_HERSHEY_SIMPLEX, 1, (0, 255, 0), 2)\n",
    "\n",
    "                    sequence.pop(0)\n",
    "    else:\n",
    "        sequence = []\n",
    "\n",
    "    cv2.imshow('Real-Time Sign Recognition', frame)\n",
    "    if cv2.waitKey(1) & 0xFF == ord('q'):\n",
    "        break\n",
    "\n",
    "cap.release()\n",
    "cv2.destroyAllWindows()\n"
   ],
   "outputs": [
    {
     "name": "stderr",
     "output_type": "stream",
     "text": [
      "2025-08-19 15:03:40.683790: E external/local_xla/xla/stream_executor/cuda/cuda_fft.cc:467] Unable to register cuFFT factory: Attempting to register factory for plugin cuFFT when one has already been registered\n",
      "WARNING: All log messages before absl::InitializeLog() is called are written to STDERR\n",
      "E0000 00:00:1755608620.699163   14665 cuda_dnn.cc:8579] Unable to register cuDNN factory: Attempting to register factory for plugin cuDNN when one has already been registered\n",
      "E0000 00:00:1755608620.703522   14665 cuda_blas.cc:1407] Unable to register cuBLAS factory: Attempting to register factory for plugin cuBLAS when one has already been registered\n",
      "W0000 00:00:1755608620.715270   14665 computation_placer.cc:177] computation placer already registered. Please check linkage and avoid linking the same target more than once.\n",
      "W0000 00:00:1755608620.715292   14665 computation_placer.cc:177] computation placer already registered. Please check linkage and avoid linking the same target more than once.\n",
      "W0000 00:00:1755608620.715293   14665 computation_placer.cc:177] computation placer already registered. Please check linkage and avoid linking the same target more than once.\n",
      "W0000 00:00:1755608620.715295   14665 computation_placer.cc:177] computation placer already registered. Please check linkage and avoid linking the same target more than once.\n",
      "2025-08-19 15:03:40.719087: I tensorflow/core/platform/cpu_feature_guard.cc:210] This TensorFlow binary is optimized to use available CPU instructions in performance-critical operations.\n",
      "To enable the following instructions: AVX2 FMA, in other operations, rebuild TensorFlow with the appropriate compiler flags.\n",
      "INFO: Created TensorFlow Lite XNNPACK delegate for CPU.\n",
      "WARNING: All log messages before absl::InitializeLog() is called are written to STDERR\n",
      "W0000 00:00:1755608623.326072   14716 inference_feedback_manager.cc:114] Feedback manager requires a model with a single signature inference. Disabling support for feedback tensors.\n",
      "W0000 00:00:1755608623.344391   14716 inference_feedback_manager.cc:114] Feedback manager requires a model with a single signature inference. Disabling support for feedback tensors.\n",
      "Warning: Ignoring XDG_SESSION_TYPE=wayland on Gnome. Use QT_QPA_PLATFORM=wayland to run on Wayland anyway.\n",
      "W0000 00:00:1755608624.859231   14723 landmark_projection_calculator.cc:186] Using NORM_RECT without IMAGE_DIMENSIONS is only supported for the square ROI. Provide IMAGE_DIMENSIONS or use PROJECTION_MATRIX.\n"
     ]
    },
    {
     "ename": "NameError",
     "evalue": "name 'extract_hand_landmarks' is not defined",
     "output_type": "error",
     "traceback": [
      "\u001B[31m---------------------------------------------------------------------------\u001B[39m",
      "\u001B[31mNameError\u001B[39m                                 Traceback (most recent call last)",
      "\u001B[36mCell\u001B[39m\u001B[36m \u001B[39m\u001B[32mIn[2]\u001B[39m\u001B[32m, line 31\u001B[39m\n\u001B[32m     26\u001B[39m mp_drawing.draw_landmarks(frame,\n\u001B[32m     27\u001B[39m                           hand_landmarks,\n\u001B[32m     28\u001B[39m                           mp_hands.HAND_CONNECTIONS)\n\u001B[32m     30\u001B[39m \u001B[38;5;66;03m# Ekstrakcja landmarków (musisz mieć własną funkcję extract_hand_landmarks dostosowaną do mp_hands)\u001B[39;00m\n\u001B[32m---> \u001B[39m\u001B[32m31\u001B[39m landmarks = \u001B[43mextract_hand_landmarks\u001B[49m(hand_landmarks)\n\u001B[32m     33\u001B[39m \u001B[38;5;28;01mif\u001B[39;00m landmarks \u001B[38;5;129;01mis\u001B[39;00m \u001B[38;5;129;01mnot\u001B[39;00m \u001B[38;5;28;01mNone\u001B[39;00m:\n\u001B[32m     34\u001B[39m     sequence.append(landmarks)\n",
      "\u001B[31mNameError\u001B[39m: name 'extract_hand_landmarks' is not defined"
     ]
    }
   ],
   "execution_count": 2
  },
  {
   "metadata": {},
   "cell_type": "code",
   "outputs": [],
   "execution_count": null,
   "source": "",
   "id": "6979d2a7bb8802c1"
  }
 ],
 "metadata": {
  "kernelspec": {
   "display_name": "Python 3",
   "language": "python",
   "name": "python3"
  },
  "language_info": {
   "codemirror_mode": {
    "name": "ipython",
    "version": 2
   },
   "file_extension": ".py",
   "mimetype": "text/x-python",
   "name": "python",
   "nbconvert_exporter": "python",
   "pygments_lexer": "ipython2",
   "version": "2.7.6"
  }
 },
 "nbformat": 4,
 "nbformat_minor": 5
}
