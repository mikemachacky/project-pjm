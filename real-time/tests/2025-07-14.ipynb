{
 "cells": [
  {
   "metadata": {
    "ExecuteTime": {
     "end_time": "2025-10-12T17:56:47.463393Z",
     "start_time": "2025-10-12T17:56:42.986797Z"
    }
   },
   "cell_type": "code",
   "source": [
    "import tensorflow as tf\n",
    "print(tf.config.list_physical_devices('GPU'))\n"
   ],
   "id": "8e09ef527b9ac147",
   "outputs": [
    {
     "name": "stderr",
     "output_type": "stream",
     "text": [
      "2025-10-12 19:56:43.318086: E external/local_xla/xla/stream_executor/cuda/cuda_fft.cc:467] Unable to register cuFFT factory: Attempting to register factory for plugin cuFFT when one has already been registered\n",
      "WARNING: All log messages before absl::InitializeLog() is called are written to STDERR\n",
      "E0000 00:00:1760291803.345552   25729 cuda_dnn.cc:8579] Unable to register cuDNN factory: Attempting to register factory for plugin cuDNN when one has already been registered\n",
      "E0000 00:00:1760291803.355766   25729 cuda_blas.cc:1407] Unable to register cuBLAS factory: Attempting to register factory for plugin cuBLAS when one has already been registered\n",
      "W0000 00:00:1760291803.378039   25729 computation_placer.cc:177] computation placer already registered. Please check linkage and avoid linking the same target more than once.\n",
      "W0000 00:00:1760291803.378065   25729 computation_placer.cc:177] computation placer already registered. Please check linkage and avoid linking the same target more than once.\n",
      "W0000 00:00:1760291803.378068   25729 computation_placer.cc:177] computation placer already registered. Please check linkage and avoid linking the same target more than once.\n",
      "W0000 00:00:1760291803.378071   25729 computation_placer.cc:177] computation placer already registered. Please check linkage and avoid linking the same target more than once.\n",
      "2025-10-12 19:56:43.384900: I tensorflow/core/platform/cpu_feature_guard.cc:210] This TensorFlow binary is optimized to use available CPU instructions in performance-critical operations.\n",
      "To enable the following instructions: AVX2 FMA, in other operations, rebuild TensorFlow with the appropriate compiler flags.\n"
     ]
    },
    {
     "name": "stdout",
     "output_type": "stream",
     "text": [
      "[PhysicalDevice(name='/physical_device:GPU:0', device_type='GPU')]\n"
     ]
    }
   ],
   "execution_count": 1
  },
  {
   "metadata": {},
   "cell_type": "markdown",
   "source": "## Importy",
   "id": "6598252d06de21d0"
  },
  {
   "metadata": {
    "ExecuteTime": {
     "end_time": "2025-10-12T17:56:48.055476Z",
     "start_time": "2025-10-12T17:56:47.655918Z"
    }
   },
   "cell_type": "code",
   "source": [
    "import gc\n",
    "tf.keras.backend.clear_session()\n",
    "gc.collect()"
   ],
   "id": "5de6f7b718fa5d1f",
   "outputs": [
    {
     "data": {
      "text/plain": [
       "0"
      ]
     },
     "execution_count": 2,
     "metadata": {},
     "output_type": "execute_result"
    }
   ],
   "execution_count": 2
  },
  {
   "metadata": {
    "ExecuteTime": {
     "end_time": "2025-10-12T17:56:49.593651Z",
     "start_time": "2025-10-12T17:56:49.352951Z"
    }
   },
   "cell_type": "code",
   "source": [
    "import cv2\n",
    "import mediapipe as mp\n",
    "import numpy as np\n",
    "from tensorflow.keras.models import load_model\n",
    "from keras import backend as K\n",
    "\n"
   ],
   "id": "72b7700fc3691d5c",
   "outputs": [],
   "execution_count": 3
  },
  {
   "metadata": {},
   "cell_type": "markdown",
   "source": "## Wczytanie modelu",
   "id": "17a9e11086f145fd"
  },
  {
   "metadata": {
    "ExecuteTime": {
     "end_time": "2025-10-12T19:12:35.277952Z",
     "start_time": "2025-10-12T19:12:33.844941Z"
    }
   },
   "cell_type": "code",
   "source": "model = load_model('../../model/2025-10-12-19:35:37/cnn1d_model.keras')",
   "id": "fec19ea690af8724",
   "outputs": [],
   "execution_count": 16
  },
  {
   "metadata": {},
   "cell_type": "markdown",
   "source": "## Wczytanie etykiet z pliku tekstowego\n",
   "id": "86a8855a841c80f0"
  },
  {
   "metadata": {
    "ExecuteTime": {
     "end_time": "2025-10-12T17:56:53.787027Z",
     "start_time": "2025-10-12T17:56:53.782690Z"
    }
   },
   "cell_type": "code",
   "source": [
    "with open('../../model/2025-10-12-19:35:37/labels.txt', 'r') as f:\n",
    "    label_names = [line.strip() for line in f.readlines()]"
   ],
   "id": "d13bbfa5056a8d0a",
   "outputs": [],
   "execution_count": 5
  },
  {
   "metadata": {},
   "cell_type": "markdown",
   "source": "## MediaPipe inicjalizacja",
   "id": "33e09777cc32ae98"
  },
  {
   "metadata": {
    "ExecuteTime": {
     "end_time": "2025-10-12T17:56:55.267383Z",
     "start_time": "2025-10-12T17:56:55.187920Z"
    }
   },
   "cell_type": "code",
   "source": [
    "mp_holistic = mp.solutions.holistic\n",
    "holistic = mp_holistic.Holistic(static_image_mode=False, model_complexity=1)\n",
    "mp_drawing = mp.solutions.drawing_utils"
   ],
   "id": "e540bfea0d7eabb1",
   "outputs": [
    {
     "name": "stderr",
     "output_type": "stream",
     "text": [
      "INFO: Created TensorFlow Lite XNNPACK delegate for CPU.\n",
      "WARNING: All log messages before absl::InitializeLog() is called are written to STDERR\n",
      "W0000 00:00:1760291815.398631   25837 inference_feedback_manager.cc:114] Feedback manager requires a model with a single signature inference. Disabling support for feedback tensors.\n",
      "W0000 00:00:1760291815.452320   25837 inference_feedback_manager.cc:114] Feedback manager requires a model with a single signature inference. Disabling support for feedback tensors.\n",
      "W0000 00:00:1760291815.457596   25840 inference_feedback_manager.cc:114] Feedback manager requires a model with a single signature inference. Disabling support for feedback tensors.\n",
      "W0000 00:00:1760291815.461029   25836 inference_feedback_manager.cc:114] Feedback manager requires a model with a single signature inference. Disabling support for feedback tensors.\n",
      "W0000 00:00:1760291815.461214   25842 inference_feedback_manager.cc:114] Feedback manager requires a model with a single signature inference. Disabling support for feedback tensors.\n",
      "W0000 00:00:1760291815.479848   25842 inference_feedback_manager.cc:114] Feedback manager requires a model with a single signature inference. Disabling support for feedback tensors.\n",
      "W0000 00:00:1760291815.481424   25840 inference_feedback_manager.cc:114] Feedback manager requires a model with a single signature inference. Disabling support for feedback tensors.\n",
      "W0000 00:00:1760291815.491082   25836 inference_feedback_manager.cc:114] Feedback manager requires a model with a single signature inference. Disabling support for feedback tensors.\n"
     ]
    }
   ],
   "execution_count": 6
  },
  {
   "metadata": {},
   "cell_type": "markdown",
   "source": "# Bufor sekwencji",
   "id": "a5232eed645cd7a1"
  },
  {
   "metadata": {
    "ExecuteTime": {
     "end_time": "2025-10-12T17:56:57.346401Z",
     "start_time": "2025-10-12T17:56:57.343299Z"
    }
   },
   "cell_type": "code",
   "source": [
    "sequence = []\n",
    "SEQ_LENGTH = 30\n",
    "THRESHOLD = 0.8"
   ],
   "id": "6baf20ed1c10eb37",
   "outputs": [],
   "execution_count": 7
  },
  {
   "metadata": {},
   "cell_type": "markdown",
   "source": "## Normalizacja względem nadgarstka pierwszej klatki",
   "id": "b2ca091c9626a0f1"
  },
  {
   "metadata": {
    "ExecuteTime": {
     "end_time": "2025-10-12T17:56:59.563635Z",
     "start_time": "2025-10-12T17:56:59.557364Z"
    }
   },
   "cell_type": "code",
   "source": [
    "def normalize_sequence(sequence_array):\n",
    "    sequence_array = np.array(sequence_array)\n",
    "    origin = sequence_array[0][0]  # Nadgarstek 1. klatki\n",
    "    return sequence_array - origin"
   ],
   "id": "65d4aa3c61f58339",
   "outputs": [],
   "execution_count": 8
  },
  {
   "metadata": {},
   "cell_type": "markdown",
   "source": "## Ekstrakcja 21 punktów prawej dłoni",
   "id": "26392e667fa1889b"
  },
  {
   "metadata": {
    "ExecuteTime": {
     "end_time": "2025-10-12T17:57:00.892284Z",
     "start_time": "2025-10-12T17:57:00.884442Z"
    }
   },
   "cell_type": "code",
   "source": [
    "def extract_hand_landmarks(results):\n",
    "    if results.right_hand_landmarks:\n",
    "        return np.array([[lm.x, lm.y, lm.z] for lm in results.right_hand_landmarks.landmark])\n",
    "    return None"
   ],
   "id": "be21d9fcd966a495",
   "outputs": [],
   "execution_count": 9
  },
  {
   "metadata": {},
   "cell_type": "markdown",
   "source": "# Kamera na żywo",
   "id": "a6d295b3f922f63d"
  },
  {
   "metadata": {
    "ExecuteTime": {
     "end_time": "2025-10-12T17:57:02.477813Z",
     "start_time": "2025-10-12T17:57:02.465381Z"
    }
   },
   "cell_type": "code",
   "source": [
    "# Kamera\n",
    "cap = cv2.VideoCapture(0)\n",
    "\n",
    "while cap.isOpened():\n",
    "    ret, frame = cap.read()\n",
    "    if not ret:\n",
    "        break\n",
    "\n",
    "    image_rgb = cv2.cvtColor(frame, cv2.COLOR_BGR2RGB)\n",
    "    results = holistic.process(image_rgb)\n",
    "\n",
    "    # Rysowanie dłoni\n",
    "    mp_drawing.draw_landmarks(frame, results.right_hand_landmarks, mp_holistic.HAND_CONNECTIONS)\n",
    "\n",
    "    hand_landmarks = extract_hand_landmarks(results)\n",
    "\n",
    "    if hand_landmarks is not None:\n",
    "        sequence.append(hand_landmarks)\n",
    "\n",
    "        if len(sequence) == SEQ_LENGTH:\n",
    "            norm_seq = normalize_sequence(sequence)\n",
    "            input_seq = norm_seq.reshape(1, SEQ_LENGTH, 63)\n",
    "\n",
    "            pred = model.predict(input_seq)[0]\n",
    "            max_prob = np.max(pred)\n",
    "            label = label_names[np.argmax(pred)]\n",
    "\n",
    "            if max_prob > THRESHOLD:\n",
    "                cv2.putText(frame, f'{label} ({max_prob:.2f})', (10, 40),\n",
    "                            cv2.FONT_HERSHEY_SIMPLEX, 1, (0, 255, 0), 2)\n",
    "\n",
    "            sequence.pop(0)\n",
    "\n",
    "    else:\n",
    "        sequence = []\n",
    "\n",
    "    cv2.imshow('Real-Time Sign Recognition', frame)\n",
    "    if cv2.waitKey(1) & 0xFF == ord('q'):\n",
    "        break\n",
    "\n",
    "cap.release()\n",
    "cv2.destroyAllWindows()\n"
   ],
   "id": "2441278a1146d187",
   "outputs": [
    {
     "name": "stderr",
     "output_type": "stream",
     "text": [
      "[ WARN:0@16.258] global cap_v4l.cpp:913 open VIDEOIO(V4L2:/dev/video0): can't open camera by index\n",
      "[ERROR:0@16.259] global obsensor_uvc_stream_channel.cpp:158 getStreamChannelGroup Camera index out of range\n"
     ]
    }
   ],
   "execution_count": 10
  },
  {
   "metadata": {},
   "cell_type": "markdown",
   "source": "# Kamera na żywo z cooldown'em",
   "id": "fbda4ea720ecb1ca"
  },
  {
   "metadata": {},
   "cell_type": "markdown",
   "source": "## Parametry",
   "id": "73579d17a960e44c"
  },
  {
   "metadata": {
    "ExecuteTime": {
     "end_time": "2025-10-12T19:12:57.777811Z",
     "start_time": "2025-10-12T19:12:57.761130Z"
    }
   },
   "cell_type": "code",
   "source": [
    "sequence = []\n",
    "recognized_text = \"\"\n",
    "last_prediction_time = 0\n",
    "cooldown_seconds = 1.5\n",
    "SEQ_LENGTH = 30\n",
    "THRESHOLD = 0.7"
   ],
   "id": "1b69525e9db7704d",
   "outputs": [],
   "execution_count": 17
  },
  {
   "cell_type": "code",
   "id": "initial_id",
   "metadata": {
    "collapsed": true,
    "ExecuteTime": {
     "end_time": "2025-10-12T19:14:25.448535Z",
     "start_time": "2025-10-12T19:13:24.658114Z"
    }
   },
   "source": [
    "import time\n",
    "\n",
    "# Kamera\n",
    "cap = cv2.VideoCapture(0)\n",
    "\n",
    "while cap.isOpened():\n",
    "    ret, frame = cap.read()\n",
    "    if not ret:\n",
    "        break\n",
    "\n",
    "    image_rgb = cv2.cvtColor(frame, cv2.COLOR_BGR2RGB)\n",
    "    results = holistic.process(image_rgb)\n",
    "    mp_drawing.draw_landmarks(frame, results.right_hand_landmarks, mp_holistic.HAND_CONNECTIONS)\n",
    "\n",
    "    hand_landmarks = extract_hand_landmarks(results)\n",
    "\n",
    "    current_time = time.time()\n",
    "    time_since_last = current_time - last_prediction_time\n",
    "    cooldown_remaining = max(0, cooldown_seconds - time_since_last)\n",
    "\n",
    "    if hand_landmarks is not None:\n",
    "        sequence.append(hand_landmarks)\n",
    "\n",
    "        if len(sequence) == SEQ_LENGTH:\n",
    "            norm_seq = normalize_sequence(sequence)\n",
    "            input_seq = norm_seq.reshape(1, SEQ_LENGTH, 63)\n",
    "\n",
    "            pred = model.predict(input_seq, verbose=0)[0]\n",
    "            max_prob = np.max(pred)\n",
    "            label = label_names[np.argmax(pred)]\n",
    "\n",
    "            if max_prob > THRESHOLD and cooldown_remaining == 0:\n",
    "                recognized_text += label\n",
    "                last_prediction_time = current_time\n",
    "\n",
    "            sequence.pop(0)\n",
    "    else:\n",
    "        sequence = []\n",
    "\n",
    "    # Pasek cooldownu\n",
    "    bar_x, bar_y = 10, 80\n",
    "    bar_width, bar_height = 300, 20\n",
    "    progress = int((1 - cooldown_remaining / cooldown_seconds) * bar_width)\n",
    "\n",
    "    bar_color = (0, 255, 0) if cooldown_remaining == 0 else (0, 0, 255)\n",
    "    cv2.rectangle(frame, (bar_x, bar_y), (bar_x + bar_width, bar_y + bar_height), (255, 255, 255), 2)\n",
    "    cv2.rectangle(frame, (bar_x, bar_y), (bar_x + progress, bar_y + bar_height), bar_color, -1)\n",
    "    cv2.putText(frame, f'Cooldown: {cooldown_remaining:.1f}s', (bar_x, bar_y - 10),\n",
    "                cv2.FONT_HERSHEY_SIMPLEX, 0.6, bar_color, 2)\n",
    "\n",
    "    # Napis\n",
    "    cv2.putText(frame, f'Text: {recognized_text}', (10, 130),\n",
    "                cv2.FONT_HERSHEY_SIMPLEX, 1, (255, 255, 0), 2)\n",
    "\n",
    "    cv2.imshow('Real-Time Sign Recognition (Cooldown)', frame)\n",
    "    if cv2.waitKey(1) & 0xFF == ord('q'):\n",
    "        sequence = []\n",
    "        recognized_text = \"\"\n",
    "        break\n",
    "\n",
    "cap.release()\n",
    "cv2.destroyAllWindows()\n"
   ],
   "outputs": [],
   "execution_count": 19
  }
 ],
 "metadata": {
  "kernelspec": {
   "display_name": "Python 3",
   "language": "python",
   "name": "python3"
  },
  "language_info": {
   "codemirror_mode": {
    "name": "ipython",
    "version": 2
   },
   "file_extension": ".py",
   "mimetype": "text/x-python",
   "name": "python",
   "nbconvert_exporter": "python",
   "pygments_lexer": "ipython2",
   "version": "2.7.6"
  }
 },
 "nbformat": 4,
 "nbformat_minor": 5
}
