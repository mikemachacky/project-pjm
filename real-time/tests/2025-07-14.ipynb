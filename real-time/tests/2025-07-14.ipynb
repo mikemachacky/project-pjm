{
 "cells": [
  {
   "metadata": {
    "ExecuteTime": {
     "end_time": "2025-10-17T12:50:24.201478Z",
     "start_time": "2025-10-17T12:50:19.397469Z"
    }
   },
   "cell_type": "code",
   "source": [
    "import tensorflow as tf\n",
    "print(tf.config.list_physical_devices('GPU'))\n"
   ],
   "id": "8e09ef527b9ac147",
   "outputs": [
    {
     "name": "stderr",
     "output_type": "stream",
     "text": [
      "2025-10-17 14:50:19.910689: E external/local_xla/xla/stream_executor/cuda/cuda_fft.cc:467] Unable to register cuFFT factory: Attempting to register factory for plugin cuFFT when one has already been registered\n",
      "WARNING: All log messages before absl::InitializeLog() is called are written to STDERR\n",
      "E0000 00:00:1760705419.995201  110566 cuda_dnn.cc:8579] Unable to register cuDNN factory: Attempting to register factory for plugin cuDNN when one has already been registered\n",
      "E0000 00:00:1760705420.016779  110566 cuda_blas.cc:1407] Unable to register cuBLAS factory: Attempting to register factory for plugin cuBLAS when one has already been registered\n",
      "W0000 00:00:1760705420.139770  110566 computation_placer.cc:177] computation placer already registered. Please check linkage and avoid linking the same target more than once.\n",
      "W0000 00:00:1760705420.139789  110566 computation_placer.cc:177] computation placer already registered. Please check linkage and avoid linking the same target more than once.\n",
      "W0000 00:00:1760705420.139790  110566 computation_placer.cc:177] computation placer already registered. Please check linkage and avoid linking the same target more than once.\n",
      "W0000 00:00:1760705420.139792  110566 computation_placer.cc:177] computation placer already registered. Please check linkage and avoid linking the same target more than once.\n",
      "2025-10-17 14:50:20.146368: I tensorflow/core/platform/cpu_feature_guard.cc:210] This TensorFlow binary is optimized to use available CPU instructions in performance-critical operations.\n",
      "To enable the following instructions: AVX2 FMA, in other operations, rebuild TensorFlow with the appropriate compiler flags.\n"
     ]
    },
    {
     "name": "stdout",
     "output_type": "stream",
     "text": [
      "[PhysicalDevice(name='/physical_device:GPU:0', device_type='GPU')]\n"
     ]
    }
   ],
   "execution_count": 1
  },
  {
   "metadata": {},
   "cell_type": "markdown",
   "source": "## Importy",
   "id": "6598252d06de21d0"
  },
  {
   "metadata": {
    "ExecuteTime": {
     "end_time": "2025-10-17T12:50:24.481312Z",
     "start_time": "2025-10-17T12:50:24.243627Z"
    }
   },
   "cell_type": "code",
   "source": [
    "import gc\n",
    "tf.keras.backend.clear_session()\n",
    "gc.collect()"
   ],
   "id": "5de6f7b718fa5d1f",
   "outputs": [
    {
     "data": {
      "text/plain": [
       "0"
      ]
     },
     "execution_count": 2,
     "metadata": {},
     "output_type": "execute_result"
    }
   ],
   "execution_count": 2
  },
  {
   "metadata": {
    "ExecuteTime": {
     "end_time": "2025-10-17T12:50:24.776883Z",
     "start_time": "2025-10-17T12:50:24.493200Z"
    }
   },
   "cell_type": "code",
   "source": [
    "import cv2\n",
    "import mediapipe as mp\n",
    "import numpy as np\n",
    "from tensorflow.keras.models import load_model\n",
    "from keras import backend as K\n",
    "\n"
   ],
   "id": "72b7700fc3691d5c",
   "outputs": [],
   "execution_count": 3
  },
  {
   "metadata": {},
   "cell_type": "markdown",
   "source": "## Wczytanie modelu",
   "id": "17a9e11086f145fd"
  },
  {
   "metadata": {
    "ExecuteTime": {
     "end_time": "2025-10-17T12:50:25.786945Z",
     "start_time": "2025-10-17T12:50:24.784502Z"
    }
   },
   "cell_type": "code",
   "source": "model = load_model('../../model/2025-10-12-19:35:37/cnn1d_model.keras')",
   "id": "fec19ea690af8724",
   "outputs": [
    {
     "name": "stderr",
     "output_type": "stream",
     "text": [
      "I0000 00:00:1760705424.880115  110566 gpu_device.cc:2019] Created device /job:localhost/replica:0/task:0/device:GPU:0 with 1731 MB memory:  -> device: 0, name: NVIDIA GeForce MX150, pci bus id: 0000:01:00.0, compute capability: 6.1\n"
     ]
    }
   ],
   "execution_count": 4
  },
  {
   "metadata": {},
   "cell_type": "markdown",
   "source": "## Wczytanie etykiet z pliku tekstowego\n",
   "id": "86a8855a841c80f0"
  },
  {
   "metadata": {
    "ExecuteTime": {
     "end_time": "2025-10-17T12:50:45.767751Z",
     "start_time": "2025-10-17T12:50:45.764328Z"
    }
   },
   "cell_type": "code",
   "source": [
    "with open('../../model/2025-10-12-19:35:37/labels.txt', 'r') as f:\n",
    "    label_names = [line.strip() for line in f.readlines()]"
   ],
   "id": "d13bbfa5056a8d0a",
   "outputs": [],
   "execution_count": 5
  },
  {
   "metadata": {},
   "cell_type": "markdown",
   "source": "## MediaPipe inicjalizacja",
   "id": "33e09777cc32ae98"
  },
  {
   "metadata": {
    "ExecuteTime": {
     "end_time": "2025-10-17T12:50:47.240981Z",
     "start_time": "2025-10-17T12:50:47.176892Z"
    }
   },
   "cell_type": "code",
   "source": [
    "mp_holistic = mp.solutions.holistic\n",
    "holistic = mp_holistic.Holistic(static_image_mode=False, model_complexity=1)\n",
    "mp_drawing = mp.solutions.drawing_utils"
   ],
   "id": "e540bfea0d7eabb1",
   "outputs": [
    {
     "name": "stderr",
     "output_type": "stream",
     "text": [
      "INFO: Created TensorFlow Lite XNNPACK delegate for CPU.\n",
      "WARNING: All log messages before absl::InitializeLog() is called are written to STDERR\n",
      "W0000 00:00:1760705447.323710  110671 inference_feedback_manager.cc:114] Feedback manager requires a model with a single signature inference. Disabling support for feedback tensors.\n",
      "W0000 00:00:1760705447.368565  110671 inference_feedback_manager.cc:114] Feedback manager requires a model with a single signature inference. Disabling support for feedback tensors.\n",
      "W0000 00:00:1760705447.377331  110672 inference_feedback_manager.cc:114] Feedback manager requires a model with a single signature inference. Disabling support for feedback tensors.\n",
      "W0000 00:00:1760705447.377369  110674 inference_feedback_manager.cc:114] Feedback manager requires a model with a single signature inference. Disabling support for feedback tensors.\n",
      "W0000 00:00:1760705447.377550  110675 inference_feedback_manager.cc:114] Feedback manager requires a model with a single signature inference. Disabling support for feedback tensors.\n",
      "W0000 00:00:1760705447.391287  110672 inference_feedback_manager.cc:114] Feedback manager requires a model with a single signature inference. Disabling support for feedback tensors.\n",
      "W0000 00:00:1760705447.400451  110674 inference_feedback_manager.cc:114] Feedback manager requires a model with a single signature inference. Disabling support for feedback tensors.\n",
      "W0000 00:00:1760705447.404117  110675 inference_feedback_manager.cc:114] Feedback manager requires a model with a single signature inference. Disabling support for feedback tensors.\n"
     ]
    }
   ],
   "execution_count": 6
  },
  {
   "metadata": {},
   "cell_type": "markdown",
   "source": "# Bufor sekwencji",
   "id": "a5232eed645cd7a1"
  },
  {
   "metadata": {
    "ExecuteTime": {
     "end_time": "2025-10-17T12:50:49.365008Z",
     "start_time": "2025-10-17T12:50:49.362283Z"
    }
   },
   "cell_type": "code",
   "source": [
    "sequence = []\n",
    "SEQ_LENGTH = 30\n",
    "THRESHOLD = 0.8"
   ],
   "id": "6baf20ed1c10eb37",
   "outputs": [],
   "execution_count": 7
  },
  {
   "metadata": {},
   "cell_type": "markdown",
   "source": "## Normalizacja względem nadgarstka pierwszej klatki",
   "id": "b2ca091c9626a0f1"
  },
  {
   "metadata": {
    "ExecuteTime": {
     "end_time": "2025-10-17T12:50:51.635558Z",
     "start_time": "2025-10-17T12:50:51.632325Z"
    }
   },
   "cell_type": "code",
   "source": [
    "def normalize_sequence(sequence_array):\n",
    "    sequence_array = np.array(sequence_array)\n",
    "    origin = sequence_array[0][0]  # Nadgarstek 1. klatki\n",
    "    return sequence_array - origin"
   ],
   "id": "65d4aa3c61f58339",
   "outputs": [],
   "execution_count": 8
  },
  {
   "metadata": {},
   "cell_type": "markdown",
   "source": "## Ekstrakcja 21 punktów prawej dłoni",
   "id": "26392e667fa1889b"
  },
  {
   "metadata": {
    "ExecuteTime": {
     "end_time": "2025-10-17T12:50:52.618881Z",
     "start_time": "2025-10-17T12:50:52.615201Z"
    }
   },
   "cell_type": "code",
   "source": [
    "def extract_hand_landmarks(results):\n",
    "    if results.right_hand_landmarks:\n",
    "        return np.array([[lm.x, lm.y, lm.z] for lm in results.right_hand_landmarks.landmark])\n",
    "    return None"
   ],
   "id": "be21d9fcd966a495",
   "outputs": [],
   "execution_count": 9
  },
  {
   "metadata": {},
   "cell_type": "markdown",
   "source": "# Kamera na żywo",
   "id": "a6d295b3f922f63d"
  },
  {
   "metadata": {
    "ExecuteTime": {
     "end_time": "2025-10-12T17:57:02.477813Z",
     "start_time": "2025-10-12T17:57:02.465381Z"
    }
   },
   "cell_type": "code",
   "source": [
    "# Kamera\n",
    "cap = cv2.VideoCapture(0)\n",
    "\n",
    "while cap.isOpened():\n",
    "    ret, frame = cap.read()\n",
    "    if not ret:\n",
    "        break\n",
    "\n",
    "    image_rgb = cv2.cvtColor(frame, cv2.COLOR_BGR2RGB)\n",
    "    results = holistic.process(image_rgb)\n",
    "\n",
    "    # Rysowanie dłoni\n",
    "    mp_drawing.draw_landmarks(frame, results.right_hand_landmarks, mp_holistic.HAND_CONNECTIONS)\n",
    "\n",
    "    hand_landmarks = extract_hand_landmarks(results)\n",
    "\n",
    "    if hand_landmarks is not None:\n",
    "        sequence.append(hand_landmarks)\n",
    "\n",
    "        if len(sequence) == SEQ_LENGTH:\n",
    "            norm_seq = normalize_sequence(sequence)\n",
    "            input_seq = norm_seq.reshape(1, SEQ_LENGTH, 63)\n",
    "\n",
    "            pred = model.predict(input_seq)[0]\n",
    "            max_prob = np.max(pred)\n",
    "            label = label_names[np.argmax(pred)]\n",
    "\n",
    "            if max_prob > THRESHOLD:\n",
    "                cv2.putText(frame, f'{label} ({max_prob:.2f})', (10, 40),\n",
    "                            cv2.FONT_HERSHEY_SIMPLEX, 1, (0, 255, 0), 2)\n",
    "\n",
    "            sequence.pop(0)\n",
    "\n",
    "    else:\n",
    "        sequence = []\n",
    "\n",
    "    cv2.imshow('Real-Time Sign Recognition', frame)\n",
    "    if cv2.waitKey(1) & 0xFF == ord('q'):\n",
    "        break\n",
    "\n",
    "cap.release()\n",
    "cv2.destroyAllWindows()\n"
   ],
   "id": "2441278a1146d187",
   "outputs": [
    {
     "name": "stderr",
     "output_type": "stream",
     "text": [
      "[ WARN:0@16.258] global cap_v4l.cpp:913 open VIDEOIO(V4L2:/dev/video0): can't open camera by index\n",
      "[ERROR:0@16.259] global obsensor_uvc_stream_channel.cpp:158 getStreamChannelGroup Camera index out of range\n"
     ]
    }
   ],
   "execution_count": 10
  },
  {
   "metadata": {},
   "cell_type": "markdown",
   "source": "# Kamera na żywo z cooldown'em",
   "id": "fbda4ea720ecb1ca"
  },
  {
   "metadata": {},
   "cell_type": "markdown",
   "source": "## Parametry",
   "id": "73579d17a960e44c"
  },
  {
   "metadata": {
    "ExecuteTime": {
     "end_time": "2025-10-17T12:50:57.233212Z",
     "start_time": "2025-10-17T12:50:57.230541Z"
    }
   },
   "cell_type": "code",
   "source": [
    "sequence = []\n",
    "recognized_text = \"\"\n",
    "last_prediction_time = 0\n",
    "cooldown_seconds = 1.5\n",
    "SEQ_LENGTH = 30\n",
    "THRESHOLD = 0.7"
   ],
   "id": "1b69525e9db7704d",
   "outputs": [],
   "execution_count": 10
  },
  {
   "cell_type": "code",
   "id": "initial_id",
   "metadata": {
    "collapsed": true,
    "ExecuteTime": {
     "end_time": "2025-10-17T12:51:23.464711Z",
     "start_time": "2025-10-17T12:50:59.785013Z"
    }
   },
   "source": [
    "import time\n",
    "\n",
    "# Kamera\n",
    "cap = cv2.VideoCapture(0)\n",
    "\n",
    "while cap.isOpened():\n",
    "    ret, frame = cap.read()\n",
    "    if not ret:\n",
    "        break\n",
    "\n",
    "    image_rgb = cv2.cvtColor(frame, cv2.COLOR_BGR2RGB)\n",
    "    results = holistic.process(image_rgb)\n",
    "    mp_drawing.draw_landmarks(frame, results.right_hand_landmarks, mp_holistic.HAND_CONNECTIONS)\n",
    "\n",
    "    hand_landmarks = extract_hand_landmarks(results)\n",
    "\n",
    "    current_time = time.time()\n",
    "    time_since_last = current_time - last_prediction_time\n",
    "    cooldown_remaining = max(0, cooldown_seconds - time_since_last)\n",
    "\n",
    "    if hand_landmarks is not None:\n",
    "        sequence.append(hand_landmarks)\n",
    "\n",
    "        if len(sequence) == SEQ_LENGTH:\n",
    "            norm_seq = normalize_sequence(sequence)\n",
    "            input_seq = norm_seq.reshape(1, SEQ_LENGTH, 63)\n",
    "\n",
    "            pred = model.predict(input_seq, verbose=0)[0]\n",
    "            max_prob = np.max(pred)\n",
    "            label = label_names[np.argmax(pred)]\n",
    "\n",
    "            if max_prob > THRESHOLD and cooldown_remaining == 0:\n",
    "                recognized_text += label\n",
    "                last_prediction_time = current_time\n",
    "\n",
    "            sequence.pop(0)\n",
    "    else:\n",
    "        sequence = []\n",
    "\n",
    "    # Pasek cooldownu\n",
    "    bar_x, bar_y = 10, 80\n",
    "    bar_width, bar_height = 300, 20\n",
    "    progress = int((1 - cooldown_remaining / cooldown_seconds) * bar_width)\n",
    "\n",
    "    bar_color = (0, 255, 0) if cooldown_remaining == 0 else (0, 0, 255)\n",
    "    cv2.rectangle(frame, (bar_x, bar_y), (bar_x + bar_width, bar_y + bar_height), (255, 255, 255), 2)\n",
    "    cv2.rectangle(frame, (bar_x, bar_y), (bar_x + progress, bar_y + bar_height), bar_color, -1)\n",
    "    cv2.putText(frame, f'Cooldown: {cooldown_remaining:.1f}s', (bar_x, bar_y - 10),\n",
    "                cv2.FONT_HERSHEY_SIMPLEX, 0.6, bar_color, 2)\n",
    "\n",
    "    # Napis\n",
    "    cv2.putText(frame, f'Text: {recognized_text}', (10, 130),\n",
    "                cv2.FONT_HERSHEY_SIMPLEX, 1, (255, 255, 0), 2)\n",
    "\n",
    "    cv2.imshow('Real-Time Sign Recognition (Cooldown)', frame)\n",
    "    if cv2.waitKey(1) & 0xFF == ord('q'):\n",
    "        sequence = []\n",
    "        recognized_text = \"\"\n",
    "        break\n",
    "\n",
    "cap.release()\n",
    "cv2.destroyAllWindows()\n"
   ],
   "outputs": [
    {
     "name": "stderr",
     "output_type": "stream",
     "text": [
      "W0000 00:00:1760705460.215029  110675 landmark_projection_calculator.cc:186] Using NORM_RECT without IMAGE_DIMENSIONS is only supported for the square ROI. Provide IMAGE_DIMENSIONS or use PROJECTION_MATRIX.\n",
      "Warning: Ignoring XDG_SESSION_TYPE=wayland on Gnome. Use QT_QPA_PLATFORM=wayland to run on Wayland anyway.\n",
      "WARNING: All log messages before absl::InitializeLog() is called are written to STDERR\n",
      "I0000 00:00:1760705463.120345  110642 service.cc:152] XLA service 0x7f9258005f20 initialized for platform CUDA (this does not guarantee that XLA will be used). Devices:\n",
      "I0000 00:00:1760705463.120364  110642 service.cc:160]   StreamExecutor device (0): NVIDIA GeForce MX150, Compute Capability 6.1\n",
      "2025-10-17 14:51:03.127780: I tensorflow/compiler/mlir/tensorflow/utils/dump_mlir_util.cc:269] disabling MLIR crash reproducer, set env var `MLIR_CRASH_REPRODUCER_DIRECTORY` to enable.\n",
      "I0000 00:00:1760705463.162132  110642 cuda_dnn.cc:529] Loaded cuDNN version 90300\n",
      "I0000 00:00:1760705463.925797  110642 device_compiler.h:188] Compiled cluster using XLA!  This line is logged at most once for the lifetime of the process.\n"
     ]
    }
   ],
   "execution_count": 11
  }
 ],
 "metadata": {
  "kernelspec": {
   "display_name": "Python 3",
   "language": "python",
   "name": "python3"
  },
  "language_info": {
   "codemirror_mode": {
    "name": "ipython",
    "version": 2
   },
   "file_extension": ".py",
   "mimetype": "text/x-python",
   "name": "python",
   "nbconvert_exporter": "python",
   "pygments_lexer": "ipython2",
   "version": "2.7.6"
  }
 },
 "nbformat": 4,
 "nbformat_minor": 5
}
