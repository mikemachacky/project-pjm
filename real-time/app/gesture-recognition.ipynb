{
 "cells": [
  {
   "cell_type": "code",
   "id": "initial_id",
   "metadata": {
    "collapsed": true,
    "ExecuteTime": {
     "end_time": "2025-09-16T21:41:27.170800Z",
     "start_time": "2025-09-16T21:41:27.166605Z"
    }
   },
   "source": [
    "import tensorflow as tf\n",
    "import cv2\n",
    "import mediapipe as mp\n",
    "import numpy as np\n",
    "from tensorflow.keras.models import load_model\n",
    "from utils.real_time_tools import RealTimeTools"
   ],
   "outputs": [],
   "execution_count": 19
  },
  {
   "metadata": {
    "ExecuteTime": {
     "end_time": "2025-09-16T21:41:28.445199Z",
     "start_time": "2025-09-16T21:41:28.328154Z"
    }
   },
   "cell_type": "code",
   "source": "model = load_model('../../model/2025-09-16/cnn_1d_model.keras', safe_mode=False)",
   "id": "b41cd6c837c559e2",
   "outputs": [],
   "execution_count": 20
  },
  {
   "metadata": {
    "ExecuteTime": {
     "end_time": "2025-09-16T21:32:03.019152Z",
     "start_time": "2025-09-16T21:32:02.916572Z"
    }
   },
   "cell_type": "code",
   "source": [
    "from tensorflow.keras.models import load_model\n",
    "import tensorflow.keras.backend as K\n",
    "from tensorflow.keras.layers import Lambda\n",
    "\n",
    "# Funkcje użyte w Lambda\n",
    "def softmax_lambda(z):\n",
    "    return K.softmax(z, axis=1)\n",
    "\n",
    "def sum_lambda(z):\n",
    "    return K.sum(z, axis=1)\n",
    "\n",
    "model = load_model(\n",
    "    '../../model/2025-09-16/bilstm_attention_model.keras',\n",
    "    custom_objects={\n",
    "        'softmax_lambda': softmax_lambda,\n",
    "        'sum_lambda': sum_lambda\n",
    "    },\n",
    "    safe_mode=False\n",
    ")\n"
   ],
   "id": "1f2dc5f08145eb9e",
   "outputs": [],
   "execution_count": 15
  },
  {
   "metadata": {
    "ExecuteTime": {
     "end_time": "2025-09-16T21:41:34.260955Z",
     "start_time": "2025-09-16T21:41:34.257887Z"
    }
   },
   "cell_type": "code",
   "source": [
    "with open('../../model/2025-07-14/labels.txt', 'r') as f:\n",
    "    label_names = [line.strip() for line in f.readlines()]"
   ],
   "id": "ea834205abffe273",
   "outputs": [],
   "execution_count": 21
  },
  {
   "metadata": {
    "ExecuteTime": {
     "end_time": "2025-09-16T21:41:35.689346Z",
     "start_time": "2025-09-16T21:41:35.675398Z"
    }
   },
   "cell_type": "code",
   "source": [
    "import cv2\n",
    "import mediapipe as mp\n",
    "\n",
    "mp_hands = mp.solutions.hands\n",
    "mp_drawing = mp.solutions.drawing_utils\n",
    "\n",
    "hands = mp_hands.Hands(\n",
    "    static_image_mode=False,\n",
    "    max_num_hands=1,\n",
    "    min_detection_confidence=0.7\n",
    ")"
   ],
   "id": "3d68ea2c0e6d17b4",
   "outputs": [
    {
     "name": "stderr",
     "output_type": "stream",
     "text": [
      "W0000 00:00:1758058895.719630  281235 inference_feedback_manager.cc:114] Feedback manager requires a model with a single signature inference. Disabling support for feedback tensors.\n",
      "W0000 00:00:1758058895.742534  281235 inference_feedback_manager.cc:114] Feedback manager requires a model with a single signature inference. Disabling support for feedback tensors.\n"
     ]
    }
   ],
   "execution_count": 22
  },
  {
   "metadata": {
    "ExecuteTime": {
     "end_time": "2025-09-16T21:41:51.875950Z",
     "start_time": "2025-09-16T21:41:38.875984Z"
    }
   },
   "cell_type": "code",
   "source": [
    "cap = cv2.VideoCapture(0)\n",
    "try:\n",
    "    if not cap.isOpened():\n",
    "        print(\"Camera is not opened\")\n",
    "        exit()\n",
    "\n",
    "    while True:\n",
    "        ret, frame = cap.read()\n",
    "        if not ret:\n",
    "            print(\"No frames\")\n",
    "            break\n",
    "\n",
    "        image_rbg = cv2.cvtColor(frame, cv2.COLOR_BGR2RGB)\n",
    "        results = hands.process(image_rbg)\n",
    "        if results.multi_hand_landmarks:\n",
    "            for hand_landmarks in results.multi_hand_landmarks:\n",
    "                mp_drawing.draw_landmarks(frame, hand_landmarks, mp_hands.HAND_CONNECTIONS)\n",
    "\n",
    "                landmarks = RealTimeTools.extract_hand_landmarks(hand_landmarks)\n",
    "\n",
    "        cv2.imshow(\"Gesture Recognition\", frame)\n",
    "\n",
    "        if cv2.waitKey(1) & 0xFF == ord('q'):\n",
    "            break\n",
    "\n",
    "except KeyboardInterrupt:\n",
    "    print(\"Camera stopped\")\n",
    "finally:\n",
    "    cap.release()\n",
    "    cv2.destroyAllWindows()\n",
    "\n"
   ],
   "id": "c4f76c1de74e161a",
   "outputs": [],
   "execution_count": 23
  }
 ],
 "metadata": {
  "kernelspec": {
   "display_name": "Python 3",
   "language": "python",
   "name": "python3"
  },
  "language_info": {
   "codemirror_mode": {
    "name": "ipython",
    "version": 2
   },
   "file_extension": ".py",
   "mimetype": "text/x-python",
   "name": "python",
   "nbconvert_exporter": "python",
   "pygments_lexer": "ipython2",
   "version": "2.7.6"
  }
 },
 "nbformat": 4,
 "nbformat_minor": 5
}
