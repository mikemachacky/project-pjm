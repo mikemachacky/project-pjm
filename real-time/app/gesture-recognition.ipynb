{
 "cells": [
  {
   "cell_type": "code",
   "id": "initial_id",
   "metadata": {
    "collapsed": true,
    "ExecuteTime": {
     "end_time": "2025-08-19T14:49:02.994287Z",
     "start_time": "2025-08-19T14:49:02.991367Z"
    }
   },
   "source": [
    "import tensorflow as tf\n",
    "import cv2\n",
    "import mediapipe as mp\n",
    "import numpy as np\n",
    "from tensorflow.keras.models import load_model\n",
    "from utils.real_time_tools import RealTimeTools"
   ],
   "outputs": [],
   "execution_count": 7
  },
  {
   "metadata": {
    "ExecuteTime": {
     "end_time": "2025-08-19T14:49:03.147230Z",
     "start_time": "2025-08-19T14:49:03.041374Z"
    }
   },
   "cell_type": "code",
   "source": "model = load_model(\"../../model/2025-08-18/lstm.keras\")",
   "id": "b41cd6c837c559e2",
   "outputs": [],
   "execution_count": 8
  },
  {
   "metadata": {
    "ExecuteTime": {
     "end_time": "2025-08-19T14:49:03.157790Z",
     "start_time": "2025-08-19T14:49:03.154531Z"
    }
   },
   "cell_type": "code",
   "source": [
    "with open('../../model/2025-07-14/labels.txt', 'r') as f:\n",
    "    label_names = [line.strip() for line in f.readlines()]"
   ],
   "id": "ea834205abffe273",
   "outputs": [],
   "execution_count": 9
  },
  {
   "metadata": {
    "ExecuteTime": {
     "end_time": "2025-08-19T14:49:03.215591Z",
     "start_time": "2025-08-19T14:49:03.204383Z"
    }
   },
   "cell_type": "code",
   "source": [
    "mp_hands = mp.solutions.hands\n",
    "mp_drawing = mp.solutions.drawing_utils\n",
    "hands = mp_hands.Hands(static_image_mode=False, max_num_hands=1, min_detection_confidence=0.7)"
   ],
   "id": "3d68ea2c0e6d17b4",
   "outputs": [
    {
     "name": "stderr",
     "output_type": "stream",
     "text": [
      "W0000 00:00:1755614943.247823   24251 inference_feedback_manager.cc:114] Feedback manager requires a model with a single signature inference. Disabling support for feedback tensors.\n"
     ]
    }
   ],
   "execution_count": 10
  },
  {
   "metadata": {
    "ExecuteTime": {
     "end_time": "2025-08-19T14:49:29.872818Z",
     "start_time": "2025-08-19T14:49:03.262700Z"
    }
   },
   "cell_type": "code",
   "source": [
    "cap = cv2.VideoCapture(0)\n",
    "try:\n",
    "    if not cap.isOpened():\n",
    "        print(\"Camera is not opened\")\n",
    "        exit()\n",
    "\n",
    "    while True:\n",
    "        ret, frame = cap.read()\n",
    "        if not ret:\n",
    "            print(\"No frames\")\n",
    "            break\n",
    "\n",
    "        image_rbg = cv2.cvtColor(frame, cv2.COLOR_BGR2RGB)\n",
    "        results = hands.process(image_rbg)\n",
    "        if results.multi_hand_landmarks:\n",
    "            for hand_landmarks in results.multi_hand_landmarks:\n",
    "                mp_drawing.draw_landmarks(frame, hand_landmarks, mp_hands.HAND_CONNECTIONS)\n",
    "\n",
    "                landmarks = RealTimeTools.extract_hand_landmarks(hand_landmarks)\n",
    "\n",
    "        cv2.imshow(\"Gesture Recognition\", frame)\n",
    "\n",
    "        if cv2.waitKey(1) & 0xFF == ord('q'):\n",
    "            break\n",
    "\n",
    "except KeyboardInterrupt:\n",
    "    print(\"Camera stopped\")\n",
    "finally:\n",
    "    cap.release()\n",
    "    cv2.destroyAllWindows()\n",
    "\n"
   ],
   "id": "c4f76c1de74e161a",
   "outputs": [
    {
     "name": "stderr",
     "output_type": "stream",
     "text": [
      "W0000 00:00:1755614943.274235   24251 inference_feedback_manager.cc:114] Feedback manager requires a model with a single signature inference. Disabling support for feedback tensors.\n"
     ]
    }
   ],
   "execution_count": 11
  }
 ],
 "metadata": {
  "kernelspec": {
   "display_name": "Python 3",
   "language": "python",
   "name": "python3"
  },
  "language_info": {
   "codemirror_mode": {
    "name": "ipython",
    "version": 2
   },
   "file_extension": ".py",
   "mimetype": "text/x-python",
   "name": "python",
   "nbconvert_exporter": "python",
   "pygments_lexer": "ipython2",
   "version": "2.7.6"
  }
 },
 "nbformat": 4,
 "nbformat_minor": 5
}
