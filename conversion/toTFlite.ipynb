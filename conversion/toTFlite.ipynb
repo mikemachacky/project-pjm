{
 "cells": [
  {
   "cell_type": "code",
   "id": "initial_id",
   "metadata": {
    "collapsed": true,
    "ExecuteTime": {
     "end_time": "2025-08-20T11:04:50.985645Z",
     "start_time": "2025-08-20T11:04:47.686011Z"
    }
   },
   "source": [
    "import tensorflow as tf\n",
    "import os"
   ],
   "outputs": [
    {
     "name": "stderr",
     "output_type": "stream",
     "text": [
      "2025-08-20 13:04:47.928628: E external/local_xla/xla/stream_executor/cuda/cuda_fft.cc:467] Unable to register cuFFT factory: Attempting to register factory for plugin cuFFT when one has already been registered\n",
      "WARNING: All log messages before absl::InitializeLog() is called are written to STDERR\n",
      "E0000 00:00:1755687887.947649  135547 cuda_dnn.cc:8579] Unable to register cuDNN factory: Attempting to register factory for plugin cuDNN when one has already been registered\n",
      "E0000 00:00:1755687887.952539  135547 cuda_blas.cc:1407] Unable to register cuBLAS factory: Attempting to register factory for plugin cuBLAS when one has already been registered\n",
      "W0000 00:00:1755687887.965486  135547 computation_placer.cc:177] computation placer already registered. Please check linkage and avoid linking the same target more than once.\n",
      "W0000 00:00:1755687887.965504  135547 computation_placer.cc:177] computation placer already registered. Please check linkage and avoid linking the same target more than once.\n",
      "W0000 00:00:1755687887.965506  135547 computation_placer.cc:177] computation placer already registered. Please check linkage and avoid linking the same target more than once.\n",
      "W0000 00:00:1755687887.965507  135547 computation_placer.cc:177] computation placer already registered. Please check linkage and avoid linking the same target more than once.\n",
      "2025-08-20 13:04:47.971607: I tensorflow/core/platform/cpu_feature_guard.cc:210] This TensorFlow binary is optimized to use available CPU instructions in performance-critical operations.\n",
      "To enable the following instructions: AVX2 FMA, in other operations, rebuild TensorFlow with the appropriate compiler flags.\n"
     ]
    }
   ],
   "execution_count": 1
  },
  {
   "metadata": {
    "ExecuteTime": {
     "end_time": "2025-08-20T11:04:50.994847Z",
     "start_time": "2025-08-20T11:04:50.991947Z"
    }
   },
   "cell_type": "code",
   "source": "os.environ[\"CUDA_VISIBLE_DEVICES\"] = \"-1\"",
   "id": "134f7623623db857",
   "outputs": [],
   "execution_count": 2
  },
  {
   "metadata": {
    "ExecuteTime": {
     "end_time": "2025-08-20T11:04:52.073167Z",
     "start_time": "2025-08-20T11:04:51.970328Z"
    }
   },
   "cell_type": "code",
   "source": [
    "MODEL_PATH = \"../model/2025-07-14/cnn_1d_model.keras\"\n",
    "model = tf.keras.models.load_model(MODEL_PATH, compile=False)"
   ],
   "id": "43940ce4cabc581b",
   "outputs": [
    {
     "name": "stderr",
     "output_type": "stream",
     "text": [
      "2025-08-20 13:04:51.994304: E external/local_xla/xla/stream_executor/cuda/cuda_platform.cc:51] failed call to cuInit: INTERNAL: CUDA error: Failed call to cuInit: CUDA_ERROR_NO_DEVICE: no CUDA-capable device is detected\n",
      "2025-08-20 13:04:51.994334: I external/local_xla/xla/stream_executor/cuda/cuda_diagnostics.cc:167] env: CUDA_VISIBLE_DEVICES=\"-1\"\n",
      "2025-08-20 13:04:51.994339: I external/local_xla/xla/stream_executor/cuda/cuda_diagnostics.cc:170] CUDA_VISIBLE_DEVICES is set to -1 - this hides all GPUs from CUDA\n",
      "2025-08-20 13:04:51.994343: I external/local_xla/xla/stream_executor/cuda/cuda_diagnostics.cc:178] verbose logging is disabled. Rerun with verbose logging (usually --v=1 or --vmodule=cuda_diagnostics=1) to get more diagnostic output from this module\n",
      "2025-08-20 13:04:51.994347: I external/local_xla/xla/stream_executor/cuda/cuda_diagnostics.cc:183] retrieving CUDA diagnostic information for host: mThinkPad-t480\n",
      "2025-08-20 13:04:51.994350: I external/local_xla/xla/stream_executor/cuda/cuda_diagnostics.cc:190] hostname: mThinkPad-t480\n",
      "2025-08-20 13:04:51.994427: I external/local_xla/xla/stream_executor/cuda/cuda_diagnostics.cc:197] libcuda reported version is: 575.64.5\n",
      "2025-08-20 13:04:51.994446: I external/local_xla/xla/stream_executor/cuda/cuda_diagnostics.cc:201] kernel reported version is: 575.64.5\n",
      "2025-08-20 13:04:51.994449: I external/local_xla/xla/stream_executor/cuda/cuda_diagnostics.cc:291] kernel version seems to match DSO: 575.64.5\n"
     ]
    }
   ],
   "execution_count": 3
  },
  {
   "metadata": {
    "ExecuteTime": {
     "end_time": "2025-08-20T11:04:55.426019Z",
     "start_time": "2025-08-20T11:04:55.422534Z"
    }
   },
   "cell_type": "code",
   "source": "converter = tf.lite.TFLiteConverter.from_keras_model(model)",
   "id": "b8caebc879838dc8",
   "outputs": [],
   "execution_count": 4
  },
  {
   "metadata": {
    "ExecuteTime": {
     "end_time": "2025-08-20T11:04:57.129057Z",
     "start_time": "2025-08-20T11:04:57.125848Z"
    }
   },
   "cell_type": "code",
   "source": [
    "\n",
    "converter.optimizations = [tf.lite.Optimize.DEFAULT]\n",
    "\n",
    "# Jeśli chcesz wymusić float16 zamiast float32 (mniejsze rozmiary i szybsze na CPU)\n",
    "converter.target_spec.supported_types = [tf.float16]\n"
   ],
   "id": "7c55ad7fa00329f0",
   "outputs": [],
   "execution_count": 5
  },
  {
   "metadata": {
    "ExecuteTime": {
     "end_time": "2025-08-20T11:04:59.378847Z",
     "start_time": "2025-08-20T11:04:58.863933Z"
    }
   },
   "cell_type": "code",
   "source": "tflite_model = converter.convert()\n",
   "id": "5f868915ae1e0929",
   "outputs": [
    {
     "name": "stdout",
     "output_type": "stream",
     "text": [
      "INFO:tensorflow:Assets written to: /tmp/tmpmsystndc/assets\n"
     ]
    },
    {
     "name": "stderr",
     "output_type": "stream",
     "text": [
      "INFO:tensorflow:Assets written to: /tmp/tmpmsystndc/assets\n"
     ]
    },
    {
     "name": "stdout",
     "output_type": "stream",
     "text": [
      "Saved artifact at '/tmp/tmpmsystndc'. The following endpoints are available:\n",
      "\n",
      "* Endpoint 'serve'\n",
      "  args_0 (POSITIONAL_ONLY): TensorSpec(shape=(None, 30, 63), dtype=tf.float32, name='input_layer_2')\n",
      "Output Type:\n",
      "  TensorSpec(shape=(None, 36), dtype=tf.float32, name=None)\n",
      "Captures:\n",
      "  140308235166416: TensorSpec(shape=(), dtype=tf.resource, name=None)\n",
      "  140308235167952: TensorSpec(shape=(), dtype=tf.resource, name=None)\n",
      "  140308235166608: TensorSpec(shape=(), dtype=tf.resource, name=None)\n",
      "  140308235167376: TensorSpec(shape=(), dtype=tf.resource, name=None)\n",
      "  140308235170256: TensorSpec(shape=(), dtype=tf.resource, name=None)\n",
      "  140308235171024: TensorSpec(shape=(), dtype=tf.resource, name=None)\n",
      "  140308235171216: TensorSpec(shape=(), dtype=tf.resource, name=None)\n",
      "  140308235169872: TensorSpec(shape=(), dtype=tf.resource, name=None)\n"
     ]
    },
    {
     "name": "stderr",
     "output_type": "stream",
     "text": [
      "WARNING: All log messages before absl::InitializeLog() is called are written to STDERR\n",
      "W0000 00:00:1755687899.226358  135547 tf_tfl_flatbuffer_helpers.cc:365] Ignored output_format.\n",
      "W0000 00:00:1755687899.226381  135547 tf_tfl_flatbuffer_helpers.cc:368] Ignored drop_control_dependency.\n",
      "2025-08-20 13:04:59.226788: I tensorflow/cc/saved_model/reader.cc:83] Reading SavedModel from: /tmp/tmpmsystndc\n",
      "2025-08-20 13:04:59.227308: I tensorflow/cc/saved_model/reader.cc:52] Reading meta graph with tags { serve }\n",
      "2025-08-20 13:04:59.227315: I tensorflow/cc/saved_model/reader.cc:147] Reading SavedModel debug info (if present) from: /tmp/tmpmsystndc\n",
      "I0000 00:00:1755687899.232352  135547 mlir_graph_optimization_pass.cc:425] MLIR V1 optimization pass is not enabled\n",
      "2025-08-20 13:04:59.233465: I tensorflow/cc/saved_model/loader.cc:236] Restoring SavedModel bundle.\n",
      "2025-08-20 13:04:59.260185: I tensorflow/cc/saved_model/loader.cc:220] Running initialization op on SavedModel bundle at path: /tmp/tmpmsystndc\n",
      "2025-08-20 13:04:59.268255: I tensorflow/cc/saved_model/loader.cc:471] SavedModel load for tags { serve }; Status: success: OK. Took 41469 microseconds.\n",
      "2025-08-20 13:04:59.282637: I tensorflow/compiler/mlir/tensorflow/utils/dump_mlir_util.cc:269] disabling MLIR crash reproducer, set env var `MLIR_CRASH_REPRODUCER_DIRECTORY` to enable.\n"
     ]
    }
   ],
   "execution_count": 6
  },
  {
   "metadata": {
    "ExecuteTime": {
     "end_time": "2025-08-20T11:05:06.065796Z",
     "start_time": "2025-08-20T11:05:06.061311Z"
    }
   },
   "cell_type": "code",
   "source": [
    "TFLITE_PATH = \"cnn1d.tflite\"\n",
    "with open(TFLITE_PATH, \"wb\") as f:\n",
    "    f.write(tflite_model)\n",
    "\n",
    "print(f\"Model TFLite zapisany: {TFLITE_PATH}\")\n"
   ],
   "id": "d55414a393353887",
   "outputs": [
    {
     "name": "stdout",
     "output_type": "stream",
     "text": [
      "Model TFLite zapisany: cnn1d.tflite\n"
     ]
    }
   ],
   "execution_count": 7
  },
  {
   "metadata": {
    "ExecuteTime": {
     "end_time": "2025-08-20T11:09:08.816892Z",
     "start_time": "2025-08-20T11:08:19.993283Z"
    }
   },
   "cell_type": "code",
   "source": [
    "import cv2\n",
    "import time\n",
    "import numpy as np\n",
    "import mediapipe as mp\n",
    "import tensorflow as tf\n",
    "\n",
    "# --- Ustawienia ---\n",
    "SEQ_LENGTH = 30\n",
    "THRESHOLD = 0.8\n",
    "COOLDOWN_SECONDS = 1.5\n",
    "\n",
    "# Ścieżki do modelu i etykiet\n",
    "TFLITE_MODEL_PATH = \"cnn1d.tflite\"\n",
    "with open('../model/2025-07-14/labels.txt', 'r') as f:\n",
    "    LABELS = [line.strip() for line in f.readlines()]\n",
    "\n",
    "# --- Inicjalizacja MediaPipe ---\n",
    "mp_hands = mp.solutions.hands\n",
    "hands = mp_hands.Hands(\n",
    "    static_image_mode=False,\n",
    "    max_num_hands=1,\n",
    "    min_detection_confidence=0.5,\n",
    "    min_tracking_confidence=0.5\n",
    ")\n",
    "\n",
    "# --- Wczytanie modelu TFLite ---\n",
    "interpreter = tf.lite.Interpreter(model_path=TFLITE_MODEL_PATH)\n",
    "interpreter.allocate_tensors()\n",
    "input_details = interpreter.get_input_details()\n",
    "output_details = interpreter.get_output_details()\n",
    "\n",
    "# --- Funkcje pomocnicze ---\n",
    "def extract_hand_landmarks(results):\n",
    "    if results.multi_hand_landmarks:\n",
    "        hand = results.multi_hand_landmarks[0]\n",
    "        return np.array([[lm.x, lm.y, lm.z] for lm in hand.landmark])\n",
    "    return None\n",
    "\n",
    "def normalize_sequence(sequence_array):\n",
    "    sequence_array = np.array(sequence_array)\n",
    "    origin = sequence_array[0][0]  # nadgarstek 1. klatki\n",
    "    return sequence_array - origin\n",
    "\n",
    "def predict_tflite(sequence):\n",
    "    norm_seq = normalize_sequence(sequence)\n",
    "    input_data = norm_seq.reshape(1, SEQ_LENGTH, 63).astype(np.float32)\n",
    "    interpreter.set_tensor(input_details[0]['index'], input_data)\n",
    "    interpreter.invoke()\n",
    "    output_data = interpreter.get_tensor(output_details[0]['index'])[0]\n",
    "    max_prob = np.max(output_data)\n",
    "    label = LABELS[np.argmax(output_data)]\n",
    "    return label, max_prob\n",
    "\n",
    "# --- Inicjalizacja zmiennych ---\n",
    "sequence = []\n",
    "recognized_text = \"\"\n",
    "last_prediction_time = 0.0\n",
    "\n",
    "# --- Kamera ---\n",
    "cap = cv2.VideoCapture(0)\n",
    "\n",
    "while cap.isOpened():\n",
    "    ret, frame = cap.read()\n",
    "    if not ret:\n",
    "        break\n",
    "\n",
    "    image_rgb = cv2.cvtColor(frame, cv2.COLOR_BGR2RGB)\n",
    "    results = hands.process(image_rgb)\n",
    "\n",
    "    hand_landmarks = extract_hand_landmarks(results)\n",
    "    current_time = time.time()\n",
    "    cooldown_remaining = max(0, COOLDOWN_SECONDS - (current_time - last_prediction_time))\n",
    "\n",
    "    if hand_landmarks is not None:\n",
    "        sequence.append(hand_landmarks)\n",
    "        if len(sequence) == SEQ_LENGTH:\n",
    "            label, max_prob = predict_tflite(sequence)\n",
    "            if max_prob > THRESHOLD and cooldown_remaining == 0:\n",
    "                recognized_text += label\n",
    "                last_prediction_time = current_time\n",
    "            sequence.pop(0)\n",
    "    else:\n",
    "        sequence = []\n",
    "\n",
    "    # --- Overlay MediaPipe i predykcja ---\n",
    "    if results.multi_hand_landmarks:\n",
    "        for hand_landmarks_mp in results.multi_hand_landmarks:\n",
    "            mp.solutions.drawing_utils.draw_landmarks(\n",
    "                frame, hand_landmarks_mp, mp_hands.HAND_CONNECTIONS\n",
    "            )\n",
    "\n",
    "    # Pasek cooldownu\n",
    "    bar_x, bar_y, bar_width, bar_height = 10, 80, 300, 20\n",
    "    progress = int((1 - cooldown_remaining / COOLDOWN_SECONDS) * bar_width)\n",
    "    bar_color = (0, 255, 0) if cooldown_remaining == 0 else (0, 0, 255)\n",
    "    cv2.rectangle(frame, (bar_x, bar_y), (bar_x + bar_width, bar_y + bar_height), (255, 255, 255), 2)\n",
    "    cv2.rectangle(frame, (bar_x, bar_y), (bar_x + progress, bar_y + bar_height), bar_color, -1)\n",
    "    cv2.putText(frame, f'Cooldown: {cooldown_remaining:.1f}s', (bar_x, bar_y - 10),\n",
    "                cv2.FONT_HERSHEY_SIMPLEX, 0.6, bar_color, 2)\n",
    "\n",
    "    # Napis z rozpoznanym tekstem\n",
    "    cv2.putText(frame, f'Text: {recognized_text}', (10, 130),\n",
    "                cv2.FONT_HERSHEY_SIMPLEX, 1, (255, 255, 0), 2)\n",
    "\n",
    "    cv2.imshow('Gesture Recognition TFLite', frame)\n",
    "    if cv2.waitKey(1) & 0xFF == ord('q'):\n",
    "        break\n",
    "\n",
    "cap.release()\n",
    "cv2.destroyAllWindows()\n"
   ],
   "id": "6e23a23d4012b0df",
   "outputs": [
    {
     "name": "stderr",
     "output_type": "stream",
     "text": [
      "W0000 00:00:1755688100.040368  135789 inference_feedback_manager.cc:114] Feedback manager requires a model with a single signature inference. Disabling support for feedback tensors.\n",
      "W0000 00:00:1755688100.061950  135789 inference_feedback_manager.cc:114] Feedback manager requires a model with a single signature inference. Disabling support for feedback tensors.\n"
     ]
    }
   ],
   "execution_count": 4
  }
 ],
 "metadata": {
  "kernelspec": {
   "display_name": "Python 3",
   "language": "python",
   "name": "python3"
  },
  "language_info": {
   "codemirror_mode": {
    "name": "ipython",
    "version": 2
   },
   "file_extension": ".py",
   "mimetype": "text/x-python",
   "name": "python",
   "nbconvert_exporter": "python",
   "pygments_lexer": "ipython2",
   "version": "2.7.6"
  }
 },
 "nbformat": 4,
 "nbformat_minor": 5
}
