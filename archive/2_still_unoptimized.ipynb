{
 "cells": [
  {
   "cell_type": "markdown",
   "metadata": {
    "id": "opylynkT2c7N"
   },
   "source": [
    "# Wstępna obróbka datasetu"
   ]
  },
  {
   "cell_type": "code",
   "metadata": {
    "colab": {
     "base_uri": "https://localhost:8080/"
    },
    "id": "GHULW_1cShAV",
    "outputId": "e57f7b35-c499-40d9-a6b6-069253f627ef",
    "ExecuteTime": {
     "end_time": "2025-07-10T10:07:32.181726Z",
     "start_time": "2025-07-10T10:07:31.140542Z"
    }
   },
   "source": [
    "!pip install tensorflow keras scikit-learn"
   ],
   "outputs": [
    {
     "name": "stdout",
     "output_type": "stream",
     "text": [
      "Defaulting to user installation because normal site-packages is not writeable\r\n",
      "Requirement already satisfied: tensorflow in /home/magda/.local/lib/python3.12/site-packages (2.19.0)\r\n",
      "Requirement already satisfied: keras in /home/magda/.local/lib/python3.12/site-packages (3.10.0)\r\n",
      "Requirement already satisfied: scikit-learn in /home/magda/.local/lib/python3.12/site-packages (1.7.0)\r\n",
      "Requirement already satisfied: absl-py>=1.0.0 in /home/magda/.local/lib/python3.12/site-packages (from tensorflow) (2.3.0)\r\n",
      "Requirement already satisfied: astunparse>=1.6.0 in /home/magda/.local/lib/python3.12/site-packages (from tensorflow) (1.6.3)\r\n",
      "Requirement already satisfied: flatbuffers>=24.3.25 in /home/magda/.local/lib/python3.12/site-packages (from tensorflow) (25.2.10)\r\n",
      "Requirement already satisfied: gast!=0.5.0,!=0.5.1,!=0.5.2,>=0.2.1 in /home/magda/.local/lib/python3.12/site-packages (from tensorflow) (0.6.0)\r\n",
      "Requirement already satisfied: google-pasta>=0.1.1 in /home/magda/.local/lib/python3.12/site-packages (from tensorflow) (0.2.0)\r\n",
      "Requirement already satisfied: libclang>=13.0.0 in /home/magda/.local/lib/python3.12/site-packages (from tensorflow) (18.1.1)\r\n",
      "Requirement already satisfied: opt-einsum>=2.3.2 in /home/magda/.local/lib/python3.12/site-packages (from tensorflow) (3.4.0)\r\n",
      "Requirement already satisfied: packaging in /home/magda/.local/lib/python3.12/site-packages (from tensorflow) (25.0)\r\n",
      "Requirement already satisfied: protobuf!=4.21.0,!=4.21.1,!=4.21.2,!=4.21.3,!=4.21.4,!=4.21.5,<6.0.0dev,>=3.20.3 in /home/magda/.local/lib/python3.12/site-packages (from tensorflow) (4.25.8)\r\n",
      "Requirement already satisfied: requests<3,>=2.21.0 in /home/magda/.local/lib/python3.12/site-packages (from tensorflow) (2.32.4)\r\n",
      "Requirement already satisfied: setuptools in /home/magda/.local/lib/python3.12/site-packages (from tensorflow) (80.9.0)\r\n",
      "Requirement already satisfied: six>=1.12.0 in /home/magda/.local/lib/python3.12/site-packages (from tensorflow) (1.17.0)\r\n",
      "Requirement already satisfied: termcolor>=1.1.0 in /home/magda/.local/lib/python3.12/site-packages (from tensorflow) (3.1.0)\r\n",
      "Requirement already satisfied: typing-extensions>=3.6.6 in /home/magda/.local/lib/python3.12/site-packages (from tensorflow) (4.14.0)\r\n",
      "Requirement already satisfied: wrapt>=1.11.0 in /home/magda/.local/lib/python3.12/site-packages (from tensorflow) (1.17.2)\r\n",
      "Requirement already satisfied: grpcio<2.0,>=1.24.3 in /home/magda/.local/lib/python3.12/site-packages (from tensorflow) (1.73.1)\r\n",
      "Requirement already satisfied: tensorboard~=2.19.0 in /home/magda/.local/lib/python3.12/site-packages (from tensorflow) (2.19.0)\r\n",
      "Requirement already satisfied: numpy<2.2.0,>=1.26.0 in /home/magda/.local/lib/python3.12/site-packages (from tensorflow) (1.26.4)\r\n",
      "Requirement already satisfied: h5py>=3.11.0 in /home/magda/.local/lib/python3.12/site-packages (from tensorflow) (3.14.0)\r\n",
      "Requirement already satisfied: ml-dtypes<1.0.0,>=0.5.1 in /home/magda/.local/lib/python3.12/site-packages (from tensorflow) (0.5.1)\r\n",
      "Requirement already satisfied: rich in /home/magda/.local/lib/python3.12/site-packages (from keras) (14.0.0)\r\n",
      "Requirement already satisfied: namex in /home/magda/.local/lib/python3.12/site-packages (from keras) (0.1.0)\r\n",
      "Requirement already satisfied: optree in /home/magda/.local/lib/python3.12/site-packages (from keras) (0.16.0)\r\n",
      "Requirement already satisfied: scipy>=1.8.0 in /home/magda/.local/lib/python3.12/site-packages (from scikit-learn) (1.16.0)\r\n",
      "Requirement already satisfied: joblib>=1.2.0 in /home/magda/.local/lib/python3.12/site-packages (from scikit-learn) (1.5.1)\r\n",
      "Requirement already satisfied: threadpoolctl>=3.1.0 in /home/magda/.local/lib/python3.12/site-packages (from scikit-learn) (3.6.0)\r\n",
      "Requirement already satisfied: wheel<1.0,>=0.23.0 in /home/magda/.local/lib/python3.12/site-packages (from astunparse>=1.6.0->tensorflow) (0.45.1)\r\n",
      "Requirement already satisfied: charset_normalizer<4,>=2 in /home/magda/.local/lib/python3.12/site-packages (from requests<3,>=2.21.0->tensorflow) (3.4.2)\r\n",
      "Requirement already satisfied: idna<4,>=2.5 in /home/magda/.local/lib/python3.12/site-packages (from requests<3,>=2.21.0->tensorflow) (3.10)\r\n",
      "Requirement already satisfied: urllib3<3,>=1.21.1 in /home/magda/.local/lib/python3.12/site-packages (from requests<3,>=2.21.0->tensorflow) (2.5.0)\r\n",
      "Requirement already satisfied: certifi>=2017.4.17 in /home/magda/.local/lib/python3.12/site-packages (from requests<3,>=2.21.0->tensorflow) (2025.6.15)\r\n",
      "Requirement already satisfied: markdown>=2.6.8 in /home/magda/.local/lib/python3.12/site-packages (from tensorboard~=2.19.0->tensorflow) (3.8.2)\r\n",
      "Requirement already satisfied: tensorboard-data-server<0.8.0,>=0.7.0 in /home/magda/.local/lib/python3.12/site-packages (from tensorboard~=2.19.0->tensorflow) (0.7.2)\r\n",
      "Requirement already satisfied: werkzeug>=1.0.1 in /home/magda/.local/lib/python3.12/site-packages (from tensorboard~=2.19.0->tensorflow) (3.1.3)\r\n",
      "Requirement already satisfied: markdown-it-py>=2.2.0 in /home/magda/.local/lib/python3.12/site-packages (from rich->keras) (3.0.0)\r\n",
      "Requirement already satisfied: pygments<3.0.0,>=2.13.0 in /home/magda/.local/lib/python3.12/site-packages (from rich->keras) (2.19.2)\r\n",
      "Requirement already satisfied: mdurl~=0.1 in /home/magda/.local/lib/python3.12/site-packages (from markdown-it-py>=2.2.0->rich->keras) (0.1.2)\r\n",
      "Requirement already satisfied: MarkupSafe>=2.1.1 in /home/magda/.local/lib/python3.12/site-packages (from werkzeug>=1.0.1->tensorboard~=2.19.0->tensorflow) (3.0.2)\r\n",
      "\r\n",
      "\u001B[1m[\u001B[0m\u001B[34;49mnotice\u001B[0m\u001B[1;39;49m]\u001B[0m\u001B[39;49m A new release of pip is available: \u001B[0m\u001B[31;49m24.3.1\u001B[0m\u001B[39;49m -> \u001B[0m\u001B[32;49m25.1.1\u001B[0m\r\n",
      "\u001B[1m[\u001B[0m\u001B[34;49mnotice\u001B[0m\u001B[1;39;49m]\u001B[0m\u001B[39;49m To update, run: \u001B[0m\u001B[32;49mpython3.12 -m pip install --upgrade pip\u001B[0m\r\n"
     ]
    }
   ],
   "execution_count": 1
  },
  {
   "cell_type": "code",
   "metadata": {
    "id": "_cw2cLsa3w7a",
    "ExecuteTime": {
     "end_time": "2025-07-10T10:07:39.260201Z",
     "start_time": "2025-07-10T10:07:33.524173Z"
    }
   },
   "source": [
    "import pandas as pd\n",
    "import numpy as np\n",
    "\n",
    "import tensorflow as tf\n",
    "from tensorflow.keras.models import Sequential, Model\n",
    "from tensorflow.keras.layers import Input, Bidirectional, LSTM, Dense, Conv1D, MaxPooling1D, Flatten, Dropout, Attention, Permute, Multiply, Lambda\n",
    "from tensorflow.keras.utils import to_categorical\n",
    "from sklearn.preprocessing import LabelEncoder\n",
    "from tensorflow.keras.callbacks import EarlyStopping\n",
    "import tensorflow.keras.backend as K\n",
    "from sklearn.metrics import classification_report, confusion_matrix, ConfusionMatrixDisplay\n",
    "import matplotlib.pyplot as plt\n"
   ],
   "outputs": [
    {
     "name": "stderr",
     "output_type": "stream",
     "text": [
      "2025-07-10 12:07:34.619964: I external/local_xla/xla/tsl/cuda/cudart_stub.cc:32] Could not find cuda drivers on your machine, GPU will not be used.\n",
      "2025-07-10 12:07:34.731704: I external/local_xla/xla/tsl/cuda/cudart_stub.cc:32] Could not find cuda drivers on your machine, GPU will not be used.\n",
      "2025-07-10 12:07:34.777676: E external/local_xla/xla/stream_executor/cuda/cuda_fft.cc:467] Unable to register cuFFT factory: Attempting to register factory for plugin cuFFT when one has already been registered\n",
      "WARNING: All log messages before absl::InitializeLog() is called are written to STDERR\n",
      "E0000 00:00:1752142054.873965  158374 cuda_dnn.cc:8579] Unable to register cuDNN factory: Attempting to register factory for plugin cuDNN when one has already been registered\n",
      "E0000 00:00:1752142054.894669  158374 cuda_blas.cc:1407] Unable to register cuBLAS factory: Attempting to register factory for plugin cuBLAS when one has already been registered\n",
      "W0000 00:00:1752142055.021369  158374 computation_placer.cc:177] computation placer already registered. Please check linkage and avoid linking the same target more than once.\n",
      "W0000 00:00:1752142055.021394  158374 computation_placer.cc:177] computation placer already registered. Please check linkage and avoid linking the same target more than once.\n",
      "W0000 00:00:1752142055.021396  158374 computation_placer.cc:177] computation placer already registered. Please check linkage and avoid linking the same target more than once.\n",
      "W0000 00:00:1752142055.021398  158374 computation_placer.cc:177] computation placer already registered. Please check linkage and avoid linking the same target more than once.\n",
      "2025-07-10 12:07:35.028796: I tensorflow/core/platform/cpu_feature_guard.cc:210] This TensorFlow binary is optimized to use available CPU instructions in performance-critical operations.\n",
      "To enable the following instructions: AVX2 FMA, in other operations, rebuild TensorFlow with the appropriate compiler flags.\n"
     ]
    }
   ],
   "execution_count": 2
  },
  {
   "cell_type": "markdown",
   "metadata": {
    "id": "F0-_X4Mf2BDW"
   },
   "source": [
    "## 1a. Wczytaj dataset z filmików lekotrów"
   ]
  },
  {
   "cell_type": "markdown",
   "metadata": {
    "id": "iUAhmztPiZ71"
   },
   "source": [
    "### Wczytanie datasetu"
   ]
  },
  {
   "cell_type": "code",
   "metadata": {
    "id": "YNMnoujb1sWc",
    "ExecuteTime": {
     "end_time": "2025-07-10T10:07:39.551367Z",
     "start_time": "2025-07-10T10:07:39.273672Z"
    }
   },
   "source": "df = pd.read_csv('../dataset/videos/videos_dataset.csv')",
   "outputs": [],
   "execution_count": 3
  },
  {
   "cell_type": "code",
   "metadata": {
    "colab": {
     "base_uri": "https://localhost:8080/",
     "height": 256
    },
    "id": "pj6ZA6fY34Hb",
    "outputId": "2d9fa023-5353-4a3e-abb0-754a16723beb",
    "ExecuteTime": {
     "end_time": "2025-07-10T10:07:40.945169Z",
     "start_time": "2025-07-10T10:07:40.914183Z"
    }
   },
   "source": [
    "df.head()"
   ],
   "outputs": [
    {
     "data": {
      "text/plain": [
       "   sample_id  frame user_id label  landmark_1_x  landmark_1_y  landmark_1_z  \\\n",
       "0          1      0      a2     A      0.345417      0.648431 -1.125724e-07   \n",
       "1          1      1      a2     A      0.366266      0.597102 -9.622672e-08   \n",
       "2          1      2      a2     A      0.400966      0.572690 -1.089629e-07   \n",
       "3          1      3      a2     A      0.418257      0.573744 -1.190043e-07   \n",
       "4          1      4      a2     A      0.431913      0.582072 -1.241054e-07   \n",
       "\n",
       "   landmark_2_x  landmark_2_y  landmark_2_z  ...  landmark_18_z  \\\n",
       "0      0.363545      0.620765     -0.010274  ...      -0.003865   \n",
       "1      0.391580      0.578109     -0.012907  ...       0.000685   \n",
       "2      0.424555      0.552354     -0.004017  ...      -0.004296   \n",
       "3      0.441344      0.563031     -0.007786  ...      -0.002903   \n",
       "4      0.453692      0.577044     -0.009167  ...      -0.004793   \n",
       "\n",
       "   landmark_19_x  landmark_19_y  landmark_19_z  landmark_20_x  landmark_20_y  \\\n",
       "0       0.321722       0.551512      -0.008457       0.326903       0.565844   \n",
       "1       0.356418       0.497935      -0.004451       0.361665       0.515749   \n",
       "2       0.383425       0.481909      -0.009304       0.389207       0.502081   \n",
       "3       0.402536       0.489501      -0.009669       0.406139       0.510639   \n",
       "4       0.417201       0.501486      -0.012369       0.419653       0.524298   \n",
       "\n",
       "   landmark_20_z  landmark_21_x  landmark_21_y  landmark_21_z  \n",
       "0      -0.005724       0.329682       0.577548      -0.001789  \n",
       "1      -0.001988       0.363353       0.523833       0.002337  \n",
       "2      -0.005430       0.391897       0.513775      -0.000924  \n",
       "3      -0.006567       0.409394       0.523706      -0.001918  \n",
       "4      -0.008715       0.422120       0.535854      -0.003439  \n",
       "\n",
       "[5 rows x 67 columns]"
      ],
      "text/html": [
       "<div>\n",
       "<style scoped>\n",
       "    .dataframe tbody tr th:only-of-type {\n",
       "        vertical-align: middle;\n",
       "    }\n",
       "\n",
       "    .dataframe tbody tr th {\n",
       "        vertical-align: top;\n",
       "    }\n",
       "\n",
       "    .dataframe thead th {\n",
       "        text-align: right;\n",
       "    }\n",
       "</style>\n",
       "<table border=\"1\" class=\"dataframe\">\n",
       "  <thead>\n",
       "    <tr style=\"text-align: right;\">\n",
       "      <th></th>\n",
       "      <th>sample_id</th>\n",
       "      <th>frame</th>\n",
       "      <th>user_id</th>\n",
       "      <th>label</th>\n",
       "      <th>landmark_1_x</th>\n",
       "      <th>landmark_1_y</th>\n",
       "      <th>landmark_1_z</th>\n",
       "      <th>landmark_2_x</th>\n",
       "      <th>landmark_2_y</th>\n",
       "      <th>landmark_2_z</th>\n",
       "      <th>...</th>\n",
       "      <th>landmark_18_z</th>\n",
       "      <th>landmark_19_x</th>\n",
       "      <th>landmark_19_y</th>\n",
       "      <th>landmark_19_z</th>\n",
       "      <th>landmark_20_x</th>\n",
       "      <th>landmark_20_y</th>\n",
       "      <th>landmark_20_z</th>\n",
       "      <th>landmark_21_x</th>\n",
       "      <th>landmark_21_y</th>\n",
       "      <th>landmark_21_z</th>\n",
       "    </tr>\n",
       "  </thead>\n",
       "  <tbody>\n",
       "    <tr>\n",
       "      <th>0</th>\n",
       "      <td>1</td>\n",
       "      <td>0</td>\n",
       "      <td>a2</td>\n",
       "      <td>A</td>\n",
       "      <td>0.345417</td>\n",
       "      <td>0.648431</td>\n",
       "      <td>-1.125724e-07</td>\n",
       "      <td>0.363545</td>\n",
       "      <td>0.620765</td>\n",
       "      <td>-0.010274</td>\n",
       "      <td>...</td>\n",
       "      <td>-0.003865</td>\n",
       "      <td>0.321722</td>\n",
       "      <td>0.551512</td>\n",
       "      <td>-0.008457</td>\n",
       "      <td>0.326903</td>\n",
       "      <td>0.565844</td>\n",
       "      <td>-0.005724</td>\n",
       "      <td>0.329682</td>\n",
       "      <td>0.577548</td>\n",
       "      <td>-0.001789</td>\n",
       "    </tr>\n",
       "    <tr>\n",
       "      <th>1</th>\n",
       "      <td>1</td>\n",
       "      <td>1</td>\n",
       "      <td>a2</td>\n",
       "      <td>A</td>\n",
       "      <td>0.366266</td>\n",
       "      <td>0.597102</td>\n",
       "      <td>-9.622672e-08</td>\n",
       "      <td>0.391580</td>\n",
       "      <td>0.578109</td>\n",
       "      <td>-0.012907</td>\n",
       "      <td>...</td>\n",
       "      <td>0.000685</td>\n",
       "      <td>0.356418</td>\n",
       "      <td>0.497935</td>\n",
       "      <td>-0.004451</td>\n",
       "      <td>0.361665</td>\n",
       "      <td>0.515749</td>\n",
       "      <td>-0.001988</td>\n",
       "      <td>0.363353</td>\n",
       "      <td>0.523833</td>\n",
       "      <td>0.002337</td>\n",
       "    </tr>\n",
       "    <tr>\n",
       "      <th>2</th>\n",
       "      <td>1</td>\n",
       "      <td>2</td>\n",
       "      <td>a2</td>\n",
       "      <td>A</td>\n",
       "      <td>0.400966</td>\n",
       "      <td>0.572690</td>\n",
       "      <td>-1.089629e-07</td>\n",
       "      <td>0.424555</td>\n",
       "      <td>0.552354</td>\n",
       "      <td>-0.004017</td>\n",
       "      <td>...</td>\n",
       "      <td>-0.004296</td>\n",
       "      <td>0.383425</td>\n",
       "      <td>0.481909</td>\n",
       "      <td>-0.009304</td>\n",
       "      <td>0.389207</td>\n",
       "      <td>0.502081</td>\n",
       "      <td>-0.005430</td>\n",
       "      <td>0.391897</td>\n",
       "      <td>0.513775</td>\n",
       "      <td>-0.000924</td>\n",
       "    </tr>\n",
       "    <tr>\n",
       "      <th>3</th>\n",
       "      <td>1</td>\n",
       "      <td>3</td>\n",
       "      <td>a2</td>\n",
       "      <td>A</td>\n",
       "      <td>0.418257</td>\n",
       "      <td>0.573744</td>\n",
       "      <td>-1.190043e-07</td>\n",
       "      <td>0.441344</td>\n",
       "      <td>0.563031</td>\n",
       "      <td>-0.007786</td>\n",
       "      <td>...</td>\n",
       "      <td>-0.002903</td>\n",
       "      <td>0.402536</td>\n",
       "      <td>0.489501</td>\n",
       "      <td>-0.009669</td>\n",
       "      <td>0.406139</td>\n",
       "      <td>0.510639</td>\n",
       "      <td>-0.006567</td>\n",
       "      <td>0.409394</td>\n",
       "      <td>0.523706</td>\n",
       "      <td>-0.001918</td>\n",
       "    </tr>\n",
       "    <tr>\n",
       "      <th>4</th>\n",
       "      <td>1</td>\n",
       "      <td>4</td>\n",
       "      <td>a2</td>\n",
       "      <td>A</td>\n",
       "      <td>0.431913</td>\n",
       "      <td>0.582072</td>\n",
       "      <td>-1.241054e-07</td>\n",
       "      <td>0.453692</td>\n",
       "      <td>0.577044</td>\n",
       "      <td>-0.009167</td>\n",
       "      <td>...</td>\n",
       "      <td>-0.004793</td>\n",
       "      <td>0.417201</td>\n",
       "      <td>0.501486</td>\n",
       "      <td>-0.012369</td>\n",
       "      <td>0.419653</td>\n",
       "      <td>0.524298</td>\n",
       "      <td>-0.008715</td>\n",
       "      <td>0.422120</td>\n",
       "      <td>0.535854</td>\n",
       "      <td>-0.003439</td>\n",
       "    </tr>\n",
       "  </tbody>\n",
       "</table>\n",
       "<p>5 rows × 67 columns</p>\n",
       "</div>"
      ]
     },
     "execution_count": 4,
     "metadata": {},
     "output_type": "execute_result"
    }
   ],
   "execution_count": 4
  },
  {
   "cell_type": "code",
   "metadata": {
    "id": "nrONLyvK4ZjT",
    "ExecuteTime": {
     "end_time": "2025-07-10T10:07:43.106222Z",
     "start_time": "2025-07-10T10:07:43.099742Z"
    }
   },
   "source": [
    "df.drop('user_id', axis=1, inplace=True)"
   ],
   "outputs": [],
   "execution_count": 5
  },
  {
   "cell_type": "code",
   "metadata": {
    "colab": {
     "base_uri": "https://localhost:8080/"
    },
    "id": "tk44cLc64n3t",
    "outputId": "c6e83db0-2ee1-4f79-c577-bf97ec77a146",
    "ExecuteTime": {
     "end_time": "2025-07-10T10:07:44.745805Z",
     "start_time": "2025-07-10T10:07:44.728077Z"
    }
   },
   "source": [
    "df.info()"
   ],
   "outputs": [
    {
     "name": "stdout",
     "output_type": "stream",
     "text": [
      "<class 'pandas.core.frame.DataFrame'>\n",
      "RangeIndex: 13080 entries, 0 to 13079\n",
      "Data columns (total 66 columns):\n",
      " #   Column         Non-Null Count  Dtype  \n",
      "---  ------         --------------  -----  \n",
      " 0   sample_id      13080 non-null  int64  \n",
      " 1   frame          13080 non-null  int64  \n",
      " 2   label          13080 non-null  object \n",
      " 3   landmark_1_x   13080 non-null  float64\n",
      " 4   landmark_1_y   13080 non-null  float64\n",
      " 5   landmark_1_z   13080 non-null  float64\n",
      " 6   landmark_2_x   13080 non-null  float64\n",
      " 7   landmark_2_y   13080 non-null  float64\n",
      " 8   landmark_2_z   13080 non-null  float64\n",
      " 9   landmark_3_x   13080 non-null  float64\n",
      " 10  landmark_3_y   13080 non-null  float64\n",
      " 11  landmark_3_z   13080 non-null  float64\n",
      " 12  landmark_4_x   13080 non-null  float64\n",
      " 13  landmark_4_y   13080 non-null  float64\n",
      " 14  landmark_4_z   13080 non-null  float64\n",
      " 15  landmark_5_x   13080 non-null  float64\n",
      " 16  landmark_5_y   13080 non-null  float64\n",
      " 17  landmark_5_z   13080 non-null  float64\n",
      " 18  landmark_6_x   13080 non-null  float64\n",
      " 19  landmark_6_y   13080 non-null  float64\n",
      " 20  landmark_6_z   13080 non-null  float64\n",
      " 21  landmark_7_x   13080 non-null  float64\n",
      " 22  landmark_7_y   13080 non-null  float64\n",
      " 23  landmark_7_z   13080 non-null  float64\n",
      " 24  landmark_8_x   13080 non-null  float64\n",
      " 25  landmark_8_y   13080 non-null  float64\n",
      " 26  landmark_8_z   13080 non-null  float64\n",
      " 27  landmark_9_x   13080 non-null  float64\n",
      " 28  landmark_9_y   13080 non-null  float64\n",
      " 29  landmark_9_z   13080 non-null  float64\n",
      " 30  landmark_10_x  13080 non-null  float64\n",
      " 31  landmark_10_y  13080 non-null  float64\n",
      " 32  landmark_10_z  13080 non-null  float64\n",
      " 33  landmark_11_x  13080 non-null  float64\n",
      " 34  landmark_11_y  13080 non-null  float64\n",
      " 35  landmark_11_z  13080 non-null  float64\n",
      " 36  landmark_12_x  13080 non-null  float64\n",
      " 37  landmark_12_y  13080 non-null  float64\n",
      " 38  landmark_12_z  13080 non-null  float64\n",
      " 39  landmark_13_x  13080 non-null  float64\n",
      " 40  landmark_13_y  13080 non-null  float64\n",
      " 41  landmark_13_z  13080 non-null  float64\n",
      " 42  landmark_14_x  13080 non-null  float64\n",
      " 43  landmark_14_y  13080 non-null  float64\n",
      " 44  landmark_14_z  13080 non-null  float64\n",
      " 45  landmark_15_x  13080 non-null  float64\n",
      " 46  landmark_15_y  13080 non-null  float64\n",
      " 47  landmark_15_z  13080 non-null  float64\n",
      " 48  landmark_16_x  13080 non-null  float64\n",
      " 49  landmark_16_y  13080 non-null  float64\n",
      " 50  landmark_16_z  13080 non-null  float64\n",
      " 51  landmark_17_x  13080 non-null  float64\n",
      " 52  landmark_17_y  13080 non-null  float64\n",
      " 53  landmark_17_z  13080 non-null  float64\n",
      " 54  landmark_18_x  13080 non-null  float64\n",
      " 55  landmark_18_y  13080 non-null  float64\n",
      " 56  landmark_18_z  13080 non-null  float64\n",
      " 57  landmark_19_x  13080 non-null  float64\n",
      " 58  landmark_19_y  13080 non-null  float64\n",
      " 59  landmark_19_z  13080 non-null  float64\n",
      " 60  landmark_20_x  13080 non-null  float64\n",
      " 61  landmark_20_y  13080 non-null  float64\n",
      " 62  landmark_20_z  13080 non-null  float64\n",
      " 63  landmark_21_x  13080 non-null  float64\n",
      " 64  landmark_21_y  13080 non-null  float64\n",
      " 65  landmark_21_z  13080 non-null  float64\n",
      "dtypes: float64(63), int64(2), object(1)\n",
      "memory usage: 6.6+ MB\n"
     ]
    }
   ],
   "execution_count": 6
  },
  {
   "cell_type": "code",
   "metadata": {
    "id": "_CkFp1jq4xiR",
    "ExecuteTime": {
     "end_time": "2025-07-10T10:07:46.746822Z",
     "start_time": "2025-07-10T10:07:46.740200Z"
    }
   },
   "source": [
    "# set label as category type\n",
    "df['label'] = df['label'].astype('category')"
   ],
   "outputs": [],
   "execution_count": 7
  },
  {
   "cell_type": "markdown",
   "metadata": {
    "id": "7qfl8ngzrjhz"
   },
   "source": [
    "## 1b. Wczytaj dataset moj dataset"
   ]
  },
  {
   "cell_type": "code",
   "metadata": {
    "id": "09ZnoQjBrr66",
    "ExecuteTime": {
     "end_time": "2025-07-10T10:07:49.763102Z",
     "start_time": "2025-07-10T10:07:49.199185Z"
    }
   },
   "source": [
    "df2 = pd.read_csv('../dataset/own/own_dataset.csv')"
   ],
   "outputs": [],
   "execution_count": 8
  },
  {
   "cell_type": "code",
   "metadata": {
    "colab": {
     "base_uri": "https://localhost:8080/",
     "height": 256
    },
    "id": "GmXHB8qZrut-",
    "outputId": "0c0d04f7-5c1c-4f8a-a225-a974510665fa",
    "ExecuteTime": {
     "end_time": "2025-07-10T10:07:50.502813Z",
     "start_time": "2025-07-10T10:07:50.482638Z"
    }
   },
   "source": [
    "df2.head()"
   ],
   "outputs": [
    {
     "data": {
      "text/plain": [
       "   user_id label  sample_id  frame  landmark_1_x  landmark_1_y  landmark_1_z  \\\n",
       "0        1     Z          1      0      0.435695      0.576969  4.036861e-08   \n",
       "1        3     Z          1      0      0.578351      0.609560  5.265319e-08   \n",
       "2        4     Z          1      0      0.507152      0.550208  6.161761e-08   \n",
       "3        1     Z          1      1      0.437542      0.579177  4.156175e-08   \n",
       "4        3     Z          1      1      0.578379      0.609218  5.853659e-08   \n",
       "\n",
       "   landmark_2_x  landmark_2_y  landmark_2_z  ...  landmark_18_z  \\\n",
       "0      0.480515      0.548350     -0.026277  ...      -0.048237   \n",
       "1      0.624348      0.585140     -0.014683  ...      -0.061790   \n",
       "2      0.538633      0.521261     -0.014309  ...      -0.027720   \n",
       "3      0.482692      0.549850     -0.026735  ...      -0.047561   \n",
       "4      0.624059      0.584968     -0.014740  ...      -0.061531   \n",
       "\n",
       "   landmark_19_x  landmark_19_y  landmark_19_z  landmark_20_x  landmark_20_y  \\\n",
       "0       0.413569       0.455929      -0.074037       0.423309       0.496448   \n",
       "1       0.585376       0.526921      -0.080099       0.590219       0.553543   \n",
       "2       0.487526       0.448841      -0.044816       0.503914       0.473505   \n",
       "3       0.414696       0.457763      -0.073083       0.424467       0.497505   \n",
       "4       0.585250       0.526183      -0.079531       0.589327       0.552980   \n",
       "\n",
       "   landmark_20_z  landmark_21_x  landmark_21_y  landmark_21_z  \n",
       "0      -0.069420       0.417086       0.505802      -0.059601  \n",
       "1      -0.076534       0.579452       0.550328      -0.069926  \n",
       "2      -0.041604       0.512892       0.491349      -0.033786  \n",
       "3      -0.068846       0.418851       0.507512      -0.059264  \n",
       "4      -0.075569       0.577682       0.549286      -0.068727  \n",
       "\n",
       "[5 rows x 67 columns]"
      ],
      "text/html": [
       "<div>\n",
       "<style scoped>\n",
       "    .dataframe tbody tr th:only-of-type {\n",
       "        vertical-align: middle;\n",
       "    }\n",
       "\n",
       "    .dataframe tbody tr th {\n",
       "        vertical-align: top;\n",
       "    }\n",
       "\n",
       "    .dataframe thead th {\n",
       "        text-align: right;\n",
       "    }\n",
       "</style>\n",
       "<table border=\"1\" class=\"dataframe\">\n",
       "  <thead>\n",
       "    <tr style=\"text-align: right;\">\n",
       "      <th></th>\n",
       "      <th>user_id</th>\n",
       "      <th>label</th>\n",
       "      <th>sample_id</th>\n",
       "      <th>frame</th>\n",
       "      <th>landmark_1_x</th>\n",
       "      <th>landmark_1_y</th>\n",
       "      <th>landmark_1_z</th>\n",
       "      <th>landmark_2_x</th>\n",
       "      <th>landmark_2_y</th>\n",
       "      <th>landmark_2_z</th>\n",
       "      <th>...</th>\n",
       "      <th>landmark_18_z</th>\n",
       "      <th>landmark_19_x</th>\n",
       "      <th>landmark_19_y</th>\n",
       "      <th>landmark_19_z</th>\n",
       "      <th>landmark_20_x</th>\n",
       "      <th>landmark_20_y</th>\n",
       "      <th>landmark_20_z</th>\n",
       "      <th>landmark_21_x</th>\n",
       "      <th>landmark_21_y</th>\n",
       "      <th>landmark_21_z</th>\n",
       "    </tr>\n",
       "  </thead>\n",
       "  <tbody>\n",
       "    <tr>\n",
       "      <th>0</th>\n",
       "      <td>1</td>\n",
       "      <td>Z</td>\n",
       "      <td>1</td>\n",
       "      <td>0</td>\n",
       "      <td>0.435695</td>\n",
       "      <td>0.576969</td>\n",
       "      <td>4.036861e-08</td>\n",
       "      <td>0.480515</td>\n",
       "      <td>0.548350</td>\n",
       "      <td>-0.026277</td>\n",
       "      <td>...</td>\n",
       "      <td>-0.048237</td>\n",
       "      <td>0.413569</td>\n",
       "      <td>0.455929</td>\n",
       "      <td>-0.074037</td>\n",
       "      <td>0.423309</td>\n",
       "      <td>0.496448</td>\n",
       "      <td>-0.069420</td>\n",
       "      <td>0.417086</td>\n",
       "      <td>0.505802</td>\n",
       "      <td>-0.059601</td>\n",
       "    </tr>\n",
       "    <tr>\n",
       "      <th>1</th>\n",
       "      <td>3</td>\n",
       "      <td>Z</td>\n",
       "      <td>1</td>\n",
       "      <td>0</td>\n",
       "      <td>0.578351</td>\n",
       "      <td>0.609560</td>\n",
       "      <td>5.265319e-08</td>\n",
       "      <td>0.624348</td>\n",
       "      <td>0.585140</td>\n",
       "      <td>-0.014683</td>\n",
       "      <td>...</td>\n",
       "      <td>-0.061790</td>\n",
       "      <td>0.585376</td>\n",
       "      <td>0.526921</td>\n",
       "      <td>-0.080099</td>\n",
       "      <td>0.590219</td>\n",
       "      <td>0.553543</td>\n",
       "      <td>-0.076534</td>\n",
       "      <td>0.579452</td>\n",
       "      <td>0.550328</td>\n",
       "      <td>-0.069926</td>\n",
       "    </tr>\n",
       "    <tr>\n",
       "      <th>2</th>\n",
       "      <td>4</td>\n",
       "      <td>Z</td>\n",
       "      <td>1</td>\n",
       "      <td>0</td>\n",
       "      <td>0.507152</td>\n",
       "      <td>0.550208</td>\n",
       "      <td>6.161761e-08</td>\n",
       "      <td>0.538633</td>\n",
       "      <td>0.521261</td>\n",
       "      <td>-0.014309</td>\n",
       "      <td>...</td>\n",
       "      <td>-0.027720</td>\n",
       "      <td>0.487526</td>\n",
       "      <td>0.448841</td>\n",
       "      <td>-0.044816</td>\n",
       "      <td>0.503914</td>\n",
       "      <td>0.473505</td>\n",
       "      <td>-0.041604</td>\n",
       "      <td>0.512892</td>\n",
       "      <td>0.491349</td>\n",
       "      <td>-0.033786</td>\n",
       "    </tr>\n",
       "    <tr>\n",
       "      <th>3</th>\n",
       "      <td>1</td>\n",
       "      <td>Z</td>\n",
       "      <td>1</td>\n",
       "      <td>1</td>\n",
       "      <td>0.437542</td>\n",
       "      <td>0.579177</td>\n",
       "      <td>4.156175e-08</td>\n",
       "      <td>0.482692</td>\n",
       "      <td>0.549850</td>\n",
       "      <td>-0.026735</td>\n",
       "      <td>...</td>\n",
       "      <td>-0.047561</td>\n",
       "      <td>0.414696</td>\n",
       "      <td>0.457763</td>\n",
       "      <td>-0.073083</td>\n",
       "      <td>0.424467</td>\n",
       "      <td>0.497505</td>\n",
       "      <td>-0.068846</td>\n",
       "      <td>0.418851</td>\n",
       "      <td>0.507512</td>\n",
       "      <td>-0.059264</td>\n",
       "    </tr>\n",
       "    <tr>\n",
       "      <th>4</th>\n",
       "      <td>3</td>\n",
       "      <td>Z</td>\n",
       "      <td>1</td>\n",
       "      <td>1</td>\n",
       "      <td>0.578379</td>\n",
       "      <td>0.609218</td>\n",
       "      <td>5.853659e-08</td>\n",
       "      <td>0.624059</td>\n",
       "      <td>0.584968</td>\n",
       "      <td>-0.014740</td>\n",
       "      <td>...</td>\n",
       "      <td>-0.061531</td>\n",
       "      <td>0.585250</td>\n",
       "      <td>0.526183</td>\n",
       "      <td>-0.079531</td>\n",
       "      <td>0.589327</td>\n",
       "      <td>0.552980</td>\n",
       "      <td>-0.075569</td>\n",
       "      <td>0.577682</td>\n",
       "      <td>0.549286</td>\n",
       "      <td>-0.068727</td>\n",
       "    </tr>\n",
       "  </tbody>\n",
       "</table>\n",
       "<p>5 rows × 67 columns</p>\n",
       "</div>"
      ]
     },
     "execution_count": 9,
     "metadata": {},
     "output_type": "execute_result"
    }
   ],
   "execution_count": 9
  },
  {
   "cell_type": "code",
   "metadata": {
    "id": "k7fAlnIzsqD3",
    "ExecuteTime": {
     "end_time": "2025-07-10T10:07:53.000240Z",
     "start_time": "2025-07-10T10:07:52.991658Z"
    }
   },
   "source": [
    "df2 = df2.drop('user_id', axis=1)"
   ],
   "outputs": [],
   "execution_count": 10
  },
  {
   "cell_type": "code",
   "metadata": {
    "colab": {
     "base_uri": "https://localhost:8080/"
    },
    "id": "9ILRJ1u7sj2g",
    "outputId": "9a687a0f-bdc9-4b2a-b660-cc6ae1fd5179",
    "ExecuteTime": {
     "end_time": "2025-07-10T10:07:54.338015Z",
     "start_time": "2025-07-10T10:07:54.317888Z"
    }
   },
   "source": [
    "df2.info()"
   ],
   "outputs": [
    {
     "name": "stdout",
     "output_type": "stream",
     "text": [
      "<class 'pandas.core.frame.DataFrame'>\n",
      "RangeIndex: 32463 entries, 0 to 32462\n",
      "Data columns (total 66 columns):\n",
      " #   Column         Non-Null Count  Dtype  \n",
      "---  ------         --------------  -----  \n",
      " 0   label          32463 non-null  object \n",
      " 1   sample_id      32463 non-null  int64  \n",
      " 2   frame          32463 non-null  int64  \n",
      " 3   landmark_1_x   32463 non-null  float64\n",
      " 4   landmark_1_y   32463 non-null  float64\n",
      " 5   landmark_1_z   32463 non-null  float64\n",
      " 6   landmark_2_x   32463 non-null  float64\n",
      " 7   landmark_2_y   32463 non-null  float64\n",
      " 8   landmark_2_z   32463 non-null  float64\n",
      " 9   landmark_3_x   32463 non-null  float64\n",
      " 10  landmark_3_y   32463 non-null  float64\n",
      " 11  landmark_3_z   32463 non-null  float64\n",
      " 12  landmark_4_x   32463 non-null  float64\n",
      " 13  landmark_4_y   32463 non-null  float64\n",
      " 14  landmark_4_z   32463 non-null  float64\n",
      " 15  landmark_5_x   32463 non-null  float64\n",
      " 16  landmark_5_y   32463 non-null  float64\n",
      " 17  landmark_5_z   32463 non-null  float64\n",
      " 18  landmark_6_x   32463 non-null  float64\n",
      " 19  landmark_6_y   32463 non-null  float64\n",
      " 20  landmark_6_z   32463 non-null  float64\n",
      " 21  landmark_7_x   32463 non-null  float64\n",
      " 22  landmark_7_y   32463 non-null  float64\n",
      " 23  landmark_7_z   32463 non-null  float64\n",
      " 24  landmark_8_x   32463 non-null  float64\n",
      " 25  landmark_8_y   32463 non-null  float64\n",
      " 26  landmark_8_z   32463 non-null  float64\n",
      " 27  landmark_9_x   32463 non-null  float64\n",
      " 28  landmark_9_y   32463 non-null  float64\n",
      " 29  landmark_9_z   32463 non-null  float64\n",
      " 30  landmark_10_x  32463 non-null  float64\n",
      " 31  landmark_10_y  32463 non-null  float64\n",
      " 32  landmark_10_z  32463 non-null  float64\n",
      " 33  landmark_11_x  32463 non-null  float64\n",
      " 34  landmark_11_y  32463 non-null  float64\n",
      " 35  landmark_11_z  32463 non-null  float64\n",
      " 36  landmark_12_x  32463 non-null  float64\n",
      " 37  landmark_12_y  32463 non-null  float64\n",
      " 38  landmark_12_z  32463 non-null  float64\n",
      " 39  landmark_13_x  32463 non-null  float64\n",
      " 40  landmark_13_y  32463 non-null  float64\n",
      " 41  landmark_13_z  32463 non-null  float64\n",
      " 42  landmark_14_x  32463 non-null  float64\n",
      " 43  landmark_14_y  32463 non-null  float64\n",
      " 44  landmark_14_z  32463 non-null  float64\n",
      " 45  landmark_15_x  32463 non-null  float64\n",
      " 46  landmark_15_y  32463 non-null  float64\n",
      " 47  landmark_15_z  32463 non-null  float64\n",
      " 48  landmark_16_x  32463 non-null  float64\n",
      " 49  landmark_16_y  32463 non-null  float64\n",
      " 50  landmark_16_z  32463 non-null  float64\n",
      " 51  landmark_17_x  32463 non-null  float64\n",
      " 52  landmark_17_y  32463 non-null  float64\n",
      " 53  landmark_17_z  32463 non-null  float64\n",
      " 54  landmark_18_x  32463 non-null  float64\n",
      " 55  landmark_18_y  32463 non-null  float64\n",
      " 56  landmark_18_z  32463 non-null  float64\n",
      " 57  landmark_19_x  32463 non-null  float64\n",
      " 58  landmark_19_y  32463 non-null  float64\n",
      " 59  landmark_19_z  32463 non-null  float64\n",
      " 60  landmark_20_x  32463 non-null  float64\n",
      " 61  landmark_20_y  32463 non-null  float64\n",
      " 62  landmark_20_z  32463 non-null  float64\n",
      " 63  landmark_21_x  32463 non-null  float64\n",
      " 64  landmark_21_y  32463 non-null  float64\n",
      " 65  landmark_21_z  32463 non-null  float64\n",
      "dtypes: float64(63), int64(2), object(1)\n",
      "memory usage: 16.3+ MB\n"
     ]
    }
   ],
   "execution_count": 11
  },
  {
   "cell_type": "code",
   "metadata": {
    "id": "SwAkzopvszGI",
    "ExecuteTime": {
     "end_time": "2025-07-10T10:07:56.579112Z",
     "start_time": "2025-07-10T10:07:56.571014Z"
    }
   },
   "source": [
    "df2['label'] = df2['label'].astype('category')"
   ],
   "outputs": [],
   "execution_count": 12
  },
  {
   "cell_type": "markdown",
   "metadata": {
    "id": "peLXXgf4tA0Q"
   },
   "source": [
    "## 1c. Połączenie datasetów"
   ]
  },
  {
   "cell_type": "code",
   "metadata": {
    "id": "dzvJhZ1otEXq",
    "ExecuteTime": {
     "end_time": "2025-07-10T10:08:03.991367Z",
     "start_time": "2025-07-10T10:08:00.137546Z"
    }
   },
   "source": [
    "# 1. Liczba unikalnych próbek w df\n",
    "max_sample_id_df = df['sample_id'].max()\n",
    "\n",
    "# 2. Dodaj przesunięcie do df2\n",
    "df2['sample_id'] += max_sample_id_df\n",
    "\n",
    "# 3. Połączenie obu zbiorów\n",
    "merged_df = pd.concat([df, df2], ignore_index=True)\n",
    "\n",
    "# (opcjonalnie) Sortuj po sample_id i frame, jeśli potrzebne\n",
    "merged_df.sort_values(by=['sample_id', 'frame'], inplace=True)\n",
    "\n",
    "# Przykład zapisu\n",
    "merged_df.to_csv('both_datasets.csv', index=False)"
   ],
   "outputs": [],
   "execution_count": 13
  },
  {
   "cell_type": "code",
   "metadata": {
    "colab": {
     "base_uri": "https://localhost:8080/"
    },
    "id": "PVkc-H0SuI_8",
    "outputId": "4c97f156-6e4b-4078-d68b-43c77750062d",
    "ExecuteTime": {
     "end_time": "2025-07-10T10:08:07.149169Z",
     "start_time": "2025-07-10T10:08:07.143707Z"
    }
   },
   "source": [
    "len(df) + len(df2)"
   ],
   "outputs": [
    {
     "data": {
      "text/plain": [
       "45543"
      ]
     },
     "execution_count": 14,
     "metadata": {},
     "output_type": "execute_result"
    }
   ],
   "execution_count": 14
  },
  {
   "cell_type": "code",
   "metadata": {
    "colab": {
     "base_uri": "https://localhost:8080/"
    },
    "id": "GZj_sFbkuC0G",
    "outputId": "8fea370f-322b-43c0-cd1c-566f8e9d445e",
    "ExecuteTime": {
     "end_time": "2025-07-10T10:08:08.525633Z",
     "start_time": "2025-07-10T10:08:08.519546Z"
    }
   },
   "source": [
    "len(merged_df)"
   ],
   "outputs": [
    {
     "data": {
      "text/plain": [
       "45543"
      ]
     },
     "execution_count": 15,
     "metadata": {},
     "output_type": "execute_result"
    }
   ],
   "execution_count": 15
  },
  {
   "cell_type": "markdown",
   "metadata": {
    "id": "WVeh46Oy2EMS"
   },
   "source": [
    "## 2. Podziel dataset na sekwencje"
   ]
  },
  {
   "cell_type": "code",
   "metadata": {
    "id": "zwijC5vTHiJo",
    "ExecuteTime": {
     "end_time": "2025-07-10T10:08:14.328846Z",
     "start_time": "2025-07-10T10:08:13.538289Z"
    }
   },
   "source": [
    "landmark_cols = [col for col in merged_df.columns if col.startswith('landmark_')]\n",
    "sequences, labels = [], []\n",
    "\n",
    "# group by sample_id\n",
    "for sample_id, group in merged_df.groupby('sample_id'):\n",
    "  group = group.reset_index(drop=True)\n",
    "  label = group.loc[0, 'label']\n",
    "\n",
    "  #delete unused cols\n",
    "  data = group.drop(columns=['sample_id','frame', 'label'], axis=1)\n",
    "\n",
    "  # divide into 30 frames sequences\n",
    "  for start in range(0, len(data) - 29):\n",
    "        segment = data.iloc[start:start+30].values\n",
    "        sequences.append({\n",
    "            'label': label,\n",
    "            'sequence': segment  # numpy array 30x63\n",
    "        })\n",
    "\n",
    "X = np.array([seq['sequence'] for seq in sequences])\n",
    "y = np.array([seq['label'] for seq in sequences])\n"
   ],
   "outputs": [],
   "execution_count": 16
  },
  {
   "cell_type": "markdown",
   "metadata": {
    "id": "Ht3aCAa2NVeH"
   },
   "source": [
    "# Normalizacja względem nadgarstka pierwszej klatki w sekwencji"
   ]
  },
  {
   "cell_type": "code",
   "metadata": {
    "id": "5i7JlQ4xNfXG",
    "ExecuteTime": {
     "end_time": "2025-07-10T10:08:23.370563Z",
     "start_time": "2025-07-10T10:08:20.887598Z"
    }
   },
   "source": [
    "# Normalizacja jednej sekwencji względem nadgarstka pierwszej klatki\n",
    "def normalize_sequence_wrist_origin(sequence):\n",
    "    sequence = sequence.copy()\n",
    "    wrist_origin = sequence[0].reshape(21, 3)[0]\n",
    "\n",
    "    for i in range(sequence.shape[0]):\n",
    "        frame = sequence[i].reshape(21, 3)\n",
    "        normalized = frame - wrist_origin\n",
    "        sequence[i] = normalized.flatten()\n",
    "\n",
    "    return sequence\n",
    "\n",
    "# Zastosowanie normalizacji dla wszystkich sekwencji\n",
    "X_normalized = np.array([normalize_sequence_wrist_origin(seq) for seq in X])\n"
   ],
   "outputs": [],
   "execution_count": 17
  },
  {
   "cell_type": "markdown",
   "metadata": {
    "id": "GgBQnDOZ2WAU"
   },
   "source": [
    "# Augumentacja danych"
   ]
  },
  {
   "cell_type": "markdown",
   "metadata": {
    "id": "yco3xjRH2mkX"
   },
   "source": [
    "## 1. Rotacja o kąt"
   ]
  },
  {
   "cell_type": "code",
   "metadata": {
    "id": "ebYODnRepvum",
    "ExecuteTime": {
     "end_time": "2025-07-10T10:08:26.302611Z",
     "start_time": "2025-07-10T10:08:26.298404Z"
    }
   },
   "source": [
    "def get_rotation_matrix(axis: str, angle_rad: float):\n",
    "    c, s = np.cos(angle_rad), np.sin(angle_rad)\n",
    "    if axis == 'x':\n",
    "        return np.array([[1, 0, 0],\n",
    "                         [0, c, -s],\n",
    "                         [0, s, c]])\n",
    "    elif axis == 'y':\n",
    "        return np.array([[c, 0, s],\n",
    "                         [0, 1, 0],\n",
    "                         [-s, 0, c]])\n",
    "    elif axis == 'z':\n",
    "        return np.array([[c, -s, 0],\n",
    "                         [s, c, 0],\n",
    "                         [0, 0, 1]])"
   ],
   "outputs": [],
   "execution_count": 18
  },
  {
   "cell_type": "markdown",
   "metadata": {
    "id": "OMXuSvtl2rk6"
   },
   "source": [
    "## 2. Odbicie lustrzane"
   ]
  },
  {
   "cell_type": "code",
   "metadata": {
    "id": "zsw5YaXep0I4",
    "ExecuteTime": {
     "end_time": "2025-07-10T10:08:28.447377Z",
     "start_time": "2025-07-10T10:08:28.443196Z"
    }
   },
   "source": [
    "def flip_sequence(sequence):\n",
    "    flipped = sequence.copy().reshape(-1, 21, 3)\n",
    "    flipped[:, :, 0] *= -1\n",
    "    return flipped.reshape(30, 63)"
   ],
   "outputs": [],
   "execution_count": 19
  },
  {
   "cell_type": "markdown",
   "metadata": {
    "id": "0Y2U6VcB2wuf"
   },
   "source": [
    "## 3. Dodanie szumu"
   ]
  },
  {
   "cell_type": "code",
   "metadata": {
    "id": "8CJT6RoOp2t8",
    "ExecuteTime": {
     "end_time": "2025-07-10T10:08:30.440965Z",
     "start_time": "2025-07-10T10:08:30.437570Z"
    }
   },
   "source": [
    "def add_noise_to_sequence(sequence, noise_level=0.005):\n",
    "    noisy = sequence.copy()\n",
    "    noise = np.random.normal(0, noise_level, noisy.shape)\n",
    "    noisy += noise\n",
    "    return noisy"
   ],
   "outputs": [],
   "execution_count": 20
  },
  {
   "cell_type": "markdown",
   "metadata": {
    "id": "5PhYb1GnqJBk"
   },
   "source": [
    "# Augumentuj dane"
   ]
  },
  {
   "cell_type": "code",
   "metadata": {
    "id": "RJQT0OyCqLwX",
    "ExecuteTime": {
     "end_time": "2025-07-10T10:08:35.636814Z",
     "start_time": "2025-07-10T10:08:35.631187Z"
    }
   },
   "source": [
    "def augment_sequence(sequence, flip=True, noise=True, rotate=True, max_angle=15, step=5, noise_level=0.005):\n",
    "    augmented = []\n",
    "\n",
    "    if flip:\n",
    "      flipped = flip_sequence(sequence)\n",
    "      augmented.append(flipped)\n",
    "    if rotate:\n",
    "        for axis in ['x', 'y', 'z']:\n",
    "            for angle_deg in range(-max_angle, max_angle + 1, 5):\n",
    "                if angle_deg == 0:\n",
    "                    continue  # pomiń rotację o 0 stopni\n",
    "                angle_rad = np.radians(angle_deg)\n",
    "                R = get_rotation_matrix(axis, angle_rad)\n",
    "                rotated = sequence.copy().reshape(-1, 21, 3)\n",
    "                rotated = rotated @ R.T\n",
    "                augmented.append(rotated.reshape(30, 63))\n",
    "    if noise:\n",
    "        noisy = add_noise_to_sequence(sequence, noise_level)\n",
    "        augmented.append(noisy)\n",
    "\n",
    "    return augmented"
   ],
   "outputs": [],
   "execution_count": 21
  },
  {
   "cell_type": "markdown",
   "metadata": {
    "id": "02rBzr0Jqo1r"
   },
   "source": [
    "# Połącz zbiory znormalizowany i rozszerzony"
   ]
  },
  {
   "cell_type": "code",
   "metadata": {
    "id": "6iuQbViTqjKF",
    "ExecuteTime": {
     "end_time": "2025-07-10T10:08:55.176732Z",
     "start_time": "2025-07-10T10:08:40.907418Z"
    }
   },
   "source": [
    "X_augmented = []\n",
    "y_augmented = []\n",
    "\n",
    "for i in range(len(X_normalized)):\n",
    "    base = X_normalized[i]\n",
    "    label = y[i]\n",
    "\n",
    "    # oryginał\n",
    "    X_augmented.append(base)\n",
    "    y_augmented.append(label)\n",
    "\n",
    "    # augmentacje deterministyczne\n",
    "    augmented_versions = augment_sequence(base, flip=True, rotate=True, max_angle=15, step=5)\n",
    "\n",
    "    for aug in augmented_versions:\n",
    "        X_augmented.append(aug)\n",
    "        y_augmented.append(label)\n",
    "\n",
    "X_augmented = np.array(X_augmented)\n",
    "y_augmented = np.array(y_augmented)"
   ],
   "outputs": [],
   "execution_count": 22
  },
  {
   "cell_type": "markdown",
   "metadata": {
    "id": "F5Srb652quqE"
   },
   "source": [
    "# Porównanie liczby danych przed i po augumentacji"
   ]
  },
  {
   "cell_type": "code",
   "metadata": {
    "id": "9J4lhWH-qvuC",
    "ExecuteTime": {
     "end_time": "2025-07-10T10:08:59.852195Z",
     "start_time": "2025-07-10T10:08:59.848451Z"
    }
   },
   "source": [
    "print(len(X_normalized))\n",
    "print(len(X_augmented))"
   ],
   "outputs": [
    {
     "name": "stdout",
     "output_type": "stream",
     "text": [
      "22372\n",
      "469812\n"
     ]
    }
   ],
   "execution_count": 23
  },
  {
   "cell_type": "markdown",
   "metadata": {
    "id": "WoOcQdaVR2d7"
   },
   "source": [
    "# Podział na zbiór treningowy, testowy i walidacyjny"
   ]
  },
  {
   "cell_type": "code",
   "metadata": {
    "id": "4nZCmzgiR8BJ",
    "ExecuteTime": {
     "end_time": "2025-07-10T10:09:26.107872Z",
     "start_time": "2025-07-10T10:09:02.155934Z"
    }
   },
   "source": [
    "from sklearn.model_selection import train_test_split\n",
    "\n",
    "# Najpierw podziel na trening+walidacja i test (np. 85% / 15%)\n",
    "X_train_val, X_test, y_train_val, y_test = train_test_split(\n",
    "    X_augmented, y_augmented, test_size=0.15, random_state=42, stratify=y_augmented\n",
    ")\n",
    "\n",
    "# Następnie podziel trening+walidację na trening i walidację (np. 85% / 15% z 85%)\n",
    "X_train, X_val, y_train, y_val = train_test_split(\n",
    "    X_train_val, y_train_val, test_size=0.15, random_state=42, stratify=y_train_val\n",
    ")\n"
   ],
   "outputs": [],
   "execution_count": 24
  },
  {
   "metadata": {
    "ExecuteTime": {
     "end_time": "2025-07-10T10:10:16.971597Z",
     "start_time": "2025-07-10T10:10:16.938152Z"
    }
   },
   "cell_type": "code",
   "source": "del X_normalized, X_augmented",
   "outputs": [],
   "execution_count": 25
  },
  {
   "cell_type": "markdown",
   "metadata": {
    "id": "OlFANrNnSL6c"
   },
   "source": [
    "# Trenowanie modeli"
   ]
  },
  {
   "cell_type": "code",
   "metadata": {
    "id": "o3-oH9ooSNlZ",
    "ExecuteTime": {
     "end_time": "2025-07-10T10:10:27.345526Z",
     "start_time": "2025-07-10T10:10:27.122001Z"
    }
   },
   "source": [
    "\n",
    "\n",
    "\n",
    "# Zamiana etykiet na numeryczne i one-hot\n",
    "le = LabelEncoder()\n",
    "y_train_enc = le.fit_transform(y_train)\n",
    "y_val_enc = le.transform(y_val)\n",
    "y_test_enc = le.transform(y_test)\n",
    "\n",
    "num_classes = len(le.classes_)\n",
    "\n",
    "y_train_cat = to_categorical(y_train_enc, num_classes)\n",
    "y_val_cat = to_categorical(y_val_enc, num_classes)\n",
    "y_test_cat = to_categorical(y_test_enc, num_classes)\n"
   ],
   "outputs": [],
   "execution_count": 26
  },
  {
   "cell_type": "markdown",
   "metadata": {
    "id": "iVuHs2Q0SRmR"
   },
   "source": [
    "# Model BiLSTM"
   ]
  },
  {
   "cell_type": "code",
   "metadata": {
    "colab": {
     "base_uri": "https://localhost:8080/",
     "height": 1000
    },
    "id": "SNaI5-ngSQNs",
    "outputId": "32899106-f249-4d0f-9b39-805047b2494f",
    "ExecuteTime": {
     "end_time": "2025-07-10T10:10:45.161065Z",
     "start_time": "2025-07-10T10:10:43.507501Z"
    }
   },
   "source": [
    "def create_bilstm_attention_model(input_shape, num_classes):\n",
    "    inputs = Input(shape=input_shape)  # (30, 63)\n",
    "\n",
    "    x = Bidirectional(LSTM(64, return_sequences=True))(inputs)\n",
    "    x = Bidirectional(LSTM(64, return_sequences=True))(x)\n",
    "\n",
    "    # Mechanizm Attention\n",
    "    attention = Dense(1, activation='tanh')(x)\n",
    "    attention = tf.nn.softmax(attention, axis=1)\n",
    "    context_vector = tf.reduce_sum(x * attention, axis=1)\n",
    "\n",
    "    x = Dense(128, activation='relu')(context_vector)\n",
    "    x = Dropout(0.5)(x)\n",
    "    outputs = Dense(num_classes, activation='softmax')(x)\n",
    "\n",
    "    model = Model(inputs, outputs)\n",
    "    model.compile(optimizer='adam', loss='categorical_crossentropy', metrics=['accuracy'])\n",
    "    return model\n",
    "bilstm_model = create_bilstm_attention_model((30, 63), num_classes)\n",
    "bilstm_model.summary()\n",
    "\n",
    "early_stopping = EarlyStopping(\n",
    "    monitor='val_loss',\n",
    "    patience=5,\n",
    "    restore_best_weights=True\n",
    ")\n",
    "# Trenowanie\n",
    "history_bilstm = bilstm_model.fit(\n",
    "    X_train, y_train_cat,\n",
    "    validation_data=(X_val, y_val_cat),\n",
    "    epochs=100,           # zwiększona liczba epok\n",
    "    batch_size=64,\n",
    "    callbacks=[early_stopping]\n",
    ")"
   ],
   "outputs": [
    {
     "name": "stderr",
     "output_type": "stream",
     "text": [
      "E0000 00:00:1752142243.761790  158374 cuda_executor.cc:1228] INTERNAL: CUDA Runtime error: Failed call to cudaGetRuntimeVersion: Error loading CUDA libraries. GPU will not be used.: Error loading CUDA libraries. GPU will not be used.\n",
      "W0000 00:00:1752142243.764147  158374 gpu_device.cc:2341] Cannot dlopen some GPU libraries. Please make sure the missing libraries mentioned above are installed properly if you would like to use GPU. Follow the guide at https://www.tensorflow.org/install/gpu for how to download and setup the required libraries for your platform.\n",
      "Skipping registering GPU devices...\n"
     ]
    },
    {
     "ename": "ValueError",
     "evalue": "A KerasTensor cannot be used as input to a TensorFlow function. A KerasTensor is a symbolic placeholder for a shape and dtype, used when constructing Keras Functional models or Keras Functions. You can only use it as input to a Keras layer or a Keras operation (from the namespaces `keras.layers` and `keras.ops`). You are likely doing something like:\n\n```\nx = Input(...)\n...\ntf_fn(x)  # Invalid.\n```\n\nWhat you should do instead is wrap `tf_fn` in a layer:\n\n```\nclass MyLayer(Layer):\n    def call(self, x):\n        return tf_fn(x)\n\nx = MyLayer()(x)\n```\n",
     "output_type": "error",
     "traceback": [
      "\u001B[31m---------------------------------------------------------------------------\u001B[39m",
      "\u001B[31mValueError\u001B[39m                                Traceback (most recent call last)",
      "\u001B[36mCell\u001B[39m\u001B[36m \u001B[39m\u001B[32mIn[27]\u001B[39m\u001B[32m, line 19\u001B[39m\n\u001B[32m     17\u001B[39m     model.compile(optimizer=\u001B[33m'\u001B[39m\u001B[33madam\u001B[39m\u001B[33m'\u001B[39m, loss=\u001B[33m'\u001B[39m\u001B[33mcategorical_crossentropy\u001B[39m\u001B[33m'\u001B[39m, metrics=[\u001B[33m'\u001B[39m\u001B[33maccuracy\u001B[39m\u001B[33m'\u001B[39m])\n\u001B[32m     18\u001B[39m     \u001B[38;5;28;01mreturn\u001B[39;00m model\n\u001B[32m---> \u001B[39m\u001B[32m19\u001B[39m bilstm_model = \u001B[43mcreate_bilstm_attention_model\u001B[49m\u001B[43m(\u001B[49m\u001B[43m(\u001B[49m\u001B[32;43m30\u001B[39;49m\u001B[43m,\u001B[49m\u001B[43m \u001B[49m\u001B[32;43m63\u001B[39;49m\u001B[43m)\u001B[49m\u001B[43m,\u001B[49m\u001B[43m \u001B[49m\u001B[43mnum_classes\u001B[49m\u001B[43m)\u001B[49m\n\u001B[32m     20\u001B[39m bilstm_model.summary()\n\u001B[32m     22\u001B[39m early_stopping = EarlyStopping(\n\u001B[32m     23\u001B[39m     monitor=\u001B[33m'\u001B[39m\u001B[33mval_loss\u001B[39m\u001B[33m'\u001B[39m,\n\u001B[32m     24\u001B[39m     patience=\u001B[32m5\u001B[39m,\n\u001B[32m     25\u001B[39m     restore_best_weights=\u001B[38;5;28;01mTrue\u001B[39;00m\n\u001B[32m     26\u001B[39m )\n",
      "\u001B[36mCell\u001B[39m\u001B[36m \u001B[39m\u001B[32mIn[27]\u001B[39m\u001B[32m, line 9\u001B[39m, in \u001B[36mcreate_bilstm_attention_model\u001B[39m\u001B[34m(input_shape, num_classes)\u001B[39m\n\u001B[32m      7\u001B[39m \u001B[38;5;66;03m# Mechanizm Attention\u001B[39;00m\n\u001B[32m      8\u001B[39m attention = Dense(\u001B[32m1\u001B[39m, activation=\u001B[33m'\u001B[39m\u001B[33mtanh\u001B[39m\u001B[33m'\u001B[39m)(x)\n\u001B[32m----> \u001B[39m\u001B[32m9\u001B[39m attention = \u001B[43mtf\u001B[49m\u001B[43m.\u001B[49m\u001B[43mnn\u001B[49m\u001B[43m.\u001B[49m\u001B[43msoftmax\u001B[49m\u001B[43m(\u001B[49m\u001B[43mattention\u001B[49m\u001B[43m,\u001B[49m\u001B[43m \u001B[49m\u001B[43maxis\u001B[49m\u001B[43m=\u001B[49m\u001B[32;43m1\u001B[39;49m\u001B[43m)\u001B[49m\n\u001B[32m     10\u001B[39m context_vector = tf.reduce_sum(x * attention, axis=\u001B[32m1\u001B[39m)\n\u001B[32m     12\u001B[39m x = Dense(\u001B[32m128\u001B[39m, activation=\u001B[33m'\u001B[39m\u001B[33mrelu\u001B[39m\u001B[33m'\u001B[39m)(context_vector)\n",
      "\u001B[36mFile \u001B[39m\u001B[32m~/.local/lib/python3.12/site-packages/tensorflow/python/util/traceback_utils.py:153\u001B[39m, in \u001B[36mfilter_traceback.<locals>.error_handler\u001B[39m\u001B[34m(*args, **kwargs)\u001B[39m\n\u001B[32m    151\u001B[39m \u001B[38;5;28;01mexcept\u001B[39;00m \u001B[38;5;167;01mException\u001B[39;00m \u001B[38;5;28;01mas\u001B[39;00m e:\n\u001B[32m    152\u001B[39m   filtered_tb = _process_traceback_frames(e.__traceback__)\n\u001B[32m--> \u001B[39m\u001B[32m153\u001B[39m   \u001B[38;5;28;01mraise\u001B[39;00m e.with_traceback(filtered_tb) \u001B[38;5;28;01mfrom\u001B[39;00m\u001B[38;5;250m \u001B[39m\u001B[38;5;28;01mNone\u001B[39;00m\n\u001B[32m    154\u001B[39m \u001B[38;5;28;01mfinally\u001B[39;00m:\n\u001B[32m    155\u001B[39m   \u001B[38;5;28;01mdel\u001B[39;00m filtered_tb\n",
      "\u001B[36mFile \u001B[39m\u001B[32m~/.local/lib/python3.12/site-packages/keras/src/backend/common/keras_tensor.py:156\u001B[39m, in \u001B[36mKerasTensor.__tf_tensor__\u001B[39m\u001B[34m(self, dtype, name)\u001B[39m\n\u001B[32m    155\u001B[39m \u001B[38;5;28;01mdef\u001B[39;00m\u001B[38;5;250m \u001B[39m\u001B[34m__tf_tensor__\u001B[39m(\u001B[38;5;28mself\u001B[39m, dtype=\u001B[38;5;28;01mNone\u001B[39;00m, name=\u001B[38;5;28;01mNone\u001B[39;00m):\n\u001B[32m--> \u001B[39m\u001B[32m156\u001B[39m     \u001B[38;5;28;01mraise\u001B[39;00m \u001B[38;5;167;01mValueError\u001B[39;00m(\n\u001B[32m    157\u001B[39m         \u001B[33m\"\u001B[39m\u001B[33mA KerasTensor cannot be used as input to a TensorFlow function. \u001B[39m\u001B[33m\"\u001B[39m\n\u001B[32m    158\u001B[39m         \u001B[33m\"\u001B[39m\u001B[33mA KerasTensor is a symbolic placeholder for a shape and dtype, \u001B[39m\u001B[33m\"\u001B[39m\n\u001B[32m    159\u001B[39m         \u001B[33m\"\u001B[39m\u001B[33mused when constructing Keras Functional models \u001B[39m\u001B[33m\"\u001B[39m\n\u001B[32m    160\u001B[39m         \u001B[33m\"\u001B[39m\u001B[33mor Keras Functions. You can only use it as input to a Keras layer \u001B[39m\u001B[33m\"\u001B[39m\n\u001B[32m    161\u001B[39m         \u001B[33m\"\u001B[39m\u001B[33mor a Keras operation (from the namespaces `keras.layers` \u001B[39m\u001B[33m\"\u001B[39m\n\u001B[32m    162\u001B[39m         \u001B[33m\"\u001B[39m\u001B[33mand `keras.ops`). \u001B[39m\u001B[33m\"\u001B[39m\n\u001B[32m    163\u001B[39m         \u001B[33m\"\u001B[39m\u001B[33mYou are likely doing something like:\u001B[39m\u001B[38;5;130;01m\\n\u001B[39;00m\u001B[38;5;130;01m\\n\u001B[39;00m\u001B[33m\"\u001B[39m\n\u001B[32m    164\u001B[39m         \u001B[33m\"\u001B[39m\u001B[33m```\u001B[39m\u001B[38;5;130;01m\\n\u001B[39;00m\u001B[33m\"\u001B[39m\n\u001B[32m    165\u001B[39m         \u001B[33m\"\u001B[39m\u001B[33mx = Input(...)\u001B[39m\u001B[38;5;130;01m\\n\u001B[39;00m\u001B[33m\"\u001B[39m\n\u001B[32m    166\u001B[39m         \u001B[33m\"\u001B[39m\u001B[33m...\u001B[39m\u001B[38;5;130;01m\\n\u001B[39;00m\u001B[33m\"\u001B[39m\n\u001B[32m    167\u001B[39m         \u001B[33m\"\u001B[39m\u001B[33mtf_fn(x)  # Invalid.\u001B[39m\u001B[38;5;130;01m\\n\u001B[39;00m\u001B[33m\"\u001B[39m\n\u001B[32m    168\u001B[39m         \u001B[33m\"\u001B[39m\u001B[33m```\u001B[39m\u001B[38;5;130;01m\\n\u001B[39;00m\u001B[38;5;130;01m\\n\u001B[39;00m\u001B[33m\"\u001B[39m\n\u001B[32m    169\u001B[39m         \u001B[33m\"\u001B[39m\u001B[33mWhat you should do instead is wrap `tf_fn` in a layer:\u001B[39m\u001B[38;5;130;01m\\n\u001B[39;00m\u001B[38;5;130;01m\\n\u001B[39;00m\u001B[33m\"\u001B[39m\n\u001B[32m    170\u001B[39m         \u001B[33m\"\u001B[39m\u001B[33m```\u001B[39m\u001B[38;5;130;01m\\n\u001B[39;00m\u001B[33m\"\u001B[39m\n\u001B[32m    171\u001B[39m         \u001B[33m\"\u001B[39m\u001B[33mclass MyLayer(Layer):\u001B[39m\u001B[38;5;130;01m\\n\u001B[39;00m\u001B[33m\"\u001B[39m\n\u001B[32m    172\u001B[39m         \u001B[33m\"\u001B[39m\u001B[33m    def call(self, x):\u001B[39m\u001B[38;5;130;01m\\n\u001B[39;00m\u001B[33m\"\u001B[39m\n\u001B[32m    173\u001B[39m         \u001B[33m\"\u001B[39m\u001B[33m        return tf_fn(x)\u001B[39m\u001B[38;5;130;01m\\n\u001B[39;00m\u001B[38;5;130;01m\\n\u001B[39;00m\u001B[33m\"\u001B[39m\n\u001B[32m    174\u001B[39m         \u001B[33m\"\u001B[39m\u001B[33mx = MyLayer()(x)\u001B[39m\u001B[38;5;130;01m\\n\u001B[39;00m\u001B[33m\"\u001B[39m\n\u001B[32m    175\u001B[39m         \u001B[33m\"\u001B[39m\u001B[33m```\u001B[39m\u001B[38;5;130;01m\\n\u001B[39;00m\u001B[33m\"\u001B[39m\n\u001B[32m    176\u001B[39m     )\n",
      "\u001B[31mValueError\u001B[39m: A KerasTensor cannot be used as input to a TensorFlow function. A KerasTensor is a symbolic placeholder for a shape and dtype, used when constructing Keras Functional models or Keras Functions. You can only use it as input to a Keras layer or a Keras operation (from the namespaces `keras.layers` and `keras.ops`). You are likely doing something like:\n\n```\nx = Input(...)\n...\ntf_fn(x)  # Invalid.\n```\n\nWhat you should do instead is wrap `tf_fn` in a layer:\n\n```\nclass MyLayer(Layer):\n    def call(self, x):\n        return tf_fn(x)\n\nx = MyLayer()(x)\n```\n"
     ]
    }
   ],
   "execution_count": 27
  },
  {
   "cell_type": "markdown",
   "metadata": {
    "id": "oieQYlPQSTwS"
   },
   "source": [
    "# Model 1DCNN"
   ]
  },
  {
   "cell_type": "code",
   "metadata": {
    "colab": {
     "base_uri": "https://localhost:8080/",
     "height": 1000
    },
    "id": "wbQVwoLtSWTr",
    "outputId": "f6cc6d2d-8f89-4f84-a6a2-655cf2648cda",
    "ExecuteTime": {
     "end_time": "2025-07-10T10:16:35.682808Z",
     "start_time": "2025-07-10T10:10:56.456419Z"
    }
   },
   "source": [
    "def create_1dcnn_model(input_shape, num_classes):\n",
    "    model = Sequential([\n",
    "        Conv1D(64, kernel_size=3, activation='relu', input_shape=input_shape),\n",
    "        MaxPooling1D(pool_size=2),\n",
    "        Conv1D(128, kernel_size=3, activation='relu'),\n",
    "        MaxPooling1D(pool_size=2),\n",
    "        Flatten(),\n",
    "        Dense(128, activation='relu'),\n",
    "        Dropout(0.5),\n",
    "        Dense(num_classes, activation='softmax')\n",
    "    ])\n",
    "    model.compile(optimizer='adam', loss='categorical_crossentropy', metrics=['accuracy'])\n",
    "    return model\n",
    "\n",
    "cnn_model = create_1dcnn_model((30, 63), num_classes)\n",
    "cnn_model.summary()\n",
    "\n",
    "\n",
    "early_stopping = EarlyStopping(\n",
    "    monitor='val_loss',     # monitoruj stratę walidacyjną\n",
    "    patience=5,             # zatrzymaj po 5 epokach bez poprawy\n",
    "    restore_best_weights=True\n",
    ")\n",
    "\n",
    "# Trenowanie\n",
    "\n",
    "history_cnn = cnn_model.fit(\n",
    "    X_train, y_train_cat,\n",
    "    validation_data=(X_val, y_val_cat),\n",
    "    epochs=100,             # zwiększona liczba epok\n",
    "    batch_size=64,\n",
    "    callbacks=[early_stopping]\n",
    ")\n"
   ],
   "outputs": [
    {
     "name": "stderr",
     "output_type": "stream",
     "text": [
      "/home/magda/.local/lib/python3.12/site-packages/keras/src/layers/convolutional/base_conv.py:113: UserWarning: Do not pass an `input_shape`/`input_dim` argument to a layer. When using Sequential models, prefer using an `Input(shape)` object as the first layer in the model instead.\n",
      "  super().__init__(activity_regularizer=activity_regularizer, **kwargs)\n"
     ]
    },
    {
     "data": {
      "text/plain": [
       "\u001B[1mModel: \"sequential\"\u001B[0m\n"
      ],
      "text/html": [
       "<pre style=\"white-space:pre;overflow-x:auto;line-height:normal;font-family:Menlo,'DejaVu Sans Mono',consolas,'Courier New',monospace\"><span style=\"font-weight: bold\">Model: \"sequential\"</span>\n",
       "</pre>\n"
      ]
     },
     "metadata": {},
     "output_type": "display_data"
    },
    {
     "data": {
      "text/plain": [
       "┏━━━━━━━━━━━━━━━━━━━━━━━━━━━━━━━━━┳━━━━━━━━━━━━━━━━━━━━━━━━┳━━━━━━━━━━━━━━━┓\n",
       "┃\u001B[1m \u001B[0m\u001B[1mLayer (type)                   \u001B[0m\u001B[1m \u001B[0m┃\u001B[1m \u001B[0m\u001B[1mOutput Shape          \u001B[0m\u001B[1m \u001B[0m┃\u001B[1m \u001B[0m\u001B[1m      Param #\u001B[0m\u001B[1m \u001B[0m┃\n",
       "┡━━━━━━━━━━━━━━━━━━━━━━━━━━━━━━━━━╇━━━━━━━━━━━━━━━━━━━━━━━━╇━━━━━━━━━━━━━━━┩\n",
       "│ conv1d (\u001B[38;5;33mConv1D\u001B[0m)                 │ (\u001B[38;5;45mNone\u001B[0m, \u001B[38;5;34m28\u001B[0m, \u001B[38;5;34m64\u001B[0m)         │        \u001B[38;5;34m12,160\u001B[0m │\n",
       "├─────────────────────────────────┼────────────────────────┼───────────────┤\n",
       "│ max_pooling1d (\u001B[38;5;33mMaxPooling1D\u001B[0m)    │ (\u001B[38;5;45mNone\u001B[0m, \u001B[38;5;34m14\u001B[0m, \u001B[38;5;34m64\u001B[0m)         │             \u001B[38;5;34m0\u001B[0m │\n",
       "├─────────────────────────────────┼────────────────────────┼───────────────┤\n",
       "│ conv1d_1 (\u001B[38;5;33mConv1D\u001B[0m)               │ (\u001B[38;5;45mNone\u001B[0m, \u001B[38;5;34m12\u001B[0m, \u001B[38;5;34m128\u001B[0m)        │        \u001B[38;5;34m24,704\u001B[0m │\n",
       "├─────────────────────────────────┼────────────────────────┼───────────────┤\n",
       "│ max_pooling1d_1 (\u001B[38;5;33mMaxPooling1D\u001B[0m)  │ (\u001B[38;5;45mNone\u001B[0m, \u001B[38;5;34m6\u001B[0m, \u001B[38;5;34m128\u001B[0m)         │             \u001B[38;5;34m0\u001B[0m │\n",
       "├─────────────────────────────────┼────────────────────────┼───────────────┤\n",
       "│ flatten (\u001B[38;5;33mFlatten\u001B[0m)               │ (\u001B[38;5;45mNone\u001B[0m, \u001B[38;5;34m768\u001B[0m)            │             \u001B[38;5;34m0\u001B[0m │\n",
       "├─────────────────────────────────┼────────────────────────┼───────────────┤\n",
       "│ dense_1 (\u001B[38;5;33mDense\u001B[0m)                 │ (\u001B[38;5;45mNone\u001B[0m, \u001B[38;5;34m128\u001B[0m)            │        \u001B[38;5;34m98,432\u001B[0m │\n",
       "├─────────────────────────────────┼────────────────────────┼───────────────┤\n",
       "│ dropout (\u001B[38;5;33mDropout\u001B[0m)               │ (\u001B[38;5;45mNone\u001B[0m, \u001B[38;5;34m128\u001B[0m)            │             \u001B[38;5;34m0\u001B[0m │\n",
       "├─────────────────────────────────┼────────────────────────┼───────────────┤\n",
       "│ dense_2 (\u001B[38;5;33mDense\u001B[0m)                 │ (\u001B[38;5;45mNone\u001B[0m, \u001B[38;5;34m36\u001B[0m)             │         \u001B[38;5;34m4,644\u001B[0m │\n",
       "└─────────────────────────────────┴────────────────────────┴───────────────┘\n"
      ],
      "text/html": [
       "<pre style=\"white-space:pre;overflow-x:auto;line-height:normal;font-family:Menlo,'DejaVu Sans Mono',consolas,'Courier New',monospace\">┏━━━━━━━━━━━━━━━━━━━━━━━━━━━━━━━━━┳━━━━━━━━━━━━━━━━━━━━━━━━┳━━━━━━━━━━━━━━━┓\n",
       "┃<span style=\"font-weight: bold\"> Layer (type)                    </span>┃<span style=\"font-weight: bold\"> Output Shape           </span>┃<span style=\"font-weight: bold\">       Param # </span>┃\n",
       "┡━━━━━━━━━━━━━━━━━━━━━━━━━━━━━━━━━╇━━━━━━━━━━━━━━━━━━━━━━━━╇━━━━━━━━━━━━━━━┩\n",
       "│ conv1d (<span style=\"color: #0087ff; text-decoration-color: #0087ff\">Conv1D</span>)                 │ (<span style=\"color: #00d7ff; text-decoration-color: #00d7ff\">None</span>, <span style=\"color: #00af00; text-decoration-color: #00af00\">28</span>, <span style=\"color: #00af00; text-decoration-color: #00af00\">64</span>)         │        <span style=\"color: #00af00; text-decoration-color: #00af00\">12,160</span> │\n",
       "├─────────────────────────────────┼────────────────────────┼───────────────┤\n",
       "│ max_pooling1d (<span style=\"color: #0087ff; text-decoration-color: #0087ff\">MaxPooling1D</span>)    │ (<span style=\"color: #00d7ff; text-decoration-color: #00d7ff\">None</span>, <span style=\"color: #00af00; text-decoration-color: #00af00\">14</span>, <span style=\"color: #00af00; text-decoration-color: #00af00\">64</span>)         │             <span style=\"color: #00af00; text-decoration-color: #00af00\">0</span> │\n",
       "├─────────────────────────────────┼────────────────────────┼───────────────┤\n",
       "│ conv1d_1 (<span style=\"color: #0087ff; text-decoration-color: #0087ff\">Conv1D</span>)               │ (<span style=\"color: #00d7ff; text-decoration-color: #00d7ff\">None</span>, <span style=\"color: #00af00; text-decoration-color: #00af00\">12</span>, <span style=\"color: #00af00; text-decoration-color: #00af00\">128</span>)        │        <span style=\"color: #00af00; text-decoration-color: #00af00\">24,704</span> │\n",
       "├─────────────────────────────────┼────────────────────────┼───────────────┤\n",
       "│ max_pooling1d_1 (<span style=\"color: #0087ff; text-decoration-color: #0087ff\">MaxPooling1D</span>)  │ (<span style=\"color: #00d7ff; text-decoration-color: #00d7ff\">None</span>, <span style=\"color: #00af00; text-decoration-color: #00af00\">6</span>, <span style=\"color: #00af00; text-decoration-color: #00af00\">128</span>)         │             <span style=\"color: #00af00; text-decoration-color: #00af00\">0</span> │\n",
       "├─────────────────────────────────┼────────────────────────┼───────────────┤\n",
       "│ flatten (<span style=\"color: #0087ff; text-decoration-color: #0087ff\">Flatten</span>)               │ (<span style=\"color: #00d7ff; text-decoration-color: #00d7ff\">None</span>, <span style=\"color: #00af00; text-decoration-color: #00af00\">768</span>)            │             <span style=\"color: #00af00; text-decoration-color: #00af00\">0</span> │\n",
       "├─────────────────────────────────┼────────────────────────┼───────────────┤\n",
       "│ dense_1 (<span style=\"color: #0087ff; text-decoration-color: #0087ff\">Dense</span>)                 │ (<span style=\"color: #00d7ff; text-decoration-color: #00d7ff\">None</span>, <span style=\"color: #00af00; text-decoration-color: #00af00\">128</span>)            │        <span style=\"color: #00af00; text-decoration-color: #00af00\">98,432</span> │\n",
       "├─────────────────────────────────┼────────────────────────┼───────────────┤\n",
       "│ dropout (<span style=\"color: #0087ff; text-decoration-color: #0087ff\">Dropout</span>)               │ (<span style=\"color: #00d7ff; text-decoration-color: #00d7ff\">None</span>, <span style=\"color: #00af00; text-decoration-color: #00af00\">128</span>)            │             <span style=\"color: #00af00; text-decoration-color: #00af00\">0</span> │\n",
       "├─────────────────────────────────┼────────────────────────┼───────────────┤\n",
       "│ dense_2 (<span style=\"color: #0087ff; text-decoration-color: #0087ff\">Dense</span>)                 │ (<span style=\"color: #00d7ff; text-decoration-color: #00d7ff\">None</span>, <span style=\"color: #00af00; text-decoration-color: #00af00\">36</span>)             │         <span style=\"color: #00af00; text-decoration-color: #00af00\">4,644</span> │\n",
       "└─────────────────────────────────┴────────────────────────┴───────────────┘\n",
       "</pre>\n"
      ]
     },
     "metadata": {},
     "output_type": "display_data"
    },
    {
     "data": {
      "text/plain": [
       "\u001B[1m Total params: \u001B[0m\u001B[38;5;34m139,940\u001B[0m (546.64 KB)\n"
      ],
      "text/html": [
       "<pre style=\"white-space:pre;overflow-x:auto;line-height:normal;font-family:Menlo,'DejaVu Sans Mono',consolas,'Courier New',monospace\"><span style=\"font-weight: bold\"> Total params: </span><span style=\"color: #00af00; text-decoration-color: #00af00\">139,940</span> (546.64 KB)\n",
       "</pre>\n"
      ]
     },
     "metadata": {},
     "output_type": "display_data"
    },
    {
     "data": {
      "text/plain": [
       "\u001B[1m Trainable params: \u001B[0m\u001B[38;5;34m139,940\u001B[0m (546.64 KB)\n"
      ],
      "text/html": [
       "<pre style=\"white-space:pre;overflow-x:auto;line-height:normal;font-family:Menlo,'DejaVu Sans Mono',consolas,'Courier New',monospace\"><span style=\"font-weight: bold\"> Trainable params: </span><span style=\"color: #00af00; text-decoration-color: #00af00\">139,940</span> (546.64 KB)\n",
       "</pre>\n"
      ]
     },
     "metadata": {},
     "output_type": "display_data"
    },
    {
     "data": {
      "text/plain": [
       "\u001B[1m Non-trainable params: \u001B[0m\u001B[38;5;34m0\u001B[0m (0.00 B)\n"
      ],
      "text/html": [
       "<pre style=\"white-space:pre;overflow-x:auto;line-height:normal;font-family:Menlo,'DejaVu Sans Mono',consolas,'Courier New',monospace\"><span style=\"font-weight: bold\"> Non-trainable params: </span><span style=\"color: #00af00; text-decoration-color: #00af00\">0</span> (0.00 B)\n",
       "</pre>\n"
      ]
     },
     "metadata": {},
     "output_type": "display_data"
    },
    {
     "name": "stdout",
     "output_type": "stream",
     "text": [
      "Epoch 1/100\n"
     ]
    },
    {
     "name": "stderr",
     "output_type": "stream",
     "text": [
      "2025-07-10 12:11:00.795539: W external/local_xla/xla/tsl/framework/cpu_allocator_impl.cc:83] Allocation of 2566158840 exceeds 10% of free system memory.\n"
     ]
    },
    {
     "name": "stdout",
     "output_type": "stream",
     "text": [
      "\u001B[1m5304/5304\u001B[0m \u001B[32m━━━━━━━━━━━━━━━━━━━━\u001B[0m\u001B[37m\u001B[0m \u001B[1m38s\u001B[0m 7ms/step - accuracy: 0.6414 - loss: 1.0764 - val_accuracy: 0.9656 - val_loss: 0.1226\n",
      "Epoch 2/100\n",
      "\u001B[1m5304/5304\u001B[0m \u001B[32m━━━━━━━━━━━━━━━━━━━━\u001B[0m\u001B[37m\u001B[0m \u001B[1m39s\u001B[0m 7ms/step - accuracy: 0.9295 - loss: 0.2025 - val_accuracy: 0.9710 - val_loss: 0.0835\n",
      "Epoch 3/100\n",
      "\u001B[1m5304/5304\u001B[0m \u001B[32m━━━━━━━━━━━━━━━━━━━━\u001B[0m\u001B[37m\u001B[0m \u001B[1m38s\u001B[0m 7ms/step - accuracy: 0.9530 - loss: 0.1372 - val_accuracy: 0.9816 - val_loss: 0.0474\n",
      "Epoch 4/100\n",
      "\u001B[1m5304/5304\u001B[0m \u001B[32m━━━━━━━━━━━━━━━━━━━━\u001B[0m\u001B[37m\u001B[0m \u001B[1m35s\u001B[0m 7ms/step - accuracy: 0.9629 - loss: 0.1096 - val_accuracy: 0.9914 - val_loss: 0.0267\n",
      "Epoch 5/100\n",
      "\u001B[1m5304/5304\u001B[0m \u001B[32m━━━━━━━━━━━━━━━━━━━━\u001B[0m\u001B[37m\u001B[0m \u001B[1m38s\u001B[0m 7ms/step - accuracy: 0.9715 - loss: 0.0834 - val_accuracy: 0.9800 - val_loss: 0.0515\n",
      "Epoch 6/100\n",
      "\u001B[1m5304/5304\u001B[0m \u001B[32m━━━━━━━━━━━━━━━━━━━━\u001B[0m\u001B[37m\u001B[0m \u001B[1m35s\u001B[0m 7ms/step - accuracy: 0.9768 - loss: 0.0685 - val_accuracy: 0.9908 - val_loss: 0.0275\n",
      "Epoch 7/100\n",
      "\u001B[1m5304/5304\u001B[0m \u001B[32m━━━━━━━━━━━━━━━━━━━━\u001B[0m\u001B[37m\u001B[0m \u001B[1m37s\u001B[0m 7ms/step - accuracy: 0.9781 - loss: 0.0650 - val_accuracy: 0.9821 - val_loss: 0.0473\n",
      "Epoch 8/100\n",
      "\u001B[1m5304/5304\u001B[0m \u001B[32m━━━━━━━━━━━━━━━━━━━━\u001B[0m\u001B[37m\u001B[0m \u001B[1m39s\u001B[0m 7ms/step - accuracy: 0.9806 - loss: 0.0577 - val_accuracy: 0.9871 - val_loss: 0.0353\n",
      "Epoch 9/100\n",
      "\u001B[1m5304/5304\u001B[0m \u001B[32m━━━━━━━━━━━━━━━━━━━━\u001B[0m\u001B[37m\u001B[0m \u001B[1m35s\u001B[0m 7ms/step - accuracy: 0.9825 - loss: 0.0535 - val_accuracy: 0.9874 - val_loss: 0.0366\n"
     ]
    }
   ],
   "execution_count": 28
  },
  {
   "cell_type": "markdown",
   "metadata": {
    "id": "HRISeb3OSa3i"
   },
   "source": [
    "# Ewaluacja"
   ]
  },
  {
   "cell_type": "code",
   "execution_count": 63,
   "metadata": {
    "colab": {
     "base_uri": "https://localhost:8080/"
    },
    "id": "Joni1NKzScjd",
    "outputId": "60af4f36-978f-4872-9f75-d7a7bb92194c"
   },
   "outputs": [
    {
     "name": "stdout",
     "output_type": "stream",
     "text": [
      "\u001B[1m43/43\u001B[0m \u001B[32m━━━━━━━━━━━━━━━━━━━━\u001B[0m\u001B[37m\u001B[0m \u001B[1m0s\u001B[0m 8ms/step - accuracy: 0.9050 - loss: 0.3030\n",
      "\u001B[1m43/43\u001B[0m \u001B[32m━━━━━━━━━━━━━━━━━━━━\u001B[0m\u001B[37m\u001B[0m \u001B[1m1s\u001B[0m 18ms/step - accuracy: 0.8956 - loss: 0.3039\n"
     ]
    },
    {
     "data": {
      "text/plain": [
       "[0.30730289220809937, 0.8893740773200989]"
      ]
     },
     "execution_count": 63,
     "metadata": {},
     "output_type": "execute_result"
    }
   ],
   "source": [
    "bilstm_model.evaluate(X_test, y_test_cat)\n",
    "cnn_model.evaluate(X_test, y_test_cat)"
   ]
  },
  {
   "cell_type": "code",
   "execution_count": 64,
   "metadata": {
    "colab": {
     "base_uri": "https://localhost:8080/",
     "height": 1000
    },
    "id": "wgVpM4ubUbjG",
    "outputId": "fdd7ba66-668c-4601-d273-60094ef3c7a7"
   },
   "outputs": [
    {
     "name": "stdout",
     "output_type": "stream",
     "text": [
      "\u001B[1m37/37\u001B[0m \u001B[32m━━━━━━━━━━━━━━━━━━━━\u001B[0m\u001B[37m\u001B[0m \u001B[1m1s\u001B[0m 16ms/step\n",
      "Classification report dla BiLSTM:\n",
      "              precision    recall  f1-score   support\n",
      "\n",
      "           A       0.97      1.00      0.98        30\n",
      "         A_A       0.97      0.97      0.97        30\n",
      "           B       1.00      0.97      0.98        32\n",
      "           C       0.91      1.00      0.96        32\n",
      "          CH       0.84      0.96      0.90        27\n",
      "          CZ       0.94      1.00      0.97        30\n",
      "         C_C       0.97      0.97      0.97        32\n",
      "           D       1.00      0.97      0.98        32\n",
      "           E       1.00      1.00      1.00        35\n",
      "         E_E       1.00      0.97      0.98        32\n",
      "           F       1.00      0.97      0.98        32\n",
      "           G       1.00      1.00      1.00        32\n",
      "           H       0.86      0.78      0.82        32\n",
      "           I       1.00      1.00      1.00        32\n",
      "           J       1.00      1.00      1.00        32\n",
      "           K       1.00      0.94      0.97        32\n",
      "           L       0.62      1.00      0.76        32\n",
      "         L_L       1.00      0.28      0.44        32\n",
      "           M       1.00      1.00      1.00        32\n",
      "           N       1.00      1.00      1.00        30\n",
      "         N_N       1.00      1.00      1.00        32\n",
      "           O       1.00      0.19      0.32        32\n",
      "         O_O       0.78      0.91      0.84        32\n",
      "           P       1.00      0.94      0.97        32\n",
      "           R       1.00      0.89      0.94        35\n",
      "          RZ       0.92      0.77      0.84        30\n",
      "           S       0.52      0.78      0.62        32\n",
      "          SZ       0.96      1.00      0.98        27\n",
      "         S_S       0.95      0.66      0.78        32\n",
      "           T       0.90      0.84      0.87        32\n",
      "           U       1.00      1.00      1.00        32\n",
      "           W       1.00      0.94      0.97        32\n",
      "           Y       1.00      0.91      0.95        32\n",
      "           Z       0.98      0.95      0.96        56\n",
      "         Z_X       0.47      0.97      0.64        35\n",
      "         Z_Z       1.00      0.97      0.99        35\n",
      "\n",
      "    accuracy                           0.90      1168\n",
      "   macro avg       0.93      0.90      0.90      1168\n",
      "weighted avg       0.93      0.90      0.90      1168\n",
      "\n"
     ]
    },
    {
     "data": {
      "image/png": "[encoded data removed]",
      "text/plain": [
       "<Figure size 1000x1000 with 2 Axes>"
      ]
     },
     "metadata": {},
     "output_type": "display_data"
    }
   ],
   "source": [
    "label_names = le.classes_\n",
    "\n",
    "# Predykcje na zbiorze walidacyjnym\n",
    "y_pred_probs = bilstm_model.predict(X_val)\n",
    "y_pred = np.argmax(y_pred_probs, axis=1)\n",
    "y_true = np.argmax(y_val_cat, axis=1)\n",
    "\n",
    "from sklearn.metrics import classification_report, confusion_matrix, ConfusionMatrixDisplay\n",
    "import matplotlib.pyplot as plt\n",
    "\n",
    "print(\"Classification report dla BiLSTM:\")\n",
    "print(classification_report(y_true, y_pred, target_names=label_names))\n",
    "\n",
    "cm = confusion_matrix(y_true, y_pred)\n",
    "disp = ConfusionMatrixDisplay(confusion_matrix=cm, display_labels=label_names)\n",
    "fig, ax = plt.subplots(figsize=(10,10))\n",
    "disp.plot(ax=ax, cmap=plt.cm.Blues)\n",
    "plt.title(\"Macierz pomyłek (BiLSTM) - zbiór walidacyjny\")\n",
    "plt.show()\n"
   ]
  },
  {
   "cell_type": "code",
   "execution_count": null,
   "metadata": {
    "id": "NTLnnML_VO0Z"
   },
   "outputs": [],
   "source": [
    "# Predykcje na zbiorze walidacyjnym dla 1DCNN\n",
    "y_pred_probs_cnn = cnn_model.predict(X_val)\n",
    "y_pred_cnn = np.argmax(y_pred_probs_cnn, axis=1)\n",
    "\n",
    "print(\"Classification report dla 1DCNN:\")\n",
    "print(classification_report(y_true, y_pred_cnn, target_names=label_names))\n",
    "\n",
    "cm_cnn = confusion_matrix(y_true, y_pred_cnn)\n",
    "disp_cnn = ConfusionMatrixDisplay(confusion_matrix=cm_cnn, display_labels=label_names)\n",
    "fig, ax = plt.subplots(figsize=(10,10))\n",
    "disp_cnn.plot(ax=ax, cmap=plt.cm.Greens)\n",
    "plt.title(\"Macierz pomyłek (1DCNN) - zbiór walidacyjny\")\n",
    "plt.show()\n"
   ]
  },
  {
   "cell_type": "markdown",
   "metadata": {
    "id": "nqQYD9zDVfSi"
   },
   "source": [
    "# Zapis modeli"
   ]
  },
  {
   "cell_type": "code",
   "execution_count": 65,
   "metadata": {
    "id": "IDlYkVJJVgyv"
   },
   "outputs": [],
   "source": [
    "bilstm_model.save('bilstm_model_attention.keras')\n",
    "# cnn_model.save('cnn_model.keras')\n"
   ]
  },
  {
   "cell_type": "code",
   "execution_count": null,
   "metadata": {
    "id": "s31E3m7RViHd"
   },
   "outputs": [],
   "source": [
    "with open('../model/2025-07-14/labels.txt', 'w') as f:\n",
    "    for label in label_names:\n",
    "        f.write(label + '\\n')\n"
   ]
  },
  {
   "cell_type": "code",
   "execution_count": null,
   "metadata": {},
   "outputs": [],
   "source": [
    "import numpy as np\n",
    "import gc\n",
    "\n",
    "# Zapis danych po normalizacji\n",
    "np.save('X_normalized.npy', X_normalized)\n",
    "np.save('y_labels.npy', y)\n",
    "\n",
    "# Czyszczenie RAM\n",
    "del X_normalized\n",
    "del y\n",
    "gc.collect()\n"
   ]
  },
  {
   "cell_type": "code",
   "execution_count": null,
   "metadata": {},
   "outputs": [],
   "source": [
    "import numpy as np\n",
    "import gc\n",
    "\n",
    "X_file = 'X_augmented.npy'\n",
    "y_file = 'y_augmented.npy'\n",
    "\n",
    "# Przygotuj puste pliki\n",
    "first_sample = np.load('X_normalized.npy', mmap_mode='r')[0]\n",
    "seq_len, num_joints, dims = first_sample.shape\n",
    "np.save(X_file, np.empty((0, seq_len, num_joints, dims), dtype=np.float32))\n",
    "np.save(y_file, np.empty((0,), dtype=np.int32))\n",
    "\n",
    "X_normalized = np.load('X_normalized.npy', mmap_mode='r')\n",
    "y = np.load('y_labels.npy', mmap_mode='r')\n",
    "\n",
    "for i in range(len(X_normalized)):\n",
    "    base = X_normalized[i]\n",
    "    label = y[i]\n",
    "\n",
    "    augmented_versions = [base] + augment_sequence(base, flip=True, rotate=True, max_angle=15, step=5)\n",
    "    labels = [label] * len(augmented_versions)\n",
    "\n",
    "    # Wczytaj poprzedni stan\n",
    "    X_existing = np.load(X_file)\n",
    "    y_existing = np.load(y_file)\n",
    "\n",
    "    # Dopisz\n",
    "    X_combined = np.concatenate((X_existing, np.array(augmented_versions, dtype=np.float32)))\n",
    "    y_combined = np.concatenate((y_existing, np.array(labels, dtype=np.int32)))\n",
    "\n",
    "    # Zapisz\n",
    "    np.save(X_file, X_combined)\n",
    "    np.save(y_file, y_combined)\n",
    "\n",
    "    # Uwolnij RAM\n",
    "    del X_existing, y_existing, X_combined, y_combined, augmented_versions, labels\n",
    "    gc.collect()\n"
   ]
  },
  {
   "cell_type": "code",
   "execution_count": null,
   "metadata": {},
   "outputs": [],
   "source": [
    "import numpy as np\n",
    "from sklearn.utils import shuffle\n",
    "import gc\n",
    "\n",
    "# Wczytaj dane z plików\n",
    "X = np.load('X_augmented.npy', mmap_mode='r')\n",
    "y = np.load('y_augmented.npy', mmap_mode='r')\n",
    "\n",
    "# Shuffle (jeśli potrzebne)\n",
    "X, y = shuffle(X, y, random_state=42)\n",
    "\n",
    "gc.collect()\n"
   ]
  },
  {
   "cell_type": "code",
   "execution_count": null,
   "metadata": {},
   "outputs": [],
   "source": [
    "import numpy as np\n",
    "import gc\n",
    "\n",
    "# Zapis danych po normalizacji\n",
    "np.save('X_normalized.npy', X_normalized)\n",
    "np.save('y_labels.npy', y)\n",
    "\n",
    "# Czyszczenie RAM\n",
    "del X_normalized\n",
    "del y\n",
    "gc.collect()\n"
   ]
  },
  {
   "cell_type": "code",
   "execution_count": null,
   "metadata": {},
   "outputs": [],
   "source": [
    "import numpy as np\n",
    "import gc\n",
    "\n",
    "X_file = 'X_augmented.npy'\n",
    "y_file = 'y_augmented.npy'\n",
    "\n",
    "# Przygotuj puste pliki\n",
    "first_sample = np.load('X_normalized.npy', mmap_mode='r')[0]\n",
    "seq_len, num_joints, dims = first_sample.shape\n",
    "np.save(X_file, np.empty((0, seq_len, num_joints, dims), dtype=np.float32))\n",
    "np.save(y_file, np.empty((0,), dtype=np.int32))\n",
    "\n",
    "X_normalized = np.load('X_normalized.npy', mmap_mode='r')\n",
    "y = np.load('y_labels.npy', mmap_mode='r')\n",
    "\n",
    "for i in range(len(X_normalized)):\n",
    "    base = X_normalized[i]\n",
    "    label = y[i]\n",
    "\n",
    "    augmented_versions = [base] + augment_sequence(base, flip=True, rotate=True, max_angle=15, step=5)\n",
    "    labels = [label] * len(augmented_versions)\n",
    "\n",
    "    # Wczytaj poprzedni stan\n",
    "    X_existing = np.load(X_file)\n",
    "    y_existing = np.load(y_file)\n",
    "\n",
    "    # Dopisz\n",
    "    X_combined = np.concatenate((X_existing, np.array(augmented_versions, dtype=np.float32)))\n",
    "    y_combined = np.concatenate((y_existing, np.array(labels, dtype=np.int32)))\n",
    "\n",
    "    # Zapisz\n",
    "    np.save(X_file, X_combined)\n",
    "    np.save(y_file, y_combined)\n",
    "\n",
    "    # Uwolnij RAM\n",
    "    del X_existing, y_existing, X_combined, y_combined, augmented_versions, labels\n",
    "    gc.collect()\n"
   ]
  },
  {
   "cell_type": "code",
   "execution_count": null,
   "metadata": {},
   "outputs": [],
   "source": [
    "import numpy as np\n",
    "from sklearn.utils import shuffle\n",
    "import gc\n",
    "\n",
    "# Wczytaj dane z plików\n",
    "X = np.load('X_augmented.npy', mmap_mode='r')\n",
    "y = np.load('y_augmented.npy', mmap_mode='r')\n",
    "\n",
    "# Shuffle (jeśli potrzebne)\n",
    "X, y = shuffle(X, y, random_state=42)\n",
    "\n",
    "gc.collect()\n"
   ]
  }
 ],
 "metadata": {
  "colab": {
   "provenance": []
  },
  "kernelspec": {
   "display_name": "Python 3",
   "name": "python3"
  },
  "language_info": {
   "name": "python"
  }
 },
 "nbformat": 4,
 "nbformat_minor": 0
}
