{
 "cells": [
  {
   "cell_type": "code",
   "id": "initial_id",
   "metadata": {
    "collapsed": true,
    "ExecuteTime": {
     "end_time": "2025-07-29T11:52:17.883393Z",
     "start_time": "2025-07-29T11:52:16.793733Z"
    }
   },
   "source": "!pip install opencv-python tensorflow",
   "outputs": [
    {
     "name": "stdout",
     "output_type": "stream",
     "text": [
      "Collecting opencv-python\r\n",
      "  Using cached opencv_python-4.12.0.88-cp37-abi3-manylinux2014_x86_64.manylinux_2_17_x86_64.whl.metadata (19 kB)\r\n",
      "\u001B[31mERROR: Could not find a version that satisfies the requirement tensorflow (from versions: none)\u001B[0m\u001B[31m\r\n",
      "\u001B[0m\u001B[31mERROR: No matching distribution found for tensorflow\u001B[0m\u001B[31m\r\n",
      "\u001B[0m"
     ]
    }
   ],
   "execution_count": 9
  },
  {
   "metadata": {
    "ExecuteTime": {
     "end_time": "2025-07-29T11:52:05.606509Z",
     "start_time": "2025-07-29T11:52:05.582973Z"
    }
   },
   "cell_type": "code",
   "source": [
    "import tensorflow as tf\n",
    "print(\"Num GPUs Available:\", len(tf.config.list_physical_devices('GPU')))\n",
    "\n",
    "# Załaduj model\n",
    "model = tf.keras.models.load_model('models/lstm_sign_model.keras')"
   ],
   "id": "4487a3a8ee9cacc2",
   "outputs": [
    {
     "ename": "ModuleNotFoundError",
     "evalue": "No module named 'tensorflow'",
     "output_type": "error",
     "traceback": [
      "\u001B[31m---------------------------------------------------------------------------\u001B[39m",
      "\u001B[31mModuleNotFoundError\u001B[39m                       Traceback (most recent call last)",
      "\u001B[36mCell\u001B[39m\u001B[36m \u001B[39m\u001B[32mIn[8]\u001B[39m\u001B[32m, line 1\u001B[39m\n\u001B[32m----> \u001B[39m\u001B[32m1\u001B[39m \u001B[38;5;28;01mimport\u001B[39;00m\u001B[38;5;250m \u001B[39m\u001B[34;01mtensorflow\u001B[39;00m\u001B[38;5;250m \u001B[39m\u001B[38;5;28;01mas\u001B[39;00m\u001B[38;5;250m \u001B[39m\u001B[34;01mtf\u001B[39;00m\n\u001B[32m      2\u001B[39m \u001B[38;5;28mprint\u001B[39m(\u001B[33m\"\u001B[39m\u001B[33mNum GPUs Available:\u001B[39m\u001B[33m\"\u001B[39m, \u001B[38;5;28mlen\u001B[39m(tf.config.list_physical_devices(\u001B[33m'\u001B[39m\u001B[33mGPU\u001B[39m\u001B[33m'\u001B[39m)))\n\u001B[32m      4\u001B[39m \u001B[38;5;66;03m# Załaduj model\u001B[39;00m\n",
      "\u001B[31mModuleNotFoundError\u001B[39m: No module named 'tensorflow'"
     ]
    }
   ],
   "execution_count": 8
  },
  {
   "metadata": {
    "ExecuteTime": {
     "end_time": "2025-05-29T06:00:59.648203Z",
     "start_time": "2025-05-29T05:59:15.149496Z"
    }
   },
   "cell_type": "code",
   "source": [
    "import cv2\n",
    "import mediapipe as mp\n",
    "import tensorflow as tf\n",
    "import numpy as np\n",
    "import pickle\n",
    "from collections import deque\n",
    "\n",
    "# Mapowanie etykiet niestandardowych na polskie litery\n",
    "label_map = {\n",
    "    \"A\": \"A\", \"A+\": \"Ą\", \"B\": \"B\", \"C\": \"C\", \"C+\": \"Ć\",\n",
    "    \"D\": \"D\", \"E\": \"E\", \"E+\": \"Ę\", \"F\": \"F\", \"G\": \"G\",\n",
    "    \"H\": \"H\", \"I\": \"I\", \"J\": \"J\", \"K\": \"K\", \"L\": \"L\", \"L+\": \"Ł\",\n",
    "    \"M\": \"M\", \"N\": \"N\", \"N+\": \"Ń\", \"O\": \"O\", \"O+\": \"Ó\",\n",
    "    \"P\": \"P\", \"Q\": \"Q\", \"R\": \"R\", \"S\": \"S\", \"S+\": \"Ś\",\n",
    "    \"T\": \"T\", \"U\": \"U\", \"V\": \"V\", \"W\": \"W\", \"X\": \"X\",\n",
    "    \"Y\": \"Y\", \"Z\": \"Z\", \"Z+\": \"Ż\", \"Z++\": \"Ź\"\n",
    "}\n",
    "\n",
    "# Wczytaj LabelEncoder\n",
    "with open('label_encoder.pkl', 'rb') as f:\n",
    "    le = pickle.load(f)\n",
    "\n",
    "# Inicjalizacja MediaPipe\n",
    "mp_hands = mp.solutions.hands\n",
    "mp_drawing = mp.solutions.drawing_utils\n",
    "hands = mp_hands.Hands(static_image_mode=False, max_num_hands=1, min_detection_confidence=0.7)\n",
    "\n",
    "# Wczytaj model .keras\n",
    "model = tf.keras.models.load_model('models/lstm_sign_model.keras')\n",
    "\n",
    "# Kolejka do przechowywania 3 ostatnich klatek z landmarkami\n",
    "sequence = deque(maxlen=3)\n",
    "\n",
    "# Kamera\n",
    "cap = cv2.VideoCapture(0)\n",
    "print(\"\\nNacisnij 'q' aby zakonczyc.\")\n",
    "\n",
    "while True:\n",
    "    ret, frame = cap.read()\n",
    "    if not ret:\n",
    "        print(\"Nie mozna odczytac klatki z kamery.\")\n",
    "        break\n",
    "\n",
    "    rgb_frame = cv2.cvtColor(frame, cv2.COLOR_BGR2RGB)\n",
    "    results = hands.process(rgb_frame)\n",
    "\n",
    "    prediction_text = \"\"\n",
    "\n",
    "    if results.multi_hand_landmarks:\n",
    "        hand_landmarks = results.multi_hand_landmarks[0]\n",
    "        mp_drawing.draw_landmarks(frame, hand_landmarks, mp_hands.HAND_CONNECTIONS)\n",
    "\n",
    "        landmarks = []\n",
    "        for lm in hand_landmarks.landmark:\n",
    "            landmarks.extend([lm.x, lm.y, lm.z])\n",
    "\n",
    "        sequence.append(landmarks)\n",
    "\n",
    "        if len(sequence) == 3:\n",
    "            input_seq = np.array(sequence).reshape(1, 3, 63)\n",
    "            prediction = model.predict(input_seq, verbose=0)\n",
    "            predicted_index = prediction.argmax()\n",
    "            predicted_class = le.inverse_transform([predicted_index])[0]\n",
    "            predicted_label = label_map.get(predicted_class, predicted_class)\n",
    "            prediction_text = f'Predykcja: {predicted_label}'\n",
    "\n",
    "    if prediction_text:\n",
    "        cv2.putText(frame, prediction_text, (10, 30), cv2.FONT_HERSHEY_SIMPLEX,\n",
    "                    0.7, (0, 255, 0), 2, cv2.LINE_AA)\n",
    "\n",
    "    cv2.imshow(\"Kamera\", frame)\n",
    "    if cv2.waitKey(1) & 0xFF == ord('q'):\n",
    "        break\n",
    "\n",
    "cap.release()\n",
    "cv2.destroyAllWindows()\n",
    "print(\"Zakonczenie.\")\n"
   ],
   "id": "ce8152d85eeb27d5",
   "outputs": [
    {
     "name": "stderr",
     "output_type": "stream",
     "text": [
      "I0000 00:00:1748498355.170581    6245 gl_context_egl.cc:85] Successfully initialized EGL. Major : 1 Minor: 5\n",
      "I0000 00:00:1748498355.173054   28391 gl_context.cc:369] GL version: 3.2 (OpenGL ES 3.2 Mesa 25.0.6), renderer: Mesa Intel(R) UHD Graphics 620 (KBL GT2)\n",
      "W0000 00:00:1748498355.209799   28382 inference_feedback_manager.cc:114] Feedback manager requires a model with a single signature inference. Disabling support for feedback tensors.\n",
      "W0000 00:00:1748498355.237981   28383 inference_feedback_manager.cc:114] Feedback manager requires a model with a single signature inference. Disabling support for feedback tensors.\n"
     ]
    },
    {
     "name": "stdout",
     "output_type": "stream",
     "text": [
      "\n",
      "Nacisnij 'q' aby zakonczyc.\n",
      "Zakonczenie.\n"
     ]
    }
   ],
   "execution_count": 2
  }
 ],
 "metadata": {
  "kernelspec": {
   "display_name": "Python 3",
   "language": "python",
   "name": "python3"
  },
  "language_info": {
   "codemirror_mode": {
    "name": "ipython",
    "version": 2
   },
   "file_extension": ".py",
   "mimetype": "text/x-python",
   "name": "python",
   "nbconvert_exporter": "python",
   "pygments_lexer": "ipython2",
   "version": "2.7.6"
  }
 },
 "nbformat": 4,
 "nbformat_minor": 5
}
