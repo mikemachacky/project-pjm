{
 "cells": [
  {
   "cell_type": "code",
   "id": "initial_id",
   "metadata": {
    "collapsed": true,
    "ExecuteTime": {
     "end_time": "2025-08-18T15:56:04.584233Z",
     "start_time": "2025-08-18T15:56:01.492756Z"
    }
   },
   "source": [
    "# 1. Import bibliotek\n",
    "import numpy as np\n",
    "import pandas as pd\n",
    "import tensorflow as tf\n",
    "from sklearn.model_selection import train_test_split\n",
    "from tensorflow.keras.callbacks import EarlyStopping\n",
    "from sklearn.metrics import classification_report, confusion_matrix\n",
    "from utils.dataset_tools import DatasetTools"
   ],
   "outputs": [
    {
     "name": "stderr",
     "output_type": "stream",
     "text": [
      "2025-08-18 17:56:02.059354: E external/local_xla/xla/stream_executor/cuda/cuda_fft.cc:467] Unable to register cuFFT factory: Attempting to register factory for plugin cuFFT when one has already been registered\n",
      "WARNING: All log messages before absl::InitializeLog() is called are written to STDERR\n",
      "E0000 00:00:1755532562.075310   12717 cuda_dnn.cc:8579] Unable to register cuDNN factory: Attempting to register factory for plugin cuDNN when one has already been registered\n",
      "E0000 00:00:1755532562.080082   12717 cuda_blas.cc:1407] Unable to register cuBLAS factory: Attempting to register factory for plugin cuBLAS when one has already been registered\n",
      "W0000 00:00:1755532562.092837   12717 computation_placer.cc:177] computation placer already registered. Please check linkage and avoid linking the same target more than once.\n",
      "W0000 00:00:1755532562.092857   12717 computation_placer.cc:177] computation placer already registered. Please check linkage and avoid linking the same target more than once.\n",
      "W0000 00:00:1755532562.092858   12717 computation_placer.cc:177] computation placer already registered. Please check linkage and avoid linking the same target more than once.\n",
      "W0000 00:00:1755532562.092860   12717 computation_placer.cc:177] computation placer already registered. Please check linkage and avoid linking the same target more than once.\n",
      "2025-08-18 17:56:02.096979: I tensorflow/core/platform/cpu_feature_guard.cc:210] This TensorFlow binary is optimized to use available CPU instructions in performance-critical operations.\n",
      "To enable the following instructions: AVX2 FMA, in other operations, rebuild TensorFlow with the appropriate compiler flags.\n"
     ]
    }
   ],
   "execution_count": 1
  },
  {
   "metadata": {
    "ExecuteTime": {
     "end_time": "2025-08-18T15:56:05.310772Z",
     "start_time": "2025-08-18T15:56:04.682292Z"
    }
   },
   "cell_type": "code",
   "source": [
    "# 2. Załadowanie danych, przygotowanie\n",
    "df = pd.read_csv('../dataset/full_dataset.csv')\n",
    "df.head()"
   ],
   "id": "b71c83b86100b525",
   "outputs": [
    {
     "data": {
      "text/plain": [
       "   sample_id  frame label  landmark_1_x  landmark_1_y  landmark_1_z  \\\n",
       "0          1      0     A      0.345417      0.648431 -1.125724e-07   \n",
       "1          1      1     A      0.366266      0.597102 -9.622672e-08   \n",
       "2          1      2     A      0.400966      0.572690 -1.089629e-07   \n",
       "3          1      3     A      0.418257      0.573744 -1.190043e-07   \n",
       "4          1      4     A      0.431913      0.582072 -1.241054e-07   \n",
       "\n",
       "   landmark_2_x  landmark_2_y  landmark_2_z  landmark_3_x  ...  landmark_18_z  \\\n",
       "0      0.363545      0.620765     -0.010274      0.367171  ...      -0.003865   \n",
       "1      0.391580      0.578109     -0.012907      0.406190  ...       0.000685   \n",
       "2      0.424555      0.552354     -0.004017      0.439723  ...      -0.004296   \n",
       "3      0.441344      0.563031     -0.007786      0.460869  ...      -0.002903   \n",
       "4      0.453692      0.577044     -0.009167      0.474907  ...      -0.004793   \n",
       "\n",
       "   landmark_19_x  landmark_19_y  landmark_19_z  landmark_20_x  landmark_20_y  \\\n",
       "0       0.321722       0.551512      -0.008457       0.326903       0.565844   \n",
       "1       0.356418       0.497935      -0.004451       0.361665       0.515749   \n",
       "2       0.383425       0.481909      -0.009304       0.389207       0.502081   \n",
       "3       0.402536       0.489501      -0.009669       0.406139       0.510639   \n",
       "4       0.417201       0.501486      -0.012369       0.419653       0.524298   \n",
       "\n",
       "   landmark_20_z  landmark_21_x  landmark_21_y  landmark_21_z  \n",
       "0      -0.005724       0.329682       0.577548      -0.001789  \n",
       "1      -0.001988       0.363353       0.523833       0.002337  \n",
       "2      -0.005430       0.391897       0.513775      -0.000924  \n",
       "3      -0.006567       0.409394       0.523706      -0.001918  \n",
       "4      -0.008715       0.422120       0.535854      -0.003439  \n",
       "\n",
       "[5 rows x 66 columns]"
      ],
      "text/html": [
       "<div>\n",
       "<style scoped>\n",
       "    .dataframe tbody tr th:only-of-type {\n",
       "        vertical-align: middle;\n",
       "    }\n",
       "\n",
       "    .dataframe tbody tr th {\n",
       "        vertical-align: top;\n",
       "    }\n",
       "\n",
       "    .dataframe thead th {\n",
       "        text-align: right;\n",
       "    }\n",
       "</style>\n",
       "<table border=\"1\" class=\"dataframe\">\n",
       "  <thead>\n",
       "    <tr style=\"text-align: right;\">\n",
       "      <th></th>\n",
       "      <th>sample_id</th>\n",
       "      <th>frame</th>\n",
       "      <th>label</th>\n",
       "      <th>landmark_1_x</th>\n",
       "      <th>landmark_1_y</th>\n",
       "      <th>landmark_1_z</th>\n",
       "      <th>landmark_2_x</th>\n",
       "      <th>landmark_2_y</th>\n",
       "      <th>landmark_2_z</th>\n",
       "      <th>landmark_3_x</th>\n",
       "      <th>...</th>\n",
       "      <th>landmark_18_z</th>\n",
       "      <th>landmark_19_x</th>\n",
       "      <th>landmark_19_y</th>\n",
       "      <th>landmark_19_z</th>\n",
       "      <th>landmark_20_x</th>\n",
       "      <th>landmark_20_y</th>\n",
       "      <th>landmark_20_z</th>\n",
       "      <th>landmark_21_x</th>\n",
       "      <th>landmark_21_y</th>\n",
       "      <th>landmark_21_z</th>\n",
       "    </tr>\n",
       "  </thead>\n",
       "  <tbody>\n",
       "    <tr>\n",
       "      <th>0</th>\n",
       "      <td>1</td>\n",
       "      <td>0</td>\n",
       "      <td>A</td>\n",
       "      <td>0.345417</td>\n",
       "      <td>0.648431</td>\n",
       "      <td>-1.125724e-07</td>\n",
       "      <td>0.363545</td>\n",
       "      <td>0.620765</td>\n",
       "      <td>-0.010274</td>\n",
       "      <td>0.367171</td>\n",
       "      <td>...</td>\n",
       "      <td>-0.003865</td>\n",
       "      <td>0.321722</td>\n",
       "      <td>0.551512</td>\n",
       "      <td>-0.008457</td>\n",
       "      <td>0.326903</td>\n",
       "      <td>0.565844</td>\n",
       "      <td>-0.005724</td>\n",
       "      <td>0.329682</td>\n",
       "      <td>0.577548</td>\n",
       "      <td>-0.001789</td>\n",
       "    </tr>\n",
       "    <tr>\n",
       "      <th>1</th>\n",
       "      <td>1</td>\n",
       "      <td>1</td>\n",
       "      <td>A</td>\n",
       "      <td>0.366266</td>\n",
       "      <td>0.597102</td>\n",
       "      <td>-9.622672e-08</td>\n",
       "      <td>0.391580</td>\n",
       "      <td>0.578109</td>\n",
       "      <td>-0.012907</td>\n",
       "      <td>0.406190</td>\n",
       "      <td>...</td>\n",
       "      <td>0.000685</td>\n",
       "      <td>0.356418</td>\n",
       "      <td>0.497935</td>\n",
       "      <td>-0.004451</td>\n",
       "      <td>0.361665</td>\n",
       "      <td>0.515749</td>\n",
       "      <td>-0.001988</td>\n",
       "      <td>0.363353</td>\n",
       "      <td>0.523833</td>\n",
       "      <td>0.002337</td>\n",
       "    </tr>\n",
       "    <tr>\n",
       "      <th>2</th>\n",
       "      <td>1</td>\n",
       "      <td>2</td>\n",
       "      <td>A</td>\n",
       "      <td>0.400966</td>\n",
       "      <td>0.572690</td>\n",
       "      <td>-1.089629e-07</td>\n",
       "      <td>0.424555</td>\n",
       "      <td>0.552354</td>\n",
       "      <td>-0.004017</td>\n",
       "      <td>0.439723</td>\n",
       "      <td>...</td>\n",
       "      <td>-0.004296</td>\n",
       "      <td>0.383425</td>\n",
       "      <td>0.481909</td>\n",
       "      <td>-0.009304</td>\n",
       "      <td>0.389207</td>\n",
       "      <td>0.502081</td>\n",
       "      <td>-0.005430</td>\n",
       "      <td>0.391897</td>\n",
       "      <td>0.513775</td>\n",
       "      <td>-0.000924</td>\n",
       "    </tr>\n",
       "    <tr>\n",
       "      <th>3</th>\n",
       "      <td>1</td>\n",
       "      <td>3</td>\n",
       "      <td>A</td>\n",
       "      <td>0.418257</td>\n",
       "      <td>0.573744</td>\n",
       "      <td>-1.190043e-07</td>\n",
       "      <td>0.441344</td>\n",
       "      <td>0.563031</td>\n",
       "      <td>-0.007786</td>\n",
       "      <td>0.460869</td>\n",
       "      <td>...</td>\n",
       "      <td>-0.002903</td>\n",
       "      <td>0.402536</td>\n",
       "      <td>0.489501</td>\n",
       "      <td>-0.009669</td>\n",
       "      <td>0.406139</td>\n",
       "      <td>0.510639</td>\n",
       "      <td>-0.006567</td>\n",
       "      <td>0.409394</td>\n",
       "      <td>0.523706</td>\n",
       "      <td>-0.001918</td>\n",
       "    </tr>\n",
       "    <tr>\n",
       "      <th>4</th>\n",
       "      <td>1</td>\n",
       "      <td>4</td>\n",
       "      <td>A</td>\n",
       "      <td>0.431913</td>\n",
       "      <td>0.582072</td>\n",
       "      <td>-1.241054e-07</td>\n",
       "      <td>0.453692</td>\n",
       "      <td>0.577044</td>\n",
       "      <td>-0.009167</td>\n",
       "      <td>0.474907</td>\n",
       "      <td>...</td>\n",
       "      <td>-0.004793</td>\n",
       "      <td>0.417201</td>\n",
       "      <td>0.501486</td>\n",
       "      <td>-0.012369</td>\n",
       "      <td>0.419653</td>\n",
       "      <td>0.524298</td>\n",
       "      <td>-0.008715</td>\n",
       "      <td>0.422120</td>\n",
       "      <td>0.535854</td>\n",
       "      <td>-0.003439</td>\n",
       "    </tr>\n",
       "  </tbody>\n",
       "</table>\n",
       "<p>5 rows × 66 columns</p>\n",
       "</div>"
      ]
     },
     "execution_count": 2,
     "metadata": {},
     "output_type": "execute_result"
    }
   ],
   "execution_count": 2
  },
  {
   "metadata": {
    "ExecuteTime": {
     "end_time": "2025-08-18T15:56:06.467013Z",
     "start_time": "2025-08-18T15:56:05.542056Z"
    }
   },
   "cell_type": "code",
   "source": [
    "# 3. Podział na 30 klatkowe sekwencje\n",
    "X_all, y_all = DatasetTools.divide_into_sequences(df)"
   ],
   "id": "5ce5d73dc19afbda",
   "outputs": [],
   "execution_count": 3
  },
  {
   "metadata": {
    "ExecuteTime": {
     "end_time": "2025-08-18T15:56:08.742595Z",
     "start_time": "2025-08-18T15:56:06.525506Z"
    }
   },
   "cell_type": "code",
   "source": [
    "# 4. Normalizacja względem nadgarstka\n",
    "X_all = np.array([DatasetTools.normalize_wrist(seq) for seq in X_all])"
   ],
   "id": "17e938dff5904198",
   "outputs": [],
   "execution_count": 4
  },
  {
   "metadata": {
    "ExecuteTime": {
     "end_time": "2025-08-18T15:56:47.712205Z",
     "start_time": "2025-08-18T15:56:08.774848Z"
    }
   },
   "cell_type": "code",
   "source": [
    "# 5. Augmentacja danych\n",
    "augment_config = {\n",
    "    'flip': True,\n",
    "    'gaussian_noise': True,\n",
    "    'speckle_noise': False,\n",
    "    'salt_pepper': False\n",
    "}\n",
    "\n",
    "X_all_aug = np.array([DatasetTools.augment(tf.constant(seq, dtype=tf.float64), augment_config).numpy() for seq in X_all])"
   ],
   "id": "2d878d7e939918b4",
   "outputs": [
    {
     "name": "stderr",
     "output_type": "stream",
     "text": [
      "I0000 00:00:1755532568.907295   12717 gpu_device.cc:2019] Created device /job:localhost/replica:0/task:0/device:GPU:0 with 1733 MB memory:  -> device: 0, name: NVIDIA GeForce MX150, pci bus id: 0000:01:00.0, compute capability: 6.1\n"
     ]
    }
   ],
   "execution_count": 5
  },
  {
   "metadata": {
    "ExecuteTime": {
     "end_time": "2025-08-18T15:56:47.824619Z",
     "start_time": "2025-08-18T15:56:47.771777Z"
    }
   },
   "cell_type": "code",
   "source": [
    "# 6. Podział na zbiór testowy i treningowy\n",
    "from sklearn.preprocessing import LabelEncoder\n",
    "\n",
    "# Kodowanie labeli\n",
    "le = LabelEncoder()\n",
    "y_all_encoded = le.fit_transform(y_all)\n",
    "\n",
    "# Podział na zbiór treningowy i walidacyjny\n",
    "from sklearn.model_selection import train_test_split\n",
    "\n",
    "X_train, X_val, y_train, y_val = train_test_split(\n",
    "    X_all, y_all_encoded,\n",
    "    test_size=0.2,\n",
    "    random_state=42,\n",
    "    stratify=y_all_encoded\n",
    ")"
   ],
   "id": "54dcc985e4211f34",
   "outputs": [],
   "execution_count": 6
  },
  {
   "metadata": {
    "ExecuteTime": {
     "end_time": "2025-08-18T15:56:48.373721Z",
     "start_time": "2025-08-18T15:56:47.850567Z"
    }
   },
   "cell_type": "code",
   "source": [
    "# 7. Konwersja do TensorFlow Dataset\n",
    "BATCH_SIZE = 32\n",
    "\n",
    "train_dataset = tf.data.Dataset.from_tensor_slices((X_train, y_train))\n",
    "train_dataset = train_dataset.shuffle(1000).batch(BATCH_SIZE).prefetch(tf.data.AUTOTUNE)\n",
    "\n",
    "val_dataset = tf.data.Dataset.from_tensor_slices((X_val, y_val))\n",
    "val_dataset = val_dataset.batch(BATCH_SIZE).prefetch(tf.data.AUTOTUNE)\n"
   ],
   "id": "a8383b230dbd7912",
   "outputs": [],
   "execution_count": 7
  },
  {
   "metadata": {
    "ExecuteTime": {
     "end_time": "2025-08-18T15:56:49.157916Z",
     "start_time": "2025-08-18T15:56:48.395578Z"
    }
   },
   "cell_type": "code",
   "source": [
    "# 8. Definicja prostego LSTM\n",
    "from tensorflow.keras import layers, models\n",
    "\n",
    "model = models.Sequential([\n",
    "    layers.Input(shape=(DatasetTools.SEQUENCE_SIZE, DatasetTools.FEATURE_SIZE)),\n",
    "    layers.Masking(mask_value=0.0),\n",
    "    layers.LSTM(128, return_sequences=True),\n",
    "    layers.LSTM(64),\n",
    "    layers.Dense(64, activation='relu'),\n",
    "    layers.Dense(len(np.unique(y_all)), activation='softmax')\n",
    "])\n"
   ],
   "id": "9ed22f1725856233",
   "outputs": [],
   "execution_count": 8
  },
  {
   "metadata": {
    "ExecuteTime": {
     "end_time": "2025-08-18T16:05:02.133194Z",
     "start_time": "2025-08-18T15:56:49.178418Z"
    }
   },
   "cell_type": "code",
   "source": [
    "# 9. Kompilacja i trening\n",
    "model.compile(\n",
    "    optimizer='adam',\n",
    "    loss='sparse_categorical_crossentropy',\n",
    "    metrics=['accuracy']\n",
    ")\n",
    "\n",
    "# Early stopping\n",
    "early_stop = EarlyStopping(\n",
    "    monitor='val_accuracy',\n",
    "    patience=5,            # liczba epok bez poprawy, po której trening się zatrzyma\n",
    "    restore_best_weights=True\n",
    ")\n",
    "\n",
    "# Trening modelu z early stopping\n",
    "history = model.fit(\n",
    "    train_dataset,\n",
    "    validation_data=val_dataset,\n",
    "    epochs=100,\n",
    "    callbacks=[early_stop]\n",
    ")\n"
   ],
   "id": "1037990b83ac86bd",
   "outputs": [
    {
     "name": "stdout",
     "output_type": "stream",
     "text": [
      "Epoch 1/100\n"
     ]
    },
    {
     "name": "stderr",
     "output_type": "stream",
     "text": [
      "I0000 00:00:1755532611.434635   12769 cuda_dnn.cc:529] Loaded cuDNN version 90300\n"
     ]
    },
    {
     "name": "stdout",
     "output_type": "stream",
     "text": [
      "\u001B[1m560/560\u001B[0m \u001B[32m━━━━━━━━━━━━━━━━━━━━\u001B[0m\u001B[37m\u001B[0m \u001B[1m20s\u001B[0m 29ms/step - accuracy: 0.3413 - loss: 2.0589 - val_accuracy: 0.7258 - val_loss: 0.7672\n",
      "Epoch 2/100\n",
      "\u001B[1m560/560\u001B[0m \u001B[32m━━━━━━━━━━━━━━━━━━━━\u001B[0m\u001B[37m\u001B[0m \u001B[1m19s\u001B[0m 35ms/step - accuracy: 0.7571 - loss: 0.6404 - val_accuracy: 0.8688 - val_loss: 0.3466\n",
      "Epoch 3/100\n",
      "\u001B[1m560/560\u001B[0m \u001B[32m━━━━━━━━━━━━━━━━━━━━\u001B[0m\u001B[37m\u001B[0m \u001B[1m20s\u001B[0m 36ms/step - accuracy: 0.8218 - loss: 0.4847 - val_accuracy: 0.8411 - val_loss: 0.3841\n",
      "Epoch 4/100\n",
      "\u001B[1m560/560\u001B[0m \u001B[32m━━━━━━━━━━━━━━━━━━━━\u001B[0m\u001B[37m\u001B[0m \u001B[1m20s\u001B[0m 36ms/step - accuracy: 0.8802 - loss: 0.3192 - val_accuracy: 0.9097 - val_loss: 0.2555\n",
      "Epoch 5/100\n",
      "\u001B[1m560/560\u001B[0m \u001B[32m━━━━━━━━━━━━━━━━━━━━\u001B[0m\u001B[37m\u001B[0m \u001B[1m20s\u001B[0m 35ms/step - accuracy: 0.9115 - loss: 0.2542 - val_accuracy: 0.9120 - val_loss: 0.2380\n",
      "Epoch 6/100\n",
      "\u001B[1m560/560\u001B[0m \u001B[32m━━━━━━━━━━━━━━━━━━━━\u001B[0m\u001B[37m\u001B[0m \u001B[1m20s\u001B[0m 35ms/step - accuracy: 0.9187 - loss: 0.2323 - val_accuracy: 0.9292 - val_loss: 0.1906\n",
      "Epoch 7/100\n",
      "\u001B[1m560/560\u001B[0m \u001B[32m━━━━━━━━━━━━━━━━━━━━\u001B[0m\u001B[37m\u001B[0m \u001B[1m20s\u001B[0m 35ms/step - accuracy: 0.9328 - loss: 0.1943 - val_accuracy: 0.9267 - val_loss: 0.2042\n",
      "Epoch 8/100\n",
      "\u001B[1m560/560\u001B[0m \u001B[32m━━━━━━━━━━━━━━━━━━━━\u001B[0m\u001B[37m\u001B[0m \u001B[1m20s\u001B[0m 35ms/step - accuracy: 0.9243 - loss: 0.2220 - val_accuracy: 0.9533 - val_loss: 0.1451\n",
      "Epoch 9/100\n",
      "\u001B[1m560/560\u001B[0m \u001B[32m━━━━━━━━━━━━━━━━━━━━\u001B[0m\u001B[37m\u001B[0m \u001B[1m20s\u001B[0m 36ms/step - accuracy: 0.9510 - loss: 0.1483 - val_accuracy: 0.9642 - val_loss: 0.1139\n",
      "Epoch 10/100\n",
      "\u001B[1m560/560\u001B[0m \u001B[32m━━━━━━━━━━━━━━━━━━━━\u001B[0m\u001B[37m\u001B[0m \u001B[1m22s\u001B[0m 39ms/step - accuracy: 0.9464 - loss: 0.1573 - val_accuracy: 0.9517 - val_loss: 0.1679\n",
      "Epoch 11/100\n",
      "\u001B[1m560/560\u001B[0m \u001B[32m━━━━━━━━━━━━━━━━━━━━\u001B[0m\u001B[37m\u001B[0m \u001B[1m20s\u001B[0m 35ms/step - accuracy: 0.9563 - loss: 0.1391 - val_accuracy: 0.9249 - val_loss: 0.2305\n",
      "Epoch 12/100\n",
      "\u001B[1m560/560\u001B[0m \u001B[32m━━━━━━━━━━━━━━━━━━━━\u001B[0m\u001B[37m\u001B[0m \u001B[1m22s\u001B[0m 39ms/step - accuracy: 0.9581 - loss: 0.1262 - val_accuracy: 0.9522 - val_loss: 0.1311\n",
      "Epoch 13/100\n",
      "\u001B[1m560/560\u001B[0m \u001B[32m━━━━━━━━━━━━━━━━━━━━\u001B[0m\u001B[37m\u001B[0m \u001B[1m12s\u001B[0m 21ms/step - accuracy: 0.9496 - loss: 0.1488 - val_accuracy: 0.9372 - val_loss: 0.1917\n",
      "Epoch 14/100\n",
      "\u001B[1m560/560\u001B[0m \u001B[32m━━━━━━━━━━━━━━━━━━━━\u001B[0m\u001B[37m\u001B[0m \u001B[1m20s\u001B[0m 35ms/step - accuracy: 0.9560 - loss: 0.1342 - val_accuracy: 0.9674 - val_loss: 0.1093\n",
      "Epoch 15/100\n",
      "\u001B[1m560/560\u001B[0m \u001B[32m━━━━━━━━━━━━━━━━━━━━\u001B[0m\u001B[37m\u001B[0m \u001B[1m20s\u001B[0m 35ms/step - accuracy: 0.9644 - loss: 0.1106 - val_accuracy: 0.9714 - val_loss: 0.0917\n",
      "Epoch 16/100\n",
      "\u001B[1m560/560\u001B[0m \u001B[32m━━━━━━━━━━━━━━━━━━━━\u001B[0m\u001B[37m\u001B[0m \u001B[1m20s\u001B[0m 35ms/step - accuracy: 0.9767 - loss: 0.0700 - val_accuracy: 0.9799 - val_loss: 0.0786\n",
      "Epoch 17/100\n",
      "\u001B[1m560/560\u001B[0m \u001B[32m━━━━━━━━━━━━━━━━━━━━\u001B[0m\u001B[37m\u001B[0m \u001B[1m20s\u001B[0m 35ms/step - accuracy: 0.9710 - loss: 0.0848 - val_accuracy: 0.9823 - val_loss: 0.0631\n",
      "Epoch 18/100\n",
      "\u001B[1m560/560\u001B[0m \u001B[32m━━━━━━━━━━━━━━━━━━━━\u001B[0m\u001B[37m\u001B[0m \u001B[1m20s\u001B[0m 35ms/step - accuracy: 0.9691 - loss: 0.0927 - val_accuracy: 0.9705 - val_loss: 0.1054\n",
      "Epoch 19/100\n",
      "\u001B[1m560/560\u001B[0m \u001B[32m━━━━━━━━━━━━━━━━━━━━\u001B[0m\u001B[37m\u001B[0m \u001B[1m20s\u001B[0m 35ms/step - accuracy: 0.9754 - loss: 0.0711 - val_accuracy: 0.9741 - val_loss: 0.1014\n",
      "Epoch 20/100\n",
      "\u001B[1m560/560\u001B[0m \u001B[32m━━━━━━━━━━━━━━━━━━━━\u001B[0m\u001B[37m\u001B[0m \u001B[1m21s\u001B[0m 37ms/step - accuracy: 0.9694 - loss: 0.0908 - val_accuracy: 0.9618 - val_loss: 0.1241\n",
      "Epoch 21/100\n",
      "\u001B[1m560/560\u001B[0m \u001B[32m━━━━━━━━━━━━━━━━━━━━\u001B[0m\u001B[37m\u001B[0m \u001B[1m20s\u001B[0m 35ms/step - accuracy: 0.9728 - loss: 0.0768 - val_accuracy: 0.9844 - val_loss: 0.0672\n",
      "Epoch 22/100\n",
      "\u001B[1m560/560\u001B[0m \u001B[32m━━━━━━━━━━━━━━━━━━━━\u001B[0m\u001B[37m\u001B[0m \u001B[1m13s\u001B[0m 23ms/step - accuracy: 0.9803 - loss: 0.0593 - val_accuracy: 0.9687 - val_loss: 0.1039\n",
      "Epoch 23/100\n",
      "\u001B[1m560/560\u001B[0m \u001B[32m━━━━━━━━━━━━━━━━━━━━\u001B[0m\u001B[37m\u001B[0m \u001B[1m9s\u001B[0m 16ms/step - accuracy: 0.9742 - loss: 0.0763 - val_accuracy: 0.9544 - val_loss: 0.1503\n",
      "Epoch 24/100\n",
      "\u001B[1m560/560\u001B[0m \u001B[32m━━━━━━━━━━━━━━━━━━━━\u001B[0m\u001B[37m\u001B[0m \u001B[1m20s\u001B[0m 35ms/step - accuracy: 0.9768 - loss: 0.0713 - val_accuracy: 0.9432 - val_loss: 0.1911\n",
      "Epoch 25/100\n",
      "\u001B[1m560/560\u001B[0m \u001B[32m━━━━━━━━━━━━━━━━━━━━\u001B[0m\u001B[37m\u001B[0m \u001B[1m20s\u001B[0m 35ms/step - accuracy: 0.9801 - loss: 0.0667 - val_accuracy: 0.9837 - val_loss: 0.0653\n",
      "Epoch 26/100\n",
      "\u001B[1m560/560\u001B[0m \u001B[32m━━━━━━━━━━━━━━━━━━━━\u001B[0m\u001B[37m\u001B[0m \u001B[1m21s\u001B[0m 37ms/step - accuracy: 0.9764 - loss: 0.0817 - val_accuracy: 0.9792 - val_loss: 0.0658\n"
     ]
    }
   ],
   "execution_count": 9
  },
  {
   "metadata": {
    "ExecuteTime": {
     "end_time": "2025-08-18T16:19:26.239275Z",
     "start_time": "2025-08-18T16:19:25.606361Z"
    }
   },
   "cell_type": "code",
   "source": [
    "# 10. Ocena skuteczności modelu\n",
    "val_preds = model.predict(val_dataset)\n",
    "val_preds_classes = np.argmax(val_preds, axis=1)\n",
    "\n",
    "# Pobranie prawdziwych etykiet z datasetu\n",
    "y_val_true = np.concatenate([y for x, y in val_dataset], axis=0)\n",
    "\n",
    "print(\"Confusion Matrix:\")\n",
    "print(confusion_matrix(y_val_true, val_preds_classes))\n",
    "\n",
    "print(\"\\nClassification Report:\")\n",
    "print(classification_report(y_val_true, val_preds_classes))"
   ],
   "id": "e564040099c43000",
   "outputs": [
    {
     "name": "stdout",
     "output_type": "stream",
     "text": [
      "\u001B[1m140/140\u001B[0m \u001B[32m━━━━━━━━━━━━━━━━━━━━\u001B[0m\u001B[37m\u001B[0m \u001B[1m1s\u001B[0m 4ms/step\n",
      "Confusion Matrix:\n",
      "[[119   0   0 ...   0   0   0]\n",
      " [  6 118   0 ...   0   0   0]\n",
      " [  0   0 124 ...   0   0   0]\n",
      " ...\n",
      " [  0   0   0 ... 119   7   0]\n",
      " [  0   0   0 ...  10 112   3]\n",
      " [  1   0   0 ...   3   0 120]]\n",
      "\n",
      "Classification Report:\n",
      "              precision    recall  f1-score   support\n",
      "\n",
      "           0       0.92      1.00      0.96       119\n",
      "           1       1.00      0.95      0.98       124\n",
      "           2       1.00      1.00      1.00       124\n",
      "           3       1.00      0.97      0.98       124\n",
      "           4       1.00      0.99      1.00       124\n",
      "           5       1.00      0.98      0.99       124\n",
      "           6       0.99      1.00      1.00       125\n",
      "           7       0.98      0.99      0.98       124\n",
      "           8       0.96      0.98      0.97       125\n",
      "           9       1.00      0.96      0.98       124\n",
      "          10       1.00      0.98      0.99       125\n",
      "          11       0.99      1.00      1.00       124\n",
      "          12       0.98      0.99      0.98       125\n",
      "          13       0.99      1.00      1.00       125\n",
      "          14       1.00      0.99      1.00       124\n",
      "          15       0.99      0.98      0.98       124\n",
      "          16       0.99      0.98      0.99       125\n",
      "          17       0.99      1.00      1.00       124\n",
      "          18       0.99      0.99      0.99       124\n",
      "          19       0.99      0.99      0.99       124\n",
      "          20       0.98      1.00      0.99       124\n",
      "          21       1.00      0.98      0.99       124\n",
      "          22       0.99      0.98      0.99       124\n",
      "          23       1.00      1.00      1.00       124\n",
      "          24       0.97      1.00      0.98       125\n",
      "          25       0.99      0.96      0.98       124\n",
      "          26       0.99      1.00      1.00       125\n",
      "          27       0.98      1.00      0.99       124\n",
      "          28       1.00      1.00      1.00       125\n",
      "          29       1.00      0.99      1.00       124\n",
      "          30       1.00      1.00      1.00       125\n",
      "          31       1.00      0.99      1.00       125\n",
      "          32       0.99      0.99      0.99       125\n",
      "          33       0.88      0.94      0.91       126\n",
      "          34       0.92      0.90      0.91       125\n",
      "          35       0.98      0.96      0.97       125\n",
      "\n",
      "    accuracy                           0.98      4475\n",
      "   macro avg       0.98      0.98      0.98      4475\n",
      "weighted avg       0.98      0.98      0.98      4475\n",
      "\n"
     ]
    },
    {
     "name": "stderr",
     "output_type": "stream",
     "text": [
      "2025-08-18 18:19:26.224549: I tensorflow/core/framework/local_rendezvous.cc:407] Local rendezvous is aborting with status: OUT_OF_RANGE: End of sequence\n"
     ]
    }
   ],
   "execution_count": 13
  },
  {
   "metadata": {
    "ExecuteTime": {
     "end_time": "2025-08-18T16:19:28.784965Z",
     "start_time": "2025-08-18T16:19:28.739620Z"
    }
   },
   "cell_type": "code",
   "source": [
    "import os\n",
    "from datetime import datetime\n",
    "import json\n",
    "\n",
    "# Ustal dzisiejszą datę\n",
    "today_str = datetime.now().strftime(\"%Y-%m-%d\")\n",
    "\n",
    "# Ścieżka zapisu modeli\n",
    "save_dir = f\"../model/{today_str}\"\n",
    "os.makedirs(save_dir, exist_ok=True)\n",
    "\n",
    "# Ścieżki plików\n",
    "model_path = os.path.join(save_dir, \"lstm.keras\")\n",
    "labels_path = os.path.join(save_dir, \"labels.txt\")\n",
    "\n",
    "# Zapis modeli\n",
    "model.save(model_path)\n",
    "\n",
    "with open('../model/2025-07-14/labels.txt', 'w') as f:\n",
    "    for label in le.classes_:\n",
    "        f.write(label + '\\n')\n",
    "\n",
    "print(f\"Modele i etykiety zapisano w folderze: {save_dir}\")\n"
   ],
   "id": "93bcee8a03ddae22",
   "outputs": [
    {
     "name": "stdout",
     "output_type": "stream",
     "text": [
      "Modele i etykiety zapisano w folderze: ../model/2025-08-18\n"
     ]
    }
   ],
   "execution_count": 14
  }
 ],
 "metadata": {
  "kernelspec": {
   "display_name": "Python 3",
   "language": "python",
   "name": "python3"
  },
  "language_info": {
   "codemirror_mode": {
    "name": "ipython",
    "version": 2
   },
   "file_extension": ".py",
   "mimetype": "text/x-python",
   "name": "python",
   "nbconvert_exporter": "python",
   "pygments_lexer": "ipython2",
   "version": "2.7.6"
  }
 },
 "nbformat": 4,
 "nbformat_minor": 5
}
