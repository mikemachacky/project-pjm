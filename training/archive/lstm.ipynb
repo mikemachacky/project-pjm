{
 "cells": [
  {
   "cell_type": "code",
   "id": "initial_id",
   "metadata": {
    "collapsed": true,
    "ExecuteTime": {
     "end_time": "2025-08-18T18:25:29.129529Z",
     "start_time": "2025-08-18T18:25:25.632312Z"
    }
   },
   "source": [
    "# 1. Import bibliotek\n",
    "import numpy as np\n",
    "import pandas as pd\n",
    "import tensorflow as tf\n",
    "from sklearn.model_selection import train_test_split\n",
    "from tensorflow.keras.callbacks import EarlyStopping\n",
    "from sklearn.metrics import classification_report, confusion_matrix\n",
    "from utils.dataset_tools import DatasetTools"
   ],
   "outputs": [
    {
     "name": "stderr",
     "output_type": "stream",
     "text": [
      "2025-08-18 20:25:26.258261: E external/local_xla/xla/stream_executor/cuda/cuda_fft.cc:467] Unable to register cuFFT factory: Attempting to register factory for plugin cuFFT when one has already been registered\n",
      "WARNING: All log messages before absl::InitializeLog() is called are written to STDERR\n",
      "E0000 00:00:1755541526.277086  174761 cuda_dnn.cc:8579] Unable to register cuDNN factory: Attempting to register factory for plugin cuDNN when one has already been registered\n",
      "E0000 00:00:1755541526.283309  174761 cuda_blas.cc:1407] Unable to register cuBLAS factory: Attempting to register factory for plugin cuBLAS when one has already been registered\n",
      "W0000 00:00:1755541526.297755  174761 computation_placer.cc:177] computation placer already registered. Please check linkage and avoid linking the same target more than once.\n",
      "W0000 00:00:1755541526.297775  174761 computation_placer.cc:177] computation placer already registered. Please check linkage and avoid linking the same target more than once.\n",
      "W0000 00:00:1755541526.297777  174761 computation_placer.cc:177] computation placer already registered. Please check linkage and avoid linking the same target more than once.\n",
      "W0000 00:00:1755541526.297779  174761 computation_placer.cc:177] computation placer already registered. Please check linkage and avoid linking the same target more than once.\n",
      "2025-08-18 20:25:26.302209: I tensorflow/core/platform/cpu_feature_guard.cc:210] This TensorFlow binary is optimized to use available CPU instructions in performance-critical operations.\n",
      "To enable the following instructions: AVX2 FMA, in other operations, rebuild TensorFlow with the appropriate compiler flags.\n"
     ]
    }
   ],
   "execution_count": 1
  },
  {
   "metadata": {
    "ExecuteTime": {
     "end_time": "2025-08-18T18:25:29.907426Z",
     "start_time": "2025-08-18T18:25:29.232173Z"
    }
   },
   "cell_type": "code",
   "source": [
    "# 2. Załadowanie danych, przygotowanie\n",
    "df = pd.read_csv('../../dataset/full_dataset.csv')\n",
    "df.head()"
   ],
   "id": "b71c83b86100b525",
   "outputs": [
    {
     "data": {
      "text/plain": [
       "   sample_id  frame label  landmark_1_x  landmark_1_y  landmark_1_z  \\\n",
       "0          1      0     A      0.345417      0.648431 -1.125724e-07   \n",
       "1          1      1     A      0.366266      0.597102 -9.622672e-08   \n",
       "2          1      2     A      0.400966      0.572690 -1.089629e-07   \n",
       "3          1      3     A      0.418257      0.573744 -1.190043e-07   \n",
       "4          1      4     A      0.431913      0.582072 -1.241054e-07   \n",
       "\n",
       "   landmark_2_x  landmark_2_y  landmark_2_z  landmark_3_x  ...  landmark_18_z  \\\n",
       "0      0.363545      0.620765     -0.010274      0.367171  ...      -0.003865   \n",
       "1      0.391580      0.578109     -0.012907      0.406190  ...       0.000685   \n",
       "2      0.424555      0.552354     -0.004017      0.439723  ...      -0.004296   \n",
       "3      0.441344      0.563031     -0.007786      0.460869  ...      -0.002903   \n",
       "4      0.453692      0.577044     -0.009167      0.474907  ...      -0.004793   \n",
       "\n",
       "   landmark_19_x  landmark_19_y  landmark_19_z  landmark_20_x  landmark_20_y  \\\n",
       "0       0.321722       0.551512      -0.008457       0.326903       0.565844   \n",
       "1       0.356418       0.497935      -0.004451       0.361665       0.515749   \n",
       "2       0.383425       0.481909      -0.009304       0.389207       0.502081   \n",
       "3       0.402536       0.489501      -0.009669       0.406139       0.510639   \n",
       "4       0.417201       0.501486      -0.012369       0.419653       0.524298   \n",
       "\n",
       "   landmark_20_z  landmark_21_x  landmark_21_y  landmark_21_z  \n",
       "0      -0.005724       0.329682       0.577548      -0.001789  \n",
       "1      -0.001988       0.363353       0.523833       0.002337  \n",
       "2      -0.005430       0.391897       0.513775      -0.000924  \n",
       "3      -0.006567       0.409394       0.523706      -0.001918  \n",
       "4      -0.008715       0.422120       0.535854      -0.003439  \n",
       "\n",
       "[5 rows x 66 columns]"
      ],
      "text/html": [
       "<div>\n",
       "<style scoped>\n",
       "    .dataframe tbody tr th:only-of-type {\n",
       "        vertical-align: middle;\n",
       "    }\n",
       "\n",
       "    .dataframe tbody tr th {\n",
       "        vertical-align: top;\n",
       "    }\n",
       "\n",
       "    .dataframe thead th {\n",
       "        text-align: right;\n",
       "    }\n",
       "</style>\n",
       "<table border=\"1\" class=\"dataframe\">\n",
       "  <thead>\n",
       "    <tr style=\"text-align: right;\">\n",
       "      <th></th>\n",
       "      <th>sample_id</th>\n",
       "      <th>frame</th>\n",
       "      <th>label</th>\n",
       "      <th>landmark_1_x</th>\n",
       "      <th>landmark_1_y</th>\n",
       "      <th>landmark_1_z</th>\n",
       "      <th>landmark_2_x</th>\n",
       "      <th>landmark_2_y</th>\n",
       "      <th>landmark_2_z</th>\n",
       "      <th>landmark_3_x</th>\n",
       "      <th>...</th>\n",
       "      <th>landmark_18_z</th>\n",
       "      <th>landmark_19_x</th>\n",
       "      <th>landmark_19_y</th>\n",
       "      <th>landmark_19_z</th>\n",
       "      <th>landmark_20_x</th>\n",
       "      <th>landmark_20_y</th>\n",
       "      <th>landmark_20_z</th>\n",
       "      <th>landmark_21_x</th>\n",
       "      <th>landmark_21_y</th>\n",
       "      <th>landmark_21_z</th>\n",
       "    </tr>\n",
       "  </thead>\n",
       "  <tbody>\n",
       "    <tr>\n",
       "      <th>0</th>\n",
       "      <td>1</td>\n",
       "      <td>0</td>\n",
       "      <td>A</td>\n",
       "      <td>0.345417</td>\n",
       "      <td>0.648431</td>\n",
       "      <td>-1.125724e-07</td>\n",
       "      <td>0.363545</td>\n",
       "      <td>0.620765</td>\n",
       "      <td>-0.010274</td>\n",
       "      <td>0.367171</td>\n",
       "      <td>...</td>\n",
       "      <td>-0.003865</td>\n",
       "      <td>0.321722</td>\n",
       "      <td>0.551512</td>\n",
       "      <td>-0.008457</td>\n",
       "      <td>0.326903</td>\n",
       "      <td>0.565844</td>\n",
       "      <td>-0.005724</td>\n",
       "      <td>0.329682</td>\n",
       "      <td>0.577548</td>\n",
       "      <td>-0.001789</td>\n",
       "    </tr>\n",
       "    <tr>\n",
       "      <th>1</th>\n",
       "      <td>1</td>\n",
       "      <td>1</td>\n",
       "      <td>A</td>\n",
       "      <td>0.366266</td>\n",
       "      <td>0.597102</td>\n",
       "      <td>-9.622672e-08</td>\n",
       "      <td>0.391580</td>\n",
       "      <td>0.578109</td>\n",
       "      <td>-0.012907</td>\n",
       "      <td>0.406190</td>\n",
       "      <td>...</td>\n",
       "      <td>0.000685</td>\n",
       "      <td>0.356418</td>\n",
       "      <td>0.497935</td>\n",
       "      <td>-0.004451</td>\n",
       "      <td>0.361665</td>\n",
       "      <td>0.515749</td>\n",
       "      <td>-0.001988</td>\n",
       "      <td>0.363353</td>\n",
       "      <td>0.523833</td>\n",
       "      <td>0.002337</td>\n",
       "    </tr>\n",
       "    <tr>\n",
       "      <th>2</th>\n",
       "      <td>1</td>\n",
       "      <td>2</td>\n",
       "      <td>A</td>\n",
       "      <td>0.400966</td>\n",
       "      <td>0.572690</td>\n",
       "      <td>-1.089629e-07</td>\n",
       "      <td>0.424555</td>\n",
       "      <td>0.552354</td>\n",
       "      <td>-0.004017</td>\n",
       "      <td>0.439723</td>\n",
       "      <td>...</td>\n",
       "      <td>-0.004296</td>\n",
       "      <td>0.383425</td>\n",
       "      <td>0.481909</td>\n",
       "      <td>-0.009304</td>\n",
       "      <td>0.389207</td>\n",
       "      <td>0.502081</td>\n",
       "      <td>-0.005430</td>\n",
       "      <td>0.391897</td>\n",
       "      <td>0.513775</td>\n",
       "      <td>-0.000924</td>\n",
       "    </tr>\n",
       "    <tr>\n",
       "      <th>3</th>\n",
       "      <td>1</td>\n",
       "      <td>3</td>\n",
       "      <td>A</td>\n",
       "      <td>0.418257</td>\n",
       "      <td>0.573744</td>\n",
       "      <td>-1.190043e-07</td>\n",
       "      <td>0.441344</td>\n",
       "      <td>0.563031</td>\n",
       "      <td>-0.007786</td>\n",
       "      <td>0.460869</td>\n",
       "      <td>...</td>\n",
       "      <td>-0.002903</td>\n",
       "      <td>0.402536</td>\n",
       "      <td>0.489501</td>\n",
       "      <td>-0.009669</td>\n",
       "      <td>0.406139</td>\n",
       "      <td>0.510639</td>\n",
       "      <td>-0.006567</td>\n",
       "      <td>0.409394</td>\n",
       "      <td>0.523706</td>\n",
       "      <td>-0.001918</td>\n",
       "    </tr>\n",
       "    <tr>\n",
       "      <th>4</th>\n",
       "      <td>1</td>\n",
       "      <td>4</td>\n",
       "      <td>A</td>\n",
       "      <td>0.431913</td>\n",
       "      <td>0.582072</td>\n",
       "      <td>-1.241054e-07</td>\n",
       "      <td>0.453692</td>\n",
       "      <td>0.577044</td>\n",
       "      <td>-0.009167</td>\n",
       "      <td>0.474907</td>\n",
       "      <td>...</td>\n",
       "      <td>-0.004793</td>\n",
       "      <td>0.417201</td>\n",
       "      <td>0.501486</td>\n",
       "      <td>-0.012369</td>\n",
       "      <td>0.419653</td>\n",
       "      <td>0.524298</td>\n",
       "      <td>-0.008715</td>\n",
       "      <td>0.422120</td>\n",
       "      <td>0.535854</td>\n",
       "      <td>-0.003439</td>\n",
       "    </tr>\n",
       "  </tbody>\n",
       "</table>\n",
       "<p>5 rows × 66 columns</p>\n",
       "</div>"
      ]
     },
     "execution_count": 2,
     "metadata": {},
     "output_type": "execute_result"
    }
   ],
   "execution_count": 2
  },
  {
   "metadata": {
    "ExecuteTime": {
     "end_time": "2025-08-18T18:25:32.686395Z",
     "start_time": "2025-08-18T18:25:31.709860Z"
    }
   },
   "cell_type": "code",
   "source": [
    "# 3. Podział na 30 klatkowe sekwencje\n",
    "X_all, y_all = DatasetTools.divide_into_sequences(df)"
   ],
   "id": "5ce5d73dc19afbda",
   "outputs": [],
   "execution_count": 3
  },
  {
   "metadata": {
    "ExecuteTime": {
     "end_time": "2025-08-18T18:25:35.928160Z",
     "start_time": "2025-08-18T18:25:33.623315Z"
    }
   },
   "cell_type": "code",
   "source": [
    "# 4. Normalizacja względem nadgarstka\n",
    "X_all = np.array([DatasetTools.normalize_wrist(seq) for seq in X_all])"
   ],
   "id": "17e938dff5904198",
   "outputs": [],
   "execution_count": 4
  },
  {
   "metadata": {
    "ExecuteTime": {
     "end_time": "2025-08-18T18:15:38.695734Z",
     "start_time": "2025-08-18T18:15:33.071650Z"
    }
   },
   "cell_type": "code",
   "source": [
    "# 5. Augmentacja danych\n",
    "augment_config = {\n",
    "    'flip': False,\n",
    "    'gaussian_noise': False,\n",
    "    'speckle_noise': False,\n",
    "    'salt_pepper': False\n",
    "}\n",
    "\n",
    "X_all_aug = np.array([DatasetTools.augment(tf.constant(seq, dtype=tf.float64), augment_config).numpy() for seq in X_all])"
   ],
   "id": "2d878d7e939918b4",
   "outputs": [
    {
     "name": "stderr",
     "output_type": "stream",
     "text": [
      "I0000 00:00:1755540933.530167  170327 gpu_device.cc:2019] Created device /job:localhost/replica:0/task:0/device:GPU:0 with 178 MB memory:  -> device: 0, name: NVIDIA GeForce MX150, pci bus id: 0000:01:00.0, compute capability: 6.1\n",
      "I0000 00:00:1755540933.563750  170327 cuda_executor.cc:479] failed to allocate 178.81MiB (187498496 bytes) from device: RESOURCE_EXHAUSTED: : CUDA_ERROR_OUT_OF_MEMORY: out of memory\n"
     ]
    }
   ],
   "execution_count": 5
  },
  {
   "metadata": {
    "ExecuteTime": {
     "end_time": "2025-08-18T18:25:48.992909Z",
     "start_time": "2025-08-18T18:25:48.926122Z"
    }
   },
   "cell_type": "code",
   "source": [
    "# 6. Podział na zbiór testowy i treningowy\n",
    "from sklearn.preprocessing import LabelEncoder\n",
    "\n",
    "# Kodowanie labeli\n",
    "le = LabelEncoder()\n",
    "y_all_encoded = le.fit_transform(y_all)\n",
    "\n",
    "# Podział na zbiór treningowy i walidacyjny\n",
    "from sklearn.model_selection import train_test_split\n",
    "\n",
    "X_train, X_val, y_train, y_val = train_test_split(\n",
    "    X_all, y_all_encoded,\n",
    "    test_size=0.2,\n",
    "    random_state=42,\n",
    "    stratify=y_all_encoded\n",
    ")"
   ],
   "id": "54dcc985e4211f34",
   "outputs": [],
   "execution_count": 5
  },
  {
   "metadata": {
    "ExecuteTime": {
     "end_time": "2025-08-18T18:25:51.952331Z",
     "start_time": "2025-08-18T18:25:51.599624Z"
    }
   },
   "cell_type": "code",
   "source": [
    "# 7. Konwersja do TensorFlow Dataset\n",
    "BATCH_SIZE = 32\n",
    "\n",
    "with tf.device('/CPU:0'):\n",
    "    train_dataset = tf.data.Dataset.from_tensor_slices((X_train, y_train))\n",
    "    train_dataset = train_dataset.shuffle(1000).batch(BATCH_SIZE).prefetch(tf.data.AUTOTUNE)\n",
    "\n",
    "    val_dataset = tf.data.Dataset.from_tensor_slices((X_val, y_val))\n",
    "    val_dataset = val_dataset.batch(BATCH_SIZE).prefetch(tf.data.AUTOTUNE)\n",
    "\n"
   ],
   "id": "a8383b230dbd7912",
   "outputs": [
    {
     "name": "stderr",
     "output_type": "stream",
     "text": [
      "I0000 00:00:1755541551.740266  174761 gpu_device.cc:2019] Created device /job:localhost/replica:0/task:0/device:GPU:0 with 178 MB memory:  -> device: 0, name: NVIDIA GeForce MX150, pci bus id: 0000:01:00.0, compute capability: 6.1\n"
     ]
    }
   ],
   "execution_count": 6
  },
  {
   "metadata": {
    "ExecuteTime": {
     "end_time": "2025-08-18T18:26:40.433779Z",
     "start_time": "2025-08-18T18:26:39.520453Z"
    }
   },
   "cell_type": "code",
   "source": [
    "# 8. Definicja prostego LSTM\n",
    "from tensorflow.keras import layers, models\n",
    "\n",
    "model = models.Sequential([\n",
    "    layers.Input(shape=(DatasetTools.SEQUENCE_SIZE, DatasetTools.FEATURE_SIZE)),\n",
    "    layers.Masking(mask_value=0.0),\n",
    "    layers.LSTM(128, return_sequences=True),\n",
    "    layers.LSTM(64),\n",
    "    layers.Dense(64, activation='relu'),\n",
    "    layers.Dense(len(np.unique(y_all)), activation='softmax')\n",
    "])\n"
   ],
   "id": "9ed22f1725856233",
   "outputs": [
    {
     "name": "stderr",
     "output_type": "stream",
     "text": [
      "I0000 00:00:1755541599.525932  174761 cuda_executor.cc:479] failed to allocate 178.81MiB (187498496 bytes) from device: RESOURCE_EXHAUSTED: : CUDA_ERROR_OUT_OF_MEMORY: out of memory\n"
     ]
    }
   ],
   "execution_count": 8
  },
  {
   "metadata": {
    "ExecuteTime": {
     "end_time": "2025-08-18T18:30:32.535430Z",
     "start_time": "2025-08-18T18:26:55.552046Z"
    }
   },
   "cell_type": "code",
   "source": [
    "# 9. Kompilacja i trening\n",
    "model.compile(\n",
    "    optimizer='adam',\n",
    "    loss='sparse_categorical_crossentropy',\n",
    "    metrics=['accuracy'],\n",
    ")\n",
    "\n",
    "# Early stopping\n",
    "early_stop = EarlyStopping(\n",
    "    monitor='val_accuracy',\n",
    "    patience=3,            # liczba epok bez poprawy, po której trening się zatrzyma\n",
    "    restore_best_weights=True\n",
    ")\n",
    "\n",
    "# Trening modelu z early stopping\n",
    "history = model.fit(\n",
    "    train_dataset,\n",
    "    validation_data=val_dataset,\n",
    "    epochs=100,\n",
    "    callbacks=[early_stop]\n",
    ")\n"
   ],
   "id": "1037990b83ac86bd",
   "outputs": [
    {
     "name": "stdout",
     "output_type": "stream",
     "text": [
      "Epoch 1/100\n"
     ]
    },
    {
     "name": "stderr",
     "output_type": "stream",
     "text": [
      "I0000 00:00:1755541617.959373  175083 cuda_dnn.cc:529] Loaded cuDNN version 90300\n"
     ]
    },
    {
     "name": "stdout",
     "output_type": "stream",
     "text": [
      "\u001B[1m560/560\u001B[0m \u001B[32m━━━━━━━━━━━━━━━━━━━━\u001B[0m\u001B[37m\u001B[0m \u001B[1m24s\u001B[0m 36ms/step - accuracy: 0.3234 - loss: 2.1299 - val_accuracy: 0.7743 - val_loss: 0.6539\n",
      "Epoch 2/100\n",
      "\u001B[1m560/560\u001B[0m \u001B[32m━━━━━━━━━━━━━━━━━━━━\u001B[0m\u001B[37m\u001B[0m \u001B[1m20s\u001B[0m 35ms/step - accuracy: 0.7566 - loss: 0.6532 - val_accuracy: 0.8753 - val_loss: 0.3435\n",
      "Epoch 3/100\n",
      "\u001B[1m560/560\u001B[0m \u001B[32m━━━━━━━━━━━━━━━━━━━━\u001B[0m\u001B[37m\u001B[0m \u001B[1m20s\u001B[0m 35ms/step - accuracy: 0.8542 - loss: 0.3917 - val_accuracy: 0.9021 - val_loss: 0.2766\n",
      "Epoch 4/100\n",
      "\u001B[1m560/560\u001B[0m \u001B[32m━━━━━━━━━━━━━━━━━━━━\u001B[0m\u001B[37m\u001B[0m \u001B[1m23s\u001B[0m 41ms/step - accuracy: 0.8919 - loss: 0.3012 - val_accuracy: 0.9093 - val_loss: 0.2492\n",
      "Epoch 5/100\n",
      "\u001B[1m560/560\u001B[0m \u001B[32m━━━━━━━━━━━━━━━━━━━━\u001B[0m\u001B[37m\u001B[0m \u001B[1m19s\u001B[0m 34ms/step - accuracy: 0.9223 - loss: 0.2162 - val_accuracy: 0.9162 - val_loss: 0.2423\n",
      "Epoch 6/100\n",
      "\u001B[1m560/560\u001B[0m \u001B[32m━━━━━━━━━━━━━━━━━━━━\u001B[0m\u001B[37m\u001B[0m \u001B[1m22s\u001B[0m 39ms/step - accuracy: 0.9254 - loss: 0.2178 - val_accuracy: 0.9497 - val_loss: 0.1491\n",
      "Epoch 7/100\n",
      "\u001B[1m560/560\u001B[0m \u001B[32m━━━━━━━━━━━━━━━━━━━━\u001B[0m\u001B[37m\u001B[0m \u001B[1m13s\u001B[0m 23ms/step - accuracy: 0.9480 - loss: 0.1539 - val_accuracy: 0.9446 - val_loss: 0.1693\n",
      "Epoch 8/100\n",
      "\u001B[1m560/560\u001B[0m \u001B[32m━━━━━━━━━━━━━━━━━━━━\u001B[0m\u001B[37m\u001B[0m \u001B[1m16s\u001B[0m 29ms/step - accuracy: 0.9465 - loss: 0.1637 - val_accuracy: 0.9618 - val_loss: 0.1254\n",
      "Epoch 9/100\n",
      "\u001B[1m560/560\u001B[0m \u001B[32m━━━━━━━━━━━━━━━━━━━━\u001B[0m\u001B[37m\u001B[0m \u001B[1m20s\u001B[0m 35ms/step - accuracy: 0.9455 - loss: 0.1690 - val_accuracy: 0.9582 - val_loss: 0.1197\n",
      "Epoch 10/100\n",
      "\u001B[1m560/560\u001B[0m \u001B[32m━━━━━━━━━━━━━━━━━━━━\u001B[0m\u001B[37m\u001B[0m \u001B[1m20s\u001B[0m 35ms/step - accuracy: 0.9649 - loss: 0.1099 - val_accuracy: 0.9155 - val_loss: 0.2745\n",
      "Epoch 11/100\n",
      "\u001B[1m560/560\u001B[0m \u001B[32m━━━━━━━━━━━━━━━━━━━━\u001B[0m\u001B[37m\u001B[0m \u001B[1m21s\u001B[0m 37ms/step - accuracy: 0.9584 - loss: 0.1262 - val_accuracy: 0.9602 - val_loss: 0.1161\n"
     ]
    }
   ],
   "execution_count": 11
  },
  {
   "metadata": {
    "ExecuteTime": {
     "end_time": "2025-08-18T18:46:59.884755Z",
     "start_time": "2025-08-18T18:46:58.919973Z"
    }
   },
   "cell_type": "code",
   "source": [
    "# 10. Ocena skuteczności modelu\n",
    "val_preds = model.predict(val_dataset)\n",
    "val_preds_classes = np.argmax(val_preds, axis=1)\n",
    "\n",
    "# Pobranie prawdziwych etykiet z datasetu\n",
    "y_val_true = np.concatenate([y for x, y in val_dataset], axis=0)\n",
    "\n",
    "print(\"Confusion Matrix:\")\n",
    "print(confusion_matrix(y_val_true, val_preds_classes))\n",
    "\n",
    "print(\"\\nClassification Report:\")\n",
    "print(classification_report(y_val_true, val_preds_classes))"
   ],
   "id": "e564040099c43000",
   "outputs": [
    {
     "name": "stdout",
     "output_type": "stream",
     "text": [
      "\u001B[1m140/140\u001B[0m \u001B[32m━━━━━━━━━━━━━━━━━━━━\u001B[0m\u001B[37m\u001B[0m \u001B[1m1s\u001B[0m 5ms/step\n",
      "Confusion Matrix:\n",
      "[[119   0   0 ...   0   0   0]\n",
      " [  7 117   0 ...   0   0   0]\n",
      " [  0   0 123 ...   0   0   0]\n",
      " ...\n",
      " [  0   0   0 ... 110  16   0]\n",
      " [  0   1   0 ...  36  78   9]\n",
      " [  1   0   0 ...   3  15 105]]\n",
      "\n",
      "Classification Report:\n",
      "              precision    recall  f1-score   support\n",
      "\n",
      "           0       0.94      1.00      0.97       119\n",
      "           1       0.99      0.94      0.97       124\n",
      "           2       1.00      0.99      1.00       124\n",
      "           3       0.98      0.96      0.97       124\n",
      "           4       0.96      1.00      0.98       124\n",
      "           5       1.00      0.94      0.97       124\n",
      "           6       0.96      0.98      0.97       125\n",
      "           7       0.98      0.99      0.98       124\n",
      "           8       0.99      0.98      0.98       125\n",
      "           9       1.00      0.99      1.00       124\n",
      "          10       0.96      0.98      0.97       125\n",
      "          11       1.00      1.00      1.00       124\n",
      "          12       0.99      0.99      0.99       125\n",
      "          13       0.99      1.00      1.00       125\n",
      "          14       0.98      0.99      0.98       124\n",
      "          15       0.98      0.98      0.98       124\n",
      "          16       0.89      0.98      0.93       125\n",
      "          17       0.97      0.90      0.93       124\n",
      "          18       1.00      0.99      1.00       124\n",
      "          19       1.00      1.00      1.00       124\n",
      "          20       1.00      1.00      1.00       124\n",
      "          21       0.99      0.91      0.95       124\n",
      "          22       0.98      0.98      0.98       124\n",
      "          23       0.99      0.99      0.99       124\n",
      "          24       0.97      0.86      0.92       125\n",
      "          25       0.88      0.98      0.93       124\n",
      "          26       0.96      1.00      0.98       125\n",
      "          27       0.99      1.00      1.00       124\n",
      "          28       1.00      1.00      1.00       125\n",
      "          29       1.00      0.98      0.99       124\n",
      "          30       1.00      1.00      1.00       125\n",
      "          31       1.00      1.00      1.00       125\n",
      "          32       1.00      0.99      1.00       125\n",
      "          33       0.72      0.87      0.79       126\n",
      "          34       0.70      0.62      0.66       125\n",
      "          35       0.92      0.84      0.88       125\n",
      "\n",
      "    accuracy                           0.96      4475\n",
      "   macro avg       0.96      0.96      0.96      4475\n",
      "weighted avg       0.96      0.96      0.96      4475\n",
      "\n"
     ]
    },
    {
     "name": "stderr",
     "output_type": "stream",
     "text": [
      "2025-08-18 20:46:59.867555: I tensorflow/core/framework/local_rendezvous.cc:407] Local rendezvous is aborting with status: OUT_OF_RANGE: End of sequence\n"
     ]
    }
   ],
   "execution_count": 12
  },
  {
   "metadata": {
    "ExecuteTime": {
     "end_time": "2025-08-18T18:47:18.003219Z",
     "start_time": "2025-08-18T18:47:17.960816Z"
    }
   },
   "cell_type": "code",
   "source": [
    "import os\n",
    "from datetime import datetime\n",
    "import json\n",
    "\n",
    "# Ustal dzisiejszą datę\n",
    "today_str = datetime.now().strftime(\"%Y-%m-%d\")\n",
    "\n",
    "# Ścieżka zapisu modeli\n",
    "save_dir = f\"../model/{today_str}\"\n",
    "os.makedirs(save_dir, exist_ok=True)\n",
    "\n",
    "# Ścieżki plików\n",
    "model_path = os.path.join(save_dir, \"lstm.keras\")\n",
    "labels_path = os.path.join(save_dir, \"labels.txt\")\n",
    "\n",
    "# Zapis modeli\n",
    "model.save(model_path)\n",
    "\n",
    "with open('../../model/2025-07-14/labels.txt', 'w') as f:\n",
    "    for label in le.classes_:\n",
    "        f.write(label + '\\n')\n",
    "\n",
    "print(f\"Modele i etykiety zapisano w folderze: {save_dir}\")\n"
   ],
   "id": "93bcee8a03ddae22",
   "outputs": [
    {
     "name": "stdout",
     "output_type": "stream",
     "text": [
      "Modele i etykiety zapisano w folderze: ../model/2025-08-18\n"
     ]
    }
   ],
   "execution_count": 14
  }
 ],
 "metadata": {
  "kernelspec": {
   "display_name": "Python 3",
   "language": "python",
   "name": "python3"
  },
  "language_info": {
   "codemirror_mode": {
    "name": "ipython",
    "version": 2
   },
   "file_extension": ".py",
   "mimetype": "text/x-python",
   "name": "python",
   "nbconvert_exporter": "python",
   "pygments_lexer": "ipython2",
   "version": "2.7.6"
  }
 },
 "nbformat": 4,
 "nbformat_minor": 5
}
