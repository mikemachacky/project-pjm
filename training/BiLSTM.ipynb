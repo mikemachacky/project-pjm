{
 "cells": [
  {
   "metadata": {},
   "cell_type": "markdown",
   "source": "## Importy",
   "id": "8fd5ff597b17f84c"
  },
  {
   "cell_type": "code",
   "id": "initial_id",
   "metadata": {
    "collapsed": true,
    "ExecuteTime": {
     "end_time": "2025-09-22T13:53:56.520524Z",
     "start_time": "2025-09-22T13:53:53.708253Z"
    }
   },
   "source": [
    "import tensorflow as tf\n",
    "import numpy as np\n",
    "import matplotlib.pyplot as plt\n",
    "import pandas as pd\n",
    "from keras.src.layers import Bidirectional, LSTM, InputLayer\n",
    "from sklearn.metrics import confusion_matrix, classification_report\n",
    "from sklearn.preprocessing import LabelEncoder\n",
    "from tensorflow.python.keras import Sequential, Input\n",
    "from tensorflow.python.keras.callbacks import EarlyStopping\n",
    "from tensorflow.keras.models import Sequential\n",
    "from tensorflow.keras.layers import Conv1D, MaxPooling1D, GlobalAveragePooling1D, Dense\n",
    "\n",
    "\n",
    "from utils.dataset_tools import DatasetTools"
   ],
   "outputs": [
    {
     "name": "stderr",
     "output_type": "stream",
     "text": [
      "2025-09-22 15:53:53.944580: E external/local_xla/xla/stream_executor/cuda/cuda_fft.cc:467] Unable to register cuFFT factory: Attempting to register factory for plugin cuFFT when one has already been registered\n",
      "WARNING: All log messages before absl::InitializeLog() is called are written to STDERR\n",
      "E0000 00:00:1758549233.960169   28611 cuda_dnn.cc:8579] Unable to register cuDNN factory: Attempting to register factory for plugin cuDNN when one has already been registered\n",
      "E0000 00:00:1758549233.964659   28611 cuda_blas.cc:1407] Unable to register cuBLAS factory: Attempting to register factory for plugin cuBLAS when one has already been registered\n",
      "W0000 00:00:1758549233.976108   28611 computation_placer.cc:177] computation placer already registered. Please check linkage and avoid linking the same target more than once.\n",
      "W0000 00:00:1758549233.976125   28611 computation_placer.cc:177] computation placer already registered. Please check linkage and avoid linking the same target more than once.\n",
      "W0000 00:00:1758549233.976126   28611 computation_placer.cc:177] computation placer already registered. Please check linkage and avoid linking the same target more than once.\n",
      "W0000 00:00:1758549233.976128   28611 computation_placer.cc:177] computation placer already registered. Please check linkage and avoid linking the same target more than once.\n",
      "2025-09-22 15:53:53.980004: I tensorflow/core/platform/cpu_feature_guard.cc:210] This TensorFlow binary is optimized to use available CPU instructions in performance-critical operations.\n",
      "To enable the following instructions: AVX2 FMA, in other operations, rebuild TensorFlow with the appropriate compiler flags.\n"
     ]
    }
   ],
   "execution_count": 1
  },
  {
   "metadata": {
    "ExecuteTime": {
     "end_time": "2025-09-22T13:53:57.638878Z",
     "start_time": "2025-09-22T13:53:56.540358Z"
    }
   },
   "cell_type": "code",
   "source": [
    "DATASET_PATH = '../dataset/larger_full_datasets.csv'\n",
    "df = pd.read_csv(DATASET_PATH)\n",
    "df.head()"
   ],
   "id": "6d6a704f51cac99b",
   "outputs": [
    {
     "data": {
      "text/plain": [
       "   sample_id  frame label  landmark_1_x  landmark_1_y  landmark_1_z  \\\n",
       "0          1      0     A      0.345417      0.648431 -1.125724e-07   \n",
       "1          1      1     A      0.366266      0.597102 -9.622672e-08   \n",
       "2          1      2     A      0.400966      0.572690 -1.089629e-07   \n",
       "3          1      3     A      0.418257      0.573744 -1.190043e-07   \n",
       "4          1      4     A      0.431913      0.582072 -1.241054e-07   \n",
       "\n",
       "   landmark_2_x  landmark_2_y  landmark_2_z  landmark_3_x  ...  landmark_18_z  \\\n",
       "0      0.363545      0.620765     -0.010274      0.367171  ...      -0.003865   \n",
       "1      0.391580      0.578109     -0.012907      0.406190  ...       0.000685   \n",
       "2      0.424555      0.552354     -0.004017      0.439723  ...      -0.004296   \n",
       "3      0.441344      0.563031     -0.007786      0.460869  ...      -0.002903   \n",
       "4      0.453692      0.577044     -0.009167      0.474907  ...      -0.004793   \n",
       "\n",
       "   landmark_19_x  landmark_19_y  landmark_19_z  landmark_20_x  landmark_20_y  \\\n",
       "0       0.321722       0.551512      -0.008457       0.326903       0.565844   \n",
       "1       0.356418       0.497935      -0.004451       0.361665       0.515749   \n",
       "2       0.383425       0.481909      -0.009304       0.389207       0.502081   \n",
       "3       0.402536       0.489501      -0.009669       0.406139       0.510639   \n",
       "4       0.417201       0.501486      -0.012369       0.419653       0.524298   \n",
       "\n",
       "   landmark_20_z  landmark_21_x  landmark_21_y  landmark_21_z  \n",
       "0      -0.005724       0.329682       0.577548      -0.001789  \n",
       "1      -0.001988       0.363353       0.523833       0.002337  \n",
       "2      -0.005430       0.391897       0.513775      -0.000924  \n",
       "3      -0.006567       0.409394       0.523706      -0.001918  \n",
       "4      -0.008715       0.422120       0.535854      -0.003439  \n",
       "\n",
       "[5 rows x 66 columns]"
      ],
      "text/html": [
       "<div>\n",
       "<style scoped>\n",
       "    .dataframe tbody tr th:only-of-type {\n",
       "        vertical-align: middle;\n",
       "    }\n",
       "\n",
       "    .dataframe tbody tr th {\n",
       "        vertical-align: top;\n",
       "    }\n",
       "\n",
       "    .dataframe thead th {\n",
       "        text-align: right;\n",
       "    }\n",
       "</style>\n",
       "<table border=\"1\" class=\"dataframe\">\n",
       "  <thead>\n",
       "    <tr style=\"text-align: right;\">\n",
       "      <th></th>\n",
       "      <th>sample_id</th>\n",
       "      <th>frame</th>\n",
       "      <th>label</th>\n",
       "      <th>landmark_1_x</th>\n",
       "      <th>landmark_1_y</th>\n",
       "      <th>landmark_1_z</th>\n",
       "      <th>landmark_2_x</th>\n",
       "      <th>landmark_2_y</th>\n",
       "      <th>landmark_2_z</th>\n",
       "      <th>landmark_3_x</th>\n",
       "      <th>...</th>\n",
       "      <th>landmark_18_z</th>\n",
       "      <th>landmark_19_x</th>\n",
       "      <th>landmark_19_y</th>\n",
       "      <th>landmark_19_z</th>\n",
       "      <th>landmark_20_x</th>\n",
       "      <th>landmark_20_y</th>\n",
       "      <th>landmark_20_z</th>\n",
       "      <th>landmark_21_x</th>\n",
       "      <th>landmark_21_y</th>\n",
       "      <th>landmark_21_z</th>\n",
       "    </tr>\n",
       "  </thead>\n",
       "  <tbody>\n",
       "    <tr>\n",
       "      <th>0</th>\n",
       "      <td>1</td>\n",
       "      <td>0</td>\n",
       "      <td>A</td>\n",
       "      <td>0.345417</td>\n",
       "      <td>0.648431</td>\n",
       "      <td>-1.125724e-07</td>\n",
       "      <td>0.363545</td>\n",
       "      <td>0.620765</td>\n",
       "      <td>-0.010274</td>\n",
       "      <td>0.367171</td>\n",
       "      <td>...</td>\n",
       "      <td>-0.003865</td>\n",
       "      <td>0.321722</td>\n",
       "      <td>0.551512</td>\n",
       "      <td>-0.008457</td>\n",
       "      <td>0.326903</td>\n",
       "      <td>0.565844</td>\n",
       "      <td>-0.005724</td>\n",
       "      <td>0.329682</td>\n",
       "      <td>0.577548</td>\n",
       "      <td>-0.001789</td>\n",
       "    </tr>\n",
       "    <tr>\n",
       "      <th>1</th>\n",
       "      <td>1</td>\n",
       "      <td>1</td>\n",
       "      <td>A</td>\n",
       "      <td>0.366266</td>\n",
       "      <td>0.597102</td>\n",
       "      <td>-9.622672e-08</td>\n",
       "      <td>0.391580</td>\n",
       "      <td>0.578109</td>\n",
       "      <td>-0.012907</td>\n",
       "      <td>0.406190</td>\n",
       "      <td>...</td>\n",
       "      <td>0.000685</td>\n",
       "      <td>0.356418</td>\n",
       "      <td>0.497935</td>\n",
       "      <td>-0.004451</td>\n",
       "      <td>0.361665</td>\n",
       "      <td>0.515749</td>\n",
       "      <td>-0.001988</td>\n",
       "      <td>0.363353</td>\n",
       "      <td>0.523833</td>\n",
       "      <td>0.002337</td>\n",
       "    </tr>\n",
       "    <tr>\n",
       "      <th>2</th>\n",
       "      <td>1</td>\n",
       "      <td>2</td>\n",
       "      <td>A</td>\n",
       "      <td>0.400966</td>\n",
       "      <td>0.572690</td>\n",
       "      <td>-1.089629e-07</td>\n",
       "      <td>0.424555</td>\n",
       "      <td>0.552354</td>\n",
       "      <td>-0.004017</td>\n",
       "      <td>0.439723</td>\n",
       "      <td>...</td>\n",
       "      <td>-0.004296</td>\n",
       "      <td>0.383425</td>\n",
       "      <td>0.481909</td>\n",
       "      <td>-0.009304</td>\n",
       "      <td>0.389207</td>\n",
       "      <td>0.502081</td>\n",
       "      <td>-0.005430</td>\n",
       "      <td>0.391897</td>\n",
       "      <td>0.513775</td>\n",
       "      <td>-0.000924</td>\n",
       "    </tr>\n",
       "    <tr>\n",
       "      <th>3</th>\n",
       "      <td>1</td>\n",
       "      <td>3</td>\n",
       "      <td>A</td>\n",
       "      <td>0.418257</td>\n",
       "      <td>0.573744</td>\n",
       "      <td>-1.190043e-07</td>\n",
       "      <td>0.441344</td>\n",
       "      <td>0.563031</td>\n",
       "      <td>-0.007786</td>\n",
       "      <td>0.460869</td>\n",
       "      <td>...</td>\n",
       "      <td>-0.002903</td>\n",
       "      <td>0.402536</td>\n",
       "      <td>0.489501</td>\n",
       "      <td>-0.009669</td>\n",
       "      <td>0.406139</td>\n",
       "      <td>0.510639</td>\n",
       "      <td>-0.006567</td>\n",
       "      <td>0.409394</td>\n",
       "      <td>0.523706</td>\n",
       "      <td>-0.001918</td>\n",
       "    </tr>\n",
       "    <tr>\n",
       "      <th>4</th>\n",
       "      <td>1</td>\n",
       "      <td>4</td>\n",
       "      <td>A</td>\n",
       "      <td>0.431913</td>\n",
       "      <td>0.582072</td>\n",
       "      <td>-1.241054e-07</td>\n",
       "      <td>0.453692</td>\n",
       "      <td>0.577044</td>\n",
       "      <td>-0.009167</td>\n",
       "      <td>0.474907</td>\n",
       "      <td>...</td>\n",
       "      <td>-0.004793</td>\n",
       "      <td>0.417201</td>\n",
       "      <td>0.501486</td>\n",
       "      <td>-0.012369</td>\n",
       "      <td>0.419653</td>\n",
       "      <td>0.524298</td>\n",
       "      <td>-0.008715</td>\n",
       "      <td>0.422120</td>\n",
       "      <td>0.535854</td>\n",
       "      <td>-0.003439</td>\n",
       "    </tr>\n",
       "  </tbody>\n",
       "</table>\n",
       "<p>5 rows × 66 columns</p>\n",
       "</div>"
      ]
     },
     "execution_count": 2,
     "metadata": {},
     "output_type": "execute_result"
    }
   ],
   "execution_count": 2
  },
  {
   "metadata": {
    "ExecuteTime": {
     "end_time": "2025-09-22T13:54:01.825412Z",
     "start_time": "2025-09-22T13:53:57.902166Z"
    }
   },
   "cell_type": "code",
   "source": [
    "from sklearn.preprocessing import LabelEncoder\n",
    "import tensorflow as tf\n",
    "\n",
    "# podział na sekwencje\n",
    "sequences, labels = DatasetTools.divide_into_sequences(df)\n",
    "\n",
    "# normalizacja punktów względem nadgarstka\n",
    "sequences = np.array([DatasetTools.normalize_wrist(seq) for seq in sequences])\n",
    "\n",
    "# Label encoding\n",
    "encoder = LabelEncoder()\n",
    "y = encoder.fit_transform(labels)  # 'A'...'Z' itd. -> 0...35\n",
    "\n",
    "# One-hot encoding (36 klas)\n",
    "y_cat = tf.keras.utils.to_categorical(y, num_classes=len(encoder.classes_))\n",
    "\n",
    "# Konwersja typów\n",
    "X = sequences.astype(np.float32)\n",
    "print(X.shape, y_cat.shape)\n"
   ],
   "id": "f597908f51a6c32d",
   "outputs": [
    {
     "name": "stdout",
     "output_type": "stream",
     "text": [
      "(24609, 30, 63) (24609, 36)\n"
     ]
    }
   ],
   "execution_count": 3
  },
  {
   "metadata": {
    "ExecuteTime": {
     "end_time": "2025-09-22T13:54:01.965208Z",
     "start_time": "2025-09-22T13:54:01.884562Z"
    }
   },
   "cell_type": "code",
   "source": [
    "from sklearn.model_selection import train_test_split\n",
    "\n",
    "# najpierw train+val vs test (np. 70% : 30%)\n",
    "X_trainval, X_test, y_trainval, y_test = train_test_split(\n",
    "    X, y_cat, test_size=0.3, random_state=42, stratify=y\n",
    ")\n",
    "\n",
    "# następnie train vs val (np. 80% : 20% z trainval)\n",
    "X_train, X_val, y_train, y_val = train_test_split(\n",
    "    X_trainval, y_trainval, test_size=0.2, random_state=42, stratify=np.argmax(y_trainval, axis=1)\n",
    ")\n",
    "\n",
    "print(\"Train:\", X_train.shape, y_train.shape)\n",
    "print(\"Val:\",   X_val.shape, y_val.shape)\n",
    "print(\"Test:\",  X_test.shape, y_test.shape)\n"
   ],
   "id": "b87ee19b7a2135e8",
   "outputs": [
    {
     "name": "stdout",
     "output_type": "stream",
     "text": [
      "Train: (13780, 30, 63) (13780, 36)\n",
      "Val: (3446, 30, 63) (3446, 36)\n",
      "Test: (7383, 30, 63) (7383, 36)\n"
     ]
    }
   ],
   "execution_count": 4
  },
  {
   "metadata": {},
   "cell_type": "markdown",
   "source": "## Architektura modelu",
   "id": "fff3dcc5eb5c9c52"
  },
  {
   "metadata": {
    "ExecuteTime": {
     "end_time": "2025-09-22T13:54:49.303094Z",
     "start_time": "2025-09-22T13:54:49.233037Z"
    }
   },
   "cell_type": "code",
   "source": [
    "import tensorflow as tf\n",
    "from tensorflow.keras.models import Sequential\n",
    "from tensorflow.keras.layers import InputLayer, Bidirectional, LSTM, Dense, Dropout\n",
    "\n",
    "def create_bilstm_model(input_shape, num_classes):\n",
    "    model = Sequential([\n",
    "        InputLayer(shape=input_shape),\n",
    "        Conv1D(16, 3, activation='relu', padding='same'),\n",
    "        MaxPooling1D(2),\n",
    "        Conv1D(32, 3, activation='relu', padding='same'),\n",
    "        GlobalAveragePooling1D(),\n",
    "        Dense(num_classes, activation='softmax')\n",
    "    ])\n",
    "\n",
    "\n",
    "    model.compile(\n",
    "        optimizer=\"adam\",\n",
    "        loss=\"categorical_crossentropy\",\n",
    "        metrics=[\"accuracy\"]\n",
    "    )\n",
    "    return model\n",
    "\n",
    "# Parametry dla PJM\n",
    "input_shape = (30, 63)   # 30 klatek, 21 punktów * 3 współrzędne\n",
    "num_classes = 36         # np. 36 liter alfabetu PJM\n",
    "\n",
    "model = create_bilstm_model(input_shape, num_classes)\n",
    "model.summary()\n"
   ],
   "id": "60a12ecae33a8e80",
   "outputs": [
    {
     "data": {
      "text/plain": [
       "\u001B[1mModel: \"sequential_2\"\u001B[0m\n"
      ],
      "text/html": [
       "<pre style=\"white-space:pre;overflow-x:auto;line-height:normal;font-family:Menlo,'DejaVu Sans Mono',consolas,'Courier New',monospace\"><span style=\"font-weight: bold\">Model: \"sequential_2\"</span>\n",
       "</pre>\n"
      ]
     },
     "metadata": {},
     "output_type": "display_data",
     "jetTransient": {
      "display_id": null
     }
    },
    {
     "data": {
      "text/plain": [
       "┏━━━━━━━━━━━━━━━━━━━━━━━━━━━━━━━━━┳━━━━━━━━━━━━━━━━━━━━━━━━┳━━━━━━━━━━━━━━━┓\n",
       "┃\u001B[1m \u001B[0m\u001B[1mLayer (type)                   \u001B[0m\u001B[1m \u001B[0m┃\u001B[1m \u001B[0m\u001B[1mOutput Shape          \u001B[0m\u001B[1m \u001B[0m┃\u001B[1m \u001B[0m\u001B[1m      Param #\u001B[0m\u001B[1m \u001B[0m┃\n",
       "┡━━━━━━━━━━━━━━━━━━━━━━━━━━━━━━━━━╇━━━━━━━━━━━━━━━━━━━━━━━━╇━━━━━━━━━━━━━━━┩\n",
       "│ conv1d_4 (\u001B[38;5;33mConv1D\u001B[0m)               │ (\u001B[38;5;45mNone\u001B[0m, \u001B[38;5;34m30\u001B[0m, \u001B[38;5;34m16\u001B[0m)         │         \u001B[38;5;34m3,040\u001B[0m │\n",
       "├─────────────────────────────────┼────────────────────────┼───────────────┤\n",
       "│ max_pooling1d_2 (\u001B[38;5;33mMaxPooling1D\u001B[0m)  │ (\u001B[38;5;45mNone\u001B[0m, \u001B[38;5;34m15\u001B[0m, \u001B[38;5;34m16\u001B[0m)         │             \u001B[38;5;34m0\u001B[0m │\n",
       "├─────────────────────────────────┼────────────────────────┼───────────────┤\n",
       "│ conv1d_5 (\u001B[38;5;33mConv1D\u001B[0m)               │ (\u001B[38;5;45mNone\u001B[0m, \u001B[38;5;34m15\u001B[0m, \u001B[38;5;34m32\u001B[0m)         │         \u001B[38;5;34m1,568\u001B[0m │\n",
       "├─────────────────────────────────┼────────────────────────┼───────────────┤\n",
       "│ global_average_pooling1d_2      │ (\u001B[38;5;45mNone\u001B[0m, \u001B[38;5;34m32\u001B[0m)             │             \u001B[38;5;34m0\u001B[0m │\n",
       "│ (\u001B[38;5;33mGlobalAveragePooling1D\u001B[0m)        │                        │               │\n",
       "├─────────────────────────────────┼────────────────────────┼───────────────┤\n",
       "│ dense_2 (\u001B[38;5;33mDense\u001B[0m)                 │ (\u001B[38;5;45mNone\u001B[0m, \u001B[38;5;34m36\u001B[0m)             │         \u001B[38;5;34m1,188\u001B[0m │\n",
       "└─────────────────────────────────┴────────────────────────┴───────────────┘\n"
      ],
      "text/html": [
       "<pre style=\"white-space:pre;overflow-x:auto;line-height:normal;font-family:Menlo,'DejaVu Sans Mono',consolas,'Courier New',monospace\">┏━━━━━━━━━━━━━━━━━━━━━━━━━━━━━━━━━┳━━━━━━━━━━━━━━━━━━━━━━━━┳━━━━━━━━━━━━━━━┓\n",
       "┃<span style=\"font-weight: bold\"> Layer (type)                    </span>┃<span style=\"font-weight: bold\"> Output Shape           </span>┃<span style=\"font-weight: bold\">       Param # </span>┃\n",
       "┡━━━━━━━━━━━━━━━━━━━━━━━━━━━━━━━━━╇━━━━━━━━━━━━━━━━━━━━━━━━╇━━━━━━━━━━━━━━━┩\n",
       "│ conv1d_4 (<span style=\"color: #0087ff; text-decoration-color: #0087ff\">Conv1D</span>)               │ (<span style=\"color: #00d7ff; text-decoration-color: #00d7ff\">None</span>, <span style=\"color: #00af00; text-decoration-color: #00af00\">30</span>, <span style=\"color: #00af00; text-decoration-color: #00af00\">16</span>)         │         <span style=\"color: #00af00; text-decoration-color: #00af00\">3,040</span> │\n",
       "├─────────────────────────────────┼────────────────────────┼───────────────┤\n",
       "│ max_pooling1d_2 (<span style=\"color: #0087ff; text-decoration-color: #0087ff\">MaxPooling1D</span>)  │ (<span style=\"color: #00d7ff; text-decoration-color: #00d7ff\">None</span>, <span style=\"color: #00af00; text-decoration-color: #00af00\">15</span>, <span style=\"color: #00af00; text-decoration-color: #00af00\">16</span>)         │             <span style=\"color: #00af00; text-decoration-color: #00af00\">0</span> │\n",
       "├─────────────────────────────────┼────────────────────────┼───────────────┤\n",
       "│ conv1d_5 (<span style=\"color: #0087ff; text-decoration-color: #0087ff\">Conv1D</span>)               │ (<span style=\"color: #00d7ff; text-decoration-color: #00d7ff\">None</span>, <span style=\"color: #00af00; text-decoration-color: #00af00\">15</span>, <span style=\"color: #00af00; text-decoration-color: #00af00\">32</span>)         │         <span style=\"color: #00af00; text-decoration-color: #00af00\">1,568</span> │\n",
       "├─────────────────────────────────┼────────────────────────┼───────────────┤\n",
       "│ global_average_pooling1d_2      │ (<span style=\"color: #00d7ff; text-decoration-color: #00d7ff\">None</span>, <span style=\"color: #00af00; text-decoration-color: #00af00\">32</span>)             │             <span style=\"color: #00af00; text-decoration-color: #00af00\">0</span> │\n",
       "│ (<span style=\"color: #0087ff; text-decoration-color: #0087ff\">GlobalAveragePooling1D</span>)        │                        │               │\n",
       "├─────────────────────────────────┼────────────────────────┼───────────────┤\n",
       "│ dense_2 (<span style=\"color: #0087ff; text-decoration-color: #0087ff\">Dense</span>)                 │ (<span style=\"color: #00d7ff; text-decoration-color: #00d7ff\">None</span>, <span style=\"color: #00af00; text-decoration-color: #00af00\">36</span>)             │         <span style=\"color: #00af00; text-decoration-color: #00af00\">1,188</span> │\n",
       "└─────────────────────────────────┴────────────────────────┴───────────────┘\n",
       "</pre>\n"
      ]
     },
     "metadata": {},
     "output_type": "display_data",
     "jetTransient": {
      "display_id": null
     }
    },
    {
     "data": {
      "text/plain": [
       "\u001B[1m Total params: \u001B[0m\u001B[38;5;34m5,796\u001B[0m (22.64 KB)\n"
      ],
      "text/html": [
       "<pre style=\"white-space:pre;overflow-x:auto;line-height:normal;font-family:Menlo,'DejaVu Sans Mono',consolas,'Courier New',monospace\"><span style=\"font-weight: bold\"> Total params: </span><span style=\"color: #00af00; text-decoration-color: #00af00\">5,796</span> (22.64 KB)\n",
       "</pre>\n"
      ]
     },
     "metadata": {},
     "output_type": "display_data",
     "jetTransient": {
      "display_id": null
     }
    },
    {
     "data": {
      "text/plain": [
       "\u001B[1m Trainable params: \u001B[0m\u001B[38;5;34m5,796\u001B[0m (22.64 KB)\n"
      ],
      "text/html": [
       "<pre style=\"white-space:pre;overflow-x:auto;line-height:normal;font-family:Menlo,'DejaVu Sans Mono',consolas,'Courier New',monospace\"><span style=\"font-weight: bold\"> Trainable params: </span><span style=\"color: #00af00; text-decoration-color: #00af00\">5,796</span> (22.64 KB)\n",
       "</pre>\n"
      ]
     },
     "metadata": {},
     "output_type": "display_data",
     "jetTransient": {
      "display_id": null
     }
    },
    {
     "data": {
      "text/plain": [
       "\u001B[1m Non-trainable params: \u001B[0m\u001B[38;5;34m0\u001B[0m (0.00 B)\n"
      ],
      "text/html": [
       "<pre style=\"white-space:pre;overflow-x:auto;line-height:normal;font-family:Menlo,'DejaVu Sans Mono',consolas,'Courier New',monospace\"><span style=\"font-weight: bold\"> Non-trainable params: </span><span style=\"color: #00af00; text-decoration-color: #00af00\">0</span> (0.00 B)\n",
       "</pre>\n"
      ]
     },
     "metadata": {},
     "output_type": "display_data",
     "jetTransient": {
      "display_id": null
     }
    }
   ],
   "execution_count": 7
  },
  {
   "metadata": {
    "ExecuteTime": {
     "end_time": "2025-09-22T13:57:15.067261Z",
     "start_time": "2025-09-22T13:55:11.176224Z"
    }
   },
   "cell_type": "code",
   "source": [
    "early_stopping = EarlyStopping(\n",
    "    monitor='val_loss',\n",
    "    patience=5,\n",
    "    restore_best_weights=True\n",
    ")\n",
    "\n",
    "history = model.fit(\n",
    "    X_train, y_train,\n",
    "    validation_data=(X_val, y_val),\n",
    "    epochs=100,\n",
    "    batch_size=32,\n",
    "    shuffle=True,\n",
    "    callbacks=[early_stopping],\n",
    "    verbose=1       # opcjonalnie, pokazuje postęp\n",
    ")\n"
   ],
   "id": "133f6e68907ff6b1",
   "outputs": [
    {
     "name": "stdout",
     "output_type": "stream",
     "text": [
      "Epoch 1/60\n",
      "\u001B[1m431/431\u001B[0m \u001B[32m━━━━━━━━━━━━━━━━━━━━\u001B[0m\u001B[37m\u001B[0m \u001B[1m7s\u001B[0m 11ms/step - accuracy: 0.8180 - loss: 0.5976 - val_accuracy: 0.8276 - val_loss: 0.5659\n",
      "Epoch 2/60\n",
      "\u001B[1m431/431\u001B[0m \u001B[32m━━━━━━━━━━━━━━━━━━━━\u001B[0m\u001B[37m\u001B[0m \u001B[1m1s\u001B[0m 3ms/step - accuracy: 0.8361 - loss: 0.5447 - val_accuracy: 0.8401 - val_loss: 0.5188\n",
      "Epoch 3/60\n",
      "\u001B[1m431/431\u001B[0m \u001B[32m━━━━━━━━━━━━━━━━━━━━\u001B[0m\u001B[37m\u001B[0m \u001B[1m2s\u001B[0m 4ms/step - accuracy: 0.8476 - loss: 0.4875 - val_accuracy: 0.8372 - val_loss: 0.4861\n",
      "Epoch 4/60\n",
      "\u001B[1m431/431\u001B[0m \u001B[32m━━━━━━━━━━━━━━━━━━━━\u001B[0m\u001B[37m\u001B[0m \u001B[1m2s\u001B[0m 4ms/step - accuracy: 0.8565 - loss: 0.4389 - val_accuracy: 0.8712 - val_loss: 0.4377\n",
      "Epoch 5/60\n",
      "\u001B[1m431/431\u001B[0m \u001B[32m━━━━━━━━━━━━━━━━━━━━\u001B[0m\u001B[37m\u001B[0m \u001B[1m2s\u001B[0m 5ms/step - accuracy: 0.8761 - loss: 0.3956 - val_accuracy: 0.8694 - val_loss: 0.4143\n",
      "Epoch 6/60\n",
      "\u001B[1m431/431\u001B[0m \u001B[32m━━━━━━━━━━━━━━━━━━━━\u001B[0m\u001B[37m\u001B[0m \u001B[1m2s\u001B[0m 5ms/step - accuracy: 0.8835 - loss: 0.3635 - val_accuracy: 0.8572 - val_loss: 0.4003\n",
      "Epoch 7/60\n",
      "\u001B[1m431/431\u001B[0m \u001B[32m━━━━━━━━━━━━━━━━━━━━\u001B[0m\u001B[37m\u001B[0m \u001B[1m2s\u001B[0m 5ms/step - accuracy: 0.8847 - loss: 0.3618 - val_accuracy: 0.8915 - val_loss: 0.3599\n",
      "Epoch 8/60\n",
      "\u001B[1m431/431\u001B[0m \u001B[32m━━━━━━━━━━━━━━━━━━━━\u001B[0m\u001B[37m\u001B[0m \u001B[1m2s\u001B[0m 5ms/step - accuracy: 0.8970 - loss: 0.3191 - val_accuracy: 0.8923 - val_loss: 0.3454\n",
      "Epoch 9/60\n",
      "\u001B[1m431/431\u001B[0m \u001B[32m━━━━━━━━━━━━━━━━━━━━\u001B[0m\u001B[37m\u001B[0m \u001B[1m2s\u001B[0m 5ms/step - accuracy: 0.9096 - loss: 0.2847 - val_accuracy: 0.9068 - val_loss: 0.3183\n",
      "Epoch 10/60\n",
      "\u001B[1m431/431\u001B[0m \u001B[32m━━━━━━━━━━━━━━━━━━━━\u001B[0m\u001B[37m\u001B[0m \u001B[1m2s\u001B[0m 5ms/step - accuracy: 0.9128 - loss: 0.2811 - val_accuracy: 0.9176 - val_loss: 0.3194\n",
      "Epoch 11/60\n",
      "\u001B[1m431/431\u001B[0m \u001B[32m━━━━━━━━━━━━━━━━━━━━\u001B[0m\u001B[37m\u001B[0m \u001B[1m2s\u001B[0m 5ms/step - accuracy: 0.9224 - loss: 0.2589 - val_accuracy: 0.9182 - val_loss: 0.2975\n",
      "Epoch 12/60\n",
      "\u001B[1m431/431\u001B[0m \u001B[32m━━━━━━━━━━━━━━━━━━━━\u001B[0m\u001B[37m\u001B[0m \u001B[1m2s\u001B[0m 5ms/step - accuracy: 0.9242 - loss: 0.2493 - val_accuracy: 0.9269 - val_loss: 0.2790\n",
      "Epoch 13/60\n",
      "\u001B[1m431/431\u001B[0m \u001B[32m━━━━━━━━━━━━━━━━━━━━\u001B[0m\u001B[37m\u001B[0m \u001B[1m2s\u001B[0m 5ms/step - accuracy: 0.9304 - loss: 0.2387 - val_accuracy: 0.9028 - val_loss: 0.3009\n",
      "Epoch 14/60\n",
      "\u001B[1m431/431\u001B[0m \u001B[32m━━━━━━━━━━━━━━━━━━━━\u001B[0m\u001B[37m\u001B[0m \u001B[1m2s\u001B[0m 5ms/step - accuracy: 0.9341 - loss: 0.2160 - val_accuracy: 0.9283 - val_loss: 0.2639\n",
      "Epoch 15/60\n",
      "\u001B[1m431/431\u001B[0m \u001B[32m━━━━━━━━━━━━━━━━━━━━\u001B[0m\u001B[37m\u001B[0m \u001B[1m2s\u001B[0m 5ms/step - accuracy: 0.9366 - loss: 0.2192 - val_accuracy: 0.9222 - val_loss: 0.2609\n",
      "Epoch 16/60\n",
      "\u001B[1m431/431\u001B[0m \u001B[32m━━━━━━━━━━━━━━━━━━━━\u001B[0m\u001B[37m\u001B[0m \u001B[1m2s\u001B[0m 5ms/step - accuracy: 0.9372 - loss: 0.2060 - val_accuracy: 0.9367 - val_loss: 0.2465\n",
      "Epoch 17/60\n",
      "\u001B[1m431/431\u001B[0m \u001B[32m━━━━━━━━━━━━━━━━━━━━\u001B[0m\u001B[37m\u001B[0m \u001B[1m2s\u001B[0m 4ms/step - accuracy: 0.9411 - loss: 0.2031 - val_accuracy: 0.9472 - val_loss: 0.2279\n",
      "Epoch 18/60\n",
      "\u001B[1m431/431\u001B[0m \u001B[32m━━━━━━━━━━━━━━━━━━━━\u001B[0m\u001B[37m\u001B[0m \u001B[1m2s\u001B[0m 4ms/step - accuracy: 0.9435 - loss: 0.1923 - val_accuracy: 0.9428 - val_loss: 0.2260\n",
      "Epoch 19/60\n",
      "\u001B[1m431/431\u001B[0m \u001B[32m━━━━━━━━━━━━━━━━━━━━\u001B[0m\u001B[37m\u001B[0m \u001B[1m2s\u001B[0m 5ms/step - accuracy: 0.9495 - loss: 0.1830 - val_accuracy: 0.9388 - val_loss: 0.2295\n",
      "Epoch 20/60\n",
      "\u001B[1m431/431\u001B[0m \u001B[32m━━━━━━━━━━━━━━━━━━━━\u001B[0m\u001B[37m\u001B[0m \u001B[1m2s\u001B[0m 5ms/step - accuracy: 0.9524 - loss: 0.1700 - val_accuracy: 0.9399 - val_loss: 0.2225\n",
      "Epoch 21/60\n",
      "\u001B[1m431/431\u001B[0m \u001B[32m━━━━━━━━━━━━━━━━━━━━\u001B[0m\u001B[37m\u001B[0m \u001B[1m2s\u001B[0m 5ms/step - accuracy: 0.9549 - loss: 0.1701 - val_accuracy: 0.9483 - val_loss: 0.2107\n",
      "Epoch 22/60\n",
      "\u001B[1m431/431\u001B[0m \u001B[32m━━━━━━━━━━━━━━━━━━━━\u001B[0m\u001B[37m\u001B[0m \u001B[1m2s\u001B[0m 5ms/step - accuracy: 0.9557 - loss: 0.1637 - val_accuracy: 0.9411 - val_loss: 0.2119\n",
      "Epoch 23/60\n",
      "\u001B[1m431/431\u001B[0m \u001B[32m━━━━━━━━━━━━━━━━━━━━\u001B[0m\u001B[37m\u001B[0m \u001B[1m2s\u001B[0m 5ms/step - accuracy: 0.9557 - loss: 0.1559 - val_accuracy: 0.9582 - val_loss: 0.1913\n",
      "Epoch 24/60\n",
      "\u001B[1m431/431\u001B[0m \u001B[32m━━━━━━━━━━━━━━━━━━━━\u001B[0m\u001B[37m\u001B[0m \u001B[1m2s\u001B[0m 4ms/step - accuracy: 0.9578 - loss: 0.1478 - val_accuracy: 0.9478 - val_loss: 0.1995\n",
      "Epoch 25/60\n",
      "\u001B[1m431/431\u001B[0m \u001B[32m━━━━━━━━━━━━━━━━━━━━\u001B[0m\u001B[37m\u001B[0m \u001B[1m2s\u001B[0m 5ms/step - accuracy: 0.9590 - loss: 0.1544 - val_accuracy: 0.9391 - val_loss: 0.2178\n",
      "Epoch 26/60\n",
      "\u001B[1m431/431\u001B[0m \u001B[32m━━━━━━━━━━━━━━━━━━━━\u001B[0m\u001B[37m\u001B[0m \u001B[1m2s\u001B[0m 4ms/step - accuracy: 0.9616 - loss: 0.1398 - val_accuracy: 0.9518 - val_loss: 0.1898\n",
      "Epoch 27/60\n",
      "\u001B[1m431/431\u001B[0m \u001B[32m━━━━━━━━━━━━━━━━━━━━\u001B[0m\u001B[37m\u001B[0m \u001B[1m2s\u001B[0m 4ms/step - accuracy: 0.9627 - loss: 0.1476 - val_accuracy: 0.9501 - val_loss: 0.1957\n",
      "Epoch 28/60\n",
      "\u001B[1m431/431\u001B[0m \u001B[32m━━━━━━━━━━━━━━━━━━━━\u001B[0m\u001B[37m\u001B[0m \u001B[1m2s\u001B[0m 4ms/step - accuracy: 0.9630 - loss: 0.1301 - val_accuracy: 0.9637 - val_loss: 0.1729\n",
      "Epoch 29/60\n",
      "\u001B[1m431/431\u001B[0m \u001B[32m━━━━━━━━━━━━━━━━━━━━\u001B[0m\u001B[37m\u001B[0m \u001B[1m2s\u001B[0m 4ms/step - accuracy: 0.9674 - loss: 0.1190 - val_accuracy: 0.9626 - val_loss: 0.1745\n",
      "Epoch 30/60\n",
      "\u001B[1m431/431\u001B[0m \u001B[32m━━━━━━━━━━━━━━━━━━━━\u001B[0m\u001B[37m\u001B[0m \u001B[1m2s\u001B[0m 5ms/step - accuracy: 0.9660 - loss: 0.1188 - val_accuracy: 0.9614 - val_loss: 0.1755\n",
      "Epoch 31/60\n",
      "\u001B[1m431/431\u001B[0m \u001B[32m━━━━━━━━━━━━━━━━━━━━\u001B[0m\u001B[37m\u001B[0m \u001B[1m2s\u001B[0m 5ms/step - accuracy: 0.9638 - loss: 0.1206 - val_accuracy: 0.9669 - val_loss: 0.1666\n",
      "Epoch 32/60\n",
      "\u001B[1m431/431\u001B[0m \u001B[32m━━━━━━━━━━━━━━━━━━━━\u001B[0m\u001B[37m\u001B[0m \u001B[1m2s\u001B[0m 5ms/step - accuracy: 0.9655 - loss: 0.1295 - val_accuracy: 0.9565 - val_loss: 0.1801\n",
      "Epoch 33/60\n",
      "\u001B[1m431/431\u001B[0m \u001B[32m━━━━━━━━━━━━━━━━━━━━\u001B[0m\u001B[37m\u001B[0m \u001B[1m2s\u001B[0m 4ms/step - accuracy: 0.9692 - loss: 0.1203 - val_accuracy: 0.9585 - val_loss: 0.1733\n",
      "Epoch 34/60\n",
      "\u001B[1m431/431\u001B[0m \u001B[32m━━━━━━━━━━━━━━━━━━━━\u001B[0m\u001B[37m\u001B[0m \u001B[1m2s\u001B[0m 4ms/step - accuracy: 0.9673 - loss: 0.1100 - val_accuracy: 0.9579 - val_loss: 0.1725\n",
      "Epoch 35/60\n",
      "\u001B[1m431/431\u001B[0m \u001B[32m━━━━━━━━━━━━━━━━━━━━\u001B[0m\u001B[37m\u001B[0m \u001B[1m2s\u001B[0m 5ms/step - accuracy: 0.9633 - loss: 0.1149 - val_accuracy: 0.9536 - val_loss: 0.1763\n",
      "Epoch 36/60\n",
      "\u001B[1m431/431\u001B[0m \u001B[32m━━━━━━━━━━━━━━━━━━━━\u001B[0m\u001B[37m\u001B[0m \u001B[1m2s\u001B[0m 5ms/step - accuracy: 0.9673 - loss: 0.1124 - val_accuracy: 0.9672 - val_loss: 0.1578\n",
      "Epoch 37/60\n",
      "\u001B[1m431/431\u001B[0m \u001B[32m━━━━━━━━━━━━━━━━━━━━\u001B[0m\u001B[37m\u001B[0m \u001B[1m2s\u001B[0m 5ms/step - accuracy: 0.9692 - loss: 0.1055 - val_accuracy: 0.9585 - val_loss: 0.1731\n",
      "Epoch 38/60\n",
      "\u001B[1m431/431\u001B[0m \u001B[32m━━━━━━━━━━━━━━━━━━━━\u001B[0m\u001B[37m\u001B[0m \u001B[1m2s\u001B[0m 5ms/step - accuracy: 0.9684 - loss: 0.1067 - val_accuracy: 0.9585 - val_loss: 0.1755\n",
      "Epoch 39/60\n",
      "\u001B[1m431/431\u001B[0m \u001B[32m━━━━━━━━━━━━━━━━━━━━\u001B[0m\u001B[37m\u001B[0m \u001B[1m2s\u001B[0m 4ms/step - accuracy: 0.9662 - loss: 0.1051 - val_accuracy: 0.9698 - val_loss: 0.1508\n",
      "Epoch 40/60\n",
      "\u001B[1m431/431\u001B[0m \u001B[32m━━━━━━━━━━━━━━━━━━━━\u001B[0m\u001B[37m\u001B[0m \u001B[1m2s\u001B[0m 5ms/step - accuracy: 0.9704 - loss: 0.1067 - val_accuracy: 0.9689 - val_loss: 0.1550\n",
      "Epoch 41/60\n",
      "\u001B[1m431/431\u001B[0m \u001B[32m━━━━━━━━━━━━━━━━━━━━\u001B[0m\u001B[37m\u001B[0m \u001B[1m2s\u001B[0m 4ms/step - accuracy: 0.9732 - loss: 0.0929 - val_accuracy: 0.9681 - val_loss: 0.1507\n",
      "Epoch 42/60\n",
      "\u001B[1m431/431\u001B[0m \u001B[32m━━━━━━━━━━━━━━━━━━━━\u001B[0m\u001B[37m\u001B[0m \u001B[1m2s\u001B[0m 4ms/step - accuracy: 0.9730 - loss: 0.0959 - val_accuracy: 0.9637 - val_loss: 0.1585\n",
      "Epoch 43/60\n",
      "\u001B[1m431/431\u001B[0m \u001B[32m━━━━━━━━━━━━━━━━━━━━\u001B[0m\u001B[37m\u001B[0m \u001B[1m2s\u001B[0m 4ms/step - accuracy: 0.9706 - loss: 0.0979 - val_accuracy: 0.9655 - val_loss: 0.1481\n",
      "Epoch 44/60\n",
      "\u001B[1m431/431\u001B[0m \u001B[32m━━━━━━━━━━━━━━━━━━━━\u001B[0m\u001B[37m\u001B[0m \u001B[1m2s\u001B[0m 5ms/step - accuracy: 0.9735 - loss: 0.0875 - val_accuracy: 0.9643 - val_loss: 0.1610\n",
      "Epoch 45/60\n",
      "\u001B[1m431/431\u001B[0m \u001B[32m━━━━━━━━━━━━━━━━━━━━\u001B[0m\u001B[37m\u001B[0m \u001B[1m2s\u001B[0m 5ms/step - accuracy: 0.9744 - loss: 0.0910 - val_accuracy: 0.9681 - val_loss: 0.1498\n",
      "Epoch 46/60\n",
      "\u001B[1m431/431\u001B[0m \u001B[32m━━━━━━━━━━━━━━━━━━━━\u001B[0m\u001B[37m\u001B[0m \u001B[1m2s\u001B[0m 4ms/step - accuracy: 0.9744 - loss: 0.0897 - val_accuracy: 0.9663 - val_loss: 0.1521\n",
      "Epoch 47/60\n",
      "\u001B[1m431/431\u001B[0m \u001B[32m━━━━━━━━━━━━━━━━━━━━\u001B[0m\u001B[37m\u001B[0m \u001B[1m2s\u001B[0m 5ms/step - accuracy: 0.9742 - loss: 0.0899 - val_accuracy: 0.9678 - val_loss: 0.1447\n",
      "Epoch 48/60\n",
      "\u001B[1m431/431\u001B[0m \u001B[32m━━━━━━━━━━━━━━━━━━━━\u001B[0m\u001B[37m\u001B[0m \u001B[1m2s\u001B[0m 4ms/step - accuracy: 0.9749 - loss: 0.0893 - val_accuracy: 0.9579 - val_loss: 0.1591\n",
      "Epoch 49/60\n",
      "\u001B[1m431/431\u001B[0m \u001B[32m━━━━━━━━━━━━━━━━━━━━\u001B[0m\u001B[37m\u001B[0m \u001B[1m2s\u001B[0m 4ms/step - accuracy: 0.9755 - loss: 0.0837 - val_accuracy: 0.9687 - val_loss: 0.1449\n",
      "Epoch 50/60\n",
      "\u001B[1m431/431\u001B[0m \u001B[32m━━━━━━━━━━━━━━━━━━━━\u001B[0m\u001B[37m\u001B[0m \u001B[1m2s\u001B[0m 4ms/step - accuracy: 0.9738 - loss: 0.0876 - val_accuracy: 0.9724 - val_loss: 0.1407\n",
      "Epoch 51/60\n",
      "\u001B[1m431/431\u001B[0m \u001B[32m━━━━━━━━━━━━━━━━━━━━\u001B[0m\u001B[37m\u001B[0m \u001B[1m2s\u001B[0m 4ms/step - accuracy: 0.9770 - loss: 0.0770 - val_accuracy: 0.9626 - val_loss: 0.1683\n",
      "Epoch 52/60\n",
      "\u001B[1m431/431\u001B[0m \u001B[32m━━━━━━━━━━━━━━━━━━━━\u001B[0m\u001B[37m\u001B[0m \u001B[1m2s\u001B[0m 4ms/step - accuracy: 0.9764 - loss: 0.0816 - val_accuracy: 0.9643 - val_loss: 0.1504\n",
      "Epoch 53/60\n",
      "\u001B[1m431/431\u001B[0m \u001B[32m━━━━━━━━━━━━━━━━━━━━\u001B[0m\u001B[37m\u001B[0m \u001B[1m2s\u001B[0m 4ms/step - accuracy: 0.9742 - loss: 0.0866 - val_accuracy: 0.9681 - val_loss: 0.1461\n",
      "Epoch 54/60\n",
      "\u001B[1m431/431\u001B[0m \u001B[32m━━━━━━━━━━━━━━━━━━━━\u001B[0m\u001B[37m\u001B[0m \u001B[1m2s\u001B[0m 4ms/step - accuracy: 0.9748 - loss: 0.0865 - val_accuracy: 0.9675 - val_loss: 0.1449\n",
      "Epoch 55/60\n",
      "\u001B[1m431/431\u001B[0m \u001B[32m━━━━━━━━━━━━━━━━━━━━\u001B[0m\u001B[37m\u001B[0m \u001B[1m2s\u001B[0m 5ms/step - accuracy: 0.9793 - loss: 0.0716 - val_accuracy: 0.9710 - val_loss: 0.1378\n",
      "Epoch 56/60\n",
      "\u001B[1m431/431\u001B[0m \u001B[32m━━━━━━━━━━━━━━━━━━━━\u001B[0m\u001B[37m\u001B[0m \u001B[1m2s\u001B[0m 4ms/step - accuracy: 0.9781 - loss: 0.0731 - val_accuracy: 0.9713 - val_loss: 0.1381\n",
      "Epoch 57/60\n",
      "\u001B[1m431/431\u001B[0m \u001B[32m━━━━━━━━━━━━━━━━━━━━\u001B[0m\u001B[37m\u001B[0m \u001B[1m2s\u001B[0m 4ms/step - accuracy: 0.9781 - loss: 0.0729 - val_accuracy: 0.9727 - val_loss: 0.1408\n",
      "Epoch 58/60\n",
      "\u001B[1m431/431\u001B[0m \u001B[32m━━━━━━━━━━━━━━━━━━━━\u001B[0m\u001B[37m\u001B[0m \u001B[1m2s\u001B[0m 4ms/step - accuracy: 0.9761 - loss: 0.0805 - val_accuracy: 0.9733 - val_loss: 0.1405\n",
      "Epoch 59/60\n",
      "\u001B[1m431/431\u001B[0m \u001B[32m━━━━━━━━━━━━━━━━━━━━\u001B[0m\u001B[37m\u001B[0m \u001B[1m2s\u001B[0m 4ms/step - accuracy: 0.9776 - loss: 0.0757 - val_accuracy: 0.9727 - val_loss: 0.1358\n",
      "Epoch 60/60\n",
      "\u001B[1m431/431\u001B[0m \u001B[32m━━━━━━━━━━━━━━━━━━━━\u001B[0m\u001B[37m\u001B[0m \u001B[1m2s\u001B[0m 4ms/step - accuracy: 0.9786 - loss: 0.0766 - val_accuracy: 0.9707 - val_loss: 0.1389\n"
     ]
    }
   ],
   "execution_count": 9
  },
  {
   "metadata": {
    "ExecuteTime": {
     "end_time": "2025-09-22T14:07:30.516605Z",
     "start_time": "2025-09-22T14:07:29.375910Z"
    }
   },
   "cell_type": "code",
   "source": [
    "test_loss, test_acc = model.evaluate(X_test, y_test, verbose=0)\n",
    "print(f\"Test loss: {test_loss:.4f}\")\n",
    "print(f\"Test accuracy: {test_acc:.4f}\")"
   ],
   "id": "26939937a924d404",
   "outputs": [
    {
     "name": "stdout",
     "output_type": "stream",
     "text": [
      "Test loss: 0.1069\n",
      "Test accuracy: 0.9767\n"
     ]
    }
   ],
   "execution_count": 10
  },
  {
   "metadata": {
    "ExecuteTime": {
     "end_time": "2025-09-22T14:07:38.829526Z",
     "start_time": "2025-09-22T14:07:38.529262Z"
    }
   },
   "cell_type": "code",
   "source": [
    "import matplotlib.pyplot as plt\n",
    "\n",
    "# Accuracy\n",
    "plt.plot(history.history['accuracy'], label='train acc')\n",
    "plt.plot(history.history['val_accuracy'], label='val acc')\n",
    "plt.xlabel('Epoka')\n",
    "plt.ylabel('Accuracy')\n",
    "plt.legend()\n",
    "plt.show()\n",
    "\n",
    "# Loss\n",
    "plt.plot(history.history['loss'], label='train loss')\n",
    "plt.plot(history.history['val_loss'], label='val loss')\n",
    "plt.xlabel('Epoka')\n",
    "plt.ylabel('Loss')\n",
    "plt.legend()\n",
    "plt.show()\n"
   ],
   "id": "4f64ef6179c67420",
   "outputs": [
    {
     "data": {
      "text/plain": [
       "<Figure size 640x480 with 1 Axes>"
      ],
      "image/png": "[encoded data removed]"
     },
     "metadata": {},
     "output_type": "display_data",
     "jetTransient": {
      "display_id": null
     }
    },
    {
     "data": {
      "text/plain": [
       "<Figure size 640x480 with 1 Axes>"
      ],
      "image/png": "[encoded data removed]"
     },
     "metadata": {},
     "output_type": "display_data",
     "jetTransient": {
      "display_id": null
     }
    }
   ],
   "execution_count": 11
  },
  {
   "metadata": {
    "ExecuteTime": {
     "end_time": "2025-09-22T14:07:48.833013Z",
     "start_time": "2025-09-22T14:07:48.794110Z"
    }
   },
   "cell_type": "code",
   "source": [
    "import os\n",
    "from datetime import datetime\n",
    "\n",
    "# Ustal dzisiejszą datę\n",
    "today_str = datetime.now().strftime(\"%Y-%m-%d\")\n",
    "\n",
    "# Ścieżka zapisu modeli\n",
    "save_dir = f\"../model/{today_str}\"\n",
    "os.makedirs(save_dir, exist_ok=True)\n",
    "\n",
    "# Ścieżki plików\n",
    "bilstm_path = os.path.join(save_dir, \"bilstm_model.keras\")\n",
    "labels_path = os.path.join(save_dir, \"labels.txt\")\n",
    "\n",
    "# Zapis modelu\n",
    "model.save(bilstm_path)\n",
    "\n",
    "with open(f'../model/{today_str}/labels.txt', 'w+') as f:\n",
    "    for label in encoder.classes_:\n",
    "        f.write(label + '\\n')\n",
    "\n",
    "print(f\"Modele i etykiety zapisano w folderze: {save_dir}\")\n"
   ],
   "id": "3e2faacb364ffa11",
   "outputs": [
    {
     "name": "stdout",
     "output_type": "stream",
     "text": [
      "Modele i etykiety zapisano w folderze: ../model/2025-09-22\n"
     ]
    }
   ],
   "execution_count": 12
  }
 ],
 "metadata": {
  "kernelspec": {
   "display_name": "Python 3",
   "language": "python",
   "name": "python3"
  },
  "language_info": {
   "codemirror_mode": {
    "name": "ipython",
    "version": 2
   },
   "file_extension": ".py",
   "mimetype": "text/x-python",
   "name": "python",
   "nbconvert_exporter": "python",
   "pygments_lexer": "ipython2",
   "version": "2.7.6"
  }
 },
 "nbformat": 4,
 "nbformat_minor": 5
}
