{
 "cells": [
  {
   "metadata": {},
   "cell_type": "markdown",
   "source": "## Importy",
   "id": "8fd5ff597b17f84c"
  },
  {
   "cell_type": "code",
   "id": "initial_id",
   "metadata": {
    "collapsed": true,
    "ExecuteTime": {
     "end_time": "2025-10-12T17:36:16.135233Z",
     "start_time": "2025-10-12T17:36:11.846228Z"
    }
   },
   "source": [
    "import tensorflow as tf\n",
    "import numpy as np\n",
    "import matplotlib.pyplot as plt\n",
    "import pandas as pd\n",
    "from keras.src.layers import Bidirectional, LSTM, InputLayer\n",
    "from sklearn.metrics import confusion_matrix, classification_report\n",
    "from sklearn.preprocessing import LabelEncoder\n",
    "from tensorflow.python.keras import Sequential, Input\n",
    "from tensorflow.python.keras.callbacks import EarlyStopping\n",
    "from tensorflow.keras.models import Sequential\n",
    "from tensorflow.keras.layers import Conv1D, MaxPooling1D, GlobalAveragePooling1D, Dense\n",
    "\n",
    "\n",
    "from utils.dataset_tools import DatasetTools"
   ],
   "outputs": [
    {
     "name": "stderr",
     "output_type": "stream",
     "text": [
      "2025-10-12 19:36:12.243323: E external/local_xla/xla/stream_executor/cuda/cuda_fft.cc:467] Unable to register cuFFT factory: Attempting to register factory for plugin cuFFT when one has already been registered\n",
      "WARNING: All log messages before absl::InitializeLog() is called are written to STDERR\n",
      "E0000 00:00:1760290572.270562   21856 cuda_dnn.cc:8579] Unable to register cuDNN factory: Attempting to register factory for plugin cuDNN when one has already been registered\n",
      "E0000 00:00:1760290572.281398   21856 cuda_blas.cc:1407] Unable to register cuBLAS factory: Attempting to register factory for plugin cuBLAS when one has already been registered\n",
      "W0000 00:00:1760290572.300461   21856 computation_placer.cc:177] computation placer already registered. Please check linkage and avoid linking the same target more than once.\n",
      "W0000 00:00:1760290572.300484   21856 computation_placer.cc:177] computation placer already registered. Please check linkage and avoid linking the same target more than once.\n",
      "W0000 00:00:1760290572.300487   21856 computation_placer.cc:177] computation placer already registered. Please check linkage and avoid linking the same target more than once.\n",
      "W0000 00:00:1760290572.300489   21856 computation_placer.cc:177] computation placer already registered. Please check linkage and avoid linking the same target more than once.\n",
      "2025-10-12 19:36:12.306401: I tensorflow/core/platform/cpu_feature_guard.cc:210] This TensorFlow binary is optimized to use available CPU instructions in performance-critical operations.\n",
      "To enable the following instructions: AVX2 FMA, in other operations, rebuild TensorFlow with the appropriate compiler flags.\n"
     ]
    }
   ],
   "execution_count": 1
  },
  {
   "metadata": {
    "ExecuteTime": {
     "end_time": "2025-10-12T17:37:06.429939Z",
     "start_time": "2025-10-12T17:37:06.095962Z"
    }
   },
   "cell_type": "code",
   "source": [
    "import gc\n",
    "tf.keras.backend.clear_session()\n",
    "gc.collect()"
   ],
   "id": "60395a50c164fb86",
   "outputs": [
    {
     "data": {
      "text/plain": [
       "0"
      ]
     },
     "execution_count": 2,
     "metadata": {},
     "output_type": "execute_result"
    }
   ],
   "execution_count": 2
  },
  {
   "metadata": {
    "ExecuteTime": {
     "end_time": "2025-10-12T17:37:18.262084Z",
     "start_time": "2025-10-12T17:37:15.810108Z"
    }
   },
   "cell_type": "code",
   "source": [
    "DATASET_PATH = '../dataset/fixed_augmented_dataset.csv'\n",
    "df = pd.read_csv(DATASET_PATH)\n",
    "df.head()"
   ],
   "id": "6d6a704f51cac99b",
   "outputs": [
    {
     "data": {
      "text/plain": [
       "   sample_id  frame label  landmark_1_x  landmark_1_y  landmark_1_z  \\\n",
       "0          0      0     Y      0.004203      0.000651      0.008161   \n",
       "1          0      1     Y     -0.005988     -0.065978      0.008947   \n",
       "2          0      2     Y     -0.000792     -0.093575      0.006636   \n",
       "3          0      3     Y     -0.031170     -0.135088     -0.002417   \n",
       "4          0      4     Y     -0.017386     -0.127723     -0.018105   \n",
       "\n",
       "   landmark_2_x  landmark_2_y  landmark_2_z  landmark_3_x  ...  landmark_18_z  \\\n",
       "0     -0.048246      0.005667      0.004781     -0.071473  ...      -0.012839   \n",
       "1     -0.033615     -0.096414     -0.025618     -0.079886  ...       0.006703   \n",
       "2     -0.049848     -0.120680     -0.019714     -0.094480  ...      -0.030904   \n",
       "3     -0.044940     -0.165431     -0.024812     -0.059180  ...       0.000000   \n",
       "4     -0.029293     -0.149245     -0.021225     -0.083916  ...      -0.017180   \n",
       "\n",
       "   landmark_19_x  landmark_19_y  landmark_19_z  landmark_20_x  landmark_20_y  \\\n",
       "0       0.031399      -0.181194      -0.032711       0.023335      -0.226115   \n",
       "1       0.011817      -0.283714      -0.021039       0.014646      -0.290970   \n",
       "2       0.011683      -0.311241      -0.034277       0.006597      -0.359876   \n",
       "3      -0.001518      -0.348757      -0.035873      -0.001939      -0.344533   \n",
       "4      -0.006046      -0.302549      -0.033766       0.001081      -0.344521   \n",
       "\n",
       "   landmark_20_z  landmark_21_x  landmark_21_y  landmark_21_z  \n",
       "0      -0.038200       0.025997      -0.283913      -0.038001  \n",
       "1      -0.008102      -0.000139      -0.334014      -0.005190  \n",
       "2      -0.031719       0.002172      -0.388159      -0.011762  \n",
       "3      -0.040972       0.010580      -0.397630      -0.034706  \n",
       "4      -0.036471       0.013814      -0.386191      -0.018853  \n",
       "\n",
       "[5 rows x 66 columns]"
      ],
      "text/html": [
       "<div>\n",
       "<style scoped>\n",
       "    .dataframe tbody tr th:only-of-type {\n",
       "        vertical-align: middle;\n",
       "    }\n",
       "\n",
       "    .dataframe tbody tr th {\n",
       "        vertical-align: top;\n",
       "    }\n",
       "\n",
       "    .dataframe thead th {\n",
       "        text-align: right;\n",
       "    }\n",
       "</style>\n",
       "<table border=\"1\" class=\"dataframe\">\n",
       "  <thead>\n",
       "    <tr style=\"text-align: right;\">\n",
       "      <th></th>\n",
       "      <th>sample_id</th>\n",
       "      <th>frame</th>\n",
       "      <th>label</th>\n",
       "      <th>landmark_1_x</th>\n",
       "      <th>landmark_1_y</th>\n",
       "      <th>landmark_1_z</th>\n",
       "      <th>landmark_2_x</th>\n",
       "      <th>landmark_2_y</th>\n",
       "      <th>landmark_2_z</th>\n",
       "      <th>landmark_3_x</th>\n",
       "      <th>...</th>\n",
       "      <th>landmark_18_z</th>\n",
       "      <th>landmark_19_x</th>\n",
       "      <th>landmark_19_y</th>\n",
       "      <th>landmark_19_z</th>\n",
       "      <th>landmark_20_x</th>\n",
       "      <th>landmark_20_y</th>\n",
       "      <th>landmark_20_z</th>\n",
       "      <th>landmark_21_x</th>\n",
       "      <th>landmark_21_y</th>\n",
       "      <th>landmark_21_z</th>\n",
       "    </tr>\n",
       "  </thead>\n",
       "  <tbody>\n",
       "    <tr>\n",
       "      <th>0</th>\n",
       "      <td>0</td>\n",
       "      <td>0</td>\n",
       "      <td>Y</td>\n",
       "      <td>0.004203</td>\n",
       "      <td>0.000651</td>\n",
       "      <td>0.008161</td>\n",
       "      <td>-0.048246</td>\n",
       "      <td>0.005667</td>\n",
       "      <td>0.004781</td>\n",
       "      <td>-0.071473</td>\n",
       "      <td>...</td>\n",
       "      <td>-0.012839</td>\n",
       "      <td>0.031399</td>\n",
       "      <td>-0.181194</td>\n",
       "      <td>-0.032711</td>\n",
       "      <td>0.023335</td>\n",
       "      <td>-0.226115</td>\n",
       "      <td>-0.038200</td>\n",
       "      <td>0.025997</td>\n",
       "      <td>-0.283913</td>\n",
       "      <td>-0.038001</td>\n",
       "    </tr>\n",
       "    <tr>\n",
       "      <th>1</th>\n",
       "      <td>0</td>\n",
       "      <td>1</td>\n",
       "      <td>Y</td>\n",
       "      <td>-0.005988</td>\n",
       "      <td>-0.065978</td>\n",
       "      <td>0.008947</td>\n",
       "      <td>-0.033615</td>\n",
       "      <td>-0.096414</td>\n",
       "      <td>-0.025618</td>\n",
       "      <td>-0.079886</td>\n",
       "      <td>...</td>\n",
       "      <td>0.006703</td>\n",
       "      <td>0.011817</td>\n",
       "      <td>-0.283714</td>\n",
       "      <td>-0.021039</td>\n",
       "      <td>0.014646</td>\n",
       "      <td>-0.290970</td>\n",
       "      <td>-0.008102</td>\n",
       "      <td>-0.000139</td>\n",
       "      <td>-0.334014</td>\n",
       "      <td>-0.005190</td>\n",
       "    </tr>\n",
       "    <tr>\n",
       "      <th>2</th>\n",
       "      <td>0</td>\n",
       "      <td>2</td>\n",
       "      <td>Y</td>\n",
       "      <td>-0.000792</td>\n",
       "      <td>-0.093575</td>\n",
       "      <td>0.006636</td>\n",
       "      <td>-0.049848</td>\n",
       "      <td>-0.120680</td>\n",
       "      <td>-0.019714</td>\n",
       "      <td>-0.094480</td>\n",
       "      <td>...</td>\n",
       "      <td>-0.030904</td>\n",
       "      <td>0.011683</td>\n",
       "      <td>-0.311241</td>\n",
       "      <td>-0.034277</td>\n",
       "      <td>0.006597</td>\n",
       "      <td>-0.359876</td>\n",
       "      <td>-0.031719</td>\n",
       "      <td>0.002172</td>\n",
       "      <td>-0.388159</td>\n",
       "      <td>-0.011762</td>\n",
       "    </tr>\n",
       "    <tr>\n",
       "      <th>3</th>\n",
       "      <td>0</td>\n",
       "      <td>3</td>\n",
       "      <td>Y</td>\n",
       "      <td>-0.031170</td>\n",
       "      <td>-0.135088</td>\n",
       "      <td>-0.002417</td>\n",
       "      <td>-0.044940</td>\n",
       "      <td>-0.165431</td>\n",
       "      <td>-0.024812</td>\n",
       "      <td>-0.059180</td>\n",
       "      <td>...</td>\n",
       "      <td>0.000000</td>\n",
       "      <td>-0.001518</td>\n",
       "      <td>-0.348757</td>\n",
       "      <td>-0.035873</td>\n",
       "      <td>-0.001939</td>\n",
       "      <td>-0.344533</td>\n",
       "      <td>-0.040972</td>\n",
       "      <td>0.010580</td>\n",
       "      <td>-0.397630</td>\n",
       "      <td>-0.034706</td>\n",
       "    </tr>\n",
       "    <tr>\n",
       "      <th>4</th>\n",
       "      <td>0</td>\n",
       "      <td>4</td>\n",
       "      <td>Y</td>\n",
       "      <td>-0.017386</td>\n",
       "      <td>-0.127723</td>\n",
       "      <td>-0.018105</td>\n",
       "      <td>-0.029293</td>\n",
       "      <td>-0.149245</td>\n",
       "      <td>-0.021225</td>\n",
       "      <td>-0.083916</td>\n",
       "      <td>...</td>\n",
       "      <td>-0.017180</td>\n",
       "      <td>-0.006046</td>\n",
       "      <td>-0.302549</td>\n",
       "      <td>-0.033766</td>\n",
       "      <td>0.001081</td>\n",
       "      <td>-0.344521</td>\n",
       "      <td>-0.036471</td>\n",
       "      <td>0.013814</td>\n",
       "      <td>-0.386191</td>\n",
       "      <td>-0.018853</td>\n",
       "    </tr>\n",
       "  </tbody>\n",
       "</table>\n",
       "<p>5 rows × 66 columns</p>\n",
       "</div>"
      ]
     },
     "execution_count": 3,
     "metadata": {},
     "output_type": "execute_result"
    }
   ],
   "execution_count": 3
  },
  {
   "metadata": {
    "ExecuteTime": {
     "end_time": "2025-10-12T17:37:25.706976Z",
     "start_time": "2025-10-12T17:37:20.718798Z"
    }
   },
   "cell_type": "code",
   "source": [
    "from sklearn.preprocessing import LabelEncoder\n",
    "import tensorflow as tf\n",
    "\n",
    "# podział na sekwencje\n",
    "sequences, labels = DatasetTools.divide_into_sequences(df)\n",
    "\n",
    "# normalizacja punktów względem nadgarstka\n",
    "# sequences = np.array([DatasetTools.normalize_wrist(seq) for seq in sequences])\n",
    "\n",
    "# Label encoding\n",
    "encoder = LabelEncoder()\n",
    "y = encoder.fit_transform(labels)  # 'A'...'Z' itd. -> 0...35\n",
    "\n",
    "# One-hot encoding (36 klas)\n",
    "y_cat = tf.keras.utils.to_categorical(y, num_classes=len(encoder.classes_))\n",
    "\n",
    "# Konwersja typów\n",
    "X = sequences.astype(np.float32)\n",
    "print(X.shape, y_cat.shape)\n"
   ],
   "id": "f597908f51a6c32d",
   "outputs": [
    {
     "name": "stdout",
     "output_type": "stream",
     "text": [
      "(7749, 30, 63) (7749, 36)\n"
     ]
    }
   ],
   "execution_count": 4
  },
  {
   "metadata": {
    "ExecuteTime": {
     "end_time": "2025-10-12T17:37:28.229381Z",
     "start_time": "2025-10-12T17:37:28.167022Z"
    }
   },
   "cell_type": "code",
   "source": [
    "from sklearn.model_selection import train_test_split\n",
    "\n",
    "# najpierw train+val vs test (np. 70% : 30%)\n",
    "X_trainval, X_test, y_trainval, y_test = train_test_split(\n",
    "    X, y_cat, test_size=0.3, random_state=42, stratify=y\n",
    ")\n",
    "\n",
    "# następnie train vs val (np. 80% : 20% z trainval)\n",
    "X_train, X_val, y_train, y_val = train_test_split(\n",
    "    X_trainval, y_trainval, test_size=0.2, random_state=42, stratify=np.argmax(y_trainval, axis=1)\n",
    ")\n",
    "\n",
    "print(\"Train:\", X_train.shape, y_train.shape)\n",
    "print(\"Val:\",   X_val.shape, y_val.shape)\n",
    "print(\"Test:\",  X_test.shape, y_test.shape)\n"
   ],
   "id": "b87ee19b7a2135e8",
   "outputs": [
    {
     "name": "stdout",
     "output_type": "stream",
     "text": [
      "Train: (4339, 30, 63) (4339, 36)\n",
      "Val: (1085, 30, 63) (1085, 36)\n",
      "Test: (2325, 30, 63) (2325, 36)\n"
     ]
    }
   ],
   "execution_count": 5
  },
  {
   "metadata": {},
   "cell_type": "markdown",
   "source": "## Architektura modelu",
   "id": "fff3dcc5eb5c9c52"
  },
  {
   "metadata": {
    "ExecuteTime": {
     "end_time": "2025-10-12T17:37:31.847064Z",
     "start_time": "2025-10-12T17:37:30.519271Z"
    }
   },
   "cell_type": "code",
   "source": [
    "import tensorflow as tf\n",
    "from tensorflow.keras.models import Sequential\n",
    "from tensorflow.keras.layers import InputLayer, Bidirectional, LSTM, Dense, Dropout\n",
    "\n",
    "def create_bilstm_model(input_shape, num_classes):\n",
    "    model = Sequential([\n",
    "        InputLayer(shape=input_shape),\n",
    "        Bidirectional(LSTM(16)),  # dwukierunkowy LSTM z 16 jednostkami\n",
    "        Dense(64, activation='relu'),\n",
    "        Dense(num_classes, activation='softmax')\n",
    "    ])\n",
    "\n",
    "\n",
    "    model.compile(\n",
    "        optimizer=\"adam\",\n",
    "        loss=\"categorical_crossentropy\",\n",
    "        metrics=[\"accuracy\"]\n",
    "    )\n",
    "    return model\n",
    "\n",
    "# Parametry dla PJM\n",
    "input_shape = (30, 63)   # 30 klatek, 21 punktów * 3 współrzędne\n",
    "num_classes = 36         # np. 36 liter alfabetu PJM\n",
    "\n",
    "model = create_bilstm_model(input_shape, num_classes)\n",
    "model.summary()\n"
   ],
   "id": "60a12ecae33a8e80",
   "outputs": [
    {
     "name": "stderr",
     "output_type": "stream",
     "text": [
      "I0000 00:00:1760290650.701321   21856 gpu_device.cc:2019] Created device /job:localhost/replica:0/task:0/device:GPU:0 with 172 MB memory:  -> device: 0, name: NVIDIA GeForce MX150, pci bus id: 0000:01:00.0, compute capability: 6.1\n",
      "I0000 00:00:1760290650.719571   21856 cuda_executor.cc:479] failed to allocate 172.81MiB (181207040 bytes) from device: RESOURCE_EXHAUSTED: : CUDA_ERROR_OUT_OF_MEMORY: out of memory\n"
     ]
    },
    {
     "data": {
      "text/plain": [
       "\u001B[1mModel: \"sequential\"\u001B[0m\n"
      ],
      "text/html": [
       "<pre style=\"white-space:pre;overflow-x:auto;line-height:normal;font-family:Menlo,'DejaVu Sans Mono',consolas,'Courier New',monospace\"><span style=\"font-weight: bold\">Model: \"sequential\"</span>\n",
       "</pre>\n"
      ]
     },
     "metadata": {},
     "output_type": "display_data",
     "jetTransient": {
      "display_id": null
     }
    },
    {
     "data": {
      "text/plain": [
       "┏━━━━━━━━━━━━━━━━━━━━━━━━━━━━━━━━━┳━━━━━━━━━━━━━━━━━━━━━━━━┳━━━━━━━━━━━━━━━┓\n",
       "┃\u001B[1m \u001B[0m\u001B[1mLayer (type)                   \u001B[0m\u001B[1m \u001B[0m┃\u001B[1m \u001B[0m\u001B[1mOutput Shape          \u001B[0m\u001B[1m \u001B[0m┃\u001B[1m \u001B[0m\u001B[1m      Param #\u001B[0m\u001B[1m \u001B[0m┃\n",
       "┡━━━━━━━━━━━━━━━━━━━━━━━━━━━━━━━━━╇━━━━━━━━━━━━━━━━━━━━━━━━╇━━━━━━━━━━━━━━━┩\n",
       "│ bidirectional (\u001B[38;5;33mBidirectional\u001B[0m)   │ (\u001B[38;5;45mNone\u001B[0m, \u001B[38;5;34m32\u001B[0m)             │        \u001B[38;5;34m10,240\u001B[0m │\n",
       "├─────────────────────────────────┼────────────────────────┼───────────────┤\n",
       "│ dense (\u001B[38;5;33mDense\u001B[0m)                   │ (\u001B[38;5;45mNone\u001B[0m, \u001B[38;5;34m64\u001B[0m)             │         \u001B[38;5;34m2,112\u001B[0m │\n",
       "├─────────────────────────────────┼────────────────────────┼───────────────┤\n",
       "│ dense_1 (\u001B[38;5;33mDense\u001B[0m)                 │ (\u001B[38;5;45mNone\u001B[0m, \u001B[38;5;34m36\u001B[0m)             │         \u001B[38;5;34m2,340\u001B[0m │\n",
       "└─────────────────────────────────┴────────────────────────┴───────────────┘\n"
      ],
      "text/html": [
       "<pre style=\"white-space:pre;overflow-x:auto;line-height:normal;font-family:Menlo,'DejaVu Sans Mono',consolas,'Courier New',monospace\">┏━━━━━━━━━━━━━━━━━━━━━━━━━━━━━━━━━┳━━━━━━━━━━━━━━━━━━━━━━━━┳━━━━━━━━━━━━━━━┓\n",
       "┃<span style=\"font-weight: bold\"> Layer (type)                    </span>┃<span style=\"font-weight: bold\"> Output Shape           </span>┃<span style=\"font-weight: bold\">       Param # </span>┃\n",
       "┡━━━━━━━━━━━━━━━━━━━━━━━━━━━━━━━━━╇━━━━━━━━━━━━━━━━━━━━━━━━╇━━━━━━━━━━━━━━━┩\n",
       "│ bidirectional (<span style=\"color: #0087ff; text-decoration-color: #0087ff\">Bidirectional</span>)   │ (<span style=\"color: #00d7ff; text-decoration-color: #00d7ff\">None</span>, <span style=\"color: #00af00; text-decoration-color: #00af00\">32</span>)             │        <span style=\"color: #00af00; text-decoration-color: #00af00\">10,240</span> │\n",
       "├─────────────────────────────────┼────────────────────────┼───────────────┤\n",
       "│ dense (<span style=\"color: #0087ff; text-decoration-color: #0087ff\">Dense</span>)                   │ (<span style=\"color: #00d7ff; text-decoration-color: #00d7ff\">None</span>, <span style=\"color: #00af00; text-decoration-color: #00af00\">64</span>)             │         <span style=\"color: #00af00; text-decoration-color: #00af00\">2,112</span> │\n",
       "├─────────────────────────────────┼────────────────────────┼───────────────┤\n",
       "│ dense_1 (<span style=\"color: #0087ff; text-decoration-color: #0087ff\">Dense</span>)                 │ (<span style=\"color: #00d7ff; text-decoration-color: #00d7ff\">None</span>, <span style=\"color: #00af00; text-decoration-color: #00af00\">36</span>)             │         <span style=\"color: #00af00; text-decoration-color: #00af00\">2,340</span> │\n",
       "└─────────────────────────────────┴────────────────────────┴───────────────┘\n",
       "</pre>\n"
      ]
     },
     "metadata": {},
     "output_type": "display_data",
     "jetTransient": {
      "display_id": null
     }
    },
    {
     "data": {
      "text/plain": [
       "\u001B[1m Total params: \u001B[0m\u001B[38;5;34m14,692\u001B[0m (57.39 KB)\n"
      ],
      "text/html": [
       "<pre style=\"white-space:pre;overflow-x:auto;line-height:normal;font-family:Menlo,'DejaVu Sans Mono',consolas,'Courier New',monospace\"><span style=\"font-weight: bold\"> Total params: </span><span style=\"color: #00af00; text-decoration-color: #00af00\">14,692</span> (57.39 KB)\n",
       "</pre>\n"
      ]
     },
     "metadata": {},
     "output_type": "display_data",
     "jetTransient": {
      "display_id": null
     }
    },
    {
     "data": {
      "text/plain": [
       "\u001B[1m Trainable params: \u001B[0m\u001B[38;5;34m14,692\u001B[0m (57.39 KB)\n"
      ],
      "text/html": [
       "<pre style=\"white-space:pre;overflow-x:auto;line-height:normal;font-family:Menlo,'DejaVu Sans Mono',consolas,'Courier New',monospace\"><span style=\"font-weight: bold\"> Trainable params: </span><span style=\"color: #00af00; text-decoration-color: #00af00\">14,692</span> (57.39 KB)\n",
       "</pre>\n"
      ]
     },
     "metadata": {},
     "output_type": "display_data",
     "jetTransient": {
      "display_id": null
     }
    },
    {
     "data": {
      "text/plain": [
       "\u001B[1m Non-trainable params: \u001B[0m\u001B[38;5;34m0\u001B[0m (0.00 B)\n"
      ],
      "text/html": [
       "<pre style=\"white-space:pre;overflow-x:auto;line-height:normal;font-family:Menlo,'DejaVu Sans Mono',consolas,'Courier New',monospace\"><span style=\"font-weight: bold\"> Non-trainable params: </span><span style=\"color: #00af00; text-decoration-color: #00af00\">0</span> (0.00 B)\n",
       "</pre>\n"
      ]
     },
     "metadata": {},
     "output_type": "display_data",
     "jetTransient": {
      "display_id": null
     }
    }
   ],
   "execution_count": 6
  },
  {
   "metadata": {
    "ExecuteTime": {
     "end_time": "2025-10-12T17:40:23.017639Z",
     "start_time": "2025-10-12T17:37:36.184342Z"
    }
   },
   "cell_type": "code",
   "source": [
    "early_stopping = EarlyStopping(\n",
    "    monitor='val_loss',\n",
    "    patience=5,\n",
    "    restore_best_weights=True\n",
    ")\n",
    "\n",
    "history = model.fit(\n",
    "    X_train, y_train,\n",
    "    validation_data=(X_val, y_val),\n",
    "    epochs=100,\n",
    "    batch_size=32,\n",
    "    shuffle=True,\n",
    "    callbacks=[early_stopping],\n",
    "    verbose=1       # opcjonalnie, pokazuje postęp\n",
    ")\n"
   ],
   "id": "133f6e68907ff6b1",
   "outputs": [
    {
     "name": "stdout",
     "output_type": "stream",
     "text": [
      "Epoch 1/100\n"
     ]
    },
    {
     "name": "stderr",
     "output_type": "stream",
     "text": [
      "I0000 00:00:1760290658.778654   21937 cuda_dnn.cc:529] Loaded cuDNN version 90300\n"
     ]
    },
    {
     "name": "stdout",
     "output_type": "stream",
     "text": [
      "\u001B[1m136/136\u001B[0m \u001B[32m━━━━━━━━━━━━━━━━━━━━\u001B[0m\u001B[37m\u001B[0m \u001B[1m5s\u001B[0m 12ms/step - accuracy: 0.0736 - loss: 3.5036 - val_accuracy: 0.1594 - val_loss: 2.8957\n",
      "Epoch 2/100\n",
      "\u001B[1m136/136\u001B[0m \u001B[32m━━━━━━━━━━━━━━━━━━━━\u001B[0m\u001B[37m\u001B[0m \u001B[1m1s\u001B[0m 10ms/step - accuracy: 0.2354 - loss: 2.4938 - val_accuracy: 0.4276 - val_loss: 1.9017\n",
      "Epoch 3/100\n",
      "\u001B[1m136/136\u001B[0m \u001B[32m━━━━━━━━━━━━━━━━━━━━\u001B[0m\u001B[37m\u001B[0m \u001B[1m1s\u001B[0m 10ms/step - accuracy: 0.4415 - loss: 1.7471 - val_accuracy: 0.5217 - val_loss: 1.5076\n",
      "Epoch 4/100\n",
      "\u001B[1m136/136\u001B[0m \u001B[32m━━━━━━━━━━━━━━━━━━━━\u001B[0m\u001B[37m\u001B[0m \u001B[1m1s\u001B[0m 10ms/step - accuracy: 0.5462 - loss: 1.3897 - val_accuracy: 0.6083 - val_loss: 1.1786\n",
      "Epoch 5/100\n",
      "\u001B[1m136/136\u001B[0m \u001B[32m━━━━━━━━━━━━━━━━━━━━\u001B[0m\u001B[37m\u001B[0m \u001B[1m1s\u001B[0m 10ms/step - accuracy: 0.6421 - loss: 1.0955 - val_accuracy: 0.6359 - val_loss: 1.0335\n",
      "Epoch 6/100\n",
      "\u001B[1m136/136\u001B[0m \u001B[32m━━━━━━━━━━━━━━━━━━━━\u001B[0m\u001B[37m\u001B[0m \u001B[1m1s\u001B[0m 10ms/step - accuracy: 0.6743 - loss: 0.9922 - val_accuracy: 0.6700 - val_loss: 0.9517\n",
      "Epoch 7/100\n",
      "\u001B[1m136/136\u001B[0m \u001B[32m━━━━━━━━━━━━━━━━━━━━\u001B[0m\u001B[37m\u001B[0m \u001B[1m2s\u001B[0m 12ms/step - accuracy: 0.6975 - loss: 0.8838 - val_accuracy: 0.7235 - val_loss: 0.8351\n",
      "Epoch 8/100\n",
      "\u001B[1m136/136\u001B[0m \u001B[32m━━━━━━━━━━━━━━━━━━━━\u001B[0m\u001B[37m\u001B[0m \u001B[1m1s\u001B[0m 9ms/step - accuracy: 0.7217 - loss: 0.8082 - val_accuracy: 0.7622 - val_loss: 0.7766\n",
      "Epoch 9/100\n",
      "\u001B[1m136/136\u001B[0m \u001B[32m━━━━━━━━━━━━━━━━━━━━\u001B[0m\u001B[37m\u001B[0m \u001B[1m1s\u001B[0m 10ms/step - accuracy: 0.7334 - loss: 0.7800 - val_accuracy: 0.7650 - val_loss: 0.7532\n",
      "Epoch 10/100\n",
      "\u001B[1m136/136\u001B[0m \u001B[32m━━━━━━━━━━━━━━━━━━━━\u001B[0m\u001B[37m\u001B[0m \u001B[1m1s\u001B[0m 9ms/step - accuracy: 0.7710 - loss: 0.6996 - val_accuracy: 0.7935 - val_loss: 0.6922\n",
      "Epoch 11/100\n",
      "\u001B[1m136/136\u001B[0m \u001B[32m━━━━━━━━━━━━━━━━━━━━\u001B[0m\u001B[37m\u001B[0m \u001B[1m1s\u001B[0m 9ms/step - accuracy: 0.7934 - loss: 0.6509 - val_accuracy: 0.7917 - val_loss: 0.6696\n",
      "Epoch 12/100\n",
      "\u001B[1m136/136\u001B[0m \u001B[32m━━━━━━━━━━━━━━━━━━━━\u001B[0m\u001B[37m\u001B[0m \u001B[1m1s\u001B[0m 9ms/step - accuracy: 0.7958 - loss: 0.6209 - val_accuracy: 0.7982 - val_loss: 0.6670\n",
      "Epoch 13/100\n",
      "\u001B[1m136/136\u001B[0m \u001B[32m━━━━━━━━━━━━━━━━━━━━\u001B[0m\u001B[37m\u001B[0m \u001B[1m1s\u001B[0m 11ms/step - accuracy: 0.8113 - loss: 0.5770 - val_accuracy: 0.8304 - val_loss: 0.5676\n",
      "Epoch 14/100\n",
      "\u001B[1m136/136\u001B[0m \u001B[32m━━━━━━━━━━━━━━━━━━━━\u001B[0m\u001B[37m\u001B[0m \u001B[1m1s\u001B[0m 9ms/step - accuracy: 0.8265 - loss: 0.5200 - val_accuracy: 0.8276 - val_loss: 0.5660\n",
      "Epoch 15/100\n",
      "\u001B[1m136/136\u001B[0m \u001B[32m━━━━━━━━━━━━━━━━━━━━\u001B[0m\u001B[37m\u001B[0m \u001B[1m2s\u001B[0m 13ms/step - accuracy: 0.8218 - loss: 0.5405 - val_accuracy: 0.8442 - val_loss: 0.5268\n",
      "Epoch 16/100\n",
      "\u001B[1m136/136\u001B[0m \u001B[32m━━━━━━━━━━━━━━━━━━━━\u001B[0m\u001B[37m\u001B[0m \u001B[1m2s\u001B[0m 12ms/step - accuracy: 0.8463 - loss: 0.4821 - val_accuracy: 0.8276 - val_loss: 0.5749\n",
      "Epoch 17/100\n",
      "\u001B[1m136/136\u001B[0m \u001B[32m━━━━━━━━━━━━━━━━━━━━\u001B[0m\u001B[37m\u001B[0m \u001B[1m2s\u001B[0m 13ms/step - accuracy: 0.8437 - loss: 0.4874 - val_accuracy: 0.8258 - val_loss: 0.5398\n",
      "Epoch 18/100\n",
      "\u001B[1m136/136\u001B[0m \u001B[32m━━━━━━━━━━━━━━━━━━━━\u001B[0m\u001B[37m\u001B[0m \u001B[1m2s\u001B[0m 13ms/step - accuracy: 0.8396 - loss: 0.4975 - val_accuracy: 0.8452 - val_loss: 0.4926\n",
      "Epoch 19/100\n",
      "\u001B[1m136/136\u001B[0m \u001B[32m━━━━━━━━━━━━━━━━━━━━\u001B[0m\u001B[37m\u001B[0m \u001B[1m2s\u001B[0m 12ms/step - accuracy: 0.8674 - loss: 0.4128 - val_accuracy: 0.8553 - val_loss: 0.4772\n",
      "Epoch 20/100\n",
      "\u001B[1m136/136\u001B[0m \u001B[32m━━━━━━━━━━━━━━━━━━━━\u001B[0m\u001B[37m\u001B[0m \u001B[1m2s\u001B[0m 15ms/step - accuracy: 0.8771 - loss: 0.3870 - val_accuracy: 0.8470 - val_loss: 0.4649\n",
      "Epoch 21/100\n",
      "\u001B[1m136/136\u001B[0m \u001B[32m━━━━━━━━━━━━━━━━━━━━\u001B[0m\u001B[37m\u001B[0m \u001B[1m2s\u001B[0m 15ms/step - accuracy: 0.8778 - loss: 0.3668 - val_accuracy: 0.8737 - val_loss: 0.4340\n",
      "Epoch 22/100\n",
      "\u001B[1m136/136\u001B[0m \u001B[32m━━━━━━━━━━━━━━━━━━━━\u001B[0m\u001B[37m\u001B[0m \u001B[1m3s\u001B[0m 19ms/step - accuracy: 0.8904 - loss: 0.3553 - val_accuracy: 0.8470 - val_loss: 0.4756\n",
      "Epoch 23/100\n",
      "\u001B[1m136/136\u001B[0m \u001B[32m━━━━━━━━━━━━━━━━━━━━\u001B[0m\u001B[37m\u001B[0m \u001B[1m16s\u001B[0m 115ms/step - accuracy: 0.8767 - loss: 0.3908 - val_accuracy: 0.8350 - val_loss: 0.5208\n",
      "Epoch 24/100\n",
      "\u001B[1m136/136\u001B[0m \u001B[32m━━━━━━━━━━━━━━━━━━━━\u001B[0m\u001B[37m\u001B[0m \u001B[1m14s\u001B[0m 103ms/step - accuracy: 0.8835 - loss: 0.3502 - val_accuracy: 0.8608 - val_loss: 0.4528\n",
      "Epoch 25/100\n",
      "\u001B[1m136/136\u001B[0m \u001B[32m━━━━━━━━━━━━━━━━━━━━\u001B[0m\u001B[37m\u001B[0m \u001B[1m8s\u001B[0m 57ms/step - accuracy: 0.8932 - loss: 0.3251 - val_accuracy: 0.8747 - val_loss: 0.4339\n",
      "Epoch 26/100\n",
      "\u001B[1m136/136\u001B[0m \u001B[32m━━━━━━━━━━━━━━━━━━━━\u001B[0m\u001B[37m\u001B[0m \u001B[1m8s\u001B[0m 56ms/step - accuracy: 0.8922 - loss: 0.3314 - val_accuracy: 0.8710 - val_loss: 0.4130\n",
      "Epoch 27/100\n",
      "\u001B[1m136/136\u001B[0m \u001B[32m━━━━━━━━━━━━━━━━━━━━\u001B[0m\u001B[37m\u001B[0m \u001B[1m6s\u001B[0m 42ms/step - accuracy: 0.8951 - loss: 0.3188 - val_accuracy: 0.8765 - val_loss: 0.3951\n",
      "Epoch 28/100\n",
      "\u001B[1m136/136\u001B[0m \u001B[32m━━━━━━━━━━━━━━━━━━━━\u001B[0m\u001B[37m\u001B[0m \u001B[1m14s\u001B[0m 106ms/step - accuracy: 0.9040 - loss: 0.3052 - val_accuracy: 0.8562 - val_loss: 0.4951\n",
      "Epoch 29/100\n",
      "\u001B[1m136/136\u001B[0m \u001B[32m━━━━━━━━━━━━━━━━━━━━\u001B[0m\u001B[37m\u001B[0m \u001B[1m17s\u001B[0m 128ms/step - accuracy: 0.8821 - loss: 0.3547 - val_accuracy: 0.8710 - val_loss: 0.4022\n",
      "Epoch 30/100\n",
      "\u001B[1m136/136\u001B[0m \u001B[32m━━━━━━━━━━━━━━━━━━━━\u001B[0m\u001B[37m\u001B[0m \u001B[1m2s\u001B[0m 11ms/step - accuracy: 0.9066 - loss: 0.2942 - val_accuracy: 0.8839 - val_loss: 0.3744\n",
      "Epoch 31/100\n",
      "\u001B[1m136/136\u001B[0m \u001B[32m━━━━━━━━━━━━━━━━━━━━\u001B[0m\u001B[37m\u001B[0m \u001B[1m1s\u001B[0m 10ms/step - accuracy: 0.9184 - loss: 0.2563 - val_accuracy: 0.8553 - val_loss: 0.4693\n",
      "Epoch 32/100\n",
      "\u001B[1m136/136\u001B[0m \u001B[32m━━━━━━━━━━━━━━━━━━━━\u001B[0m\u001B[37m\u001B[0m \u001B[1m1s\u001B[0m 9ms/step - accuracy: 0.9001 - loss: 0.2989 - val_accuracy: 0.8866 - val_loss: 0.3475\n",
      "Epoch 33/100\n",
      "\u001B[1m136/136\u001B[0m \u001B[32m━━━━━━━━━━━━━━━━━━━━\u001B[0m\u001B[37m\u001B[0m \u001B[1m1s\u001B[0m 9ms/step - accuracy: 0.9066 - loss: 0.2801 - val_accuracy: 0.9023 - val_loss: 0.3460\n",
      "Epoch 34/100\n",
      "\u001B[1m136/136\u001B[0m \u001B[32m━━━━━━━━━━━━━━━━━━━━\u001B[0m\u001B[37m\u001B[0m \u001B[1m1s\u001B[0m 9ms/step - accuracy: 0.9262 - loss: 0.2432 - val_accuracy: 0.8829 - val_loss: 0.3769\n",
      "Epoch 35/100\n",
      "\u001B[1m136/136\u001B[0m \u001B[32m━━━━━━━━━━━━━━━━━━━━\u001B[0m\u001B[37m\u001B[0m \u001B[1m1s\u001B[0m 9ms/step - accuracy: 0.9194 - loss: 0.2473 - val_accuracy: 0.8922 - val_loss: 0.3814\n",
      "Epoch 36/100\n",
      "\u001B[1m136/136\u001B[0m \u001B[32m━━━━━━━━━━━━━━━━━━━━\u001B[0m\u001B[37m\u001B[0m \u001B[1m1s\u001B[0m 9ms/step - accuracy: 0.9173 - loss: 0.2526 - val_accuracy: 0.8949 - val_loss: 0.3358\n",
      "Epoch 37/100\n",
      "\u001B[1m136/136\u001B[0m \u001B[32m━━━━━━━━━━━━━━━━━━━━\u001B[0m\u001B[37m\u001B[0m \u001B[1m1s\u001B[0m 9ms/step - accuracy: 0.9231 - loss: 0.2337 - val_accuracy: 0.8995 - val_loss: 0.3435\n",
      "Epoch 38/100\n",
      "\u001B[1m136/136\u001B[0m \u001B[32m━━━━━━━━━━━━━━━━━━━━\u001B[0m\u001B[37m\u001B[0m \u001B[1m1s\u001B[0m 9ms/step - accuracy: 0.9256 - loss: 0.2283 - val_accuracy: 0.8885 - val_loss: 0.3804\n",
      "Epoch 39/100\n",
      "\u001B[1m136/136\u001B[0m \u001B[32m━━━━━━━━━━━━━━━━━━━━\u001B[0m\u001B[37m\u001B[0m \u001B[1m1s\u001B[0m 9ms/step - accuracy: 0.9333 - loss: 0.2062 - val_accuracy: 0.9041 - val_loss: 0.3505\n",
      "Epoch 40/100\n",
      "\u001B[1m136/136\u001B[0m \u001B[32m━━━━━━━━━━━━━━━━━━━━\u001B[0m\u001B[37m\u001B[0m \u001B[1m1s\u001B[0m 9ms/step - accuracy: 0.9280 - loss: 0.2227 - val_accuracy: 0.9032 - val_loss: 0.3207\n",
      "Epoch 41/100\n",
      "\u001B[1m136/136\u001B[0m \u001B[32m━━━━━━━━━━━━━━━━━━━━\u001B[0m\u001B[37m\u001B[0m \u001B[1m1s\u001B[0m 9ms/step - accuracy: 0.9288 - loss: 0.2245 - val_accuracy: 0.9124 - val_loss: 0.3001\n",
      "Epoch 42/100\n",
      "\u001B[1m136/136\u001B[0m \u001B[32m━━━━━━━━━━━━━━━━━━━━\u001B[0m\u001B[37m\u001B[0m \u001B[1m1s\u001B[0m 10ms/step - accuracy: 0.9156 - loss: 0.2414 - val_accuracy: 0.9171 - val_loss: 0.3015\n",
      "Epoch 43/100\n",
      "\u001B[1m136/136\u001B[0m \u001B[32m━━━━━━━━━━━━━━━━━━━━\u001B[0m\u001B[37m\u001B[0m \u001B[1m13s\u001B[0m 97ms/step - accuracy: 0.9333 - loss: 0.2075 - val_accuracy: 0.8995 - val_loss: 0.3450\n",
      "Epoch 44/100\n",
      "\u001B[1m136/136\u001B[0m \u001B[32m━━━━━━━━━━━━━━━━━━━━\u001B[0m\u001B[37m\u001B[0m \u001B[1m4s\u001B[0m 28ms/step - accuracy: 0.9403 - loss: 0.1804 - val_accuracy: 0.9124 - val_loss: 0.3107\n",
      "Epoch 45/100\n",
      "\u001B[1m136/136\u001B[0m \u001B[32m━━━━━━━━━━━━━━━━━━━━\u001B[0m\u001B[37m\u001B[0m \u001B[1m1s\u001B[0m 10ms/step - accuracy: 0.9385 - loss: 0.1969 - val_accuracy: 0.9106 - val_loss: 0.2934\n",
      "Epoch 46/100\n",
      "\u001B[1m136/136\u001B[0m \u001B[32m━━━━━━━━━━━━━━━━━━━━\u001B[0m\u001B[37m\u001B[0m \u001B[1m1s\u001B[0m 9ms/step - accuracy: 0.9308 - loss: 0.2186 - val_accuracy: 0.9171 - val_loss: 0.2878\n",
      "Epoch 47/100\n",
      "\u001B[1m136/136\u001B[0m \u001B[32m━━━━━━━━━━━━━━━━━━━━\u001B[0m\u001B[37m\u001B[0m \u001B[1m1s\u001B[0m 9ms/step - accuracy: 0.9431 - loss: 0.1777 - val_accuracy: 0.9207 - val_loss: 0.2820\n",
      "Epoch 48/100\n",
      "\u001B[1m136/136\u001B[0m \u001B[32m━━━━━━━━━━━━━━━━━━━━\u001B[0m\u001B[37m\u001B[0m \u001B[1m1s\u001B[0m 10ms/step - accuracy: 0.9480 - loss: 0.1622 - val_accuracy: 0.9189 - val_loss: 0.3008\n",
      "Epoch 49/100\n",
      "\u001B[1m136/136\u001B[0m \u001B[32m━━━━━━━━━━━━━━━━━━━━\u001B[0m\u001B[37m\u001B[0m \u001B[1m1s\u001B[0m 9ms/step - accuracy: 0.9468 - loss: 0.1586 - val_accuracy: 0.9143 - val_loss: 0.3226\n",
      "Epoch 50/100\n",
      "\u001B[1m136/136\u001B[0m \u001B[32m━━━━━━━━━━━━━━━━━━━━\u001B[0m\u001B[37m\u001B[0m \u001B[1m1s\u001B[0m 9ms/step - accuracy: 0.9326 - loss: 0.2030 - val_accuracy: 0.8968 - val_loss: 0.3683\n",
      "Epoch 51/100\n",
      "\u001B[1m136/136\u001B[0m \u001B[32m━━━━━━━━━━━━━━━━━━━━\u001B[0m\u001B[37m\u001B[0m \u001B[1m1s\u001B[0m 9ms/step - accuracy: 0.9365 - loss: 0.1990 - val_accuracy: 0.9152 - val_loss: 0.2994\n",
      "Epoch 52/100\n",
      "\u001B[1m136/136\u001B[0m \u001B[32m━━━━━━━━━━━━━━━━━━━━\u001B[0m\u001B[37m\u001B[0m \u001B[1m1s\u001B[0m 10ms/step - accuracy: 0.9448 - loss: 0.1808 - val_accuracy: 0.9198 - val_loss: 0.2823\n"
     ]
    }
   ],
   "execution_count": 7
  },
  {
   "metadata": {
    "ExecuteTime": {
     "end_time": "2025-10-12T17:40:31.095631Z",
     "start_time": "2025-10-12T17:40:30.638923Z"
    }
   },
   "cell_type": "code",
   "source": [
    "test_loss, test_acc = model.evaluate(X_test, y_test, verbose=0)\n",
    "print(f\"Test loss: {test_loss:.4f}\")\n",
    "print(f\"Test accuracy: {test_acc:.4f}\")"
   ],
   "id": "26939937a924d404",
   "outputs": [
    {
     "name": "stdout",
     "output_type": "stream",
     "text": [
      "Test loss: 0.2896\n",
      "Test accuracy: 0.9161\n"
     ]
    }
   ],
   "execution_count": 8
  },
  {
   "metadata": {
    "ExecuteTime": {
     "end_time": "2025-10-12T17:40:37.207661Z",
     "start_time": "2025-10-12T17:40:33.599901Z"
    }
   },
   "cell_type": "code",
   "source": [
    "import matplotlib.pyplot as plt\n",
    "\n",
    "# Accuracy\n",
    "plt.plot(history.history['accuracy'], label='train acc')\n",
    "plt.plot(history.history['val_accuracy'], label='val acc')\n",
    "plt.xlabel('Epoka')\n",
    "plt.ylabel('Accuracy')\n",
    "plt.legend()\n",
    "plt.show()\n",
    "\n",
    "# Loss\n",
    "plt.plot(history.history['loss'], label='train loss')\n",
    "plt.plot(history.history['val_loss'], label='val loss')\n",
    "plt.xlabel('Epoka')\n",
    "plt.ylabel('Loss')\n",
    "plt.legend()\n",
    "plt.show()\n"
   ],
   "id": "4f64ef6179c67420",
   "outputs": [
    {
     "data": {
      "text/plain": [
       "<Figure size 640x480 with 1 Axes>"
      ],
      "image/png": "[encoded data removed]"
     },
     "metadata": {},
     "output_type": "display_data",
     "jetTransient": {
      "display_id": null
     }
    },
    {
     "data": {
      "text/plain": [
       "<Figure size 640x480 with 1 Axes>"
      ],
      "image/png": "[encoded data removed]"
     },
     "metadata": {},
     "output_type": "display_data",
     "jetTransient": {
      "display_id": null
     }
    }
   ],
   "execution_count": 9
  },
  {
   "metadata": {
    "ExecuteTime": {
     "end_time": "2025-10-12T17:41:21.915463Z",
     "start_time": "2025-10-12T17:41:21.846696Z"
    }
   },
   "cell_type": "code",
   "source": [
    "import os\n",
    "from datetime import datetime\n",
    "\n",
    "# Ustal dzisiejszą datę\n",
    "today_str = datetime.now().strftime(\"%Y-%m-%d-%H:%M:%S\")\n",
    "\n",
    "# Ścieżka zapisu modeli\n",
    "save_dir = f\"../model/{today_str}\"\n",
    "os.makedirs(save_dir, exist_ok=True)\n",
    "\n",
    "# Ścieżki plików\n",
    "bilstm_path = os.path.join(save_dir, \"bilstm_model.keras\")\n",
    "labels_path = os.path.join(save_dir, \"labels.txt\")\n",
    "\n",
    "# Zapis modelu\n",
    "model.save(bilstm_path)\n",
    "\n",
    "with open(f'../model/{today_str}/labels.txt', 'w+') as f:\n",
    "    for label in encoder.classes_:\n",
    "        f.write(label + '\\n')\n",
    "\n",
    "print(f\"Modele i etykiety zapisano w folderze: {save_dir}\")\n"
   ],
   "id": "3e2faacb364ffa11",
   "outputs": [
    {
     "name": "stdout",
     "output_type": "stream",
     "text": [
      "Modele i etykiety zapisano w folderze: ../model/2025-10-12-19:41:21\n"
     ]
    }
   ],
   "execution_count": 10
  },
  {
   "metadata": {
    "ExecuteTime": {
     "end_time": "2025-10-12T17:41:57.426658Z",
     "start_time": "2025-10-12T17:41:57.244261Z"
    }
   },
   "cell_type": "code",
   "source": [
    "import gc\n",
    "\n",
    "del model\n",
    "del X_train, X_val, X_test\n",
    "del y_train, y_val, y_test\n",
    "gc.collect()\n"
   ],
   "id": "b6d13f6e2165c6f6",
   "outputs": [
    {
     "data": {
      "text/plain": [
       "4816"
      ]
     },
     "execution_count": 11,
     "metadata": {},
     "output_type": "execute_result"
    }
   ],
   "execution_count": 11
  }
 ],
 "metadata": {
  "kernelspec": {
   "display_name": "Python 3",
   "language": "python",
   "name": "python3"
  },
  "language_info": {
   "codemirror_mode": {
    "name": "ipython",
    "version": 2
   },
   "file_extension": ".py",
   "mimetype": "text/x-python",
   "name": "python",
   "nbconvert_exporter": "python",
   "pygments_lexer": "ipython2",
   "version": "2.7.6"
  }
 },
 "nbformat": 4,
 "nbformat_minor": 5
}
