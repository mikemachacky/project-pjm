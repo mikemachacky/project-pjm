{
 "cells": [
  {
   "cell_type": "code",
   "id": "initial_id",
   "metadata": {
    "collapsed": true,
    "ExecuteTime": {
     "end_time": "2025-10-12T17:33:14.625791Z",
     "start_time": "2025-10-12T17:33:08.753656Z"
    }
   },
   "source": [
    "import tensorflow as tf\n",
    "import numpy as np\n",
    "import matplotlib.pyplot as plt\n",
    "import pandas as pd\n",
    "from keras.src.layers import Bidirectional, LSTM, InputLayer\n",
    "from sklearn.metrics import confusion_matrix, classification_report\n",
    "from sklearn.model_selection import train_test_split\n",
    "from sklearn.preprocessing import LabelEncoder\n",
    "from tensorflow.keras.models import Sequential\n",
    "from tensorflow.keras.layers import Conv1D, MaxPooling1D, Flatten, Dense, Dropout\n",
    "from tensorflow.python.keras.callbacks import EarlyStopping\n",
    "\n",
    "from utils.dataset_tools import DatasetTools"
   ],
   "outputs": [
    {
     "name": "stderr",
     "output_type": "stream",
     "text": [
      "2025-10-12 19:33:09.117018: E external/local_xla/xla/stream_executor/cuda/cuda_fft.cc:467] Unable to register cuFFT factory: Attempting to register factory for plugin cuFFT when one has already been registered\n",
      "WARNING: All log messages before absl::InitializeLog() is called are written to STDERR\n",
      "E0000 00:00:1760290389.140976   20458 cuda_dnn.cc:8579] Unable to register cuDNN factory: Attempting to register factory for plugin cuDNN when one has already been registered\n",
      "E0000 00:00:1760290389.150027   20458 cuda_blas.cc:1407] Unable to register cuBLAS factory: Attempting to register factory for plugin cuBLAS when one has already been registered\n",
      "W0000 00:00:1760290389.167206   20458 computation_placer.cc:177] computation placer already registered. Please check linkage and avoid linking the same target more than once.\n",
      "W0000 00:00:1760290389.167227   20458 computation_placer.cc:177] computation placer already registered. Please check linkage and avoid linking the same target more than once.\n",
      "W0000 00:00:1760290389.167230   20458 computation_placer.cc:177] computation placer already registered. Please check linkage and avoid linking the same target more than once.\n",
      "W0000 00:00:1760290389.167232   20458 computation_placer.cc:177] computation placer already registered. Please check linkage and avoid linking the same target more than once.\n",
      "2025-10-12 19:33:09.172378: I tensorflow/core/platform/cpu_feature_guard.cc:210] This TensorFlow binary is optimized to use available CPU instructions in performance-critical operations.\n",
      "To enable the following instructions: AVX2 FMA, in other operations, rebuild TensorFlow with the appropriate compiler flags.\n"
     ]
    }
   ],
   "execution_count": 1
  },
  {
   "metadata": {
    "ExecuteTime": {
     "end_time": "2025-10-12T17:33:50.363812Z",
     "start_time": "2025-10-12T17:33:50.010867Z"
    }
   },
   "cell_type": "code",
   "source": [
    "import gc\n",
    "tf.keras.backend.clear_session()\n",
    "gc.collect()"
   ],
   "id": "b6bc2d96cc6ea9ce",
   "outputs": [
    {
     "data": {
      "text/plain": [
       "0"
      ]
     },
     "execution_count": 2,
     "metadata": {},
     "output_type": "execute_result"
    }
   ],
   "execution_count": 2
  },
  {
   "metadata": {
    "ExecuteTime": {
     "end_time": "2025-10-12T17:33:57.346632Z",
     "start_time": "2025-10-12T17:33:54.681114Z"
    }
   },
   "cell_type": "code",
   "source": [
    "DATASET_PATH = '../dataset/fixed_augmented_dataset.csv'\n",
    "df = pd.read_csv(DATASET_PATH)\n",
    "df.head()"
   ],
   "id": "b4b28c2883766d5c",
   "outputs": [
    {
     "data": {
      "text/plain": [
       "   sample_id  frame label  landmark_1_x  landmark_1_y  landmark_1_z  \\\n",
       "0          0      0     Y      0.004203      0.000651      0.008161   \n",
       "1          0      1     Y     -0.005988     -0.065978      0.008947   \n",
       "2          0      2     Y     -0.000792     -0.093575      0.006636   \n",
       "3          0      3     Y     -0.031170     -0.135088     -0.002417   \n",
       "4          0      4     Y     -0.017386     -0.127723     -0.018105   \n",
       "\n",
       "   landmark_2_x  landmark_2_y  landmark_2_z  landmark_3_x  ...  landmark_18_z  \\\n",
       "0     -0.048246      0.005667      0.004781     -0.071473  ...      -0.012839   \n",
       "1     -0.033615     -0.096414     -0.025618     -0.079886  ...       0.006703   \n",
       "2     -0.049848     -0.120680     -0.019714     -0.094480  ...      -0.030904   \n",
       "3     -0.044940     -0.165431     -0.024812     -0.059180  ...       0.000000   \n",
       "4     -0.029293     -0.149245     -0.021225     -0.083916  ...      -0.017180   \n",
       "\n",
       "   landmark_19_x  landmark_19_y  landmark_19_z  landmark_20_x  landmark_20_y  \\\n",
       "0       0.031399      -0.181194      -0.032711       0.023335      -0.226115   \n",
       "1       0.011817      -0.283714      -0.021039       0.014646      -0.290970   \n",
       "2       0.011683      -0.311241      -0.034277       0.006597      -0.359876   \n",
       "3      -0.001518      -0.348757      -0.035873      -0.001939      -0.344533   \n",
       "4      -0.006046      -0.302549      -0.033766       0.001081      -0.344521   \n",
       "\n",
       "   landmark_20_z  landmark_21_x  landmark_21_y  landmark_21_z  \n",
       "0      -0.038200       0.025997      -0.283913      -0.038001  \n",
       "1      -0.008102      -0.000139      -0.334014      -0.005190  \n",
       "2      -0.031719       0.002172      -0.388159      -0.011762  \n",
       "3      -0.040972       0.010580      -0.397630      -0.034706  \n",
       "4      -0.036471       0.013814      -0.386191      -0.018853  \n",
       "\n",
       "[5 rows x 66 columns]"
      ],
      "text/html": [
       "<div>\n",
       "<style scoped>\n",
       "    .dataframe tbody tr th:only-of-type {\n",
       "        vertical-align: middle;\n",
       "    }\n",
       "\n",
       "    .dataframe tbody tr th {\n",
       "        vertical-align: top;\n",
       "    }\n",
       "\n",
       "    .dataframe thead th {\n",
       "        text-align: right;\n",
       "    }\n",
       "</style>\n",
       "<table border=\"1\" class=\"dataframe\">\n",
       "  <thead>\n",
       "    <tr style=\"text-align: right;\">\n",
       "      <th></th>\n",
       "      <th>sample_id</th>\n",
       "      <th>frame</th>\n",
       "      <th>label</th>\n",
       "      <th>landmark_1_x</th>\n",
       "      <th>landmark_1_y</th>\n",
       "      <th>landmark_1_z</th>\n",
       "      <th>landmark_2_x</th>\n",
       "      <th>landmark_2_y</th>\n",
       "      <th>landmark_2_z</th>\n",
       "      <th>landmark_3_x</th>\n",
       "      <th>...</th>\n",
       "      <th>landmark_18_z</th>\n",
       "      <th>landmark_19_x</th>\n",
       "      <th>landmark_19_y</th>\n",
       "      <th>landmark_19_z</th>\n",
       "      <th>landmark_20_x</th>\n",
       "      <th>landmark_20_y</th>\n",
       "      <th>landmark_20_z</th>\n",
       "      <th>landmark_21_x</th>\n",
       "      <th>landmark_21_y</th>\n",
       "      <th>landmark_21_z</th>\n",
       "    </tr>\n",
       "  </thead>\n",
       "  <tbody>\n",
       "    <tr>\n",
       "      <th>0</th>\n",
       "      <td>0</td>\n",
       "      <td>0</td>\n",
       "      <td>Y</td>\n",
       "      <td>0.004203</td>\n",
       "      <td>0.000651</td>\n",
       "      <td>0.008161</td>\n",
       "      <td>-0.048246</td>\n",
       "      <td>0.005667</td>\n",
       "      <td>0.004781</td>\n",
       "      <td>-0.071473</td>\n",
       "      <td>...</td>\n",
       "      <td>-0.012839</td>\n",
       "      <td>0.031399</td>\n",
       "      <td>-0.181194</td>\n",
       "      <td>-0.032711</td>\n",
       "      <td>0.023335</td>\n",
       "      <td>-0.226115</td>\n",
       "      <td>-0.038200</td>\n",
       "      <td>0.025997</td>\n",
       "      <td>-0.283913</td>\n",
       "      <td>-0.038001</td>\n",
       "    </tr>\n",
       "    <tr>\n",
       "      <th>1</th>\n",
       "      <td>0</td>\n",
       "      <td>1</td>\n",
       "      <td>Y</td>\n",
       "      <td>-0.005988</td>\n",
       "      <td>-0.065978</td>\n",
       "      <td>0.008947</td>\n",
       "      <td>-0.033615</td>\n",
       "      <td>-0.096414</td>\n",
       "      <td>-0.025618</td>\n",
       "      <td>-0.079886</td>\n",
       "      <td>...</td>\n",
       "      <td>0.006703</td>\n",
       "      <td>0.011817</td>\n",
       "      <td>-0.283714</td>\n",
       "      <td>-0.021039</td>\n",
       "      <td>0.014646</td>\n",
       "      <td>-0.290970</td>\n",
       "      <td>-0.008102</td>\n",
       "      <td>-0.000139</td>\n",
       "      <td>-0.334014</td>\n",
       "      <td>-0.005190</td>\n",
       "    </tr>\n",
       "    <tr>\n",
       "      <th>2</th>\n",
       "      <td>0</td>\n",
       "      <td>2</td>\n",
       "      <td>Y</td>\n",
       "      <td>-0.000792</td>\n",
       "      <td>-0.093575</td>\n",
       "      <td>0.006636</td>\n",
       "      <td>-0.049848</td>\n",
       "      <td>-0.120680</td>\n",
       "      <td>-0.019714</td>\n",
       "      <td>-0.094480</td>\n",
       "      <td>...</td>\n",
       "      <td>-0.030904</td>\n",
       "      <td>0.011683</td>\n",
       "      <td>-0.311241</td>\n",
       "      <td>-0.034277</td>\n",
       "      <td>0.006597</td>\n",
       "      <td>-0.359876</td>\n",
       "      <td>-0.031719</td>\n",
       "      <td>0.002172</td>\n",
       "      <td>-0.388159</td>\n",
       "      <td>-0.011762</td>\n",
       "    </tr>\n",
       "    <tr>\n",
       "      <th>3</th>\n",
       "      <td>0</td>\n",
       "      <td>3</td>\n",
       "      <td>Y</td>\n",
       "      <td>-0.031170</td>\n",
       "      <td>-0.135088</td>\n",
       "      <td>-0.002417</td>\n",
       "      <td>-0.044940</td>\n",
       "      <td>-0.165431</td>\n",
       "      <td>-0.024812</td>\n",
       "      <td>-0.059180</td>\n",
       "      <td>...</td>\n",
       "      <td>0.000000</td>\n",
       "      <td>-0.001518</td>\n",
       "      <td>-0.348757</td>\n",
       "      <td>-0.035873</td>\n",
       "      <td>-0.001939</td>\n",
       "      <td>-0.344533</td>\n",
       "      <td>-0.040972</td>\n",
       "      <td>0.010580</td>\n",
       "      <td>-0.397630</td>\n",
       "      <td>-0.034706</td>\n",
       "    </tr>\n",
       "    <tr>\n",
       "      <th>4</th>\n",
       "      <td>0</td>\n",
       "      <td>4</td>\n",
       "      <td>Y</td>\n",
       "      <td>-0.017386</td>\n",
       "      <td>-0.127723</td>\n",
       "      <td>-0.018105</td>\n",
       "      <td>-0.029293</td>\n",
       "      <td>-0.149245</td>\n",
       "      <td>-0.021225</td>\n",
       "      <td>-0.083916</td>\n",
       "      <td>...</td>\n",
       "      <td>-0.017180</td>\n",
       "      <td>-0.006046</td>\n",
       "      <td>-0.302549</td>\n",
       "      <td>-0.033766</td>\n",
       "      <td>0.001081</td>\n",
       "      <td>-0.344521</td>\n",
       "      <td>-0.036471</td>\n",
       "      <td>0.013814</td>\n",
       "      <td>-0.386191</td>\n",
       "      <td>-0.018853</td>\n",
       "    </tr>\n",
       "  </tbody>\n",
       "</table>\n",
       "<p>5 rows × 66 columns</p>\n",
       "</div>"
      ]
     },
     "execution_count": 3,
     "metadata": {},
     "output_type": "execute_result"
    }
   ],
   "execution_count": 3
  },
  {
   "metadata": {
    "ExecuteTime": {
     "end_time": "2025-10-12T17:34:04.508322Z",
     "start_time": "2025-10-12T17:33:59.750442Z"
    }
   },
   "cell_type": "code",
   "source": [
    "# podział na sekwencje\n",
    "sequences, labels = DatasetTools.divide_into_sequences(df)\n",
    "\n",
    "# normalizacja punktów względem nadgarstka\n",
    "# sequences = np.array([DatasetTools.normalize_wrist(seq) for seq in sequences])\n",
    "\n",
    "# Label encoding\n",
    "encoder = LabelEncoder()\n",
    "y = encoder.fit_transform(labels)  # 'A'...'Z' itd. -> 0...35\n",
    "\n",
    "# One-hot encoding (36 klas)\n",
    "y_cat = tf.keras.utils.to_categorical(y, num_classes=len(encoder.classes_))\n",
    "\n",
    "# Konwersja typów\n",
    "X = sequences.astype(np.float32)\n",
    "print(X.shape, y_cat.shape)\n"
   ],
   "id": "636f831ca9ca1931",
   "outputs": [
    {
     "name": "stdout",
     "output_type": "stream",
     "text": [
      "(7749, 30, 63) (7749, 36)\n"
     ]
    }
   ],
   "execution_count": 4
  },
  {
   "metadata": {
    "ExecuteTime": {
     "end_time": "2025-10-12T17:34:08.210646Z",
     "start_time": "2025-10-12T17:34:08.154470Z"
    }
   },
   "cell_type": "code",
   "source": [
    "# najpierw train+val vs test (np. 70% : 30%)\n",
    "X_trainval, X_test, y_trainval, y_test = train_test_split(\n",
    "    X, y_cat, test_size=0.3, random_state=42, stratify=y\n",
    ")\n",
    "\n",
    "# następnie train vs val (np. 80% : 20% z trainval)\n",
    "X_train, X_val, y_train, y_val = train_test_split(\n",
    "    X_trainval, y_trainval, test_size=0.2, random_state=42, stratify=np.argmax(y_trainval, axis=1)\n",
    ")\n",
    "\n",
    "print(\"Train:\", X_train.shape, y_train.shape)\n",
    "print(\"Val:\",   X_val.shape, y_val.shape)\n",
    "print(\"Test:\",  X_test.shape, y_test.shape)\n"
   ],
   "id": "4a255210fa970a86",
   "outputs": [
    {
     "name": "stdout",
     "output_type": "stream",
     "text": [
      "Train: (4339, 30, 63) (4339, 36)\n",
      "Val: (1085, 30, 63) (1085, 36)\n",
      "Test: (2325, 30, 63) (2325, 36)\n"
     ]
    }
   ],
   "execution_count": 5
  },
  {
   "metadata": {
    "ExecuteTime": {
     "end_time": "2025-10-12T17:34:12.086456Z",
     "start_time": "2025-10-12T17:34:10.628474Z"
    }
   },
   "cell_type": "code",
   "source": [
    "import tensorflow as tf\n",
    "from tensorflow.keras.models import Sequential\n",
    "from tensorflow.keras.layers import InputLayer, Conv1D, MaxPooling1D, Flatten, Dense, Dropout\n",
    "\n",
    "def create_1dcnn_model(input_shape, num_classes):\n",
    "    model = Sequential([\n",
    "    InputLayer(shape=input_shape),\n",
    "    Conv1D(16, 3, activation='relu'),\n",
    "    MaxPooling1D(2),\n",
    "    Conv1D(32, 3, activation='relu'),\n",
    "    MaxPooling1D(2),\n",
    "    Flatten(),\n",
    "    Dense(64, activation='relu'),\n",
    "    Dense(num_classes, activation='softmax')\n",
    "])\n",
    "\n",
    "    model.compile(\n",
    "        optimizer='adam',\n",
    "        loss='categorical_crossentropy',\n",
    "        metrics=['accuracy']\n",
    "    )\n",
    "    return model\n",
    "\n",
    "# Parametry dla PJM\n",
    "input_shape = (30, 63)   # 30 klatek, 21 punktów * 3 współrzędne\n",
    "num_classes = 36         # np. 36 liter alfabetu PJM\n",
    "\n",
    "model = create_1dcnn_model(input_shape, num_classes)\n",
    "model.summary()\n"
   ],
   "id": "e3ba29324a798655",
   "outputs": [
    {
     "name": "stderr",
     "output_type": "stream",
     "text": [
      "I0000 00:00:1760290450.865023   20458 gpu_device.cc:2019] Created device /job:localhost/replica:0/task:0/device:GPU:0 with 1731 MB memory:  -> device: 0, name: NVIDIA GeForce MX150, pci bus id: 0000:01:00.0, compute capability: 6.1\n"
     ]
    },
    {
     "data": {
      "text/plain": [
       "\u001B[1mModel: \"sequential\"\u001B[0m\n"
      ],
      "text/html": [
       "<pre style=\"white-space:pre;overflow-x:auto;line-height:normal;font-family:Menlo,'DejaVu Sans Mono',consolas,'Courier New',monospace\"><span style=\"font-weight: bold\">Model: \"sequential\"</span>\n",
       "</pre>\n"
      ]
     },
     "metadata": {},
     "output_type": "display_data",
     "jetTransient": {
      "display_id": null
     }
    },
    {
     "data": {
      "text/plain": [
       "┏━━━━━━━━━━━━━━━━━━━━━━━━━━━━━━━━━┳━━━━━━━━━━━━━━━━━━━━━━━━┳━━━━━━━━━━━━━━━┓\n",
       "┃\u001B[1m \u001B[0m\u001B[1mLayer (type)                   \u001B[0m\u001B[1m \u001B[0m┃\u001B[1m \u001B[0m\u001B[1mOutput Shape          \u001B[0m\u001B[1m \u001B[0m┃\u001B[1m \u001B[0m\u001B[1m      Param #\u001B[0m\u001B[1m \u001B[0m┃\n",
       "┡━━━━━━━━━━━━━━━━━━━━━━━━━━━━━━━━━╇━━━━━━━━━━━━━━━━━━━━━━━━╇━━━━━━━━━━━━━━━┩\n",
       "│ conv1d (\u001B[38;5;33mConv1D\u001B[0m)                 │ (\u001B[38;5;45mNone\u001B[0m, \u001B[38;5;34m28\u001B[0m, \u001B[38;5;34m16\u001B[0m)         │         \u001B[38;5;34m3,040\u001B[0m │\n",
       "├─────────────────────────────────┼────────────────────────┼───────────────┤\n",
       "│ max_pooling1d (\u001B[38;5;33mMaxPooling1D\u001B[0m)    │ (\u001B[38;5;45mNone\u001B[0m, \u001B[38;5;34m14\u001B[0m, \u001B[38;5;34m16\u001B[0m)         │             \u001B[38;5;34m0\u001B[0m │\n",
       "├─────────────────────────────────┼────────────────────────┼───────────────┤\n",
       "│ conv1d_1 (\u001B[38;5;33mConv1D\u001B[0m)               │ (\u001B[38;5;45mNone\u001B[0m, \u001B[38;5;34m12\u001B[0m, \u001B[38;5;34m32\u001B[0m)         │         \u001B[38;5;34m1,568\u001B[0m │\n",
       "├─────────────────────────────────┼────────────────────────┼───────────────┤\n",
       "│ max_pooling1d_1 (\u001B[38;5;33mMaxPooling1D\u001B[0m)  │ (\u001B[38;5;45mNone\u001B[0m, \u001B[38;5;34m6\u001B[0m, \u001B[38;5;34m32\u001B[0m)          │             \u001B[38;5;34m0\u001B[0m │\n",
       "├─────────────────────────────────┼────────────────────────┼───────────────┤\n",
       "│ flatten (\u001B[38;5;33mFlatten\u001B[0m)               │ (\u001B[38;5;45mNone\u001B[0m, \u001B[38;5;34m192\u001B[0m)            │             \u001B[38;5;34m0\u001B[0m │\n",
       "├─────────────────────────────────┼────────────────────────┼───────────────┤\n",
       "│ dense (\u001B[38;5;33mDense\u001B[0m)                   │ (\u001B[38;5;45mNone\u001B[0m, \u001B[38;5;34m64\u001B[0m)             │        \u001B[38;5;34m12,352\u001B[0m │\n",
       "├─────────────────────────────────┼────────────────────────┼───────────────┤\n",
       "│ dense_1 (\u001B[38;5;33mDense\u001B[0m)                 │ (\u001B[38;5;45mNone\u001B[0m, \u001B[38;5;34m36\u001B[0m)             │         \u001B[38;5;34m2,340\u001B[0m │\n",
       "└─────────────────────────────────┴────────────────────────┴───────────────┘\n"
      ],
      "text/html": [
       "<pre style=\"white-space:pre;overflow-x:auto;line-height:normal;font-family:Menlo,'DejaVu Sans Mono',consolas,'Courier New',monospace\">┏━━━━━━━━━━━━━━━━━━━━━━━━━━━━━━━━━┳━━━━━━━━━━━━━━━━━━━━━━━━┳━━━━━━━━━━━━━━━┓\n",
       "┃<span style=\"font-weight: bold\"> Layer (type)                    </span>┃<span style=\"font-weight: bold\"> Output Shape           </span>┃<span style=\"font-weight: bold\">       Param # </span>┃\n",
       "┡━━━━━━━━━━━━━━━━━━━━━━━━━━━━━━━━━╇━━━━━━━━━━━━━━━━━━━━━━━━╇━━━━━━━━━━━━━━━┩\n",
       "│ conv1d (<span style=\"color: #0087ff; text-decoration-color: #0087ff\">Conv1D</span>)                 │ (<span style=\"color: #00d7ff; text-decoration-color: #00d7ff\">None</span>, <span style=\"color: #00af00; text-decoration-color: #00af00\">28</span>, <span style=\"color: #00af00; text-decoration-color: #00af00\">16</span>)         │         <span style=\"color: #00af00; text-decoration-color: #00af00\">3,040</span> │\n",
       "├─────────────────────────────────┼────────────────────────┼───────────────┤\n",
       "│ max_pooling1d (<span style=\"color: #0087ff; text-decoration-color: #0087ff\">MaxPooling1D</span>)    │ (<span style=\"color: #00d7ff; text-decoration-color: #00d7ff\">None</span>, <span style=\"color: #00af00; text-decoration-color: #00af00\">14</span>, <span style=\"color: #00af00; text-decoration-color: #00af00\">16</span>)         │             <span style=\"color: #00af00; text-decoration-color: #00af00\">0</span> │\n",
       "├─────────────────────────────────┼────────────────────────┼───────────────┤\n",
       "│ conv1d_1 (<span style=\"color: #0087ff; text-decoration-color: #0087ff\">Conv1D</span>)               │ (<span style=\"color: #00d7ff; text-decoration-color: #00d7ff\">None</span>, <span style=\"color: #00af00; text-decoration-color: #00af00\">12</span>, <span style=\"color: #00af00; text-decoration-color: #00af00\">32</span>)         │         <span style=\"color: #00af00; text-decoration-color: #00af00\">1,568</span> │\n",
       "├─────────────────────────────────┼────────────────────────┼───────────────┤\n",
       "│ max_pooling1d_1 (<span style=\"color: #0087ff; text-decoration-color: #0087ff\">MaxPooling1D</span>)  │ (<span style=\"color: #00d7ff; text-decoration-color: #00d7ff\">None</span>, <span style=\"color: #00af00; text-decoration-color: #00af00\">6</span>, <span style=\"color: #00af00; text-decoration-color: #00af00\">32</span>)          │             <span style=\"color: #00af00; text-decoration-color: #00af00\">0</span> │\n",
       "├─────────────────────────────────┼────────────────────────┼───────────────┤\n",
       "│ flatten (<span style=\"color: #0087ff; text-decoration-color: #0087ff\">Flatten</span>)               │ (<span style=\"color: #00d7ff; text-decoration-color: #00d7ff\">None</span>, <span style=\"color: #00af00; text-decoration-color: #00af00\">192</span>)            │             <span style=\"color: #00af00; text-decoration-color: #00af00\">0</span> │\n",
       "├─────────────────────────────────┼────────────────────────┼───────────────┤\n",
       "│ dense (<span style=\"color: #0087ff; text-decoration-color: #0087ff\">Dense</span>)                   │ (<span style=\"color: #00d7ff; text-decoration-color: #00d7ff\">None</span>, <span style=\"color: #00af00; text-decoration-color: #00af00\">64</span>)             │        <span style=\"color: #00af00; text-decoration-color: #00af00\">12,352</span> │\n",
       "├─────────────────────────────────┼────────────────────────┼───────────────┤\n",
       "│ dense_1 (<span style=\"color: #0087ff; text-decoration-color: #0087ff\">Dense</span>)                 │ (<span style=\"color: #00d7ff; text-decoration-color: #00d7ff\">None</span>, <span style=\"color: #00af00; text-decoration-color: #00af00\">36</span>)             │         <span style=\"color: #00af00; text-decoration-color: #00af00\">2,340</span> │\n",
       "└─────────────────────────────────┴────────────────────────┴───────────────┘\n",
       "</pre>\n"
      ]
     },
     "metadata": {},
     "output_type": "display_data",
     "jetTransient": {
      "display_id": null
     }
    },
    {
     "data": {
      "text/plain": [
       "\u001B[1m Total params: \u001B[0m\u001B[38;5;34m19,300\u001B[0m (75.39 KB)\n"
      ],
      "text/html": [
       "<pre style=\"white-space:pre;overflow-x:auto;line-height:normal;font-family:Menlo,'DejaVu Sans Mono',consolas,'Courier New',monospace\"><span style=\"font-weight: bold\"> Total params: </span><span style=\"color: #00af00; text-decoration-color: #00af00\">19,300</span> (75.39 KB)\n",
       "</pre>\n"
      ]
     },
     "metadata": {},
     "output_type": "display_data",
     "jetTransient": {
      "display_id": null
     }
    },
    {
     "data": {
      "text/plain": [
       "\u001B[1m Trainable params: \u001B[0m\u001B[38;5;34m19,300\u001B[0m (75.39 KB)\n"
      ],
      "text/html": [
       "<pre style=\"white-space:pre;overflow-x:auto;line-height:normal;font-family:Menlo,'DejaVu Sans Mono',consolas,'Courier New',monospace\"><span style=\"font-weight: bold\"> Trainable params: </span><span style=\"color: #00af00; text-decoration-color: #00af00\">19,300</span> (75.39 KB)\n",
       "</pre>\n"
      ]
     },
     "metadata": {},
     "output_type": "display_data",
     "jetTransient": {
      "display_id": null
     }
    },
    {
     "data": {
      "text/plain": [
       "\u001B[1m Non-trainable params: \u001B[0m\u001B[38;5;34m0\u001B[0m (0.00 B)\n"
      ],
      "text/html": [
       "<pre style=\"white-space:pre;overflow-x:auto;line-height:normal;font-family:Menlo,'DejaVu Sans Mono',consolas,'Courier New',monospace\"><span style=\"font-weight: bold\"> Non-trainable params: </span><span style=\"color: #00af00; text-decoration-color: #00af00\">0</span> (0.00 B)\n",
       "</pre>\n"
      ]
     },
     "metadata": {},
     "output_type": "display_data",
     "jetTransient": {
      "display_id": null
     }
    }
   ],
   "execution_count": 6
  },
  {
   "metadata": {
    "ExecuteTime": {
     "end_time": "2025-10-12T17:35:16.677655Z",
     "start_time": "2025-10-12T17:34:50.409398Z"
    }
   },
   "cell_type": "code",
   "source": [
    "early_stopping = EarlyStopping(\n",
    "    monitor='val_loss',\n",
    "    patience=5,\n",
    "    restore_best_weights=True\n",
    ")\n",
    "history = model.fit(\n",
    "    X_train, y_train,\n",
    "    validation_data=(X_val, y_val),\n",
    "    epochs=60,\n",
    "    batch_size=32,\n",
    "    shuffle=True,\n",
    "    callbacks=[early_stopping]\n",
    ")\n"
   ],
   "id": "848e3d5bd6fcc74f",
   "outputs": [
    {
     "name": "stdout",
     "output_type": "stream",
     "text": [
      "Epoch 1/60\n"
     ]
    },
    {
     "name": "stderr",
     "output_type": "stream",
     "text": [
      "WARNING: All log messages before absl::InitializeLog() is called are written to STDERR\n",
      "I0000 00:00:1760290492.237322   20537 service.cc:152] XLA service 0x7fdffc00b650 initialized for platform CUDA (this does not guarantee that XLA will be used). Devices:\n",
      "I0000 00:00:1760290492.237341   20537 service.cc:160]   StreamExecutor device (0): NVIDIA GeForce MX150, Compute Capability 6.1\n",
      "2025-10-12 19:34:52.269764: I tensorflow/compiler/mlir/tensorflow/utils/dump_mlir_util.cc:269] disabling MLIR crash reproducer, set env var `MLIR_CRASH_REPRODUCER_DIRECTORY` to enable.\n",
      "I0000 00:00:1760290492.517460   20537 cuda_dnn.cc:529] Loaded cuDNN version 90300\n"
     ]
    },
    {
     "name": "stdout",
     "output_type": "stream",
     "text": [
      "\u001B[1m 54/136\u001B[0m \u001B[32m━━━━━━━\u001B[0m\u001B[37m━━━━━━━━━━━━━\u001B[0m \u001B[1m0s\u001B[0m 3ms/step - accuracy: 0.0737 - loss: 3.5600"
     ]
    },
    {
     "name": "stderr",
     "output_type": "stream",
     "text": [
      "I0000 00:00:1760290495.975480   20537 device_compiler.h:188] Compiled cluster using XLA!  This line is logged at most once for the lifetime of the process.\n"
     ]
    },
    {
     "name": "stdout",
     "output_type": "stream",
     "text": [
      "\u001B[1m136/136\u001B[0m \u001B[32m━━━━━━━━━━━━━━━━━━━━\u001B[0m\u001B[37m\u001B[0m \u001B[1m10s\u001B[0m 34ms/step - accuracy: 0.1126 - loss: 3.4179 - val_accuracy: 0.2940 - val_loss: 2.4331\n",
      "Epoch 2/60\n",
      "\u001B[1m136/136\u001B[0m \u001B[32m━━━━━━━━━━━━━━━━━━━━\u001B[0m\u001B[37m\u001B[0m \u001B[1m1s\u001B[0m 4ms/step - accuracy: 0.3485 - loss: 2.1696 - val_accuracy: 0.4802 - val_loss: 1.6862\n",
      "Epoch 3/60\n",
      "\u001B[1m136/136\u001B[0m \u001B[32m━━━━━━━━━━━━━━━━━━━━\u001B[0m\u001B[37m\u001B[0m \u001B[1m1s\u001B[0m 5ms/step - accuracy: 0.5329 - loss: 1.4773 - val_accuracy: 0.6147 - val_loss: 1.2178\n",
      "Epoch 4/60\n",
      "\u001B[1m136/136\u001B[0m \u001B[32m━━━━━━━━━━━━━━━━━━━━\u001B[0m\u001B[37m\u001B[0m \u001B[1m1s\u001B[0m 5ms/step - accuracy: 0.6319 - loss: 1.1141 - val_accuracy: 0.7051 - val_loss: 0.9504\n",
      "Epoch 5/60\n",
      "\u001B[1m136/136\u001B[0m \u001B[32m━━━━━━━━━━━━━━━━━━━━\u001B[0m\u001B[37m\u001B[0m \u001B[1m1s\u001B[0m 4ms/step - accuracy: 0.7297 - loss: 0.8730 - val_accuracy: 0.7438 - val_loss: 0.8024\n",
      "Epoch 6/60\n",
      "\u001B[1m136/136\u001B[0m \u001B[32m━━━━━━━━━━━━━━━━━━━━\u001B[0m\u001B[37m\u001B[0m \u001B[1m1s\u001B[0m 4ms/step - accuracy: 0.7747 - loss: 0.7156 - val_accuracy: 0.7558 - val_loss: 0.7353\n",
      "Epoch 7/60\n",
      "\u001B[1m136/136\u001B[0m \u001B[32m━━━━━━━━━━━━━━━━━━━━\u001B[0m\u001B[37m\u001B[0m \u001B[1m1s\u001B[0m 4ms/step - accuracy: 0.7827 - loss: 0.6685 - val_accuracy: 0.7834 - val_loss: 0.6496\n",
      "Epoch 8/60\n",
      "\u001B[1m136/136\u001B[0m \u001B[32m━━━━━━━━━━━━━━━━━━━━\u001B[0m\u001B[37m\u001B[0m \u001B[1m1s\u001B[0m 4ms/step - accuracy: 0.8227 - loss: 0.5333 - val_accuracy: 0.8304 - val_loss: 0.5589\n",
      "Epoch 9/60\n",
      "\u001B[1m136/136\u001B[0m \u001B[32m━━━━━━━━━━━━━━━━━━━━\u001B[0m\u001B[37m\u001B[0m \u001B[1m1s\u001B[0m 4ms/step - accuracy: 0.8195 - loss: 0.4963 - val_accuracy: 0.8442 - val_loss: 0.5173\n",
      "Epoch 10/60\n",
      "\u001B[1m136/136\u001B[0m \u001B[32m━━━━━━━━━━━━━━━━━━━━\u001B[0m\u001B[37m\u001B[0m \u001B[1m1s\u001B[0m 4ms/step - accuracy: 0.8342 - loss: 0.4653 - val_accuracy: 0.8424 - val_loss: 0.4942\n",
      "Epoch 11/60\n",
      "\u001B[1m136/136\u001B[0m \u001B[32m━━━━━━━━━━━━━━━━━━━━\u001B[0m\u001B[37m\u001B[0m \u001B[1m1s\u001B[0m 4ms/step - accuracy: 0.8605 - loss: 0.4068 - val_accuracy: 0.8240 - val_loss: 0.5409\n",
      "Epoch 12/60\n",
      "\u001B[1m136/136\u001B[0m \u001B[32m━━━━━━━━━━━━━━━━━━━━\u001B[0m\u001B[37m\u001B[0m \u001B[1m1s\u001B[0m 4ms/step - accuracy: 0.8586 - loss: 0.3918 - val_accuracy: 0.8415 - val_loss: 0.4400\n",
      "Epoch 13/60\n",
      "\u001B[1m136/136\u001B[0m \u001B[32m━━━━━━━━━━━━━━━━━━━━\u001B[0m\u001B[37m\u001B[0m \u001B[1m1s\u001B[0m 4ms/step - accuracy: 0.8788 - loss: 0.3430 - val_accuracy: 0.8728 - val_loss: 0.4140\n",
      "Epoch 14/60\n",
      "\u001B[1m136/136\u001B[0m \u001B[32m━━━━━━━━━━━━━━━━━━━━\u001B[0m\u001B[37m\u001B[0m \u001B[1m1s\u001B[0m 4ms/step - accuracy: 0.8840 - loss: 0.3179 - val_accuracy: 0.8793 - val_loss: 0.4166\n",
      "Epoch 15/60\n",
      "\u001B[1m136/136\u001B[0m \u001B[32m━━━━━━━━━━━━━━━━━━━━\u001B[0m\u001B[37m\u001B[0m \u001B[1m1s\u001B[0m 4ms/step - accuracy: 0.8802 - loss: 0.3183 - val_accuracy: 0.8802 - val_loss: 0.4147\n",
      "Epoch 16/60\n",
      "\u001B[1m136/136\u001B[0m \u001B[32m━━━━━━━━━━━━━━━━━━━━\u001B[0m\u001B[37m\u001B[0m \u001B[1m1s\u001B[0m 4ms/step - accuracy: 0.8909 - loss: 0.2984 - val_accuracy: 0.8470 - val_loss: 0.5040\n",
      "Epoch 17/60\n",
      "\u001B[1m136/136\u001B[0m \u001B[32m━━━━━━━━━━━━━━━━━━━━\u001B[0m\u001B[37m\u001B[0m \u001B[1m1s\u001B[0m 4ms/step - accuracy: 0.8869 - loss: 0.3089 - val_accuracy: 0.8857 - val_loss: 0.3762\n",
      "Epoch 18/60\n",
      "\u001B[1m136/136\u001B[0m \u001B[32m━━━━━━━━━━━━━━━━━━━━\u001B[0m\u001B[37m\u001B[0m \u001B[1m1s\u001B[0m 4ms/step - accuracy: 0.8967 - loss: 0.2744 - val_accuracy: 0.9005 - val_loss: 0.3536\n",
      "Epoch 19/60\n",
      "\u001B[1m136/136\u001B[0m \u001B[32m━━━━━━━━━━━━━━━━━━━━\u001B[0m\u001B[37m\u001B[0m \u001B[1m1s\u001B[0m 4ms/step - accuracy: 0.9131 - loss: 0.2303 - val_accuracy: 0.8627 - val_loss: 0.4175\n",
      "Epoch 20/60\n",
      "\u001B[1m136/136\u001B[0m \u001B[32m━━━━━━━━━━━━━━━━━━━━\u001B[0m\u001B[37m\u001B[0m \u001B[1m1s\u001B[0m 4ms/step - accuracy: 0.9100 - loss: 0.2369 - val_accuracy: 0.8793 - val_loss: 0.3993\n",
      "Epoch 21/60\n",
      "\u001B[1m136/136\u001B[0m \u001B[32m━━━━━━━━━━━━━━━━━━━━\u001B[0m\u001B[37m\u001B[0m \u001B[1m1s\u001B[0m 4ms/step - accuracy: 0.9085 - loss: 0.2430 - val_accuracy: 0.8940 - val_loss: 0.3593\n",
      "Epoch 22/60\n",
      "\u001B[1m136/136\u001B[0m \u001B[32m━━━━━━━━━━━━━━━━━━━━\u001B[0m\u001B[37m\u001B[0m \u001B[1m1s\u001B[0m 4ms/step - accuracy: 0.9153 - loss: 0.2217 - val_accuracy: 0.8700 - val_loss: 0.4055\n",
      "Epoch 23/60\n",
      "\u001B[1m136/136\u001B[0m \u001B[32m━━━━━━━━━━━━━━━━━━━━\u001B[0m\u001B[37m\u001B[0m \u001B[1m1s\u001B[0m 4ms/step - accuracy: 0.9177 - loss: 0.2228 - val_accuracy: 0.9088 - val_loss: 0.3290\n",
      "Epoch 24/60\n",
      "\u001B[1m136/136\u001B[0m \u001B[32m━━━━━━━━━━━━━━━━━━━━\u001B[0m\u001B[37m\u001B[0m \u001B[1m1s\u001B[0m 4ms/step - accuracy: 0.9175 - loss: 0.2161 - val_accuracy: 0.9180 - val_loss: 0.3100\n",
      "Epoch 25/60\n",
      "\u001B[1m136/136\u001B[0m \u001B[32m━━━━━━━━━━━━━━━━━━━━\u001B[0m\u001B[37m\u001B[0m \u001B[1m1s\u001B[0m 4ms/step - accuracy: 0.9168 - loss: 0.2194 - val_accuracy: 0.8756 - val_loss: 0.3792\n",
      "Epoch 26/60\n",
      "\u001B[1m136/136\u001B[0m \u001B[32m━━━━━━━━━━━━━━━━━━━━\u001B[0m\u001B[37m\u001B[0m \u001B[1m1s\u001B[0m 4ms/step - accuracy: 0.9312 - loss: 0.1778 - val_accuracy: 0.9023 - val_loss: 0.3926\n",
      "Epoch 27/60\n",
      "\u001B[1m136/136\u001B[0m \u001B[32m━━━━━━━━━━━━━━━━━━━━\u001B[0m\u001B[37m\u001B[0m \u001B[1m1s\u001B[0m 4ms/step - accuracy: 0.9190 - loss: 0.2150 - val_accuracy: 0.9115 - val_loss: 0.3282\n",
      "Epoch 28/60\n",
      "\u001B[1m136/136\u001B[0m \u001B[32m━━━━━━━━━━━━━━━━━━━━\u001B[0m\u001B[37m\u001B[0m \u001B[1m1s\u001B[0m 4ms/step - accuracy: 0.9358 - loss: 0.1652 - val_accuracy: 0.9124 - val_loss: 0.3243\n",
      "Epoch 29/60\n",
      "\u001B[1m136/136\u001B[0m \u001B[32m━━━━━━━━━━━━━━━━━━━━\u001B[0m\u001B[37m\u001B[0m \u001B[1m1s\u001B[0m 4ms/step - accuracy: 0.9347 - loss: 0.1747 - val_accuracy: 0.9032 - val_loss: 0.3844\n"
     ]
    }
   ],
   "execution_count": 7
  },
  {
   "metadata": {
    "ExecuteTime": {
     "end_time": "2025-10-12T17:35:27.041388Z",
     "start_time": "2025-10-12T17:35:25.870446Z"
    }
   },
   "cell_type": "code",
   "source": [
    "test_loss, test_acc = model.evaluate(X_test, y_test, verbose=0)\n",
    "print(f\"Test loss: {test_loss:.4f}\")\n",
    "print(f\"Test accuracy: {test_acc:.4f}\")"
   ],
   "id": "e7bd604d3d9379ba",
   "outputs": [
    {
     "name": "stdout",
     "output_type": "stream",
     "text": [
      "Test loss: 0.3526\n",
      "Test accuracy: 0.9140\n"
     ]
    }
   ],
   "execution_count": 8
  },
  {
   "metadata": {
    "ExecuteTime": {
     "end_time": "2025-10-12T17:35:31.116982Z",
     "start_time": "2025-10-12T17:35:30.755539Z"
    }
   },
   "cell_type": "code",
   "source": [
    "import matplotlib.pyplot as plt\n",
    "\n",
    "# Accuracy\n",
    "plt.plot(history.history['accuracy'], label='train acc')\n",
    "plt.plot(history.history['val_accuracy'], label='val acc')\n",
    "plt.xlabel('Epoka')\n",
    "plt.ylabel('Accuracy')\n",
    "plt.legend()\n",
    "plt.show()\n",
    "\n",
    "# Loss\n",
    "plt.plot(history.history['loss'], label='train loss')\n",
    "plt.plot(history.history['val_loss'], label='val loss')\n",
    "plt.xlabel('Epoka')\n",
    "plt.ylabel('Loss')\n",
    "plt.legend()\n",
    "plt.show()\n"
   ],
   "id": "c07c92c18d836ee",
   "outputs": [
    {
     "data": {
      "text/plain": [
       "<Figure size 640x480 with 1 Axes>"
      ],
      "image/png": "[encoded data removed]"
     },
     "metadata": {},
     "output_type": "display_data",
     "jetTransient": {
      "display_id": null
     }
    },
    {
     "data": {
      "text/plain": [
       "<Figure size 640x480 with 1 Axes>"
      ],
      "image/png": "[encoded data removed]"
     },
     "metadata": {},
     "output_type": "display_data",
     "jetTransient": {
      "display_id": null
     }
    }
   ],
   "execution_count": 9
  },
  {
   "metadata": {
    "ExecuteTime": {
     "end_time": "2025-10-12T17:35:37.785308Z",
     "start_time": "2025-10-12T17:35:37.224179Z"
    }
   },
   "cell_type": "code",
   "source": [
    "import os\n",
    "from datetime import datetime\n",
    "\n",
    "# Ustal dzisiejszą datę\n",
    "today_str = datetime.now().strftime(\"%Y-%m-%d-%H:%M:%S\")\n",
    "\n",
    "# Ścieżka zapisu modeli\n",
    "save_dir = f\"../model/{today_str}\"\n",
    "os.makedirs(save_dir, exist_ok=True)\n",
    "\n",
    "# Ścieżki plików\n",
    "cnn1d_path = os.path.join(save_dir, \"cnn1d_model.keras\")\n",
    "labels_path = os.path.join(save_dir, \"labels.txt\")\n",
    "\n",
    "# Zapis modelu\n",
    "model.save(cnn1d_path)\n",
    "\n",
    "with open(f'../model/{today_str}/labels.txt', 'w+') as f:\n",
    "    for label in encoder.classes_:\n",
    "        f.write(label + '\\n')\n",
    "\n",
    "print(f\"Modele i etykiety zapisano w folderze: {save_dir}\")\n"
   ],
   "id": "8d8e509dad7f61d9",
   "outputs": [
    {
     "name": "stdout",
     "output_type": "stream",
     "text": [
      "Modele i etykiety zapisano w folderze: ../model/2025-10-12-19:35:37\n"
     ]
    }
   ],
   "execution_count": 10
  },
  {
   "metadata": {
    "ExecuteTime": {
     "end_time": "2025-10-12T17:35:46.303118Z",
     "start_time": "2025-10-12T17:35:45.372410Z"
    }
   },
   "cell_type": "code",
   "source": [
    "import gc\n",
    "\n",
    "del model\n",
    "del X_train, X_val, X_test\n",
    "del y_train, y_val, y_test\n",
    "gc.collect()\n"
   ],
   "id": "4df4fbb34328876a",
   "outputs": [
    {
     "data": {
      "text/plain": [
       "4302"
      ]
     },
     "execution_count": 11,
     "metadata": {},
     "output_type": "execute_result"
    }
   ],
   "execution_count": 11
  }
 ],
 "metadata": {
  "kernelspec": {
   "display_name": "Python 3",
   "language": "python",
   "name": "python3"
  },
  "language_info": {
   "codemirror_mode": {
    "name": "ipython",
    "version": 2
   },
   "file_extension": ".py",
   "mimetype": "text/x-python",
   "name": "python",
   "nbconvert_exporter": "python",
   "pygments_lexer": "ipython2",
   "version": "2.7.6"
  }
 },
 "nbformat": 4,
 "nbformat_minor": 5
}
